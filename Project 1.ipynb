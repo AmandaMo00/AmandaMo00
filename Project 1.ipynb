{
 "cells": [
  {
   "cell_type": "code",
   "execution_count": 517,
   "metadata": {},
   "outputs": [],
   "source": [
    "# ID Unique transaction ID\n",
    "# DOMAIN_ID Unique ID for the web domain\n",
    "# MACHINE_ID Unique ID for the computer (household) on which the transaction was made\n",
    "# SITE_SESSION_ID Unique ID for the session in which the transaction was made\n",
    "# TRANS_FREQ Total number of transactions for the household during 2011.\n",
    "# DOMAIN_NAME The website (domain) name where the transaction was made\n",
    "# DIRECTP_D A dummy variable indicating whether the transaction is incurred directly from a hotel website (1) or other third_party travel website (0).\n",
    "# PROD_NAME The product (e.g., hotel or packages) purchased by the household\n",
    "# PROD_QTY The number of products purchased in this transaction\n",
    "# PROD_TOTPRICE Total price paid for this transaction\n",
    "# REF_DOMAIN_NAME The referring website (domain) name through which the final purchase website was reached\n",
    "# DURATION Total time spent at a site (mins)\n",
    "# PAGES_VIEWED Total pages viewed at a site\n",
    "# HOUSEHOLD_SIZE Total number of people in the household\n",
    "# CHILDREN_D A dummy variable indicating whether the household has any children (1) or not (0).\n",
    "# CONNECTIONSPEED_D A dummy variable indicating whether the household has high speed internet connection (1) or not (0)"
   ]
  },
  {
   "cell_type": "code",
   "execution_count": 518,
   "metadata": {},
   "outputs": [],
   "source": [
    "import pandas as pd\n",
    "import numpy as np\n",
    "import seaborn as sns\n",
    "%matplotlib inline"
   ]
  },
  {
   "cell_type": "code",
   "execution_count": 519,
   "metadata": {},
   "outputs": [],
   "source": [
    "hotel = pd.read_excel('HotelClickStream-1.xls')"
   ]
  },
  {
   "cell_type": "code",
   "execution_count": 562,
   "metadata": {},
   "outputs": [
    {
     "data": {
      "text/html": [
       "<div>\n",
       "<style scoped>\n",
       "    .dataframe tbody tr th:only-of-type {\n",
       "        vertical-align: middle;\n",
       "    }\n",
       "\n",
       "    .dataframe tbody tr th {\n",
       "        vertical-align: top;\n",
       "    }\n",
       "\n",
       "    .dataframe thead th {\n",
       "        text-align: right;\n",
       "    }\n",
       "</style>\n",
       "<table border=\"1\" class=\"dataframe\">\n",
       "  <thead>\n",
       "    <tr style=\"text-align: right;\">\n",
       "      <th></th>\n",
       "      <th>ID</th>\n",
       "      <th>DOMAIN_ID</th>\n",
       "      <th>MACHINE_ID</th>\n",
       "      <th>SITE_SESSION_ID</th>\n",
       "      <th>TRANS_FREQ</th>\n",
       "      <th>DOMAIN_NAME</th>\n",
       "      <th>DIRECTP_D</th>\n",
       "      <th>PROD_NAME</th>\n",
       "      <th>PROD_QTY</th>\n",
       "      <th>PROD_TOTPRICE</th>\n",
       "      <th>REF_DOMAIN_NAME</th>\n",
       "      <th>DURATION</th>\n",
       "      <th>PAGES_VIEWED</th>\n",
       "      <th>HOUSEHOLD_SIZE</th>\n",
       "      <th>CHILDREN_D</th>\n",
       "      <th>CONNECTIONSPEED_D</th>\n",
       "      <th>Ref_D</th>\n",
       "      <th>LOG_PRICE</th>\n",
       "    </tr>\n",
       "  </thead>\n",
       "  <tbody>\n",
       "    <tr>\n",
       "      <th>0</th>\n",
       "      <td>1525</td>\n",
       "      <td>13877604970862366012</td>\n",
       "      <td>85643811</td>\n",
       "      <td>4447900536932</td>\n",
       "      <td>1</td>\n",
       "      <td>ichotelsgroup.com</td>\n",
       "      <td>1</td>\n",
       "      <td>FT. LAUDERDALE AIRPORT/CRUISE - CROWNE PLAZA H...</td>\n",
       "      <td>32</td>\n",
       "      <td>2848.039993</td>\n",
       "      <td>NaN</td>\n",
       "      <td>23.328125</td>\n",
       "      <td>13</td>\n",
       "      <td>6</td>\n",
       "      <td>1</td>\n",
       "      <td>1</td>\n",
       "      <td>0.0</td>\n",
       "      <td>7.954386</td>\n",
       "    </tr>\n",
       "    <tr>\n",
       "      <th>1</th>\n",
       "      <td>402</td>\n",
       "      <td>7101213156062330967</td>\n",
       "      <td>76460408</td>\n",
       "      <td>71774258860245</td>\n",
       "      <td>1</td>\n",
       "      <td>orbitz.com</td>\n",
       "      <td>0</td>\n",
       "      <td>WALT DISNEY WORLD MAGIC YOUR WAY TICKETS! N/A</td>\n",
       "      <td>1</td>\n",
       "      <td>2407.939995</td>\n",
       "      <td>yahoo.com</td>\n",
       "      <td>47.109375</td>\n",
       "      <td>17</td>\n",
       "      <td>2</td>\n",
       "      <td>1</td>\n",
       "      <td>1</td>\n",
       "      <td>1.0</td>\n",
       "      <td>7.786527</td>\n",
       "    </tr>\n",
       "    <tr>\n",
       "      <th>2</th>\n",
       "      <td>233</td>\n",
       "      <td>7772350535129410931</td>\n",
       "      <td>74286590</td>\n",
       "      <td>3825866182640</td>\n",
       "      <td>1</td>\n",
       "      <td>hyatt.com</td>\n",
       "      <td>1</td>\n",
       "      <td>HYATT REGENCY MAUI RESORT  SPA FRI 11 MAR 2011...</td>\n",
       "      <td>5</td>\n",
       "      <td>2169.000000</td>\n",
       "      <td>google.com</td>\n",
       "      <td>20.058594</td>\n",
       "      <td>19</td>\n",
       "      <td>1</td>\n",
       "      <td>0</td>\n",
       "      <td>1</td>\n",
       "      <td>1.0</td>\n",
       "      <td>7.682022</td>\n",
       "    </tr>\n",
       "  </tbody>\n",
       "</table>\n",
       "</div>"
      ],
      "text/plain": [
       "     ID             DOMAIN_ID  MACHINE_ID  SITE_SESSION_ID  TRANS_FREQ  \\\n",
       "0  1525  13877604970862366012    85643811    4447900536932           1   \n",
       "1   402   7101213156062330967    76460408   71774258860245           1   \n",
       "2   233   7772350535129410931    74286590    3825866182640           1   \n",
       "\n",
       "         DOMAIN_NAME  DIRECTP_D  \\\n",
       "0  ichotelsgroup.com          1   \n",
       "1         orbitz.com          0   \n",
       "2          hyatt.com          1   \n",
       "\n",
       "                                           PROD_NAME  PROD_QTY  PROD_TOTPRICE  \\\n",
       "0  FT. LAUDERDALE AIRPORT/CRUISE - CROWNE PLAZA H...        32    2848.039993   \n",
       "1      WALT DISNEY WORLD MAGIC YOUR WAY TICKETS! N/A         1    2407.939995   \n",
       "2  HYATT REGENCY MAUI RESORT  SPA FRI 11 MAR 2011...         5    2169.000000   \n",
       "\n",
       "  REF_DOMAIN_NAME   DURATION  PAGES_VIEWED  HOUSEHOLD_SIZE  CHILDREN_D  \\\n",
       "0             NaN  23.328125            13               6           1   \n",
       "1       yahoo.com  47.109375            17               2           1   \n",
       "2      google.com  20.058594            19               1           0   \n",
       "\n",
       "   CONNECTIONSPEED_D  Ref_D  LOG_PRICE  \n",
       "0                  1    0.0   7.954386  \n",
       "1                  1    1.0   7.786527  \n",
       "2                  1    1.0   7.682022  "
      ]
     },
     "execution_count": 562,
     "metadata": {},
     "output_type": "execute_result"
    }
   ],
   "source": [
    "hotel.head(3)"
   ]
  },
  {
   "cell_type": "code",
   "execution_count": 521,
   "metadata": {},
   "outputs": [
    {
     "name": "stdout",
     "output_type": "stream",
     "text": [
      "<class 'pandas.core.frame.DataFrame'>\n",
      "RangeIndex: 3749 entries, 0 to 3748\n",
      "Data columns (total 16 columns):\n",
      " #   Column             Non-Null Count  Dtype  \n",
      "---  ------             --------------  -----  \n",
      " 0   ID                 3749 non-null   int64  \n",
      " 1   DOMAIN_ID          3749 non-null   uint64 \n",
      " 2   MACHINE_ID         3749 non-null   int64  \n",
      " 3   SITE_SESSION_ID    3749 non-null   int64  \n",
      " 4   TRANS_FREQ         3749 non-null   int64  \n",
      " 5   DOMAIN_NAME        3749 non-null   object \n",
      " 6   DIRECTP_D          3749 non-null   int64  \n",
      " 7   PROD_NAME          3749 non-null   object \n",
      " 8   PROD_QTY           3749 non-null   int64  \n",
      " 9   PROD_TOTPRICE      3749 non-null   float64\n",
      " 10  REF_DOMAIN_NAME    1687 non-null   object \n",
      " 11  DURATION           3749 non-null   float64\n",
      " 12  PAGES_VIEWED       3749 non-null   int64  \n",
      " 13  HOUSEHOLD_SIZE     3749 non-null   int64  \n",
      " 14  CHILDREN_D         3749 non-null   int64  \n",
      " 15  CONNECTIONSPEED_D  3749 non-null   int64  \n",
      "dtypes: float64(2), int64(10), object(3), uint64(1)\n",
      "memory usage: 468.8+ KB\n"
     ]
    }
   ],
   "source": [
    "hotel.info()"
   ]
  },
  {
   "cell_type": "code",
   "execution_count": 598,
   "metadata": {},
   "outputs": [
    {
     "name": "stdout",
     "output_type": "stream",
     "text": [
      "DOMAIN_NAME\n",
      "marriott.com        524\n",
      "hilton.com          438\n",
      "hotels.com          400\n",
      "expedia.com         380\n",
      "priceline.com       309\n",
      "choicehotels.com    297\n",
      "jetblue.com         229\n",
      "hotwire.com         217\n",
      "bestwestern.com     120\n",
      "orbitz.com          109\n",
      "Name: ID, dtype: int64\n"
     ]
    }
   ],
   "source": [
    "#top 10 domain names that generated the most volume of transactions\n",
    "p1 = hotel.groupby('DOMAIN_NAME')[\"ID\"].count().nlargest(10)\n",
    "# p1 = pd.pivot_table( hotel, \n",
    "#                   index=[\"DOMAIN_NAME\"], \n",
    "#                   values = 'ID',\n",
    "#                     aggfunc=['count'] )\n",
    "print(p1)"
   ]
  },
  {
   "cell_type": "code",
   "execution_count": 523,
   "metadata": {},
   "outputs": [
    {
     "data": {
      "text/plain": [
       "REF_DOMAIN_NAME\n",
       "google.com           620\n",
       "yahoo.com            222\n",
       "bing.com             129\n",
       "aol.com               53\n",
       "comfortinn.com        48\n",
       "jetblue.com           43\n",
       "qualityinn.com        29\n",
       "comfortsuites.com     22\n",
       "kayak.com             20\n",
       "mywebsearch.com       17\n",
       "Name: ID, dtype: int64"
      ]
     },
     "execution_count": 523,
     "metadata": {},
     "output_type": "execute_result"
    }
   ],
   "source": [
    "#the top 10 reference domain names that generated the most volume of transactions\n",
    "hotel.groupby('REF_DOMAIN_NAME')[\"ID\"].count().nlargest(10)"
   ]
  },
  {
   "cell_type": "code",
   "execution_count": 524,
   "metadata": {},
   "outputs": [],
   "source": [
    "hotel.loc[hotel.REF_DOMAIN_NAME.isnull() == True,'Ref_D'] = 0\n",
    "hotel.loc[hotel.REF_DOMAIN_NAME.isnull() == False,'Ref_D'] = 1"
   ]
  },
  {
   "cell_type": "code",
   "execution_count": 525,
   "metadata": {},
   "outputs": [
    {
     "data": {
      "text/plain": [
       "0    0.0\n",
       "1    1.0\n",
       "2    1.0\n",
       "3    0.0\n",
       "4    1.0\n",
       "5    1.0\n",
       "6    0.0\n",
       "7    0.0\n",
       "8    0.0\n",
       "9    0.0\n",
       "Name: Ref_D, dtype: float64"
      ]
     },
     "execution_count": 525,
     "metadata": {},
     "output_type": "execute_result"
    }
   ],
   "source": [
    "hotel['Ref_D'].head(10)"
   ]
  },
  {
   "cell_type": "code",
   "execution_count": 526,
   "metadata": {},
   "outputs": [
    {
     "data": {
      "text/html": [
       "<div>\n",
       "<style scoped>\n",
       "    .dataframe tbody tr th:only-of-type {\n",
       "        vertical-align: middle;\n",
       "    }\n",
       "\n",
       "    .dataframe tbody tr th {\n",
       "        vertical-align: top;\n",
       "    }\n",
       "\n",
       "    .dataframe thead th {\n",
       "        text-align: right;\n",
       "    }\n",
       "</style>\n",
       "<table border=\"1\" class=\"dataframe\">\n",
       "  <thead>\n",
       "    <tr style=\"text-align: right;\">\n",
       "      <th></th>\n",
       "      <th>ID</th>\n",
       "      <th>DOMAIN_ID</th>\n",
       "      <th>MACHINE_ID</th>\n",
       "      <th>SITE_SESSION_ID</th>\n",
       "      <th>TRANS_FREQ</th>\n",
       "      <th>DOMAIN_NAME</th>\n",
       "      <th>DIRECTP_D</th>\n",
       "      <th>PROD_NAME</th>\n",
       "      <th>PROD_QTY</th>\n",
       "      <th>PROD_TOTPRICE</th>\n",
       "      <th>REF_DOMAIN_NAME</th>\n",
       "      <th>DURATION</th>\n",
       "      <th>PAGES_VIEWED</th>\n",
       "      <th>HOUSEHOLD_SIZE</th>\n",
       "      <th>CHILDREN_D</th>\n",
       "      <th>CONNECTIONSPEED_D</th>\n",
       "      <th>Ref_D</th>\n",
       "    </tr>\n",
       "  </thead>\n",
       "  <tbody>\n",
       "    <tr>\n",
       "      <th>0</th>\n",
       "      <td>1525</td>\n",
       "      <td>13877604970862366012</td>\n",
       "      <td>85643811</td>\n",
       "      <td>4447900536932</td>\n",
       "      <td>1</td>\n",
       "      <td>ichotelsgroup.com</td>\n",
       "      <td>1</td>\n",
       "      <td>FT. LAUDERDALE AIRPORT/CRUISE - CROWNE PLAZA H...</td>\n",
       "      <td>32</td>\n",
       "      <td>2847.039993</td>\n",
       "      <td>NaN</td>\n",
       "      <td>23.328125</td>\n",
       "      <td>13</td>\n",
       "      <td>6</td>\n",
       "      <td>1</td>\n",
       "      <td>1</td>\n",
       "      <td>0.0</td>\n",
       "    </tr>\n",
       "    <tr>\n",
       "      <th>1</th>\n",
       "      <td>402</td>\n",
       "      <td>7101213156062330967</td>\n",
       "      <td>76460408</td>\n",
       "      <td>71774258860245</td>\n",
       "      <td>1</td>\n",
       "      <td>orbitz.com</td>\n",
       "      <td>0</td>\n",
       "      <td>WALT DISNEY WORLD MAGIC YOUR WAY TICKETS! N/A</td>\n",
       "      <td>1</td>\n",
       "      <td>2406.939995</td>\n",
       "      <td>yahoo.com</td>\n",
       "      <td>47.109375</td>\n",
       "      <td>17</td>\n",
       "      <td>2</td>\n",
       "      <td>1</td>\n",
       "      <td>1</td>\n",
       "      <td>1.0</td>\n",
       "    </tr>\n",
       "    <tr>\n",
       "      <th>2</th>\n",
       "      <td>233</td>\n",
       "      <td>7772350535129410931</td>\n",
       "      <td>74286590</td>\n",
       "      <td>3825866182640</td>\n",
       "      <td>1</td>\n",
       "      <td>hyatt.com</td>\n",
       "      <td>1</td>\n",
       "      <td>HYATT REGENCY MAUI RESORT  SPA FRI 11 MAR 2011...</td>\n",
       "      <td>5</td>\n",
       "      <td>2168.000000</td>\n",
       "      <td>google.com</td>\n",
       "      <td>20.058594</td>\n",
       "      <td>19</td>\n",
       "      <td>1</td>\n",
       "      <td>0</td>\n",
       "      <td>1</td>\n",
       "      <td>1.0</td>\n",
       "    </tr>\n",
       "  </tbody>\n",
       "</table>\n",
       "</div>"
      ],
      "text/plain": [
       "     ID             DOMAIN_ID  MACHINE_ID  SITE_SESSION_ID  TRANS_FREQ  \\\n",
       "0  1525  13877604970862366012    85643811    4447900536932           1   \n",
       "1   402   7101213156062330967    76460408   71774258860245           1   \n",
       "2   233   7772350535129410931    74286590    3825866182640           1   \n",
       "\n",
       "         DOMAIN_NAME  DIRECTP_D  \\\n",
       "0  ichotelsgroup.com          1   \n",
       "1         orbitz.com          0   \n",
       "2          hyatt.com          1   \n",
       "\n",
       "                                           PROD_NAME  PROD_QTY  PROD_TOTPRICE  \\\n",
       "0  FT. LAUDERDALE AIRPORT/CRUISE - CROWNE PLAZA H...        32    2847.039993   \n",
       "1      WALT DISNEY WORLD MAGIC YOUR WAY TICKETS! N/A         1    2406.939995   \n",
       "2  HYATT REGENCY MAUI RESORT  SPA FRI 11 MAR 2011...         5    2168.000000   \n",
       "\n",
       "  REF_DOMAIN_NAME   DURATION  PAGES_VIEWED  HOUSEHOLD_SIZE  CHILDREN_D  \\\n",
       "0             NaN  23.328125            13               6           1   \n",
       "1       yahoo.com  47.109375            17               2           1   \n",
       "2      google.com  20.058594            19               1           0   \n",
       "\n",
       "   CONNECTIONSPEED_D  Ref_D  \n",
       "0                  1    0.0  \n",
       "1                  1    1.0  \n",
       "2                  1    1.0  "
      ]
     },
     "execution_count": 526,
     "metadata": {},
     "output_type": "execute_result"
    }
   ],
   "source": [
    "hotel.columns\n",
    "hotel.head(3)"
   ]
  },
  {
   "cell_type": "code",
   "execution_count": 527,
   "metadata": {},
   "outputs": [],
   "source": [
    "#np.log(hotel['PROD_TOTPRICE'])\n",
    "hotel[\"PROD_TOTPRICE\"] = hotel[\"PROD_TOTPRICE\"] + 1\n",
    "hotel.loc[hotel.PROD_TOTPRICE > 0,'LOG_PRICE'] = np.log(hotel['PROD_TOTPRICE'])\n",
    "#hotel.loc[hotel.PROD_TOTPRICE <= 0,'LOG_PRICE'] = 'NaN'\n"
   ]
  },
  {
   "cell_type": "code",
   "execution_count": 528,
   "metadata": {},
   "outputs": [
    {
     "data": {
      "text/html": [
       "<div>\n",
       "<style scoped>\n",
       "    .dataframe tbody tr th:only-of-type {\n",
       "        vertical-align: middle;\n",
       "    }\n",
       "\n",
       "    .dataframe tbody tr th {\n",
       "        vertical-align: top;\n",
       "    }\n",
       "\n",
       "    .dataframe thead th {\n",
       "        text-align: right;\n",
       "    }\n",
       "</style>\n",
       "<table border=\"1\" class=\"dataframe\">\n",
       "  <thead>\n",
       "    <tr style=\"text-align: right;\">\n",
       "      <th></th>\n",
       "      <th>ID</th>\n",
       "      <th>DOMAIN_ID</th>\n",
       "      <th>MACHINE_ID</th>\n",
       "      <th>SITE_SESSION_ID</th>\n",
       "      <th>TRANS_FREQ</th>\n",
       "      <th>DOMAIN_NAME</th>\n",
       "      <th>DIRECTP_D</th>\n",
       "      <th>PROD_NAME</th>\n",
       "      <th>PROD_QTY</th>\n",
       "      <th>PROD_TOTPRICE</th>\n",
       "      <th>REF_DOMAIN_NAME</th>\n",
       "      <th>DURATION</th>\n",
       "      <th>PAGES_VIEWED</th>\n",
       "      <th>HOUSEHOLD_SIZE</th>\n",
       "      <th>CHILDREN_D</th>\n",
       "      <th>CONNECTIONSPEED_D</th>\n",
       "      <th>Ref_D</th>\n",
       "      <th>LOG_PRICE</th>\n",
       "    </tr>\n",
       "  </thead>\n",
       "  <tbody>\n",
       "    <tr>\n",
       "      <th>0</th>\n",
       "      <td>1525</td>\n",
       "      <td>13877604970862366012</td>\n",
       "      <td>85643811</td>\n",
       "      <td>4447900536932</td>\n",
       "      <td>1</td>\n",
       "      <td>ichotelsgroup.com</td>\n",
       "      <td>1</td>\n",
       "      <td>FT. LAUDERDALE AIRPORT/CRUISE - CROWNE PLAZA H...</td>\n",
       "      <td>32</td>\n",
       "      <td>2848.039993</td>\n",
       "      <td>NaN</td>\n",
       "      <td>23.328125</td>\n",
       "      <td>13</td>\n",
       "      <td>6</td>\n",
       "      <td>1</td>\n",
       "      <td>1</td>\n",
       "      <td>0.0</td>\n",
       "      <td>7.954386</td>\n",
       "    </tr>\n",
       "    <tr>\n",
       "      <th>1</th>\n",
       "      <td>402</td>\n",
       "      <td>7101213156062330967</td>\n",
       "      <td>76460408</td>\n",
       "      <td>71774258860245</td>\n",
       "      <td>1</td>\n",
       "      <td>orbitz.com</td>\n",
       "      <td>0</td>\n",
       "      <td>WALT DISNEY WORLD MAGIC YOUR WAY TICKETS! N/A</td>\n",
       "      <td>1</td>\n",
       "      <td>2407.939995</td>\n",
       "      <td>yahoo.com</td>\n",
       "      <td>47.109375</td>\n",
       "      <td>17</td>\n",
       "      <td>2</td>\n",
       "      <td>1</td>\n",
       "      <td>1</td>\n",
       "      <td>1.0</td>\n",
       "      <td>7.786527</td>\n",
       "    </tr>\n",
       "    <tr>\n",
       "      <th>2</th>\n",
       "      <td>233</td>\n",
       "      <td>7772350535129410931</td>\n",
       "      <td>74286590</td>\n",
       "      <td>3825866182640</td>\n",
       "      <td>1</td>\n",
       "      <td>hyatt.com</td>\n",
       "      <td>1</td>\n",
       "      <td>HYATT REGENCY MAUI RESORT  SPA FRI 11 MAR 2011...</td>\n",
       "      <td>5</td>\n",
       "      <td>2169.000000</td>\n",
       "      <td>google.com</td>\n",
       "      <td>20.058594</td>\n",
       "      <td>19</td>\n",
       "      <td>1</td>\n",
       "      <td>0</td>\n",
       "      <td>1</td>\n",
       "      <td>1.0</td>\n",
       "      <td>7.682022</td>\n",
       "    </tr>\n",
       "    <tr>\n",
       "      <th>3</th>\n",
       "      <td>2362</td>\n",
       "      <td>9530952911301729568</td>\n",
       "      <td>90015830</td>\n",
       "      <td>70000481538306</td>\n",
       "      <td>1</td>\n",
       "      <td>expedia.com</td>\n",
       "      <td>0</td>\n",
       "      <td>HOTEL - THE ADDRESS DUBAI MARINA ~SAT DEC/10/2...</td>\n",
       "      <td>5</td>\n",
       "      <td>1959.699997</td>\n",
       "      <td>NaN</td>\n",
       "      <td>47.546875</td>\n",
       "      <td>39</td>\n",
       "      <td>1</td>\n",
       "      <td>0</td>\n",
       "      <td>1</td>\n",
       "      <td>0.0</td>\n",
       "      <td>7.580547</td>\n",
       "    </tr>\n",
       "    <tr>\n",
       "      <th>4</th>\n",
       "      <td>2738</td>\n",
       "      <td>4024709573451844450</td>\n",
       "      <td>91435029</td>\n",
       "      <td>5158448795791</td>\n",
       "      <td>2</td>\n",
       "      <td>starwoodhotels.com</td>\n",
       "      <td>1</td>\n",
       "      <td>HOTEL-W NEW YORK - TIMES SQUARE 08/18~08/21</td>\n",
       "      <td>3</td>\n",
       "      <td>1798.000000</td>\n",
       "      <td>whotels.com</td>\n",
       "      <td>14.599609</td>\n",
       "      <td>19</td>\n",
       "      <td>1</td>\n",
       "      <td>0</td>\n",
       "      <td>1</td>\n",
       "      <td>1.0</td>\n",
       "      <td>7.494430</td>\n",
       "    </tr>\n",
       "  </tbody>\n",
       "</table>\n",
       "</div>"
      ],
      "text/plain": [
       "     ID             DOMAIN_ID  MACHINE_ID  SITE_SESSION_ID  TRANS_FREQ  \\\n",
       "0  1525  13877604970862366012    85643811    4447900536932           1   \n",
       "1   402   7101213156062330967    76460408   71774258860245           1   \n",
       "2   233   7772350535129410931    74286590    3825866182640           1   \n",
       "3  2362   9530952911301729568    90015830   70000481538306           1   \n",
       "4  2738   4024709573451844450    91435029    5158448795791           2   \n",
       "\n",
       "          DOMAIN_NAME  DIRECTP_D  \\\n",
       "0   ichotelsgroup.com          1   \n",
       "1          orbitz.com          0   \n",
       "2           hyatt.com          1   \n",
       "3         expedia.com          0   \n",
       "4  starwoodhotels.com          1   \n",
       "\n",
       "                                           PROD_NAME  PROD_QTY  PROD_TOTPRICE  \\\n",
       "0  FT. LAUDERDALE AIRPORT/CRUISE - CROWNE PLAZA H...        32    2848.039993   \n",
       "1      WALT DISNEY WORLD MAGIC YOUR WAY TICKETS! N/A         1    2407.939995   \n",
       "2  HYATT REGENCY MAUI RESORT  SPA FRI 11 MAR 2011...         5    2169.000000   \n",
       "3  HOTEL - THE ADDRESS DUBAI MARINA ~SAT DEC/10/2...         5    1959.699997   \n",
       "4        HOTEL-W NEW YORK - TIMES SQUARE 08/18~08/21         3    1798.000000   \n",
       "\n",
       "  REF_DOMAIN_NAME   DURATION  PAGES_VIEWED  HOUSEHOLD_SIZE  CHILDREN_D  \\\n",
       "0             NaN  23.328125            13               6           1   \n",
       "1       yahoo.com  47.109375            17               2           1   \n",
       "2      google.com  20.058594            19               1           0   \n",
       "3             NaN  47.546875            39               1           0   \n",
       "4     whotels.com  14.599609            19               1           0   \n",
       "\n",
       "   CONNECTIONSPEED_D  Ref_D  LOG_PRICE  \n",
       "0                  1    0.0   7.954386  \n",
       "1                  1    1.0   7.786527  \n",
       "2                  1    1.0   7.682022  \n",
       "3                  1    0.0   7.580547  \n",
       "4                  1    1.0   7.494430  "
      ]
     },
     "execution_count": 528,
     "metadata": {},
     "output_type": "execute_result"
    }
   ],
   "source": [
    "hotel.head(5)"
   ]
  },
  {
   "cell_type": "code",
   "execution_count": 529,
   "metadata": {},
   "outputs": [
    {
     "data": {
      "text/html": [
       "<div>\n",
       "<style scoped>\n",
       "    .dataframe tbody tr th:only-of-type {\n",
       "        vertical-align: middle;\n",
       "    }\n",
       "\n",
       "    .dataframe tbody tr th {\n",
       "        vertical-align: top;\n",
       "    }\n",
       "\n",
       "    .dataframe thead th {\n",
       "        text-align: right;\n",
       "    }\n",
       "</style>\n",
       "<table border=\"1\" class=\"dataframe\">\n",
       "  <thead>\n",
       "    <tr style=\"text-align: right;\">\n",
       "      <th></th>\n",
       "      <th>ID</th>\n",
       "      <th>DOMAIN_ID</th>\n",
       "      <th>MACHINE_ID</th>\n",
       "      <th>SITE_SESSION_ID</th>\n",
       "      <th>TRANS_FREQ</th>\n",
       "      <th>DIRECTP_D</th>\n",
       "      <th>PROD_QTY</th>\n",
       "      <th>PROD_TOTPRICE</th>\n",
       "      <th>DURATION</th>\n",
       "      <th>PAGES_VIEWED</th>\n",
       "      <th>HOUSEHOLD_SIZE</th>\n",
       "      <th>CHILDREN_D</th>\n",
       "      <th>CONNECTIONSPEED_D</th>\n",
       "      <th>Ref_D</th>\n",
       "      <th>LOG_PRICE</th>\n",
       "    </tr>\n",
       "  </thead>\n",
       "  <tbody>\n",
       "    <tr>\n",
       "      <th>count</th>\n",
       "      <td>3749.000000</td>\n",
       "      <td>3.749000e+03</td>\n",
       "      <td>3.749000e+03</td>\n",
       "      <td>3.749000e+03</td>\n",
       "      <td>3749.000000</td>\n",
       "      <td>3749.000000</td>\n",
       "      <td>3749.000000</td>\n",
       "      <td>3749.000000</td>\n",
       "      <td>3749.000000</td>\n",
       "      <td>3749.000000</td>\n",
       "      <td>3749.000000</td>\n",
       "      <td>3749.000000</td>\n",
       "      <td>3749.000000</td>\n",
       "      <td>3749.000000</td>\n",
       "      <td>3749.000000</td>\n",
       "    </tr>\n",
       "    <tr>\n",
       "      <th>mean</th>\n",
       "      <td>1877.293678</td>\n",
       "      <td>8.436032e+18</td>\n",
       "      <td>8.615370e+07</td>\n",
       "      <td>1.976820e+13</td>\n",
       "      <td>2.981328</td>\n",
       "      <td>0.481462</td>\n",
       "      <td>1.717258</td>\n",
       "      <td>164.859624</td>\n",
       "      <td>25.317508</td>\n",
       "      <td>18.331288</td>\n",
       "      <td>3.273940</td>\n",
       "      <td>0.603894</td>\n",
       "      <td>0.992265</td>\n",
       "      <td>0.449987</td>\n",
       "      <td>4.439926</td>\n",
       "    </tr>\n",
       "    <tr>\n",
       "      <th>std</th>\n",
       "      <td>1083.651205</td>\n",
       "      <td>4.548078e+18</td>\n",
       "      <td>6.798597e+06</td>\n",
       "      <td>2.750259e+13</td>\n",
       "      <td>4.120927</td>\n",
       "      <td>0.499723</td>\n",
       "      <td>1.387385</td>\n",
       "      <td>184.484515</td>\n",
       "      <td>22.806497</td>\n",
       "      <td>16.636523</td>\n",
       "      <td>4.388536</td>\n",
       "      <td>0.489152</td>\n",
       "      <td>0.087622</td>\n",
       "      <td>0.497559</td>\n",
       "      <td>1.615478</td>\n",
       "    </tr>\n",
       "    <tr>\n",
       "      <th>min</th>\n",
       "      <td>1.000000</td>\n",
       "      <td>8.614049e+17</td>\n",
       "      <td>1.764018e+07</td>\n",
       "      <td>3.170357e+12</td>\n",
       "      <td>1.000000</td>\n",
       "      <td>0.000000</td>\n",
       "      <td>0.000000</td>\n",
       "      <td>1.000000</td>\n",
       "      <td>0.029999</td>\n",
       "      <td>1.000000</td>\n",
       "      <td>1.000000</td>\n",
       "      <td>0.000000</td>\n",
       "      <td>0.000000</td>\n",
       "      <td>0.000000</td>\n",
       "      <td>0.000000</td>\n",
       "    </tr>\n",
       "    <tr>\n",
       "      <th>25%</th>\n",
       "      <td>939.000000</td>\n",
       "      <td>5.078454e+18</td>\n",
       "      <td>8.197324e+07</td>\n",
       "      <td>4.404378e+12</td>\n",
       "      <td>1.000000</td>\n",
       "      <td>0.000000</td>\n",
       "      <td>1.000000</td>\n",
       "      <td>72.950000</td>\n",
       "      <td>9.449219</td>\n",
       "      <td>8.000000</td>\n",
       "      <td>2.000000</td>\n",
       "      <td>0.000000</td>\n",
       "      <td>1.000000</td>\n",
       "      <td>0.000000</td>\n",
       "      <td>4.289774</td>\n",
       "    </tr>\n",
       "    <tr>\n",
       "      <th>50%</th>\n",
       "      <td>1878.000000</td>\n",
       "      <td>7.317461e+18</td>\n",
       "      <td>8.698025e+07</td>\n",
       "      <td>5.037588e+12</td>\n",
       "      <td>2.000000</td>\n",
       "      <td>0.000000</td>\n",
       "      <td>1.000000</td>\n",
       "      <td>116.990000</td>\n",
       "      <td>17.777344</td>\n",
       "      <td>13.000000</td>\n",
       "      <td>3.000000</td>\n",
       "      <td>1.000000</td>\n",
       "      <td>1.000000</td>\n",
       "      <td>0.000000</td>\n",
       "      <td>4.762088</td>\n",
       "    </tr>\n",
       "    <tr>\n",
       "      <th>75%</th>\n",
       "      <td>2815.000000</td>\n",
       "      <td>9.530953e+18</td>\n",
       "      <td>9.165384e+07</td>\n",
       "      <td>6.535772e+12</td>\n",
       "      <td>3.000000</td>\n",
       "      <td>1.000000</td>\n",
       "      <td>2.000000</td>\n",
       "      <td>200.980000</td>\n",
       "      <td>33.656250</td>\n",
       "      <td>23.000000</td>\n",
       "      <td>4.000000</td>\n",
       "      <td>1.000000</td>\n",
       "      <td>1.000000</td>\n",
       "      <td>1.000000</td>\n",
       "      <td>5.303205</td>\n",
       "    </tr>\n",
       "    <tr>\n",
       "      <th>max</th>\n",
       "      <td>3753.000000</td>\n",
       "      <td>1.747520e+19</td>\n",
       "      <td>9.532007e+07</td>\n",
       "      <td>7.441268e+13</td>\n",
       "      <td>30.000000</td>\n",
       "      <td>1.000000</td>\n",
       "      <td>32.000000</td>\n",
       "      <td>2848.039993</td>\n",
       "      <td>227.343750</td>\n",
       "      <td>141.000000</td>\n",
       "      <td>99.000000</td>\n",
       "      <td>1.000000</td>\n",
       "      <td>1.000000</td>\n",
       "      <td>1.000000</td>\n",
       "      <td>7.954386</td>\n",
       "    </tr>\n",
       "  </tbody>\n",
       "</table>\n",
       "</div>"
      ],
      "text/plain": [
       "                ID     DOMAIN_ID    MACHINE_ID  SITE_SESSION_ID   TRANS_FREQ  \\\n",
       "count  3749.000000  3.749000e+03  3.749000e+03     3.749000e+03  3749.000000   \n",
       "mean   1877.293678  8.436032e+18  8.615370e+07     1.976820e+13     2.981328   \n",
       "std    1083.651205  4.548078e+18  6.798597e+06     2.750259e+13     4.120927   \n",
       "min       1.000000  8.614049e+17  1.764018e+07     3.170357e+12     1.000000   \n",
       "25%     939.000000  5.078454e+18  8.197324e+07     4.404378e+12     1.000000   \n",
       "50%    1878.000000  7.317461e+18  8.698025e+07     5.037588e+12     2.000000   \n",
       "75%    2815.000000  9.530953e+18  9.165384e+07     6.535772e+12     3.000000   \n",
       "max    3753.000000  1.747520e+19  9.532007e+07     7.441268e+13    30.000000   \n",
       "\n",
       "         DIRECTP_D     PROD_QTY  PROD_TOTPRICE     DURATION  PAGES_VIEWED  \\\n",
       "count  3749.000000  3749.000000    3749.000000  3749.000000   3749.000000   \n",
       "mean      0.481462     1.717258     164.859624    25.317508     18.331288   \n",
       "std       0.499723     1.387385     184.484515    22.806497     16.636523   \n",
       "min       0.000000     0.000000       1.000000     0.029999      1.000000   \n",
       "25%       0.000000     1.000000      72.950000     9.449219      8.000000   \n",
       "50%       0.000000     1.000000     116.990000    17.777344     13.000000   \n",
       "75%       1.000000     2.000000     200.980000    33.656250     23.000000   \n",
       "max       1.000000    32.000000    2848.039993   227.343750    141.000000   \n",
       "\n",
       "       HOUSEHOLD_SIZE   CHILDREN_D  CONNECTIONSPEED_D        Ref_D  \\\n",
       "count     3749.000000  3749.000000        3749.000000  3749.000000   \n",
       "mean         3.273940     0.603894           0.992265     0.449987   \n",
       "std          4.388536     0.489152           0.087622     0.497559   \n",
       "min          1.000000     0.000000           0.000000     0.000000   \n",
       "25%          2.000000     0.000000           1.000000     0.000000   \n",
       "50%          3.000000     1.000000           1.000000     0.000000   \n",
       "75%          4.000000     1.000000           1.000000     1.000000   \n",
       "max         99.000000     1.000000           1.000000     1.000000   \n",
       "\n",
       "         LOG_PRICE  \n",
       "count  3749.000000  \n",
       "mean      4.439926  \n",
       "std       1.615478  \n",
       "min       0.000000  \n",
       "25%       4.289774  \n",
       "50%       4.762088  \n",
       "75%       5.303205  \n",
       "max       7.954386  "
      ]
     },
     "execution_count": 529,
     "metadata": {},
     "output_type": "execute_result"
    }
   ],
   "source": [
    "hotel.describe()"
   ]
  },
  {
   "cell_type": "code",
   "execution_count": 530,
   "metadata": {
    "tags": []
   },
   "outputs": [
    {
     "data": {
      "text/plain": [
       "count    3749.000000\n",
       "mean        4.439926\n",
       "std         1.615478\n",
       "min         0.000000\n",
       "25%         4.289774\n",
       "50%         4.762088\n",
       "75%         5.303205\n",
       "max         7.954386\n",
       "Name: LOG_PRICE, dtype: float64"
      ]
     },
     "execution_count": 530,
     "metadata": {},
     "output_type": "execute_result"
    }
   ],
   "source": [
    "hotel.LOG_PRICE.describe()"
   ]
  },
  {
   "cell_type": "code",
   "execution_count": 605,
   "metadata": {},
   "outputs": [
    {
     "data": {
      "image/png": "[encoded data removed]",
      "text/plain": [
       "<Figure size 432x288 with 1 Axes>"
      ]
     },
     "metadata": {
      "needs_background": "light"
     },
     "output_type": "display_data"
    }
   ],
   "source": [
    "sns.heatmap(hotel.isna(),yticklabels=False,cbar=False,cmap=\"Blues_r\")\n",
    "plt.savefig('na.png')"
   ]
  },
  {
   "cell_type": "code",
   "execution_count": 606,
   "metadata": {},
   "outputs": [
    {
     "data": {
      "image/png": "[encoded data removed]",
      "text/plain": [
       "<Figure size 432x288 with 1 Axes>"
      ]
     },
     "metadata": {
      "needs_background": "light"
     },
     "output_type": "display_data"
    }
   ],
   "source": [
    "boxplot_ad = hotel.boxplot(column=['HOUSEHOLD_SIZE'])  \n",
    "#outliers?\n",
    "plt.savefig('box1.png')"
   ]
  },
  {
   "cell_type": "code",
   "execution_count": 607,
   "metadata": {},
   "outputs": [
    {
     "data": {
      "image/png": "[encoded data removed]",
      "text/plain": [
       "<Figure size 432x288 with 1 Axes>"
      ]
     },
     "metadata": {
      "needs_background": "light"
     },
     "output_type": "display_data"
    }
   ],
   "source": [
    "upper_limit = hotel['HOUSEHOLD_SIZE'].quantile(0.99)\n",
    "lower_limit = hotel['HOUSEHOLD_SIZE'].quantile(0.01)\n",
    "\n",
    "new_hotel = hotel[(hotel['HOUSEHOLD_SIZE'] <= upper_limit) & (hotel['HOUSEHOLD_SIZE'] >= lower_limit)]\n",
    "\n",
    "\n",
    "boxplot_ad = new_hotel.boxplot(column=['HOUSEHOLD_SIZE'])  \n",
    "plt.savefig('box2.png')"
   ]
  },
  {
   "cell_type": "code",
   "execution_count": 610,
   "metadata": {},
   "outputs": [
    {
     "data": {
      "text/plain": [
       "0"
      ]
     },
     "execution_count": 610,
     "metadata": {},
     "output_type": "execute_result"
    }
   ],
   "source": [
    "#(hotel['PROD_TOTPRICE'] == 0).sum()"
   ]
  },
  {
   "cell_type": "code",
   "execution_count": 535,
   "metadata": {},
   "outputs": [
    {
     "data": {
      "text/plain": [
       "3742"
      ]
     },
     "execution_count": 535,
     "metadata": {},
     "output_type": "execute_result"
    }
   ],
   "source": [
    "(new_hotel['PROD_TOTPRICE']).count()"
   ]
  },
  {
   "cell_type": "code",
   "execution_count": 536,
   "metadata": {},
   "outputs": [
    {
     "data": {
      "text/plain": [
       "ID                   3742\n",
       "DOMAIN_ID            3742\n",
       "MACHINE_ID           3742\n",
       "SITE_SESSION_ID      3742\n",
       "TRANS_FREQ           3742\n",
       "DOMAIN_NAME          3742\n",
       "DIRECTP_D            3742\n",
       "PROD_NAME            3742\n",
       "PROD_QTY             3742\n",
       "PROD_TOTPRICE        3742\n",
       "REF_DOMAIN_NAME      1684\n",
       "DURATION             3742\n",
       "PAGES_VIEWED         3742\n",
       "HOUSEHOLD_SIZE       3742\n",
       "CHILDREN_D           3742\n",
       "CONNECTIONSPEED_D    3742\n",
       "Ref_D                3742\n",
       "LOG_PRICE            3742\n",
       "dtype: int64"
      ]
     },
     "execution_count": 536,
     "metadata": {},
     "output_type": "execute_result"
    }
   ],
   "source": [
    "(new_hotel).count()"
   ]
  },
  {
   "cell_type": "code",
   "execution_count": 615,
   "metadata": {},
   "outputs": [
    {
     "data": {
      "text/html": [
       "<div>\n",
       "<style scoped>\n",
       "    .dataframe tbody tr th:only-of-type {\n",
       "        vertical-align: middle;\n",
       "    }\n",
       "\n",
       "    .dataframe tbody tr th {\n",
       "        vertical-align: top;\n",
       "    }\n",
       "\n",
       "    .dataframe thead th {\n",
       "        text-align: right;\n",
       "    }\n",
       "</style>\n",
       "<table border=\"1\" class=\"dataframe\">\n",
       "  <thead>\n",
       "    <tr style=\"text-align: right;\">\n",
       "      <th></th>\n",
       "      <th>ID</th>\n",
       "      <th>DOMAIN_ID</th>\n",
       "      <th>MACHINE_ID</th>\n",
       "      <th>SITE_SESSION_ID</th>\n",
       "      <th>TRANS_FREQ</th>\n",
       "      <th>DIRECTP_D</th>\n",
       "      <th>PROD_QTY</th>\n",
       "      <th>PROD_TOTPRICE</th>\n",
       "      <th>DURATION</th>\n",
       "      <th>PAGES_VIEWED</th>\n",
       "      <th>HOUSEHOLD_SIZE</th>\n",
       "      <th>CHILDREN_D</th>\n",
       "      <th>CONNECTIONSPEED_D</th>\n",
       "      <th>Ref_D</th>\n",
       "      <th>LOG_PRICE</th>\n",
       "    </tr>\n",
       "  </thead>\n",
       "  <tbody>\n",
       "    <tr>\n",
       "      <th>count</th>\n",
       "      <td>3742.000000</td>\n",
       "      <td>3.742000e+03</td>\n",
       "      <td>3.742000e+03</td>\n",
       "      <td>3.742000e+03</td>\n",
       "      <td>3742.000000</td>\n",
       "      <td>3742.000000</td>\n",
       "      <td>3742.000000</td>\n",
       "      <td>3742.000000</td>\n",
       "      <td>3742.000000</td>\n",
       "      <td>3742.000000</td>\n",
       "      <td>3742.000000</td>\n",
       "      <td>3742.000000</td>\n",
       "      <td>3742.000000</td>\n",
       "      <td>3742.000000</td>\n",
       "      <td>3742.000000</td>\n",
       "    </tr>\n",
       "    <tr>\n",
       "      <th>mean</th>\n",
       "      <td>1875.715927</td>\n",
       "      <td>8.435314e+18</td>\n",
       "      <td>8.614598e+07</td>\n",
       "      <td>1.974250e+13</td>\n",
       "      <td>2.982897</td>\n",
       "      <td>0.481828</td>\n",
       "      <td>1.716996</td>\n",
       "      <td>164.805377</td>\n",
       "      <td>25.337767</td>\n",
       "      <td>18.341261</td>\n",
       "      <td>3.094869</td>\n",
       "      <td>0.603153</td>\n",
       "      <td>0.992250</td>\n",
       "      <td>0.450027</td>\n",
       "      <td>4.438632</td>\n",
       "    </tr>\n",
       "    <tr>\n",
       "      <th>std</th>\n",
       "      <td>1083.064908</td>\n",
       "      <td>4.548712e+18</td>\n",
       "      <td>6.797291e+06</td>\n",
       "      <td>2.748601e+13</td>\n",
       "      <td>4.124464</td>\n",
       "      <td>0.499736</td>\n",
       "      <td>1.387432</td>\n",
       "      <td>184.604758</td>\n",
       "      <td>22.819644</td>\n",
       "      <td>16.649645</td>\n",
       "      <td>1.454957</td>\n",
       "      <td>0.489309</td>\n",
       "      <td>0.087703</td>\n",
       "      <td>0.497563</td>\n",
       "      <td>1.616545</td>\n",
       "    </tr>\n",
       "    <tr>\n",
       "      <th>min</th>\n",
       "      <td>1.000000</td>\n",
       "      <td>8.614049e+17</td>\n",
       "      <td>1.764018e+07</td>\n",
       "      <td>3.170357e+12</td>\n",
       "      <td>1.000000</td>\n",
       "      <td>0.000000</td>\n",
       "      <td>0.000000</td>\n",
       "      <td>1.000000</td>\n",
       "      <td>0.029999</td>\n",
       "      <td>1.000000</td>\n",
       "      <td>1.000000</td>\n",
       "      <td>0.000000</td>\n",
       "      <td>0.000000</td>\n",
       "      <td>0.000000</td>\n",
       "      <td>0.000000</td>\n",
       "    </tr>\n",
       "    <tr>\n",
       "      <th>25%</th>\n",
       "      <td>938.250000</td>\n",
       "      <td>5.078454e+18</td>\n",
       "      <td>8.197324e+07</td>\n",
       "      <td>4.403941e+12</td>\n",
       "      <td>1.000000</td>\n",
       "      <td>0.000000</td>\n",
       "      <td>1.000000</td>\n",
       "      <td>72.792500</td>\n",
       "      <td>9.449219</td>\n",
       "      <td>8.000000</td>\n",
       "      <td>2.000000</td>\n",
       "      <td>0.000000</td>\n",
       "      <td>1.000000</td>\n",
       "      <td>0.000000</td>\n",
       "      <td>4.287612</td>\n",
       "    </tr>\n",
       "    <tr>\n",
       "      <th>50%</th>\n",
       "      <td>1875.500000</td>\n",
       "      <td>7.317461e+18</td>\n",
       "      <td>8.698025e+07</td>\n",
       "      <td>5.036265e+12</td>\n",
       "      <td>2.000000</td>\n",
       "      <td>0.000000</td>\n",
       "      <td>1.000000</td>\n",
       "      <td>116.970000</td>\n",
       "      <td>17.802734</td>\n",
       "      <td>13.000000</td>\n",
       "      <td>3.000000</td>\n",
       "      <td>1.000000</td>\n",
       "      <td>1.000000</td>\n",
       "      <td>0.000000</td>\n",
       "      <td>4.761917</td>\n",
       "    </tr>\n",
       "    <tr>\n",
       "      <th>75%</th>\n",
       "      <td>2811.750000</td>\n",
       "      <td>9.530953e+18</td>\n",
       "      <td>9.165186e+07</td>\n",
       "      <td>6.516099e+12</td>\n",
       "      <td>3.000000</td>\n",
       "      <td>1.000000</td>\n",
       "      <td>2.000000</td>\n",
       "      <td>200.980000</td>\n",
       "      <td>33.701172</td>\n",
       "      <td>24.000000</td>\n",
       "      <td>4.000000</td>\n",
       "      <td>1.000000</td>\n",
       "      <td>1.000000</td>\n",
       "      <td>1.000000</td>\n",
       "      <td>5.303205</td>\n",
       "    </tr>\n",
       "    <tr>\n",
       "      <th>max</th>\n",
       "      <td>3753.000000</td>\n",
       "      <td>1.747520e+19</td>\n",
       "      <td>9.532007e+07</td>\n",
       "      <td>7.441268e+13</td>\n",
       "      <td>30.000000</td>\n",
       "      <td>1.000000</td>\n",
       "      <td>32.000000</td>\n",
       "      <td>2848.039993</td>\n",
       "      <td>227.343750</td>\n",
       "      <td>141.000000</td>\n",
       "      <td>6.000000</td>\n",
       "      <td>1.000000</td>\n",
       "      <td>1.000000</td>\n",
       "      <td>1.000000</td>\n",
       "      <td>7.954386</td>\n",
       "    </tr>\n",
       "  </tbody>\n",
       "</table>\n",
       "</div>"
      ],
      "text/plain": [
       "                ID     DOMAIN_ID    MACHINE_ID  SITE_SESSION_ID   TRANS_FREQ  \\\n",
       "count  3742.000000  3.742000e+03  3.742000e+03     3.742000e+03  3742.000000   \n",
       "mean   1875.715927  8.435314e+18  8.614598e+07     1.974250e+13     2.982897   \n",
       "std    1083.064908  4.548712e+18  6.797291e+06     2.748601e+13     4.124464   \n",
       "min       1.000000  8.614049e+17  1.764018e+07     3.170357e+12     1.000000   \n",
       "25%     938.250000  5.078454e+18  8.197324e+07     4.403941e+12     1.000000   \n",
       "50%    1875.500000  7.317461e+18  8.698025e+07     5.036265e+12     2.000000   \n",
       "75%    2811.750000  9.530953e+18  9.165186e+07     6.516099e+12     3.000000   \n",
       "max    3753.000000  1.747520e+19  9.532007e+07     7.441268e+13    30.000000   \n",
       "\n",
       "         DIRECTP_D     PROD_QTY  PROD_TOTPRICE     DURATION  PAGES_VIEWED  \\\n",
       "count  3742.000000  3742.000000    3742.000000  3742.000000   3742.000000   \n",
       "mean      0.481828     1.716996     164.805377    25.337767     18.341261   \n",
       "std       0.499736     1.387432     184.604758    22.819644     16.649645   \n",
       "min       0.000000     0.000000       1.000000     0.029999      1.000000   \n",
       "25%       0.000000     1.000000      72.792500     9.449219      8.000000   \n",
       "50%       0.000000     1.000000     116.970000    17.802734     13.000000   \n",
       "75%       1.000000     2.000000     200.980000    33.701172     24.000000   \n",
       "max       1.000000    32.000000    2848.039993   227.343750    141.000000   \n",
       "\n",
       "       HOUSEHOLD_SIZE   CHILDREN_D  CONNECTIONSPEED_D        Ref_D  \\\n",
       "count     3742.000000  3742.000000        3742.000000  3742.000000   \n",
       "mean         3.094869     0.603153           0.992250     0.450027   \n",
       "std          1.454957     0.489309           0.087703     0.497563   \n",
       "min          1.000000     0.000000           0.000000     0.000000   \n",
       "25%          2.000000     0.000000           1.000000     0.000000   \n",
       "50%          3.000000     1.000000           1.000000     0.000000   \n",
       "75%          4.000000     1.000000           1.000000     1.000000   \n",
       "max          6.000000     1.000000           1.000000     1.000000   \n",
       "\n",
       "         LOG_PRICE  \n",
       "count  3742.000000  \n",
       "mean      4.438632  \n",
       "std       1.616545  \n",
       "min       0.000000  \n",
       "25%       4.287612  \n",
       "50%       4.761917  \n",
       "75%       5.303205  \n",
       "max       7.954386  "
      ]
     },
     "execution_count": 615,
     "metadata": {},
     "output_type": "execute_result"
    }
   ],
   "source": [
    "\n",
    "new_hotel.describe()"
   ]
  },
  {
   "cell_type": "code",
   "execution_count": 623,
   "metadata": {},
   "outputs": [
    {
     "data": {
      "image/png": "[encoded data removed]",
      "text/plain": [
       "<Figure size 432x288 with 1 Axes>"
      ]
     },
     "metadata": {
      "needs_background": "light"
     },
     "output_type": "display_data"
    }
   ],
   "source": [
    "import matplotlib.pyplot as plt\n",
    "s_p = new_hotel.plot.scatter(x='PAGES_VIEWED', y='DURATION',c='#304A9C',title = 'duration-page viewed')\n",
    "plt.savefig('sca2.png')"
   ]
  },
  {
   "cell_type": "code",
   "execution_count": 618,
   "metadata": {},
   "outputs": [
    {
     "data": {
      "image/png": "[encoded data removed]",
      "text/plain": [
       "<Figure size 432x288 with 1 Axes>"
      ]
     },
     "metadata": {
      "needs_background": "light"
     },
     "output_type": "display_data"
    }
   ],
   "source": [
    "s_p = new_hotel.plot.scatter(x='LOG_PRICE', y='DURATION',c='#304A9C',title = 'duration- LOG_PRICE')\n",
    "plt.savefig('sca1.png')"
   ]
  },
  {
   "cell_type": "code",
   "execution_count": 624,
   "metadata": {},
   "outputs": [
    {
     "data": {
      "image/png": "[encoded data removed]",
      "text/plain": [
       "<Figure size 432x288 with 1 Axes>"
      ]
     },
     "metadata": {
      "needs_background": "light"
     },
     "output_type": "display_data"
    }
   ],
   "source": [
    "s_p = new_hotel.plot.scatter(x='PROD_TOTPRICE', y='DURATION',c='#6F8CE6',title = 'PROD_TOTPRICE- DURATION')\n",
    "plt.savefig('sca3.png')"
   ]
  },
  {
   "cell_type": "code",
   "execution_count": 627,
   "metadata": {},
   "outputs": [
    {
     "data": {
      "image/png": "[encoded data removed]",
      "text/plain": [
       "<Figure size 432x288 with 1 Axes>"
      ]
     },
     "metadata": {
      "needs_background": "light"
     },
     "output_type": "display_data"
    }
   ],
   "source": [
    "a_h = plt.hist(x=new_hotel['TRANS_FREQ'], bins='auto', color='#6FE0E6', alpha=0.7, rwidth=1)\n",
    "plt.title('Frequency of transaction frequency')\n",
    "plt.savefig('sca4.png')"
   ]
  },
  {
   "cell_type": "markdown",
   "metadata": {},
   "source": [
    "<b>section B</b>"
   ]
  },
  {
   "cell_type": "code",
   "execution_count": 543,
   "metadata": {},
   "outputs": [],
   "source": [
    "#pairwise correlations tests"
   ]
  },
  {
   "cell_type": "code",
   "execution_count": 544,
   "metadata": {},
   "outputs": [
    {
     "data": {
      "text/plain": [
       "TRANS_FREQ          -0.011166\n",
       "DIRECTP_D           -0.182338\n",
       "PROD_QTY             0.127707\n",
       "PROD_TOTPRICE        0.032444\n",
       "DURATION             1.000000\n",
       "PAGES_VIEWED         0.685065\n",
       "HOUSEHOLD_SIZE       0.015729\n",
       "CHILDREN_D           0.045334\n",
       "CONNECTIONSPEED_D   -0.021462\n",
       "Ref_D                0.003776\n",
       "LOG_PRICE           -0.072548\n",
       "Name: DURATION, dtype: float64"
      ]
     },
     "execution_count": 544,
     "metadata": {},
     "output_type": "execute_result"
    }
   ],
   "source": [
    "new_h.corr(method='pearson')['DURATION']"
   ]
  },
  {
   "cell_type": "code",
   "execution_count": 545,
   "metadata": {},
   "outputs": [
    {
     "data": {
      "text/html": [
       "<div>\n",
       "<style scoped>\n",
       "    .dataframe tbody tr th:only-of-type {\n",
       "        vertical-align: middle;\n",
       "    }\n",
       "\n",
       "    .dataframe tbody tr th {\n",
       "        vertical-align: top;\n",
       "    }\n",
       "\n",
       "    .dataframe thead th {\n",
       "        text-align: right;\n",
       "    }\n",
       "</style>\n",
       "<table border=\"1\" class=\"dataframe\">\n",
       "  <thead>\n",
       "    <tr style=\"text-align: right;\">\n",
       "      <th></th>\n",
       "      <th>TRANS_FREQ</th>\n",
       "      <th>DIRECTP_D</th>\n",
       "      <th>PROD_QTY</th>\n",
       "      <th>PROD_TOTPRICE</th>\n",
       "      <th>DURATION</th>\n",
       "      <th>PAGES_VIEWED</th>\n",
       "      <th>HOUSEHOLD_SIZE</th>\n",
       "      <th>CHILDREN_D</th>\n",
       "      <th>CONNECTIONSPEED_D</th>\n",
       "      <th>Ref_D</th>\n",
       "      <th>LOG_PRICE</th>\n",
       "    </tr>\n",
       "  </thead>\n",
       "  <tbody>\n",
       "    <tr>\n",
       "      <th>0</th>\n",
       "      <td>1</td>\n",
       "      <td>1</td>\n",
       "      <td>32</td>\n",
       "      <td>2848.039993</td>\n",
       "      <td>23.328125</td>\n",
       "      <td>13</td>\n",
       "      <td>6</td>\n",
       "      <td>1</td>\n",
       "      <td>1</td>\n",
       "      <td>0.0</td>\n",
       "      <td>7.954386</td>\n",
       "    </tr>\n",
       "    <tr>\n",
       "      <th>1</th>\n",
       "      <td>1</td>\n",
       "      <td>0</td>\n",
       "      <td>1</td>\n",
       "      <td>2407.939995</td>\n",
       "      <td>47.109375</td>\n",
       "      <td>17</td>\n",
       "      <td>2</td>\n",
       "      <td>1</td>\n",
       "      <td>1</td>\n",
       "      <td>1.0</td>\n",
       "      <td>7.786527</td>\n",
       "    </tr>\n",
       "    <tr>\n",
       "      <th>2</th>\n",
       "      <td>1</td>\n",
       "      <td>1</td>\n",
       "      <td>5</td>\n",
       "      <td>2169.000000</td>\n",
       "      <td>20.058594</td>\n",
       "      <td>19</td>\n",
       "      <td>1</td>\n",
       "      <td>0</td>\n",
       "      <td>1</td>\n",
       "      <td>1.0</td>\n",
       "      <td>7.682022</td>\n",
       "    </tr>\n",
       "    <tr>\n",
       "      <th>3</th>\n",
       "      <td>1</td>\n",
       "      <td>0</td>\n",
       "      <td>5</td>\n",
       "      <td>1959.699997</td>\n",
       "      <td>47.546875</td>\n",
       "      <td>39</td>\n",
       "      <td>1</td>\n",
       "      <td>0</td>\n",
       "      <td>1</td>\n",
       "      <td>0.0</td>\n",
       "      <td>7.580547</td>\n",
       "    </tr>\n",
       "    <tr>\n",
       "      <th>4</th>\n",
       "      <td>2</td>\n",
       "      <td>1</td>\n",
       "      <td>3</td>\n",
       "      <td>1798.000000</td>\n",
       "      <td>14.599609</td>\n",
       "      <td>19</td>\n",
       "      <td>1</td>\n",
       "      <td>0</td>\n",
       "      <td>1</td>\n",
       "      <td>1.0</td>\n",
       "      <td>7.494430</td>\n",
       "    </tr>\n",
       "  </tbody>\n",
       "</table>\n",
       "</div>"
      ],
      "text/plain": [
       "   TRANS_FREQ  DIRECTP_D  PROD_QTY  PROD_TOTPRICE   DURATION  PAGES_VIEWED  \\\n",
       "0           1          1        32    2848.039993  23.328125            13   \n",
       "1           1          0         1    2407.939995  47.109375            17   \n",
       "2           1          1         5    2169.000000  20.058594            19   \n",
       "3           1          0         5    1959.699997  47.546875            39   \n",
       "4           2          1         3    1798.000000  14.599609            19   \n",
       "\n",
       "   HOUSEHOLD_SIZE  CHILDREN_D  CONNECTIONSPEED_D  Ref_D  LOG_PRICE  \n",
       "0               6           1                  1    0.0   7.954386  \n",
       "1               2           1                  1    1.0   7.786527  \n",
       "2               1           0                  1    1.0   7.682022  \n",
       "3               1           0                  1    0.0   7.580547  \n",
       "4               1           0                  1    1.0   7.494430  "
      ]
     },
     "execution_count": 545,
     "metadata": {},
     "output_type": "execute_result"
    }
   ],
   "source": [
    "new_h = new_hotel.drop(['ID','DOMAIN_ID','MACHINE_ID','SITE_SESSION_ID','DOMAIN_NAME','PROD_NAME','REF_DOMAIN_NAME'],axis=1)\n",
    "\n",
    "new_h.head()"
   ]
  },
  {
   "cell_type": "code",
   "execution_count": 621,
   "metadata": {},
   "outputs": [],
   "source": [
    "new_h.describe().to_csv(\"my_description.csv\")"
   ]
  },
  {
   "cell_type": "code",
   "execution_count": 547,
   "metadata": {},
   "outputs": [],
   "source": [
    "import statsmodels.api as sm"
   ]
  },
  {
   "cell_type": "code",
   "execution_count": 548,
   "metadata": {},
   "outputs": [],
   "source": [
    "indepvar=sm.add_constant(new_h[['TRANS_FREQ','DIRECTP_D','PROD_QTY','PROD_TOTPRICE','PAGES_VIEWED','HOUSEHOLD_SIZE','CHILDREN_D','CONNECTIONSPEED_D','Ref_D','LOG_PRICE']])"
   ]
  },
  {
   "cell_type": "code",
   "execution_count": 549,
   "metadata": {},
   "outputs": [
    {
     "name": "stdout",
     "output_type": "stream",
     "text": [
      "                            OLS Regression Results                            \n",
      "==============================================================================\n",
      "Dep. Variable:               DURATION   R-squared:                       0.492\n",
      "Model:                            OLS   Adj. R-squared:                  0.490\n",
      "Method:                 Least Squares   F-statistic:                     361.0\n",
      "Date:                Tue, 15 Mar 2022   Prob (F-statistic):               0.00\n",
      "Time:                        22:05:33   Log-Likelihood:                -15746.\n",
      "No. Observations:                3742   AIC:                         3.151e+04\n",
      "Df Residuals:                    3731   BIC:                         3.158e+04\n",
      "Df Model:                          10                                         \n",
      "Covariance Type:            nonrobust                                         \n",
      "=====================================================================================\n",
      "                        coef    std err          t      P>|t|      [0.025      0.975]\n",
      "-------------------------------------------------------------------------------------\n",
      "const                13.8308      3.237      4.273      0.000       7.484      20.177\n",
      "TRANS_FREQ            0.0147      0.066      0.221      0.825      -0.116       0.145\n",
      "DIRECTP_D            -6.3697      0.553    -11.518      0.000      -7.454      -5.285\n",
      "PROD_QTY              0.1236      0.230      0.537      0.592      -0.328       0.575\n",
      "PROD_TOTPRICE         0.0052      0.002      2.448      0.014       0.001       0.009\n",
      "PAGES_VIEWED          0.9234      0.016     56.480      0.000       0.891       0.955\n",
      "HOUSEHOLD_SIZE       -0.1094      0.211     -0.519      0.604      -0.523       0.304\n",
      "CHILDREN_D            1.4629      0.629      2.327      0.020       0.230       2.695\n",
      "CONNECTIONSPEED_D    -4.0302      3.046     -1.323      0.186     -10.003       1.943\n",
      "Ref_D                 1.3995      0.546      2.564      0.010       0.329       2.470\n",
      "LOG_PRICE            -0.1460      0.214     -0.681      0.496      -0.566       0.274\n",
      "==============================================================================\n",
      "Omnibus:                     1300.008   Durbin-Watson:                   1.991\n",
      "Prob(Omnibus):                  0.000   Jarque-Bera (JB):             9022.393\n",
      "Skew:                           1.477   Prob(JB):                         0.00\n",
      "Kurtosis:                      10.010   Cond. No.                     4.06e+03\n",
      "==============================================================================\n",
      "\n",
      "Notes:\n",
      "[1] Standard Errors assume that the covariance matrix of the errors is correctly specified.\n",
      "[2] The condition number is large, 4.06e+03. This might indicate that there are\n",
      "strong multicollinearity or other numerical problems.\n"
     ]
    }
   ],
   "source": [
    "mod=sm.OLS(new_h.DURATION,indepvar)\n",
    "res=mod.fit()\n",
    "print(res.summary())"
   ]
  },
  {
   "cell_type": "code",
   "execution_count": 630,
   "metadata": {},
   "outputs": [
    {
     "name": "stdout",
     "output_type": "stream",
     "text": [
      "<F test: F=26.269315713499708, p=3.120170023989961e-07, df_denom=3.74e+03, df_num=1>\n"
     ]
    }
   ],
   "source": [
    "print(res.f_test('DIRECTP_D'))"
   ]
  },
  {
   "cell_type": "code",
   "execution_count": 550,
   "metadata": {},
   "outputs": [
    {
     "name": "stdout",
     "output_type": "stream",
     "text": [
      "                            OLS Regression Results                            \n",
      "==============================================================================\n",
      "Dep. Variable:               DURATION   R-squared:                       0.491\n",
      "Model:                            OLS   Adj. R-squared:                  0.491\n",
      "Method:                 Least Squares   F-statistic:                     721.8\n",
      "Date:                Tue, 15 Mar 2022   Prob (F-statistic):               0.00\n",
      "Time:                        22:05:33   Log-Likelihood:                -15748.\n",
      "No. Observations:                3742   AIC:                         3.151e+04\n",
      "Df Residuals:                    3736   BIC:                         3.155e+04\n",
      "Df Model:                           5                                         \n",
      "Covariance Type:            nonrobust                                         \n",
      "=================================================================================\n",
      "                    coef    std err          t      P>|t|      [0.025      0.975]\n",
      "---------------------------------------------------------------------------------\n",
      "const             9.2411      0.669     13.808      0.000       7.929      10.553\n",
      "DIRECTP_D        -6.4040      0.542    -11.820      0.000      -7.466      -5.342\n",
      "PROD_TOTPRICE     0.0049      0.001      3.376      0.001       0.002       0.008\n",
      "PAGES_VIEWED      0.9267      0.016     57.759      0.000       0.895       0.958\n",
      "CHILDREN_D        1.2466      0.545      2.288      0.022       0.178       2.315\n",
      "Ref_D             1.3974      0.541      2.581      0.010       0.336       2.459\n",
      "==============================================================================\n",
      "Omnibus:                     1298.171   Durbin-Watson:                   1.989\n",
      "Prob(Omnibus):                  0.000   Jarque-Bera (JB):             8931.558\n",
      "Skew:                           1.478   Prob(JB):                         0.00\n",
      "Kurtosis:                       9.968   Cond. No.                         736.\n",
      "==============================================================================\n",
      "\n",
      "Notes:\n",
      "[1] Standard Errors assume that the covariance matrix of the errors is correctly specified.\n"
     ]
    }
   ],
   "source": [
    "second=sm.add_constant(new_h[['DIRECTP_D','PROD_TOTPRICE','PAGES_VIEWED','CHILDREN_D','Ref_D']])\n",
    "mod=sm.OLS(new_h.DURATION,second)\n",
    "res=mod.fit()\n",
    "print(res.summary())"
   ]
  },
  {
   "cell_type": "markdown",
   "metadata": {},
   "source": [
    "The equation:\n",
    "DURATION = 9.24 - 6.4*DIRECTP_D + 0.005*PROD_TOTPRICE + 0.93*PAGES_VIEWED + 1.25*CHILDREN_D + 1.40*REF_D  "
   ]
  },
  {
   "cell_type": "code",
   "execution_count": 551,
   "metadata": {},
   "outputs": [
    {
     "name": "stdout",
     "output_type": "stream",
     "text": [
      "                            OLS Regression Results                            \n",
      "==============================================================================\n",
      "Dep. Variable:           PAGES_VIEWED   R-squared:                       0.484\n",
      "Model:                            OLS   Adj. R-squared:                  0.483\n",
      "Method:                 Least Squares   F-statistic:                     349.8\n",
      "Date:                Tue, 15 Mar 2022   Prob (F-statistic):               0.00\n",
      "Time:                        22:05:33   Log-Likelihood:                -14596.\n",
      "No. Observations:                3742   AIC:                         2.921e+04\n",
      "Df Residuals:                    3731   BIC:                         2.928e+04\n",
      "Df Model:                          10                                         \n",
      "Covariance Type:            nonrobust                                         \n",
      "=====================================================================================\n",
      "                        coef    std err          t      P>|t|      [0.025      0.975]\n",
      "-------------------------------------------------------------------------------------\n",
      "const                 5.6139      2.384      2.355      0.019       0.940      10.288\n",
      "TRANS_FREQ            0.0967      0.049      1.981      0.048       0.001       0.192\n",
      "DIRECTP_D             2.1492      0.412      5.213      0.000       1.341       2.958\n",
      "PROD_QTY              0.8944      0.169      5.299      0.000       0.563       1.225\n",
      "PROD_TOTPRICE        -0.0034      0.002     -2.206      0.027      -0.007      -0.000\n",
      "DURATION              0.4992      0.009     56.480      0.000       0.482       0.516\n",
      "HOUSEHOLD_SIZE        0.0312      0.155      0.201      0.841      -0.273       0.335\n",
      "CHILDREN_D            0.0356      0.463      0.077      0.939      -0.871       0.942\n",
      "CONNECTIONSPEED_D     0.8473      2.240      0.378      0.705      -3.545       5.240\n",
      "Ref_D                -0.4248      0.402     -1.058      0.290      -1.212       0.363\n",
      "LOG_PRICE            -0.6712      0.157     -4.268      0.000      -0.980      -0.363\n",
      "==============================================================================\n",
      "Omnibus:                     1791.591   Durbin-Watson:                   1.915\n",
      "Prob(Omnibus):                  0.000   Jarque-Bera (JB):            25380.292\n",
      "Skew:                           1.915   Prob(JB):                         0.00\n",
      "Kurtosis:                      15.170   Cond. No.                     4.07e+03\n",
      "==============================================================================\n",
      "\n",
      "Notes:\n",
      "[1] Standard Errors assume that the covariance matrix of the errors is correctly specified.\n",
      "[2] The condition number is large, 4.07e+03. This might indicate that there are\n",
      "strong multicollinearity or other numerical problems.\n"
     ]
    }
   ],
   "source": [
    "page_1=sm.add_constant(new_h[['TRANS_FREQ','DIRECTP_D','PROD_QTY','PROD_TOTPRICE','DURATION','HOUSEHOLD_SIZE','CHILDREN_D','CONNECTIONSPEED_D','Ref_D','LOG_PRICE']])\n",
    "\n",
    "mod=sm.OLS(new_h.PAGES_VIEWED,page_1)\n",
    "res=mod.fit()\n",
    "print(res.summary())"
   ]
  },
  {
   "cell_type": "code",
   "execution_count": 552,
   "metadata": {},
   "outputs": [
    {
     "name": "stdout",
     "output_type": "stream",
     "text": [
      "                            OLS Regression Results                            \n",
      "==============================================================================\n",
      "Dep. Variable:           PAGES_VIEWED   R-squared:                       0.484\n",
      "Model:                            OLS   Adj. R-squared:                  0.483\n",
      "Method:                 Least Squares   F-statistic:                     583.2\n",
      "Date:                Tue, 15 Mar 2022   Prob (F-statistic):               0.00\n",
      "Time:                        22:05:33   Log-Likelihood:                -14596.\n",
      "No. Observations:                3742   AIC:                         2.921e+04\n",
      "Df Residuals:                    3735   BIC:                         2.925e+04\n",
      "Df Model:                           6                                         \n",
      "Covariance Type:            nonrobust                                         \n",
      "=================================================================================\n",
      "                    coef    std err          t      P>|t|      [0.025      0.975]\n",
      "---------------------------------------------------------------------------------\n",
      "const             6.4081      0.770      8.318      0.000       4.898       7.919\n",
      "TRANS_FREQ        0.1016      0.048      2.108      0.035       0.007       0.196\n",
      "DIRECTP_D         2.0806      0.406      5.125      0.000       1.285       2.877\n",
      "PROD_QTY          0.9026      0.169      5.355      0.000       0.572       1.233\n",
      "PROD_TOTPRICE    -0.0035      0.002     -2.225      0.026      -0.007      -0.000\n",
      "DURATION          0.4988      0.009     56.606      0.000       0.482       0.516\n",
      "LOG_PRICE        -0.6731      0.157     -4.283      0.000      -0.981      -0.365\n",
      "==============================================================================\n",
      "Omnibus:                     1788.724   Durbin-Watson:                   1.915\n",
      "Prob(Omnibus):                  0.000   Jarque-Bera (JB):            25207.259\n",
      "Skew:                           1.913   Prob(JB):                         0.00\n",
      "Kurtosis:                      15.126   Cond. No.                     1.01e+03\n",
      "==============================================================================\n",
      "\n",
      "Notes:\n",
      "[1] Standard Errors assume that the covariance matrix of the errors is correctly specified.\n",
      "[2] The condition number is large, 1.01e+03. This might indicate that there are\n",
      "strong multicollinearity or other numerical problems.\n"
     ]
    }
   ],
   "source": [
    "page_2=sm.add_constant(new_h[['TRANS_FREQ','DIRECTP_D','PROD_QTY','PROD_TOTPRICE','DURATION','LOG_PRICE']])\n",
    "\n",
    "mod=sm.OLS(new_h.PAGES_VIEWED,page_2)\n",
    "res=mod.fit()\n",
    "print(res.summary())"
   ]
  },
  {
   "cell_type": "markdown",
   "metadata": {},
   "source": [
    "The equation:\n",
    "PAGES_VIEWED = 6.41 - 2.08*DIRECTP_D + 0.90*PROD_QTY   -0.004*PROD_TOTPRICE + 0.49*DURATION -0.67*LOG_PRICE +0.10*TRANS_FREQ "
   ]
  },
  {
   "cell_type": "code",
   "execution_count": null,
   "metadata": {},
   "outputs": [],
   "source": []
  }
 ],
 "metadata": {
  "kernelspec": {
   "display_name": "Python 3 (ipykernel)",
   "language": "python",
   "name": "python3"
  },
  "language_info": {
   "codemirror_mode": {
    "name": "ipython",
    "version": 3
   },
   "file_extension": ".py",
   "mimetype": "text/x-python",
   "name": "python",
   "nbconvert_exporter": "python",
   "pygments_lexer": "ipython3",
   "version": "3.9.7"
  }
 },
 "nbformat": 4,
 "nbformat_minor": 4
}
