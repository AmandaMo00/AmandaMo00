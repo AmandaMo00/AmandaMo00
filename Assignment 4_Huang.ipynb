{
 "cells": [
  {
   "cell_type": "markdown",
   "metadata": {},
   "source": [
    "## Assignment 4 - Sales\n",
    "\n",
    "You work for Giant Eagle and you have collected sales data for 8523 products across different Giant Eagles in different cities.  Your goal is to build a predictive model to predict the sales of each product. Below are the variables you have in your dataset.\n",
    "\n",
    "* 'Product_Identifier': Unique product ID\n",
    "* 'Product_Weight': Weight of product\n",
    "* 'Product_Fat_Content': Whether the product is low fat or not\n",
    "* 'Product_Visibility': The % of total display area of all products in a store allocated to the particular product\n",
    "* 'Product_Type': The category to which the product belongs\n",
    "* 'Product_MRP': Maximum Retail Price (list price) of the product\n",
    "* 'Outlet_Identifier': Unique store ID\n",
    "* 'Outlet_Establishment_Year': The year in which store was established\n",
    "* 'Outlet_Size': The size of the store in terms of ground area\n",
    "* 'Outlet_Location_Type': The type of city in which the store is located\n",
    "* 'Outlet_Type': Whether the outlet is just a grocery store or some sort of supermarket\n",
    "* 'Product_Outlet_Sales': Sales of the product in the particular store. This is the outcome variable to be predicted.\n",
    "\n",
    "You want to run your model 1) with all the features and 2) with the lowest possible number of features that still explains (99% to 100%) of variance. Do not drop any variables other than Product Identifier and at the end of your code, compare the performance the two models you created and how you determined the number of features to keep in the second model.\n",
    "\n",
    "Please save your file as Assignment4_LastName."
   ]
  },
  {
   "cell_type": "code",
   "execution_count": 126,
   "metadata": {},
   "outputs": [],
   "source": [
    "import pandas as pd \n",
    "import numpy as np\n",
    "import matplotlib.pyplot as plt\n",
    "import seaborn as sns\n",
    "%matplotlib inline"
   ]
  },
  {
   "cell_type": "code",
   "execution_count": 127,
   "metadata": {},
   "outputs": [],
   "source": [
    "df = pd.read_csv(\"Sales_GE.csv\")"
   ]
  },
  {
   "cell_type": "code",
   "execution_count": 128,
   "metadata": {},
   "outputs": [
    {
     "data": {
      "text/plain": [
       "<bound method DataFrame.info of      Product_Identifier  Product_Weight Product_Fat_Content  \\\n",
       "0                 FDA15           9.300             Low Fat   \n",
       "1                 DRC01           5.920             Regular   \n",
       "2                 FDN15          17.500             Low Fat   \n",
       "3                 FDX07          19.200             Regular   \n",
       "4                 NCD19           8.930             Low Fat   \n",
       "...                 ...             ...                 ...   \n",
       "8518              FDF22           6.865             Low Fat   \n",
       "8519              FDS36           8.380             Regular   \n",
       "8520              NCJ29          10.600             Low Fat   \n",
       "8521              FDN46           7.210             Regular   \n",
       "8522              DRG01          14.800             Low Fat   \n",
       "\n",
       "      Product_Visibility           Product_Type  Product_MRP  \\\n",
       "0               0.016047                  Dairy     249.8092   \n",
       "1               0.019278            Soft Drinks      48.2692   \n",
       "2               0.016760                   Meat     141.6180   \n",
       "3               0.000000  Fruits and Vegetables     182.0950   \n",
       "4               0.000000              Household      53.8614   \n",
       "...                  ...                    ...          ...   \n",
       "8518            0.056783            Snack Foods     214.5218   \n",
       "8519            0.046982           Baking Goods     108.1570   \n",
       "8520            0.035186     Health and Hygiene      85.1224   \n",
       "8521            0.145221            Snack Foods     103.1332   \n",
       "8522            0.044878            Soft Drinks      75.4670   \n",
       "\n",
       "      Outlet_Establishment_Year Outlet_Size Outlet_Location_Type  \\\n",
       "0                          1999      Medium               Tier 1   \n",
       "1                          2009      Medium               Tier 3   \n",
       "2                          1999      Medium               Tier 1   \n",
       "3                          1998         NaN               Tier 3   \n",
       "4                          1987        High               Tier 3   \n",
       "...                         ...         ...                  ...   \n",
       "8518                       1987        High               Tier 3   \n",
       "8519                       2002         NaN               Tier 2   \n",
       "8520                       2004       Small               Tier 2   \n",
       "8521                       2009      Medium               Tier 3   \n",
       "8522                       1997       Small               Tier 1   \n",
       "\n",
       "            Outlet_Type  Product_Outlet_Sales  \n",
       "0     Supermarket Type1             3735.1380  \n",
       "1     Supermarket Type2              443.4228  \n",
       "2     Supermarket Type1             2097.2700  \n",
       "3         Grocery Store              732.3800  \n",
       "4     Supermarket Type1              994.7052  \n",
       "...                 ...                   ...  \n",
       "8518  Supermarket Type1             2778.3834  \n",
       "8519  Supermarket Type1              549.2850  \n",
       "8520  Supermarket Type1             1193.1136  \n",
       "8521  Supermarket Type2             1845.5976  \n",
       "8522  Supermarket Type1              765.6700  \n",
       "\n",
       "[8523 rows x 11 columns]>"
      ]
     },
     "execution_count": 128,
     "metadata": {},
     "output_type": "execute_result"
    }
   ],
   "source": [
    "df.info"
   ]
  },
  {
   "cell_type": "code",
   "execution_count": 129,
   "metadata": {},
   "outputs": [
    {
     "data": {
      "text/html": [
       "<div>\n",
       "<style scoped>\n",
       "    .dataframe tbody tr th:only-of-type {\n",
       "        vertical-align: middle;\n",
       "    }\n",
       "\n",
       "    .dataframe tbody tr th {\n",
       "        vertical-align: top;\n",
       "    }\n",
       "\n",
       "    .dataframe thead th {\n",
       "        text-align: right;\n",
       "    }\n",
       "</style>\n",
       "<table border=\"1\" class=\"dataframe\">\n",
       "  <thead>\n",
       "    <tr style=\"text-align: right;\">\n",
       "      <th></th>\n",
       "      <th>Product_Identifier</th>\n",
       "      <th>Product_Weight</th>\n",
       "      <th>Product_Fat_Content</th>\n",
       "      <th>Product_Visibility</th>\n",
       "      <th>Product_Type</th>\n",
       "      <th>Product_MRP</th>\n",
       "      <th>Outlet_Establishment_Year</th>\n",
       "      <th>Outlet_Size</th>\n",
       "      <th>Outlet_Location_Type</th>\n",
       "      <th>Outlet_Type</th>\n",
       "      <th>Product_Outlet_Sales</th>\n",
       "    </tr>\n",
       "  </thead>\n",
       "  <tbody>\n",
       "    <tr>\n",
       "      <th>0</th>\n",
       "      <td>FDA15</td>\n",
       "      <td>9.30</td>\n",
       "      <td>Low Fat</td>\n",
       "      <td>0.016047</td>\n",
       "      <td>Dairy</td>\n",
       "      <td>249.8092</td>\n",
       "      <td>1999</td>\n",
       "      <td>Medium</td>\n",
       "      <td>Tier 1</td>\n",
       "      <td>Supermarket Type1</td>\n",
       "      <td>3735.1380</td>\n",
       "    </tr>\n",
       "    <tr>\n",
       "      <th>1</th>\n",
       "      <td>DRC01</td>\n",
       "      <td>5.92</td>\n",
       "      <td>Regular</td>\n",
       "      <td>0.019278</td>\n",
       "      <td>Soft Drinks</td>\n",
       "      <td>48.2692</td>\n",
       "      <td>2009</td>\n",
       "      <td>Medium</td>\n",
       "      <td>Tier 3</td>\n",
       "      <td>Supermarket Type2</td>\n",
       "      <td>443.4228</td>\n",
       "    </tr>\n",
       "    <tr>\n",
       "      <th>2</th>\n",
       "      <td>FDN15</td>\n",
       "      <td>17.50</td>\n",
       "      <td>Low Fat</td>\n",
       "      <td>0.016760</td>\n",
       "      <td>Meat</td>\n",
       "      <td>141.6180</td>\n",
       "      <td>1999</td>\n",
       "      <td>Medium</td>\n",
       "      <td>Tier 1</td>\n",
       "      <td>Supermarket Type1</td>\n",
       "      <td>2097.2700</td>\n",
       "    </tr>\n",
       "    <tr>\n",
       "      <th>3</th>\n",
       "      <td>FDX07</td>\n",
       "      <td>19.20</td>\n",
       "      <td>Regular</td>\n",
       "      <td>0.000000</td>\n",
       "      <td>Fruits and Vegetables</td>\n",
       "      <td>182.0950</td>\n",
       "      <td>1998</td>\n",
       "      <td>NaN</td>\n",
       "      <td>Tier 3</td>\n",
       "      <td>Grocery Store</td>\n",
       "      <td>732.3800</td>\n",
       "    </tr>\n",
       "    <tr>\n",
       "      <th>4</th>\n",
       "      <td>NCD19</td>\n",
       "      <td>8.93</td>\n",
       "      <td>Low Fat</td>\n",
       "      <td>0.000000</td>\n",
       "      <td>Household</td>\n",
       "      <td>53.8614</td>\n",
       "      <td>1987</td>\n",
       "      <td>High</td>\n",
       "      <td>Tier 3</td>\n",
       "      <td>Supermarket Type1</td>\n",
       "      <td>994.7052</td>\n",
       "    </tr>\n",
       "  </tbody>\n",
       "</table>\n",
       "</div>"
      ],
      "text/plain": [
       "  Product_Identifier  Product_Weight Product_Fat_Content  Product_Visibility  \\\n",
       "0              FDA15            9.30             Low Fat            0.016047   \n",
       "1              DRC01            5.92             Regular            0.019278   \n",
       "2              FDN15           17.50             Low Fat            0.016760   \n",
       "3              FDX07           19.20             Regular            0.000000   \n",
       "4              NCD19            8.93             Low Fat            0.000000   \n",
       "\n",
       "            Product_Type  Product_MRP  Outlet_Establishment_Year Outlet_Size  \\\n",
       "0                  Dairy     249.8092                       1999      Medium   \n",
       "1            Soft Drinks      48.2692                       2009      Medium   \n",
       "2                   Meat     141.6180                       1999      Medium   \n",
       "3  Fruits and Vegetables     182.0950                       1998         NaN   \n",
       "4              Household      53.8614                       1987        High   \n",
       "\n",
       "  Outlet_Location_Type        Outlet_Type  Product_Outlet_Sales  \n",
       "0               Tier 1  Supermarket Type1             3735.1380  \n",
       "1               Tier 3  Supermarket Type2              443.4228  \n",
       "2               Tier 1  Supermarket Type1             2097.2700  \n",
       "3               Tier 3      Grocery Store              732.3800  \n",
       "4               Tier 3  Supermarket Type1              994.7052  "
      ]
     },
     "execution_count": 129,
     "metadata": {},
     "output_type": "execute_result"
    }
   ],
   "source": [
    "df.head()"
   ]
  },
  {
   "cell_type": "code",
   "execution_count": 130,
   "metadata": {},
   "outputs": [
    {
     "data": {
      "text/html": [
       "<div>\n",
       "<style scoped>\n",
       "    .dataframe tbody tr th:only-of-type {\n",
       "        vertical-align: middle;\n",
       "    }\n",
       "\n",
       "    .dataframe tbody tr th {\n",
       "        vertical-align: top;\n",
       "    }\n",
       "\n",
       "    .dataframe thead th {\n",
       "        text-align: right;\n",
       "    }\n",
       "</style>\n",
       "<table border=\"1\" class=\"dataframe\">\n",
       "  <thead>\n",
       "    <tr style=\"text-align: right;\">\n",
       "      <th></th>\n",
       "      <th>Product_Weight</th>\n",
       "      <th>Product_Visibility</th>\n",
       "      <th>Product_MRP</th>\n",
       "      <th>Outlet_Establishment_Year</th>\n",
       "      <th>Product_Outlet_Sales</th>\n",
       "    </tr>\n",
       "  </thead>\n",
       "  <tbody>\n",
       "    <tr>\n",
       "      <th>count</th>\n",
       "      <td>7060.000000</td>\n",
       "      <td>8523.000000</td>\n",
       "      <td>8523.000000</td>\n",
       "      <td>8523.000000</td>\n",
       "      <td>8523.000000</td>\n",
       "    </tr>\n",
       "    <tr>\n",
       "      <th>mean</th>\n",
       "      <td>12.857645</td>\n",
       "      <td>0.066132</td>\n",
       "      <td>140.992782</td>\n",
       "      <td>1997.831867</td>\n",
       "      <td>2181.288914</td>\n",
       "    </tr>\n",
       "    <tr>\n",
       "      <th>std</th>\n",
       "      <td>4.643456</td>\n",
       "      <td>0.051598</td>\n",
       "      <td>62.275067</td>\n",
       "      <td>8.371760</td>\n",
       "      <td>1706.499616</td>\n",
       "    </tr>\n",
       "    <tr>\n",
       "      <th>min</th>\n",
       "      <td>4.555000</td>\n",
       "      <td>0.000000</td>\n",
       "      <td>31.290000</td>\n",
       "      <td>1985.000000</td>\n",
       "      <td>33.290000</td>\n",
       "    </tr>\n",
       "    <tr>\n",
       "      <th>25%</th>\n",
       "      <td>8.773750</td>\n",
       "      <td>0.026989</td>\n",
       "      <td>93.826500</td>\n",
       "      <td>1987.000000</td>\n",
       "      <td>834.247400</td>\n",
       "    </tr>\n",
       "    <tr>\n",
       "      <th>50%</th>\n",
       "      <td>12.600000</td>\n",
       "      <td>0.053931</td>\n",
       "      <td>143.012800</td>\n",
       "      <td>1999.000000</td>\n",
       "      <td>1794.331000</td>\n",
       "    </tr>\n",
       "    <tr>\n",
       "      <th>75%</th>\n",
       "      <td>16.850000</td>\n",
       "      <td>0.094585</td>\n",
       "      <td>185.643700</td>\n",
       "      <td>2004.000000</td>\n",
       "      <td>3101.296400</td>\n",
       "    </tr>\n",
       "    <tr>\n",
       "      <th>max</th>\n",
       "      <td>21.350000</td>\n",
       "      <td>0.328391</td>\n",
       "      <td>266.888400</td>\n",
       "      <td>2009.000000</td>\n",
       "      <td>13086.964800</td>\n",
       "    </tr>\n",
       "  </tbody>\n",
       "</table>\n",
       "</div>"
      ],
      "text/plain": [
       "       Product_Weight  Product_Visibility  Product_MRP  \\\n",
       "count     7060.000000         8523.000000  8523.000000   \n",
       "mean        12.857645            0.066132   140.992782   \n",
       "std          4.643456            0.051598    62.275067   \n",
       "min          4.555000            0.000000    31.290000   \n",
       "25%          8.773750            0.026989    93.826500   \n",
       "50%         12.600000            0.053931   143.012800   \n",
       "75%         16.850000            0.094585   185.643700   \n",
       "max         21.350000            0.328391   266.888400   \n",
       "\n",
       "       Outlet_Establishment_Year  Product_Outlet_Sales  \n",
       "count                8523.000000           8523.000000  \n",
       "mean                 1997.831867           2181.288914  \n",
       "std                     8.371760           1706.499616  \n",
       "min                  1985.000000             33.290000  \n",
       "25%                  1987.000000            834.247400  \n",
       "50%                  1999.000000           1794.331000  \n",
       "75%                  2004.000000           3101.296400  \n",
       "max                  2009.000000          13086.964800  "
      ]
     },
     "execution_count": 130,
     "metadata": {},
     "output_type": "execute_result"
    }
   ],
   "source": [
    "df.describe()"
   ]
  },
  {
   "cell_type": "code",
   "execution_count": 131,
   "metadata": {},
   "outputs": [
    {
     "data": {
      "text/plain": [
       "Product_Identifier              0\n",
       "Product_Weight               1463\n",
       "Product_Fat_Content             0\n",
       "Product_Visibility              0\n",
       "Product_Type                    0\n",
       "Product_MRP                     0\n",
       "Outlet_Establishment_Year       0\n",
       "Outlet_Size                  2410\n",
       "Outlet_Location_Type            0\n",
       "Outlet_Type                     0\n",
       "Product_Outlet_Sales            0\n",
       "dtype: int64"
      ]
     },
     "execution_count": 131,
     "metadata": {},
     "output_type": "execute_result"
    }
   ],
   "source": [
    "df.isna().sum()"
   ]
  },
  {
   "cell_type": "code",
   "execution_count": 132,
   "metadata": {},
   "outputs": [],
   "source": [
    "mean = df['Product_Weight'].mean() \n",
    "df['Product_Weight'].fillna(mean, inplace =True)"
   ]
  },
  {
   "cell_type": "code",
   "execution_count": 133,
   "metadata": {},
   "outputs": [
    {
     "data": {
      "text/plain": [
       "Product_Identifier              0\n",
       "Product_Weight                  0\n",
       "Product_Fat_Content             0\n",
       "Product_Visibility              0\n",
       "Product_Type                    0\n",
       "Product_MRP                     0\n",
       "Outlet_Establishment_Year       0\n",
       "Outlet_Size                  2410\n",
       "Outlet_Location_Type            0\n",
       "Outlet_Type                     0\n",
       "Product_Outlet_Sales            0\n",
       "dtype: int64"
      ]
     },
     "execution_count": 133,
     "metadata": {},
     "output_type": "execute_result"
    }
   ],
   "source": [
    "df.isna().sum()"
   ]
  },
  {
   "cell_type": "code",
   "execution_count": 134,
   "metadata": {},
   "outputs": [],
   "source": [
    "df = df.dropna()"
   ]
  },
  {
   "cell_type": "code",
   "execution_count": 135,
   "metadata": {},
   "outputs": [
    {
     "data": {
      "text/plain": [
       "Product_Identifier           0\n",
       "Product_Weight               0\n",
       "Product_Fat_Content          0\n",
       "Product_Visibility           0\n",
       "Product_Type                 0\n",
       "Product_MRP                  0\n",
       "Outlet_Establishment_Year    0\n",
       "Outlet_Size                  0\n",
       "Outlet_Location_Type         0\n",
       "Outlet_Type                  0\n",
       "Product_Outlet_Sales         0\n",
       "dtype: int64"
      ]
     },
     "execution_count": 135,
     "metadata": {},
     "output_type": "execute_result"
    }
   ],
   "source": [
    "df.isna().sum()"
   ]
  },
  {
   "cell_type": "code",
   "execution_count": 136,
   "metadata": {},
   "outputs": [
    {
     "data": {
      "text/html": [
       "<div>\n",
       "<style scoped>\n",
       "    .dataframe tbody tr th:only-of-type {\n",
       "        vertical-align: middle;\n",
       "    }\n",
       "\n",
       "    .dataframe tbody tr th {\n",
       "        vertical-align: top;\n",
       "    }\n",
       "\n",
       "    .dataframe thead th {\n",
       "        text-align: right;\n",
       "    }\n",
       "</style>\n",
       "<table border=\"1\" class=\"dataframe\">\n",
       "  <thead>\n",
       "    <tr style=\"text-align: right;\">\n",
       "      <th></th>\n",
       "      <th>Product_Weight</th>\n",
       "      <th>Product_Visibility</th>\n",
       "      <th>Product_MRP</th>\n",
       "      <th>Outlet_Establishment_Year</th>\n",
       "      <th>Product_Outlet_Sales</th>\n",
       "    </tr>\n",
       "  </thead>\n",
       "  <tbody>\n",
       "    <tr>\n",
       "      <th>count</th>\n",
       "      <td>6113.000000</td>\n",
       "      <td>6113.000000</td>\n",
       "      <td>6113.000000</td>\n",
       "      <td>6113.000000</td>\n",
       "      <td>6113.000000</td>\n",
       "    </tr>\n",
       "    <tr>\n",
       "      <th>mean</th>\n",
       "      <td>12.888856</td>\n",
       "      <td>0.064505</td>\n",
       "      <td>141.256859</td>\n",
       "      <td>1995.794373</td>\n",
       "      <td>2322.688445</td>\n",
       "    </tr>\n",
       "    <tr>\n",
       "      <th>std</th>\n",
       "      <td>4.073798</td>\n",
       "      <td>0.050092</td>\n",
       "      <td>62.229701</td>\n",
       "      <td>8.842615</td>\n",
       "      <td>1741.592093</td>\n",
       "    </tr>\n",
       "    <tr>\n",
       "      <th>min</th>\n",
       "      <td>4.555000</td>\n",
       "      <td>0.000000</td>\n",
       "      <td>31.290000</td>\n",
       "      <td>1985.000000</td>\n",
       "      <td>33.955800</td>\n",
       "    </tr>\n",
       "    <tr>\n",
       "      <th>25%</th>\n",
       "      <td>9.800000</td>\n",
       "      <td>0.026681</td>\n",
       "      <td>94.012000</td>\n",
       "      <td>1987.000000</td>\n",
       "      <td>974.731200</td>\n",
       "    </tr>\n",
       "    <tr>\n",
       "      <th>50%</th>\n",
       "      <td>12.857645</td>\n",
       "      <td>0.052811</td>\n",
       "      <td>143.178600</td>\n",
       "      <td>1997.000000</td>\n",
       "      <td>1928.156800</td>\n",
       "    </tr>\n",
       "    <tr>\n",
       "      <th>75%</th>\n",
       "      <td>15.700000</td>\n",
       "      <td>0.092834</td>\n",
       "      <td>185.892400</td>\n",
       "      <td>2004.000000</td>\n",
       "      <td>3271.075400</td>\n",
       "    </tr>\n",
       "    <tr>\n",
       "      <th>max</th>\n",
       "      <td>21.350000</td>\n",
       "      <td>0.328391</td>\n",
       "      <td>266.888400</td>\n",
       "      <td>2009.000000</td>\n",
       "      <td>13086.964800</td>\n",
       "    </tr>\n",
       "  </tbody>\n",
       "</table>\n",
       "</div>"
      ],
      "text/plain": [
       "       Product_Weight  Product_Visibility  Product_MRP  \\\n",
       "count     6113.000000         6113.000000  6113.000000   \n",
       "mean        12.888856            0.064505   141.256859   \n",
       "std          4.073798            0.050092    62.229701   \n",
       "min          4.555000            0.000000    31.290000   \n",
       "25%          9.800000            0.026681    94.012000   \n",
       "50%         12.857645            0.052811   143.178600   \n",
       "75%         15.700000            0.092834   185.892400   \n",
       "max         21.350000            0.328391   266.888400   \n",
       "\n",
       "       Outlet_Establishment_Year  Product_Outlet_Sales  \n",
       "count                6113.000000           6113.000000  \n",
       "mean                 1995.794373           2322.688445  \n",
       "std                     8.842615           1741.592093  \n",
       "min                  1985.000000             33.955800  \n",
       "25%                  1987.000000            974.731200  \n",
       "50%                  1997.000000           1928.156800  \n",
       "75%                  2004.000000           3271.075400  \n",
       "max                  2009.000000          13086.964800  "
      ]
     },
     "execution_count": 136,
     "metadata": {},
     "output_type": "execute_result"
    }
   ],
   "source": [
    "df.describe()"
   ]
  },
  {
   "cell_type": "code",
   "execution_count": 138,
   "metadata": {},
   "outputs": [],
   "source": [
    "X = df.drop(['Product_Identifier', 'Product_Outlet_Sales'], axis=1)\n",
    "X_x = pd.get_dummies(X)"
   ]
  },
  {
   "cell_type": "code",
   "execution_count": 139,
   "metadata": {},
   "outputs": [
    {
     "data": {
      "text/html": [
       "<div>\n",
       "<style scoped>\n",
       "    .dataframe tbody tr th:only-of-type {\n",
       "        vertical-align: middle;\n",
       "    }\n",
       "\n",
       "    .dataframe tbody tr th {\n",
       "        vertical-align: top;\n",
       "    }\n",
       "\n",
       "    .dataframe thead th {\n",
       "        text-align: right;\n",
       "    }\n",
       "</style>\n",
       "<table border=\"1\" class=\"dataframe\">\n",
       "  <thead>\n",
       "    <tr style=\"text-align: right;\">\n",
       "      <th></th>\n",
       "      <th>Product_Weight</th>\n",
       "      <th>Product_Visibility</th>\n",
       "      <th>Product_MRP</th>\n",
       "      <th>Outlet_Establishment_Year</th>\n",
       "      <th>Product_Fat_Content_LF</th>\n",
       "      <th>Product_Fat_Content_Low Fat</th>\n",
       "      <th>Product_Fat_Content_Regular</th>\n",
       "      <th>Product_Fat_Content_low fat</th>\n",
       "      <th>Product_Fat_Content_reg</th>\n",
       "      <th>Product_Type_Baking Goods</th>\n",
       "      <th>...</th>\n",
       "      <th>Outlet_Size_High</th>\n",
       "      <th>Outlet_Size_Medium</th>\n",
       "      <th>Outlet_Size_Small</th>\n",
       "      <th>Outlet_Location_Type_Tier 1</th>\n",
       "      <th>Outlet_Location_Type_Tier 2</th>\n",
       "      <th>Outlet_Location_Type_Tier 3</th>\n",
       "      <th>Outlet_Type_Grocery Store</th>\n",
       "      <th>Outlet_Type_Supermarket Type1</th>\n",
       "      <th>Outlet_Type_Supermarket Type2</th>\n",
       "      <th>Outlet_Type_Supermarket Type3</th>\n",
       "    </tr>\n",
       "  </thead>\n",
       "  <tbody>\n",
       "    <tr>\n",
       "      <th>0</th>\n",
       "      <td>9.30</td>\n",
       "      <td>0.016047</td>\n",
       "      <td>249.8092</td>\n",
       "      <td>1999</td>\n",
       "      <td>0</td>\n",
       "      <td>1</td>\n",
       "      <td>0</td>\n",
       "      <td>0</td>\n",
       "      <td>0</td>\n",
       "      <td>0</td>\n",
       "      <td>...</td>\n",
       "      <td>0</td>\n",
       "      <td>1</td>\n",
       "      <td>0</td>\n",
       "      <td>1</td>\n",
       "      <td>0</td>\n",
       "      <td>0</td>\n",
       "      <td>0</td>\n",
       "      <td>1</td>\n",
       "      <td>0</td>\n",
       "      <td>0</td>\n",
       "    </tr>\n",
       "    <tr>\n",
       "      <th>1</th>\n",
       "      <td>5.92</td>\n",
       "      <td>0.019278</td>\n",
       "      <td>48.2692</td>\n",
       "      <td>2009</td>\n",
       "      <td>0</td>\n",
       "      <td>0</td>\n",
       "      <td>1</td>\n",
       "      <td>0</td>\n",
       "      <td>0</td>\n",
       "      <td>0</td>\n",
       "      <td>...</td>\n",
       "      <td>0</td>\n",
       "      <td>1</td>\n",
       "      <td>0</td>\n",
       "      <td>0</td>\n",
       "      <td>0</td>\n",
       "      <td>1</td>\n",
       "      <td>0</td>\n",
       "      <td>0</td>\n",
       "      <td>1</td>\n",
       "      <td>0</td>\n",
       "    </tr>\n",
       "    <tr>\n",
       "      <th>2</th>\n",
       "      <td>17.50</td>\n",
       "      <td>0.016760</td>\n",
       "      <td>141.6180</td>\n",
       "      <td>1999</td>\n",
       "      <td>0</td>\n",
       "      <td>1</td>\n",
       "      <td>0</td>\n",
       "      <td>0</td>\n",
       "      <td>0</td>\n",
       "      <td>0</td>\n",
       "      <td>...</td>\n",
       "      <td>0</td>\n",
       "      <td>1</td>\n",
       "      <td>0</td>\n",
       "      <td>1</td>\n",
       "      <td>0</td>\n",
       "      <td>0</td>\n",
       "      <td>0</td>\n",
       "      <td>1</td>\n",
       "      <td>0</td>\n",
       "      <td>0</td>\n",
       "    </tr>\n",
       "    <tr>\n",
       "      <th>4</th>\n",
       "      <td>8.93</td>\n",
       "      <td>0.000000</td>\n",
       "      <td>53.8614</td>\n",
       "      <td>1987</td>\n",
       "      <td>0</td>\n",
       "      <td>1</td>\n",
       "      <td>0</td>\n",
       "      <td>0</td>\n",
       "      <td>0</td>\n",
       "      <td>0</td>\n",
       "      <td>...</td>\n",
       "      <td>1</td>\n",
       "      <td>0</td>\n",
       "      <td>0</td>\n",
       "      <td>0</td>\n",
       "      <td>0</td>\n",
       "      <td>1</td>\n",
       "      <td>0</td>\n",
       "      <td>1</td>\n",
       "      <td>0</td>\n",
       "      <td>0</td>\n",
       "    </tr>\n",
       "  </tbody>\n",
       "</table>\n",
       "<p>4 rows × 35 columns</p>\n",
       "</div>"
      ],
      "text/plain": [
       "   Product_Weight  Product_Visibility  Product_MRP  Outlet_Establishment_Year  \\\n",
       "0            9.30            0.016047     249.8092                       1999   \n",
       "1            5.92            0.019278      48.2692                       2009   \n",
       "2           17.50            0.016760     141.6180                       1999   \n",
       "4            8.93            0.000000      53.8614                       1987   \n",
       "\n",
       "   Product_Fat_Content_LF  Product_Fat_Content_Low Fat  \\\n",
       "0                       0                            1   \n",
       "1                       0                            0   \n",
       "2                       0                            1   \n",
       "4                       0                            1   \n",
       "\n",
       "   Product_Fat_Content_Regular  Product_Fat_Content_low fat  \\\n",
       "0                            0                            0   \n",
       "1                            1                            0   \n",
       "2                            0                            0   \n",
       "4                            0                            0   \n",
       "\n",
       "   Product_Fat_Content_reg  Product_Type_Baking Goods  ...  Outlet_Size_High  \\\n",
       "0                        0                          0  ...                 0   \n",
       "1                        0                          0  ...                 0   \n",
       "2                        0                          0  ...                 0   \n",
       "4                        0                          0  ...                 1   \n",
       "\n",
       "   Outlet_Size_Medium  Outlet_Size_Small  Outlet_Location_Type_Tier 1  \\\n",
       "0                   1                  0                            1   \n",
       "1                   1                  0                            0   \n",
       "2                   1                  0                            1   \n",
       "4                   0                  0                            0   \n",
       "\n",
       "   Outlet_Location_Type_Tier 2  Outlet_Location_Type_Tier 3  \\\n",
       "0                            0                            0   \n",
       "1                            0                            1   \n",
       "2                            0                            0   \n",
       "4                            0                            1   \n",
       "\n",
       "   Outlet_Type_Grocery Store  Outlet_Type_Supermarket Type1  \\\n",
       "0                          0                              1   \n",
       "1                          0                              0   \n",
       "2                          0                              1   \n",
       "4                          0                              1   \n",
       "\n",
       "   Outlet_Type_Supermarket Type2  Outlet_Type_Supermarket Type3  \n",
       "0                              0                              0  \n",
       "1                              1                              0  \n",
       "2                              0                              0  \n",
       "4                              0                              0  \n",
       "\n",
       "[4 rows x 35 columns]"
      ]
     },
     "execution_count": 139,
     "metadata": {},
     "output_type": "execute_result"
    }
   ],
   "source": [
    "X_x.head(4)"
   ]
  },
  {
   "cell_type": "code",
   "execution_count": 140,
   "metadata": {},
   "outputs": [],
   "source": [
    "y = df['Product_Outlet_Sales']"
   ]
  },
  {
   "cell_type": "markdown",
   "metadata": {},
   "source": [
    "### Model 1 with all features"
   ]
  },
  {
   "cell_type": "code",
   "execution_count": 141,
   "metadata": {},
   "outputs": [],
   "source": [
    "from sklearn.model_selection import train_test_split\n",
    "X_train, X_test, y_train, y_test = train_test_split(X_x,y, test_size = 0.3, random_state = 100)"
   ]
  },
  {
   "cell_type": "code",
   "execution_count": 142,
   "metadata": {},
   "outputs": [],
   "source": [
    "from sklearn.preprocessing import StandardScaler\n",
    "sc = StandardScaler()\n",
    "X_train = sc.fit_transform(X_train)\n",
    "X_test = sc.transform(X_test)"
   ]
  },
  {
   "cell_type": "code",
   "execution_count": 143,
   "metadata": {},
   "outputs": [
    {
     "data": {
      "text/plain": [
       "KNeighborsRegressor(n_neighbors=1)"
      ]
     },
     "execution_count": 143,
     "metadata": {},
     "output_type": "execute_result"
    }
   ],
   "source": [
    "from sklearn.neighbors import KNeighborsRegressor\n",
    "knn = KNeighborsRegressor(n_neighbors = 1)\n",
    "knn.fit(X_train, y_train)"
   ]
  },
  {
   "cell_type": "code",
   "execution_count": 144,
   "metadata": {},
   "outputs": [],
   "source": [
    "predictions = knn.predict(X_test)"
   ]
  },
  {
   "cell_type": "code",
   "execution_count": 145,
   "metadata": {},
   "outputs": [],
   "source": [
    "from sklearn import metrics"
   ]
  },
  {
   "cell_type": "code",
   "execution_count": 146,
   "metadata": {},
   "outputs": [
    {
     "name": "stdout",
     "output_type": "stream",
     "text": [
      "Mean Absolute Error (MAE): 1212.6824567066521\n",
      "Mean Squared Error (MSE): 2856341.607232123\n",
      "Root Mean Squared Error (RMSE): 1690.0714799179718\n"
     ]
    }
   ],
   "source": [
    "print('Mean Absolute Error (MAE):', metrics.mean_absolute_error(y_test, predictions))  \n",
    "print('Mean Squared Error (MSE):', metrics.mean_squared_error(y_test, predictions))  \n",
    "print('Root Mean Squared Error (RMSE):', np.sqrt(metrics.mean_squared_error(y_test, predictions)))"
   ]
  },
  {
   "cell_type": "code",
   "execution_count": 147,
   "metadata": {
    "tags": []
   },
   "outputs": [
    {
     "name": "stdout",
     "output_type": "stream",
     "text": [
      "Fitting 5 folds for each of 49 candidates, totalling 245 fits\n",
      "[CV 1/5] END .....................n_neighbors=1;, score=0.028 total time=   0.0s\n",
      "[CV 2/5] END .....................n_neighbors=1;, score=0.022 total time=   0.0s\n",
      "[CV 3/5] END .....................n_neighbors=1;, score=0.143 total time=   0.0s\n",
      "[CV 4/5] END .....................n_neighbors=1;, score=0.104 total time=   0.0s\n",
      "[CV 5/5] END .....................n_neighbors=1;, score=0.016 total time=   0.0s\n",
      "[CV 1/5] END .....................n_neighbors=2;, score=0.233 total time=   0.0s\n",
      "[CV 2/5] END .....................n_neighbors=2;, score=0.312 total time=   0.0s\n",
      "[CV 3/5] END .....................n_neighbors=2;, score=0.349 total time=   0.0s\n",
      "[CV 4/5] END .....................n_neighbors=2;, score=0.330 total time=   0.0s\n",
      "[CV 5/5] END .....................n_neighbors=2;, score=0.300 total time=   0.0s\n",
      "[CV 1/5] END .....................n_neighbors=3;, score=0.305 total time=   0.0s\n",
      "[CV 2/5] END .....................n_neighbors=3;, score=0.358 total time=   0.0s\n",
      "[CV 3/5] END .....................n_neighbors=3;, score=0.396 total time=   0.0s\n",
      "[CV 4/5] END .....................n_neighbors=3;, score=0.389 total time=   0.0s\n",
      "[CV 5/5] END .....................n_neighbors=3;, score=0.371 total time=   0.0s\n",
      "[CV 1/5] END .....................n_neighbors=4;, score=0.337 total time=   0.0s\n",
      "[CV 2/5] END .....................n_neighbors=4;, score=0.387 total time=   0.0s\n",
      "[CV 3/5] END .....................n_neighbors=4;, score=0.401 total time=   0.0s\n",
      "[CV 4/5] END .....................n_neighbors=4;, score=0.408 total time=   0.0s\n",
      "[CV 5/5] END .....................n_neighbors=4;, score=0.407 total time=   0.0s\n",
      "[CV 1/5] END .....................n_neighbors=5;, score=0.340 total time=   0.0s\n",
      "[CV 2/5] END .....................n_neighbors=5;, score=0.384 total time=   0.0s\n",
      "[CV 3/5] END .....................n_neighbors=5;, score=0.416 total time=   0.0s\n",
      "[CV 4/5] END .....................n_neighbors=5;, score=0.421 total time=   0.0s\n",
      "[CV 5/5] END .....................n_neighbors=5;, score=0.431 total time=   0.0s\n",
      "[CV 1/5] END .....................n_neighbors=6;, score=0.343 total time=   0.0s\n",
      "[CV 2/5] END .....................n_neighbors=6;, score=0.389 total time=   0.0s\n",
      "[CV 3/5] END .....................n_neighbors=6;, score=0.417 total time=   0.0s\n",
      "[CV 4/5] END .....................n_neighbors=6;, score=0.437 total time=   0.0s\n",
      "[CV 5/5] END .....................n_neighbors=6;, score=0.427 total time=   0.0s\n",
      "[CV 1/5] END .....................n_neighbors=7;, score=0.344 total time=   0.0s\n",
      "[CV 2/5] END .....................n_neighbors=7;, score=0.384 total time=   0.0s\n",
      "[CV 3/5] END .....................n_neighbors=7;, score=0.412 total time=   0.0s\n",
      "[CV 4/5] END .....................n_neighbors=7;, score=0.432 total time=   0.0s\n",
      "[CV 5/5] END .....................n_neighbors=7;, score=0.426 total time=   0.0s\n",
      "[CV 1/5] END .....................n_neighbors=8;, score=0.342 total time=   0.0s\n",
      "[CV 2/5] END .....................n_neighbors=8;, score=0.380 total time=   0.0s\n",
      "[CV 3/5] END .....................n_neighbors=8;, score=0.419 total time=   0.0s\n",
      "[CV 4/5] END .....................n_neighbors=8;, score=0.421 total time=   0.0s\n",
      "[CV 5/5] END .....................n_neighbors=8;, score=0.420 total time=   0.0s\n",
      "[CV 1/5] END .....................n_neighbors=9;, score=0.336 total time=   0.0s\n",
      "[CV 2/5] END .....................n_neighbors=9;, score=0.379 total time=   0.0s\n",
      "[CV 3/5] END .....................n_neighbors=9;, score=0.420 total time=   0.0s\n",
      "[CV 4/5] END .....................n_neighbors=9;, score=0.416 total time=   0.0s\n",
      "[CV 5/5] END .....................n_neighbors=9;, score=0.413 total time=   0.0s\n",
      "[CV 1/5] END ....................n_neighbors=10;, score=0.341 total time=   0.0s\n",
      "[CV 2/5] END ....................n_neighbors=10;, score=0.375 total time=   0.0s\n",
      "[CV 3/5] END ....................n_neighbors=10;, score=0.415 total time=   0.0s\n",
      "[CV 4/5] END ....................n_neighbors=10;, score=0.411 total time=   0.0s\n",
      "[CV 5/5] END ....................n_neighbors=10;, score=0.399 total time=   0.0s\n",
      "[CV 1/5] END ....................n_neighbors=11;, score=0.342 total time=   0.0s\n",
      "[CV 2/5] END ....................n_neighbors=11;, score=0.377 total time=   0.0s\n",
      "[CV 3/5] END ....................n_neighbors=11;, score=0.408 total time=   0.0s\n",
      "[CV 4/5] END ....................n_neighbors=11;, score=0.402 total time=   0.0s\n",
      "[CV 5/5] END ....................n_neighbors=11;, score=0.391 total time=   0.0s\n",
      "[CV 1/5] END ....................n_neighbors=12;, score=0.338 total time=   0.0s\n",
      "[CV 2/5] END ....................n_neighbors=12;, score=0.374 total time=   0.0s\n",
      "[CV 3/5] END ....................n_neighbors=12;, score=0.406 total time=   0.0s\n",
      "[CV 4/5] END ....................n_neighbors=12;, score=0.400 total time=   0.0s\n",
      "[CV 5/5] END ....................n_neighbors=12;, score=0.386 total time=   0.0s\n",
      "[CV 1/5] END ....................n_neighbors=13;, score=0.344 total time=   0.0s\n",
      "[CV 2/5] END ....................n_neighbors=13;, score=0.377 total time=   0.0s\n",
      "[CV 3/5] END ....................n_neighbors=13;, score=0.403 total time=   0.0s\n",
      "[CV 4/5] END ....................n_neighbors=13;, score=0.399 total time=   0.0s\n",
      "[CV 5/5] END ....................n_neighbors=13;, score=0.380 total time=   0.0s\n",
      "[CV 1/5] END ....................n_neighbors=14;, score=0.337 total time=   0.0s\n",
      "[CV 2/5] END ....................n_neighbors=14;, score=0.372 total time=   0.0s\n",
      "[CV 3/5] END ....................n_neighbors=14;, score=0.398 total time=   0.0s\n",
      "[CV 4/5] END ....................n_neighbors=14;, score=0.399 total time=   0.0s\n",
      "[CV 5/5] END ....................n_neighbors=14;, score=0.379 total time=   0.0s\n",
      "[CV 1/5] END ....................n_neighbors=15;, score=0.327 total time=   0.0s\n",
      "[CV 2/5] END ....................n_neighbors=15;, score=0.368 total time=   0.0s\n",
      "[CV 3/5] END ....................n_neighbors=15;, score=0.393 total time=   0.0s\n",
      "[CV 4/5] END ....................n_neighbors=15;, score=0.396 total time=   0.0s\n",
      "[CV 5/5] END ....................n_neighbors=15;, score=0.375 total time=   0.0s\n",
      "[CV 1/5] END ....................n_neighbors=16;, score=0.321 total time=   0.0s\n",
      "[CV 2/5] END ....................n_neighbors=16;, score=0.359 total time=   0.0s\n",
      "[CV 3/5] END ....................n_neighbors=16;, score=0.385 total time=   0.0s\n",
      "[CV 4/5] END ....................n_neighbors=16;, score=0.393 total time=   0.0s\n",
      "[CV 5/5] END ....................n_neighbors=16;, score=0.372 total time=   0.0s\n",
      "[CV 1/5] END ....................n_neighbors=17;, score=0.319 total time=   0.0s\n",
      "[CV 2/5] END ....................n_neighbors=17;, score=0.350 total time=   0.0s\n",
      "[CV 3/5] END ....................n_neighbors=17;, score=0.380 total time=   0.0s\n",
      "[CV 4/5] END ....................n_neighbors=17;, score=0.387 total time=   0.0s\n",
      "[CV 5/5] END ....................n_neighbors=17;, score=0.366 total time=   0.0s\n",
      "[CV 1/5] END ....................n_neighbors=18;, score=0.319 total time=   0.0s\n",
      "[CV 2/5] END ....................n_neighbors=18;, score=0.343 total time=   0.0s\n",
      "[CV 3/5] END ....................n_neighbors=18;, score=0.380 total time=   0.0s\n",
      "[CV 4/5] END ....................n_neighbors=18;, score=0.381 total time=   0.0s\n",
      "[CV 5/5] END ....................n_neighbors=18;, score=0.360 total time=   0.0s\n",
      "[CV 1/5] END ....................n_neighbors=19;, score=0.311 total time=   0.0s\n",
      "[CV 2/5] END ....................n_neighbors=19;, score=0.335 total time=   0.0s\n",
      "[CV 3/5] END ....................n_neighbors=19;, score=0.380 total time=   0.0s\n",
      "[CV 4/5] END ....................n_neighbors=19;, score=0.377 total time=   0.0s\n",
      "[CV 5/5] END ....................n_neighbors=19;, score=0.357 total time=   0.0s\n",
      "[CV 1/5] END ....................n_neighbors=20;, score=0.308 total time=   0.0s\n",
      "[CV 2/5] END ....................n_neighbors=20;, score=0.331 total time=   0.0s\n",
      "[CV 3/5] END ....................n_neighbors=20;, score=0.378 total time=   0.0s\n",
      "[CV 4/5] END ....................n_neighbors=20;, score=0.371 total time=   0.0s\n",
      "[CV 5/5] END ....................n_neighbors=20;, score=0.352 total time=   0.0s\n",
      "[CV 1/5] END ....................n_neighbors=21;, score=0.302 total time=   0.0s\n",
      "[CV 2/5] END ....................n_neighbors=21;, score=0.328 total time=   0.0s\n",
      "[CV 3/5] END ....................n_neighbors=21;, score=0.375 total time=   0.0s\n",
      "[CV 4/5] END ....................n_neighbors=21;, score=0.365 total time=   0.0s\n",
      "[CV 5/5] END ....................n_neighbors=21;, score=0.346 total time=   0.1s\n",
      "[CV 1/5] END ....................n_neighbors=22;, score=0.298 total time=   0.0s\n",
      "[CV 2/5] END ....................n_neighbors=22;, score=0.325 total time=   0.0s\n",
      "[CV 3/5] END ....................n_neighbors=22;, score=0.376 total time=   0.0s\n",
      "[CV 4/5] END ....................n_neighbors=22;, score=0.364 total time=   0.1s\n",
      "[CV 5/5] END ....................n_neighbors=22;, score=0.339 total time=   0.0s\n",
      "[CV 1/5] END ....................n_neighbors=23;, score=0.296 total time=   0.0s\n",
      "[CV 2/5] END ....................n_neighbors=23;, score=0.325 total time=   0.0s\n",
      "[CV 3/5] END ....................n_neighbors=23;, score=0.374 total time=   0.0s\n",
      "[CV 4/5] END ....................n_neighbors=23;, score=0.361 total time=   0.0s\n",
      "[CV 5/5] END ....................n_neighbors=23;, score=0.335 total time=   0.1s\n",
      "[CV 1/5] END ....................n_neighbors=24;, score=0.295 total time=   0.1s\n",
      "[CV 2/5] END ....................n_neighbors=24;, score=0.325 total time=   0.0s\n",
      "[CV 3/5] END ....................n_neighbors=24;, score=0.369 total time=   0.0s\n",
      "[CV 4/5] END ....................n_neighbors=24;, score=0.354 total time=   0.0s\n",
      "[CV 5/5] END ....................n_neighbors=24;, score=0.329 total time=   0.0s\n",
      "[CV 1/5] END ....................n_neighbors=25;, score=0.292 total time=   0.0s\n",
      "[CV 2/5] END ....................n_neighbors=25;, score=0.323 total time=   0.1s\n",
      "[CV 3/5] END ....................n_neighbors=25;, score=0.365 total time=   0.0s\n",
      "[CV 4/5] END ....................n_neighbors=25;, score=0.348 total time=   0.0s\n",
      "[CV 5/5] END ....................n_neighbors=25;, score=0.325 total time=   0.0s\n",
      "[CV 1/5] END ....................n_neighbors=26;, score=0.291 total time=   0.0s\n",
      "[CV 2/5] END ....................n_neighbors=26;, score=0.320 total time=   0.0s\n",
      "[CV 3/5] END ....................n_neighbors=26;, score=0.362 total time=   0.0s\n",
      "[CV 4/5] END ....................n_neighbors=26;, score=0.344 total time=   0.0s\n",
      "[CV 5/5] END ....................n_neighbors=26;, score=0.322 total time=   0.0s\n",
      "[CV 1/5] END ....................n_neighbors=27;, score=0.287 total time=   0.0s\n",
      "[CV 2/5] END ....................n_neighbors=27;, score=0.313 total time=   0.0s\n",
      "[CV 3/5] END ....................n_neighbors=27;, score=0.358 total time=   0.0s\n",
      "[CV 4/5] END ....................n_neighbors=27;, score=0.344 total time=   0.0s\n",
      "[CV 5/5] END ....................n_neighbors=27;, score=0.316 total time=   0.0s\n",
      "[CV 1/5] END ....................n_neighbors=28;, score=0.284 total time=   0.0s\n",
      "[CV 2/5] END ....................n_neighbors=28;, score=0.313 total time=   0.0s\n",
      "[CV 3/5] END ....................n_neighbors=28;, score=0.353 total time=   0.0s\n",
      "[CV 4/5] END ....................n_neighbors=28;, score=0.341 total time=   0.0s\n",
      "[CV 5/5] END ....................n_neighbors=28;, score=0.307 total time=   0.0s\n",
      "[CV 1/5] END ....................n_neighbors=29;, score=0.283 total time=   0.0s\n",
      "[CV 2/5] END ....................n_neighbors=29;, score=0.308 total time=   0.1s\n",
      "[CV 3/5] END ....................n_neighbors=29;, score=0.348 total time=   0.2s\n",
      "[CV 4/5] END ....................n_neighbors=29;, score=0.339 total time=   0.0s\n",
      "[CV 5/5] END ....................n_neighbors=29;, score=0.307 total time=   0.1s\n",
      "[CV 1/5] END ....................n_neighbors=30;, score=0.286 total time=   0.0s\n",
      "[CV 2/5] END ....................n_neighbors=30;, score=0.307 total time=   0.0s\n",
      "[CV 3/5] END ....................n_neighbors=30;, score=0.346 total time=   0.0s\n",
      "[CV 4/5] END ....................n_neighbors=30;, score=0.336 total time=   0.0s\n",
      "[CV 5/5] END ....................n_neighbors=30;, score=0.305 total time=   0.0s\n",
      "[CV 1/5] END ....................n_neighbors=31;, score=0.285 total time=   0.0s\n",
      "[CV 2/5] END ....................n_neighbors=31;, score=0.308 total time=   0.0s\n",
      "[CV 3/5] END ....................n_neighbors=31;, score=0.345 total time=   0.0s\n",
      "[CV 4/5] END ....................n_neighbors=31;, score=0.332 total time=   0.0s\n",
      "[CV 5/5] END ....................n_neighbors=31;, score=0.303 total time=   0.0s\n",
      "[CV 1/5] END ....................n_neighbors=32;, score=0.284 total time=   0.0s\n",
      "[CV 2/5] END ....................n_neighbors=32;, score=0.308 total time=   0.0s\n",
      "[CV 3/5] END ....................n_neighbors=32;, score=0.341 total time=   0.0s\n",
      "[CV 4/5] END ....................n_neighbors=32;, score=0.332 total time=   0.0s\n",
      "[CV 5/5] END ....................n_neighbors=32;, score=0.302 total time=   0.0s\n",
      "[CV 1/5] END ....................n_neighbors=33;, score=0.286 total time=   0.0s\n",
      "[CV 2/5] END ....................n_neighbors=33;, score=0.308 total time=   0.0s\n",
      "[CV 3/5] END ....................n_neighbors=33;, score=0.336 total time=   0.0s\n",
      "[CV 4/5] END ....................n_neighbors=33;, score=0.328 total time=   0.0s\n",
      "[CV 5/5] END ....................n_neighbors=33;, score=0.302 total time=   0.0s\n",
      "[CV 1/5] END ....................n_neighbors=34;, score=0.288 total time=   0.0s\n",
      "[CV 2/5] END ....................n_neighbors=34;, score=0.307 total time=   0.0s\n",
      "[CV 3/5] END ....................n_neighbors=34;, score=0.333 total time=   0.0s\n",
      "[CV 4/5] END ....................n_neighbors=34;, score=0.323 total time=   0.0s\n",
      "[CV 5/5] END ....................n_neighbors=34;, score=0.299 total time=   0.0s\n",
      "[CV 1/5] END ....................n_neighbors=35;, score=0.286 total time=   0.0s\n",
      "[CV 2/5] END ....................n_neighbors=35;, score=0.307 total time=   0.0s\n",
      "[CV 3/5] END ....................n_neighbors=35;, score=0.334 total time=   0.0s\n",
      "[CV 4/5] END ....................n_neighbors=35;, score=0.321 total time=   0.0s\n",
      "[CV 5/5] END ....................n_neighbors=35;, score=0.298 total time=   0.0s\n",
      "[CV 1/5] END ....................n_neighbors=36;, score=0.286 total time=   0.0s\n",
      "[CV 2/5] END ....................n_neighbors=36;, score=0.306 total time=   0.0s\n",
      "[CV 3/5] END ....................n_neighbors=36;, score=0.333 total time=   0.0s\n",
      "[CV 4/5] END ....................n_neighbors=36;, score=0.318 total time=   0.0s\n",
      "[CV 5/5] END ....................n_neighbors=36;, score=0.297 total time=   0.0s\n",
      "[CV 1/5] END ....................n_neighbors=37;, score=0.284 total time=   0.0s\n",
      "[CV 2/5] END ....................n_neighbors=37;, score=0.306 total time=   0.0s\n",
      "[CV 3/5] END ....................n_neighbors=37;, score=0.334 total time=   0.0s\n",
      "[CV 4/5] END ....................n_neighbors=37;, score=0.318 total time=   0.0s\n",
      "[CV 5/5] END ....................n_neighbors=37;, score=0.297 total time=   0.0s\n",
      "[CV 1/5] END ....................n_neighbors=38;, score=0.283 total time=   0.0s\n",
      "[CV 2/5] END ....................n_neighbors=38;, score=0.305 total time=   0.0s\n",
      "[CV 3/5] END ....................n_neighbors=38;, score=0.335 total time=   0.0s\n",
      "[CV 4/5] END ....................n_neighbors=38;, score=0.315 total time=   0.0s\n",
      "[CV 5/5] END ....................n_neighbors=38;, score=0.295 total time=   0.0s\n",
      "[CV 1/5] END ....................n_neighbors=39;, score=0.284 total time=   0.0s\n",
      "[CV 2/5] END ....................n_neighbors=39;, score=0.302 total time=   0.0s\n",
      "[CV 3/5] END ....................n_neighbors=39;, score=0.335 total time=   0.0s\n",
      "[CV 4/5] END ....................n_neighbors=39;, score=0.314 total time=   0.0s\n",
      "[CV 5/5] END ....................n_neighbors=39;, score=0.295 total time=   0.0s\n",
      "[CV 1/5] END ....................n_neighbors=40;, score=0.284 total time=   0.0s\n",
      "[CV 2/5] END ....................n_neighbors=40;, score=0.303 total time=   0.0s\n",
      "[CV 3/5] END ....................n_neighbors=40;, score=0.335 total time=   0.0s\n",
      "[CV 4/5] END ....................n_neighbors=40;, score=0.313 total time=   0.0s\n",
      "[CV 5/5] END ....................n_neighbors=40;, score=0.294 total time=   0.0s\n",
      "[CV 1/5] END ....................n_neighbors=41;, score=0.283 total time=   0.0s\n",
      "[CV 2/5] END ....................n_neighbors=41;, score=0.302 total time=   0.0s\n",
      "[CV 3/5] END ....................n_neighbors=41;, score=0.336 total time=   0.0s\n",
      "[CV 4/5] END ....................n_neighbors=41;, score=0.309 total time=   0.0s\n",
      "[CV 5/5] END ....................n_neighbors=41;, score=0.294 total time=   0.0s\n",
      "[CV 1/5] END ....................n_neighbors=42;, score=0.285 total time=   0.0s\n",
      "[CV 2/5] END ....................n_neighbors=42;, score=0.303 total time=   0.0s\n",
      "[CV 3/5] END ....................n_neighbors=42;, score=0.335 total time=   0.0s\n",
      "[CV 4/5] END ....................n_neighbors=42;, score=0.307 total time=   0.0s\n",
      "[CV 5/5] END ....................n_neighbors=42;, score=0.291 total time=   0.0s\n",
      "[CV 1/5] END ....................n_neighbors=43;, score=0.284 total time=   0.0s\n",
      "[CV 2/5] END ....................n_neighbors=43;, score=0.304 total time=   0.0s\n",
      "[CV 3/5] END ....................n_neighbors=43;, score=0.336 total time=   0.0s\n",
      "[CV 4/5] END ....................n_neighbors=43;, score=0.305 total time=   0.0s\n",
      "[CV 5/5] END ....................n_neighbors=43;, score=0.291 total time=   0.0s\n",
      "[CV 1/5] END ....................n_neighbors=44;, score=0.284 total time=   0.0s\n",
      "[CV 2/5] END ....................n_neighbors=44;, score=0.303 total time=   0.0s\n",
      "[CV 3/5] END ....................n_neighbors=44;, score=0.335 total time=   0.0s\n",
      "[CV 4/5] END ....................n_neighbors=44;, score=0.304 total time=   0.0s\n",
      "[CV 5/5] END ....................n_neighbors=44;, score=0.292 total time=   0.0s\n",
      "[CV 1/5] END ....................n_neighbors=45;, score=0.283 total time=   0.0s\n",
      "[CV 2/5] END ....................n_neighbors=45;, score=0.304 total time=   0.0s\n",
      "[CV 3/5] END ....................n_neighbors=45;, score=0.335 total time=   0.0s\n",
      "[CV 4/5] END ....................n_neighbors=45;, score=0.304 total time=   0.0s\n",
      "[CV 5/5] END ....................n_neighbors=45;, score=0.291 total time=   0.0s\n",
      "[CV 1/5] END ....................n_neighbors=46;, score=0.282 total time=   0.0s\n",
      "[CV 2/5] END ....................n_neighbors=46;, score=0.304 total time=   0.0s\n",
      "[CV 3/5] END ....................n_neighbors=46;, score=0.338 total time=   0.0s\n",
      "[CV 4/5] END ....................n_neighbors=46;, score=0.301 total time=   0.0s\n",
      "[CV 5/5] END ....................n_neighbors=46;, score=0.290 total time=   0.0s\n",
      "[CV 1/5] END ....................n_neighbors=47;, score=0.285 total time=   0.0s\n",
      "[CV 2/5] END ....................n_neighbors=47;, score=0.304 total time=   0.0s\n",
      "[CV 3/5] END ....................n_neighbors=47;, score=0.338 total time=   0.0s\n",
      "[CV 4/5] END ....................n_neighbors=47;, score=0.301 total time=   0.0s\n",
      "[CV 5/5] END ....................n_neighbors=47;, score=0.289 total time=   0.0s\n",
      "[CV 1/5] END ....................n_neighbors=48;, score=0.285 total time=   0.0s\n",
      "[CV 2/5] END ....................n_neighbors=48;, score=0.304 total time=   0.0s\n",
      "[CV 3/5] END ....................n_neighbors=48;, score=0.338 total time=   0.0s\n",
      "[CV 4/5] END ....................n_neighbors=48;, score=0.299 total time=   0.0s\n",
      "[CV 5/5] END ....................n_neighbors=48;, score=0.288 total time=   0.0s\n",
      "[CV 1/5] END ....................n_neighbors=49;, score=0.285 total time=   0.0s\n",
      "[CV 2/5] END ....................n_neighbors=49;, score=0.304 total time=   0.0s\n",
      "[CV 3/5] END ....................n_neighbors=49;, score=0.339 total time=   0.0s\n",
      "[CV 4/5] END ....................n_neighbors=49;, score=0.298 total time=   0.0s\n",
      "[CV 5/5] END ....................n_neighbors=49;, score=0.288 total time=   0.0s\n"
     ]
    },
    {
     "data": {
      "text/plain": [
       "GridSearchCV(estimator=KNeighborsRegressor(),\n",
       "             param_grid={'n_neighbors': [1, 2, 3, 4, 5, 6, 7, 8, 9, 10, 11, 12,\n",
       "                                         13, 14, 15, 16, 17, 18, 19, 20, 21, 22,\n",
       "                                         23, 24, 25, 26, 27, 28, 29, 30, ...]},\n",
       "             verbose=3)"
      ]
     },
     "execution_count": 147,
     "metadata": {},
     "output_type": "execute_result"
    }
   ],
   "source": [
    "from sklearn.model_selection import GridSearchCV\n",
    "param_grid = {'n_neighbors':list(range(1,50))}\n",
    "grid = GridSearchCV(KNeighborsRegressor(), param_grid, verbose=3)\n",
    "grid.fit(X_train, y_train)"
   ]
  },
  {
   "cell_type": "code",
   "execution_count": 148,
   "metadata": {},
   "outputs": [
    {
     "data": {
      "text/plain": [
       "{'n_neighbors': 6}"
      ]
     },
     "execution_count": 148,
     "metadata": {},
     "output_type": "execute_result"
    }
   ],
   "source": [
    "grid.best_params_"
   ]
  },
  {
   "cell_type": "code",
   "execution_count": 149,
   "metadata": {},
   "outputs": [],
   "source": [
    "grid_predictions = grid.best_estimator_.predict(X_test)"
   ]
  },
  {
   "cell_type": "code",
   "execution_count": 150,
   "metadata": {},
   "outputs": [
    {
     "name": "stdout",
     "output_type": "stream",
     "text": [
      "Mean Absolute Error (MAE): 985.5456095783353\n",
      "Mean Squared Error (MSE): 1799919.4293785598\n",
      "Root Mean Squared Error (RMSE): 1341.6107592660994\n"
     ]
    }
   ],
   "source": [
    "print('Mean Absolute Error (MAE):', metrics.mean_absolute_error(y_test, grid_predictions))  \n",
    "print('Mean Squared Error (MSE):', metrics.mean_squared_error(y_test, grid_predictions))  \n",
    "print('Root Mean Squared Error (RMSE):', np.sqrt(metrics.mean_squared_error(y_test, grid_predictions)))"
   ]
  },
  {
   "cell_type": "code",
   "execution_count": null,
   "metadata": {},
   "outputs": [],
   "source": []
  },
  {
   "cell_type": "markdown",
   "metadata": {},
   "source": [
    "### Model 2 with the lowest possible number of features that still explains (99% to 100%) of variance"
   ]
  },
  {
   "cell_type": "code",
   "execution_count": 151,
   "metadata": {},
   "outputs": [
    {
     "data": {
      "text/plain": [
       "array([1.09103443e-01, 6.55417030e-02, 6.29521073e-02, 5.97892791e-02,\n",
       "       3.94763567e-02, 3.74028352e-02, 3.48143084e-02, 3.35691915e-02,\n",
       "       3.23781195e-02, 3.21764738e-02, 3.16770766e-02, 3.14091808e-02,\n",
       "       3.08709228e-02, 3.07755923e-02, 3.03662453e-02, 3.00801476e-02,\n",
       "       2.97389614e-02, 2.94745093e-02, 2.92058705e-02, 2.90874514e-02,\n",
       "       2.88436266e-02, 2.83185281e-02, 2.77912557e-02, 2.60256434e-02,\n",
       "       2.55096994e-02, 2.33957032e-02, 2.12194823e-02, 9.00628602e-03,\n",
       "       2.15168601e-32, 4.19235765e-33, 1.74602972e-33, 1.61978528e-33,\n",
       "       1.45635005e-33, 1.37585560e-33, 9.93434601e-34])"
      ]
     },
     "execution_count": 151,
     "metadata": {},
     "output_type": "execute_result"
    }
   ],
   "source": [
    "from sklearn.decomposition import PCA\n",
    "pca = PCA(n_components = None)\n",
    "X_train = pca.fit_transform(X_train)\n",
    "X_test = pca.transform(X_test)\n",
    "explained_variance = pca.explained_variance_ratio_\n",
    "explained_variance"
   ]
  },
  {
   "cell_type": "code",
   "execution_count": 152,
   "metadata": {},
   "outputs": [
    {
     "data": {
      "text/plain": [
       "[<matplotlib.lines.Line2D at 0x19e261b8e80>]"
      ]
     },
     "execution_count": 152,
     "metadata": {},
     "output_type": "execute_result"
    },
    {
     "data": {
      "image/png": "[encoded data removed]",
      "text/plain": [
       "<Figure size 432x288 with 1 Axes>"
      ]
     },
     "metadata": {
      "needs_background": "light"
     },
     "output_type": "display_data"
    }
   ],
   "source": [
    "var1=np.cumsum(explained_variance*100)\n",
    "plt.plot(var1,  marker='o')"
   ]
  },
  {
   "cell_type": "code",
   "execution_count": 153,
   "metadata": {},
   "outputs": [
    {
     "data": {
      "text/plain": [
       "0.9697742316396789"
      ]
     },
     "execution_count": 153,
     "metadata": {},
     "output_type": "execute_result"
    }
   ],
   "source": [
    "pca = PCA(n_components = 26)\n",
    "X_train2 = pca.fit_transform(X_train)\n",
    "X_test2 = pca.transform(X_test)\n",
    "explained_variance = pca.explained_variance_ratio_\n",
    "sum(explained_variance)"
   ]
  },
  {
   "cell_type": "code",
   "execution_count": 154,
   "metadata": {},
   "outputs": [],
   "source": [
    "pca = PCA(n_components = 27)\n",
    "X_train2 = pca.fit_transform(X_train)\n",
    "X_test2 = pca.transform(X_test)\n",
    "explained_variance = pca.explained_variance_ratio_"
   ]
  },
  {
   "cell_type": "code",
   "execution_count": 155,
   "metadata": {},
   "outputs": [
    {
     "data": {
      "text/plain": [
       "array([0.10910344, 0.0655417 , 0.06295211, 0.05978928, 0.03947636,\n",
       "       0.03740284, 0.03481431, 0.03356919, 0.03237812, 0.03217647,\n",
       "       0.03167708, 0.03140918, 0.03087092, 0.03077559, 0.03036625,\n",
       "       0.03008015, 0.02973896, 0.02947451, 0.02920587, 0.02908745,\n",
       "       0.02884363, 0.02831853, 0.02779126, 0.02602564, 0.0255097 ,\n",
       "       0.0233957 , 0.02121948])"
      ]
     },
     "execution_count": 155,
     "metadata": {},
     "output_type": "execute_result"
    }
   ],
   "source": [
    "explained_variance"
   ]
  },
  {
   "cell_type": "code",
   "execution_count": 156,
   "metadata": {},
   "outputs": [
    {
     "data": {
      "text/plain": [
       "0.9909937139839683"
      ]
     },
     "execution_count": 156,
     "metadata": {},
     "output_type": "execute_result"
    }
   ],
   "source": [
    "sum(explained_variance)"
   ]
  },
  {
   "cell_type": "code",
   "execution_count": 158,
   "metadata": {},
   "outputs": [
    {
     "data": {
      "text/plain": [
       "KNeighborsRegressor(n_neighbors=1)"
      ]
     },
     "execution_count": 158,
     "metadata": {},
     "output_type": "execute_result"
    }
   ],
   "source": [
    "from sklearn.neighbors import KNeighborsRegressor\n",
    "knn = KNeighborsRegressor(n_neighbors = 1)\n",
    "knn.fit(X_train2, y_train)"
   ]
  },
  {
   "cell_type": "code",
   "execution_count": 159,
   "metadata": {},
   "outputs": [],
   "source": [
    "predictions = knn.predict(X_test2)"
   ]
  },
  {
   "cell_type": "code",
   "execution_count": 160,
   "metadata": {},
   "outputs": [
    {
     "name": "stdout",
     "output_type": "stream",
     "text": [
      "Mean Absolute Error (MAE): 1212.3324942202835\n",
      "Mean Squared Error (MSE): 2851231.109987011\n",
      "Root Mean Squared Error (RMSE): 1688.5588855550793\n"
     ]
    }
   ],
   "source": [
    "print('Mean Absolute Error (MAE):', metrics.mean_absolute_error(y_test, predictions))  \n",
    "print('Mean Squared Error (MSE):', metrics.mean_squared_error(y_test, predictions))  \n",
    "print('Root Mean Squared Error (RMSE):', np.sqrt(metrics.mean_squared_error(y_test, predictions)))"
   ]
  },
  {
   "cell_type": "code",
   "execution_count": 161,
   "metadata": {
    "tags": []
   },
   "outputs": [
    {
     "name": "stdout",
     "output_type": "stream",
     "text": [
      "Fitting 5 folds for each of 49 candidates, totalling 245 fits\n",
      "[CV 1/5] END .....................n_neighbors=1;, score=0.035 total time=   0.0s\n",
      "[CV 2/5] END .....................n_neighbors=1;, score=0.020 total time=   0.0s\n",
      "[CV 3/5] END .....................n_neighbors=1;, score=0.137 total time=   0.0s\n",
      "[CV 4/5] END .....................n_neighbors=1;, score=0.102 total time=   0.0s\n",
      "[CV 5/5] END .....................n_neighbors=1;, score=0.019 total time=   0.0s\n",
      "[CV 1/5] END .....................n_neighbors=2;, score=0.231 total time=   0.0s\n",
      "[CV 2/5] END .....................n_neighbors=2;, score=0.309 total time=   0.0s\n",
      "[CV 3/5] END .....................n_neighbors=2;, score=0.342 total time=   0.0s\n",
      "[CV 4/5] END .....................n_neighbors=2;, score=0.326 total time=   0.0s\n",
      "[CV 5/5] END .....................n_neighbors=2;, score=0.305 total time=   0.0s\n",
      "[CV 1/5] END .....................n_neighbors=3;, score=0.303 total time=   0.0s\n",
      "[CV 2/5] END .....................n_neighbors=3;, score=0.360 total time=   0.0s\n",
      "[CV 3/5] END .....................n_neighbors=3;, score=0.389 total time=   0.0s\n",
      "[CV 4/5] END .....................n_neighbors=3;, score=0.388 total time=   0.0s\n",
      "[CV 5/5] END .....................n_neighbors=3;, score=0.372 total time=   0.0s\n",
      "[CV 1/5] END .....................n_neighbors=4;, score=0.330 total time=   0.0s\n",
      "[CV 2/5] END .....................n_neighbors=4;, score=0.384 total time=   0.0s\n",
      "[CV 3/5] END .....................n_neighbors=4;, score=0.401 total time=   0.0s\n",
      "[CV 4/5] END .....................n_neighbors=4;, score=0.410 total time=   0.0s\n",
      "[CV 5/5] END .....................n_neighbors=4;, score=0.397 total time=   0.0s\n",
      "[CV 1/5] END .....................n_neighbors=5;, score=0.336 total time=   0.0s\n",
      "[CV 2/5] END .....................n_neighbors=5;, score=0.385 total time=   0.0s\n",
      "[CV 3/5] END .....................n_neighbors=5;, score=0.414 total time=   0.0s\n",
      "[CV 4/5] END .....................n_neighbors=5;, score=0.426 total time=   0.0s\n",
      "[CV 5/5] END .....................n_neighbors=5;, score=0.425 total time=   0.0s\n",
      "[CV 1/5] END .....................n_neighbors=6;, score=0.335 total time=   0.0s\n",
      "[CV 2/5] END .....................n_neighbors=6;, score=0.390 total time=   0.0s\n",
      "[CV 3/5] END .....................n_neighbors=6;, score=0.418 total time=   0.0s\n",
      "[CV 4/5] END .....................n_neighbors=6;, score=0.438 total time=   0.0s\n",
      "[CV 5/5] END .....................n_neighbors=6;, score=0.426 total time=   0.0s\n",
      "[CV 1/5] END .....................n_neighbors=7;, score=0.344 total time=   0.0s\n",
      "[CV 2/5] END .....................n_neighbors=7;, score=0.388 total time=   0.0s\n",
      "[CV 3/5] END .....................n_neighbors=7;, score=0.414 total time=   0.0s\n",
      "[CV 4/5] END .....................n_neighbors=7;, score=0.434 total time=   0.0s\n",
      "[CV 5/5] END .....................n_neighbors=7;, score=0.423 total time=   0.0s\n",
      "[CV 1/5] END .....................n_neighbors=8;, score=0.346 total time=   0.0s\n",
      "[CV 2/5] END .....................n_neighbors=8;, score=0.386 total time=   0.0s\n",
      "[CV 3/5] END .....................n_neighbors=8;, score=0.420 total time=   0.0s\n",
      "[CV 4/5] END .....................n_neighbors=8;, score=0.427 total time=   0.0s\n",
      "[CV 5/5] END .....................n_neighbors=8;, score=0.419 total time=   0.0s\n",
      "[CV 1/5] END .....................n_neighbors=9;, score=0.342 total time=   0.0s\n",
      "[CV 2/5] END .....................n_neighbors=9;, score=0.384 total time=   0.0s\n",
      "[CV 3/5] END .....................n_neighbors=9;, score=0.427 total time=   0.0s\n",
      "[CV 4/5] END .....................n_neighbors=9;, score=0.424 total time=   0.0s\n",
      "[CV 5/5] END .....................n_neighbors=9;, score=0.410 total time=   0.0s\n",
      "[CV 1/5] END ....................n_neighbors=10;, score=0.346 total time=   0.0s\n",
      "[CV 2/5] END ....................n_neighbors=10;, score=0.379 total time=   0.0s\n",
      "[CV 3/5] END ....................n_neighbors=10;, score=0.415 total time=   0.0s\n",
      "[CV 4/5] END ....................n_neighbors=10;, score=0.417 total time=   0.0s\n",
      "[CV 5/5] END ....................n_neighbors=10;, score=0.405 total time=   0.0s\n",
      "[CV 1/5] END ....................n_neighbors=11;, score=0.348 total time=   0.0s\n",
      "[CV 2/5] END ....................n_neighbors=11;, score=0.383 total time=   0.0s\n",
      "[CV 3/5] END ....................n_neighbors=11;, score=0.410 total time=   0.0s\n",
      "[CV 4/5] END ....................n_neighbors=11;, score=0.403 total time=   0.0s\n",
      "[CV 5/5] END ....................n_neighbors=11;, score=0.401 total time=   0.0s\n",
      "[CV 1/5] END ....................n_neighbors=12;, score=0.341 total time=   0.0s\n",
      "[CV 2/5] END ....................n_neighbors=12;, score=0.382 total time=   0.0s\n",
      "[CV 3/5] END ....................n_neighbors=12;, score=0.408 total time=   0.0s\n",
      "[CV 4/5] END ....................n_neighbors=12;, score=0.403 total time=   0.0s\n",
      "[CV 5/5] END ....................n_neighbors=12;, score=0.396 total time=   0.0s\n",
      "[CV 1/5] END ....................n_neighbors=13;, score=0.345 total time=   0.0s\n",
      "[CV 2/5] END ....................n_neighbors=13;, score=0.380 total time=   0.0s\n",
      "[CV 3/5] END ....................n_neighbors=13;, score=0.405 total time=   0.0s\n",
      "[CV 4/5] END ....................n_neighbors=13;, score=0.406 total time=   0.0s\n",
      "[CV 5/5] END ....................n_neighbors=13;, score=0.392 total time=   0.0s\n",
      "[CV 1/5] END ....................n_neighbors=14;, score=0.340 total time=   0.0s\n",
      "[CV 2/5] END ....................n_neighbors=14;, score=0.379 total time=   0.0s\n",
      "[CV 3/5] END ....................n_neighbors=14;, score=0.398 total time=   0.0s\n",
      "[CV 4/5] END ....................n_neighbors=14;, score=0.402 total time=   0.0s\n",
      "[CV 5/5] END ....................n_neighbors=14;, score=0.390 total time=   0.0s\n",
      "[CV 1/5] END ....................n_neighbors=15;, score=0.331 total time=   0.0s\n",
      "[CV 2/5] END ....................n_neighbors=15;, score=0.376 total time=   0.0s\n",
      "[CV 3/5] END ....................n_neighbors=15;, score=0.393 total time=   0.0s\n",
      "[CV 4/5] END ....................n_neighbors=15;, score=0.401 total time=   0.0s\n",
      "[CV 5/5] END ....................n_neighbors=15;, score=0.382 total time=   0.0s\n",
      "[CV 1/5] END ....................n_neighbors=16;, score=0.327 total time=   0.0s\n",
      "[CV 2/5] END ....................n_neighbors=16;, score=0.367 total time=   0.0s\n",
      "[CV 3/5] END ....................n_neighbors=16;, score=0.386 total time=   0.0s\n",
      "[CV 4/5] END ....................n_neighbors=16;, score=0.396 total time=   0.0s\n",
      "[CV 5/5] END ....................n_neighbors=16;, score=0.378 total time=   0.0s\n",
      "[CV 1/5] END ....................n_neighbors=17;, score=0.328 total time=   0.0s\n",
      "[CV 2/5] END ....................n_neighbors=17;, score=0.360 total time=   0.0s\n",
      "[CV 3/5] END ....................n_neighbors=17;, score=0.383 total time=   0.0s\n",
      "[CV 4/5] END ....................n_neighbors=17;, score=0.392 total time=   0.0s\n",
      "[CV 5/5] END ....................n_neighbors=17;, score=0.368 total time=   0.0s\n",
      "[CV 1/5] END ....................n_neighbors=18;, score=0.330 total time=   0.0s\n",
      "[CV 2/5] END ....................n_neighbors=18;, score=0.353 total time=   0.0s\n",
      "[CV 3/5] END ....................n_neighbors=18;, score=0.384 total time=   0.0s\n",
      "[CV 4/5] END ....................n_neighbors=18;, score=0.388 total time=   0.0s\n",
      "[CV 5/5] END ....................n_neighbors=18;, score=0.360 total time=   0.0s\n",
      "[CV 1/5] END ....................n_neighbors=19;, score=0.322 total time=   0.0s\n",
      "[CV 2/5] END ....................n_neighbors=19;, score=0.346 total time=   0.0s\n",
      "[CV 3/5] END ....................n_neighbors=19;, score=0.384 total time=   0.0s\n",
      "[CV 4/5] END ....................n_neighbors=19;, score=0.386 total time=   0.0s\n",
      "[CV 5/5] END ....................n_neighbors=19;, score=0.359 total time=   0.0s\n",
      "[CV 1/5] END ....................n_neighbors=20;, score=0.318 total time=   0.0s\n",
      "[CV 2/5] END ....................n_neighbors=20;, score=0.343 total time=   0.0s\n",
      "[CV 3/5] END ....................n_neighbors=20;, score=0.385 total time=   0.0s\n",
      "[CV 4/5] END ....................n_neighbors=20;, score=0.380 total time=   0.0s\n",
      "[CV 5/5] END ....................n_neighbors=20;, score=0.352 total time=   0.0s\n",
      "[CV 1/5] END ....................n_neighbors=21;, score=0.313 total time=   0.0s\n",
      "[CV 2/5] END ....................n_neighbors=21;, score=0.341 total time=   0.0s\n",
      "[CV 3/5] END ....................n_neighbors=21;, score=0.382 total time=   0.0s\n",
      "[CV 4/5] END ....................n_neighbors=21;, score=0.375 total time=   0.0s\n",
      "[CV 5/5] END ....................n_neighbors=21;, score=0.352 total time=   0.0s\n",
      "[CV 1/5] END ....................n_neighbors=22;, score=0.309 total time=   0.0s\n",
      "[CV 2/5] END ....................n_neighbors=22;, score=0.340 total time=   0.0s\n",
      "[CV 3/5] END ....................n_neighbors=22;, score=0.381 total time=   0.0s\n",
      "[CV 4/5] END ....................n_neighbors=22;, score=0.370 total time=   0.0s\n",
      "[CV 5/5] END ....................n_neighbors=22;, score=0.345 total time=   0.0s\n",
      "[CV 1/5] END ....................n_neighbors=23;, score=0.303 total time=   0.0s\n",
      "[CV 2/5] END ....................n_neighbors=23;, score=0.337 total time=   0.0s\n",
      "[CV 3/5] END ....................n_neighbors=23;, score=0.377 total time=   0.0s\n",
      "[CV 4/5] END ....................n_neighbors=23;, score=0.368 total time=   0.0s\n",
      "[CV 5/5] END ....................n_neighbors=23;, score=0.340 total time=   0.0s\n",
      "[CV 1/5] END ....................n_neighbors=24;, score=0.302 total time=   0.0s\n",
      "[CV 2/5] END ....................n_neighbors=24;, score=0.334 total time=   0.0s\n",
      "[CV 3/5] END ....................n_neighbors=24;, score=0.371 total time=   0.0s\n",
      "[CV 4/5] END ....................n_neighbors=24;, score=0.360 total time=   0.0s\n",
      "[CV 5/5] END ....................n_neighbors=24;, score=0.334 total time=   0.0s\n",
      "[CV 1/5] END ....................n_neighbors=25;, score=0.301 total time=   0.0s\n",
      "[CV 2/5] END ....................n_neighbors=25;, score=0.333 total time=   0.0s\n",
      "[CV 3/5] END ....................n_neighbors=25;, score=0.369 total time=   0.0s\n",
      "[CV 4/5] END ....................n_neighbors=25;, score=0.354 total time=   0.0s\n",
      "[CV 5/5] END ....................n_neighbors=25;, score=0.329 total time=   0.0s\n",
      "[CV 1/5] END ....................n_neighbors=26;, score=0.298 total time=   0.0s\n",
      "[CV 2/5] END ....................n_neighbors=26;, score=0.329 total time=   0.0s\n",
      "[CV 3/5] END ....................n_neighbors=26;, score=0.365 total time=   0.0s\n",
      "[CV 4/5] END ....................n_neighbors=26;, score=0.351 total time=   0.0s\n",
      "[CV 5/5] END ....................n_neighbors=26;, score=0.330 total time=   0.0s\n",
      "[CV 1/5] END ....................n_neighbors=27;, score=0.296 total time=   0.0s\n",
      "[CV 2/5] END ....................n_neighbors=27;, score=0.324 total time=   0.0s\n",
      "[CV 3/5] END ....................n_neighbors=27;, score=0.361 total time=   0.0s\n",
      "[CV 4/5] END ....................n_neighbors=27;, score=0.346 total time=   0.0s\n",
      "[CV 5/5] END ....................n_neighbors=27;, score=0.321 total time=   0.0s\n",
      "[CV 1/5] END ....................n_neighbors=28;, score=0.293 total time=   0.0s\n",
      "[CV 2/5] END ....................n_neighbors=28;, score=0.324 total time=   0.0s\n",
      "[CV 3/5] END ....................n_neighbors=28;, score=0.354 total time=   0.0s\n",
      "[CV 4/5] END ....................n_neighbors=28;, score=0.343 total time=   0.0s\n",
      "[CV 5/5] END ....................n_neighbors=28;, score=0.313 total time=   0.0s\n",
      "[CV 1/5] END ....................n_neighbors=29;, score=0.291 total time=   0.0s\n",
      "[CV 2/5] END ....................n_neighbors=29;, score=0.323 total time=   0.0s\n",
      "[CV 3/5] END ....................n_neighbors=29;, score=0.350 total time=   0.0s\n",
      "[CV 4/5] END ....................n_neighbors=29;, score=0.340 total time=   0.0s\n",
      "[CV 5/5] END ....................n_neighbors=29;, score=0.311 total time=   0.0s\n",
      "[CV 1/5] END ....................n_neighbors=30;, score=0.291 total time=   0.0s\n",
      "[CV 2/5] END ....................n_neighbors=30;, score=0.319 total time=   0.0s\n",
      "[CV 3/5] END ....................n_neighbors=30;, score=0.347 total time=   0.0s\n",
      "[CV 4/5] END ....................n_neighbors=30;, score=0.338 total time=   0.0s\n",
      "[CV 5/5] END ....................n_neighbors=30;, score=0.309 total time=   0.0s\n",
      "[CV 1/5] END ....................n_neighbors=31;, score=0.289 total time=   0.0s\n",
      "[CV 2/5] END ....................n_neighbors=31;, score=0.318 total time=   0.0s\n",
      "[CV 3/5] END ....................n_neighbors=31;, score=0.343 total time=   0.0s\n",
      "[CV 4/5] END ....................n_neighbors=31;, score=0.334 total time=   0.0s\n",
      "[CV 5/5] END ....................n_neighbors=31;, score=0.308 total time=   0.0s\n",
      "[CV 1/5] END ....................n_neighbors=32;, score=0.289 total time=   0.0s\n",
      "[CV 2/5] END ....................n_neighbors=32;, score=0.316 total time=   0.0s\n",
      "[CV 3/5] END ....................n_neighbors=32;, score=0.341 total time=   0.0s\n",
      "[CV 4/5] END ....................n_neighbors=32;, score=0.332 total time=   0.0s\n",
      "[CV 5/5] END ....................n_neighbors=32;, score=0.306 total time=   0.0s\n",
      "[CV 1/5] END ....................n_neighbors=33;, score=0.289 total time=   0.0s\n",
      "[CV 2/5] END ....................n_neighbors=33;, score=0.316 total time=   0.0s\n",
      "[CV 3/5] END ....................n_neighbors=33;, score=0.337 total time=   0.0s\n",
      "[CV 4/5] END ....................n_neighbors=33;, score=0.326 total time=   0.0s\n",
      "[CV 5/5] END ....................n_neighbors=33;, score=0.306 total time=   0.0s\n",
      "[CV 1/5] END ....................n_neighbors=34;, score=0.290 total time=   0.0s\n",
      "[CV 2/5] END ....................n_neighbors=34;, score=0.314 total time=   0.0s\n",
      "[CV 3/5] END ....................n_neighbors=34;, score=0.334 total time=   0.0s\n",
      "[CV 4/5] END ....................n_neighbors=34;, score=0.323 total time=   0.0s\n",
      "[CV 5/5] END ....................n_neighbors=34;, score=0.303 total time=   0.0s\n",
      "[CV 1/5] END ....................n_neighbors=35;, score=0.289 total time=   0.0s\n",
      "[CV 2/5] END ....................n_neighbors=35;, score=0.311 total time=   0.0s\n",
      "[CV 3/5] END ....................n_neighbors=35;, score=0.334 total time=   0.0s\n",
      "[CV 4/5] END ....................n_neighbors=35;, score=0.320 total time=   0.0s\n",
      "[CV 5/5] END ....................n_neighbors=35;, score=0.301 total time=   0.0s\n",
      "[CV 1/5] END ....................n_neighbors=36;, score=0.290 total time=   0.0s\n",
      "[CV 2/5] END ....................n_neighbors=36;, score=0.312 total time=   0.0s\n",
      "[CV 3/5] END ....................n_neighbors=36;, score=0.331 total time=   0.0s\n",
      "[CV 4/5] END ....................n_neighbors=36;, score=0.315 total time=   0.0s\n",
      "[CV 5/5] END ....................n_neighbors=36;, score=0.299 total time=   0.0s\n",
      "[CV 1/5] END ....................n_neighbors=37;, score=0.287 total time=   0.0s\n",
      "[CV 2/5] END ....................n_neighbors=37;, score=0.310 total time=   0.0s\n",
      "[CV 3/5] END ....................n_neighbors=37;, score=0.332 total time=   0.0s\n",
      "[CV 4/5] END ....................n_neighbors=37;, score=0.313 total time=   0.0s\n",
      "[CV 5/5] END ....................n_neighbors=37;, score=0.300 total time=   0.0s\n",
      "[CV 1/5] END ....................n_neighbors=38;, score=0.287 total time=   0.0s\n",
      "[CV 2/5] END ....................n_neighbors=38;, score=0.311 total time=   0.0s\n",
      "[CV 3/5] END ....................n_neighbors=38;, score=0.333 total time=   0.0s\n",
      "[CV 4/5] END ....................n_neighbors=38;, score=0.313 total time=   0.0s\n",
      "[CV 5/5] END ....................n_neighbors=38;, score=0.298 total time=   0.0s\n",
      "[CV 1/5] END ....................n_neighbors=39;, score=0.286 total time=   0.0s\n",
      "[CV 2/5] END ....................n_neighbors=39;, score=0.310 total time=   0.0s\n",
      "[CV 3/5] END ....................n_neighbors=39;, score=0.333 total time=   0.0s\n",
      "[CV 4/5] END ....................n_neighbors=39;, score=0.311 total time=   0.0s\n",
      "[CV 5/5] END ....................n_neighbors=39;, score=0.299 total time=   0.0s\n",
      "[CV 1/5] END ....................n_neighbors=40;, score=0.285 total time=   0.0s\n",
      "[CV 2/5] END ....................n_neighbors=40;, score=0.307 total time=   0.0s\n",
      "[CV 3/5] END ....................n_neighbors=40;, score=0.334 total time=   0.0s\n",
      "[CV 4/5] END ....................n_neighbors=40;, score=0.310 total time=   0.0s\n",
      "[CV 5/5] END ....................n_neighbors=40;, score=0.297 total time=   0.0s\n",
      "[CV 1/5] END ....................n_neighbors=41;, score=0.282 total time=   0.0s\n",
      "[CV 2/5] END ....................n_neighbors=41;, score=0.304 total time=   0.0s\n",
      "[CV 3/5] END ....................n_neighbors=41;, score=0.334 total time=   0.0s\n",
      "[CV 4/5] END ....................n_neighbors=41;, score=0.308 total time=   0.0s\n",
      "[CV 5/5] END ....................n_neighbors=41;, score=0.294 total time=   0.0s\n",
      "[CV 1/5] END ....................n_neighbors=42;, score=0.283 total time=   0.0s\n",
      "[CV 2/5] END ....................n_neighbors=42;, score=0.304 total time=   0.0s\n",
      "[CV 3/5] END ....................n_neighbors=42;, score=0.333 total time=   0.0s\n",
      "[CV 4/5] END ....................n_neighbors=42;, score=0.305 total time=   0.0s\n",
      "[CV 5/5] END ....................n_neighbors=42;, score=0.294 total time=   0.0s\n",
      "[CV 1/5] END ....................n_neighbors=43;, score=0.282 total time=   0.0s\n",
      "[CV 2/5] END ....................n_neighbors=43;, score=0.303 total time=   0.0s\n",
      "[CV 3/5] END ....................n_neighbors=43;, score=0.334 total time=   0.0s\n",
      "[CV 4/5] END ....................n_neighbors=43;, score=0.302 total time=   0.0s\n",
      "[CV 5/5] END ....................n_neighbors=43;, score=0.293 total time=   0.0s\n",
      "[CV 1/5] END ....................n_neighbors=44;, score=0.283 total time=   0.0s\n",
      "[CV 2/5] END ....................n_neighbors=44;, score=0.301 total time=   0.0s\n",
      "[CV 3/5] END ....................n_neighbors=44;, score=0.334 total time=   0.0s\n",
      "[CV 4/5] END ....................n_neighbors=44;, score=0.300 total time=   0.0s\n",
      "[CV 5/5] END ....................n_neighbors=44;, score=0.293 total time=   0.0s\n",
      "[CV 1/5] END ....................n_neighbors=45;, score=0.282 total time=   0.0s\n",
      "[CV 2/5] END ....................n_neighbors=45;, score=0.302 total time=   0.0s\n",
      "[CV 3/5] END ....................n_neighbors=45;, score=0.335 total time=   0.0s\n",
      "[CV 4/5] END ....................n_neighbors=45;, score=0.301 total time=   0.0s\n",
      "[CV 5/5] END ....................n_neighbors=45;, score=0.291 total time=   0.0s\n",
      "[CV 1/5] END ....................n_neighbors=46;, score=0.280 total time=   0.0s\n",
      "[CV 2/5] END ....................n_neighbors=46;, score=0.302 total time=   0.0s\n",
      "[CV 3/5] END ....................n_neighbors=46;, score=0.336 total time=   0.0s\n",
      "[CV 4/5] END ....................n_neighbors=46;, score=0.299 total time=   0.0s\n",
      "[CV 5/5] END ....................n_neighbors=46;, score=0.290 total time=   0.0s\n",
      "[CV 1/5] END ....................n_neighbors=47;, score=0.281 total time=   0.0s\n",
      "[CV 2/5] END ....................n_neighbors=47;, score=0.304 total time=   0.0s\n",
      "[CV 3/5] END ....................n_neighbors=47;, score=0.335 total time=   0.0s\n",
      "[CV 4/5] END ....................n_neighbors=47;, score=0.297 total time=   0.0s\n",
      "[CV 5/5] END ....................n_neighbors=47;, score=0.287 total time=   0.0s\n",
      "[CV 1/5] END ....................n_neighbors=48;, score=0.282 total time=   0.0s\n",
      "[CV 2/5] END ....................n_neighbors=48;, score=0.303 total time=   0.0s\n",
      "[CV 3/5] END ....................n_neighbors=48;, score=0.335 total time=   0.0s\n",
      "[CV 4/5] END ....................n_neighbors=48;, score=0.296 total time=   0.0s\n",
      "[CV 5/5] END ....................n_neighbors=48;, score=0.286 total time=   0.0s\n",
      "[CV 1/5] END ....................n_neighbors=49;, score=0.281 total time=   0.0s\n",
      "[CV 2/5] END ....................n_neighbors=49;, score=0.303 total time=   0.0s\n",
      "[CV 3/5] END ....................n_neighbors=49;, score=0.334 total time=   0.0s\n",
      "[CV 4/5] END ....................n_neighbors=49;, score=0.294 total time=   0.0s\n",
      "[CV 5/5] END ....................n_neighbors=49;, score=0.286 total time=   0.0s\n"
     ]
    },
    {
     "data": {
      "text/plain": [
       "GridSearchCV(estimator=KNeighborsRegressor(),\n",
       "             param_grid={'n_neighbors': [1, 2, 3, 4, 5, 6, 7, 8, 9, 10, 11, 12,\n",
       "                                         13, 14, 15, 16, 17, 18, 19, 20, 21, 22,\n",
       "                                         23, 24, 25, 26, 27, 28, 29, 30, ...]},\n",
       "             verbose=3)"
      ]
     },
     "execution_count": 161,
     "metadata": {},
     "output_type": "execute_result"
    }
   ],
   "source": [
    "param_grid = {'n_neighbors':list(range(1,50))}\n",
    "grid = GridSearchCV(KNeighborsRegressor(), param_grid, verbose=3)\n",
    "grid.fit(X_train2, y_train)"
   ]
  },
  {
   "cell_type": "code",
   "execution_count": 162,
   "metadata": {},
   "outputs": [
    {
     "data": {
      "text/plain": [
       "{'n_neighbors': 6}"
      ]
     },
     "execution_count": 162,
     "metadata": {},
     "output_type": "execute_result"
    }
   ],
   "source": [
    "grid.best_params_"
   ]
  },
  {
   "cell_type": "code",
   "execution_count": 163,
   "metadata": {},
   "outputs": [],
   "source": [
    "grid_predictions = grid.best_estimator_.predict(X_test2)"
   ]
  },
  {
   "cell_type": "code",
   "execution_count": 164,
   "metadata": {},
   "outputs": [
    {
     "name": "stdout",
     "output_type": "stream",
     "text": [
      "Mean Absolute Error (MAE): 988.7743523446019\n",
      "Mean Squared Error (MSE): 1804819.8470883095\n",
      "Root Mean Squared Error (RMSE): 1343.4358366101112\n"
     ]
    }
   ],
   "source": [
    "print('Mean Absolute Error (MAE):', metrics.mean_absolute_error(y_test, grid_predictions))  \n",
    "print('Mean Squared Error (MSE):', metrics.mean_squared_error(y_test, grid_predictions))  \n",
    "print('Root Mean Squared Error (RMSE):', np.sqrt(metrics.mean_squared_error(y_test, grid_predictions)))"
   ]
  },
  {
   "cell_type": "markdown",
   "metadata": {},
   "source": [
    "### Conclusion"
   ]
  },
  {
   "cell_type": "code",
   "execution_count": 165,
   "metadata": {},
   "outputs": [],
   "source": [
    "# Without PCA\n",
    "# Mean Absolute Error (MAE): 985.5456095783353\n",
    "# Mean Squared Error (MSE): 1799919.4293785598\n",
    "# Root Mean Squared Error (RMSE): 1341.6107592660994"
   ]
  },
  {
   "cell_type": "code",
   "execution_count": 166,
   "metadata": {},
   "outputs": [],
   "source": [
    "# With PCA\n",
    "# Mean Absolute Error (MAE): 988.7743523446019\n",
    "# Mean Squared Error (MSE): 1804819.8470883095\n",
    "# Root Mean Squared Error (RMSE): 1343.4358366101112"
   ]
  },
  {
   "cell_type": "markdown",
   "metadata": {},
   "source": [
    "When viewing the picture,I can see after 25, number of variables are explaining 99%-100% variance of data. And running  numbers of 26 and 27, I found that 27 is the lowest number of variables that explain at least 0.990% variance of data; therefore I scale the data using 27 principal variables.\n",
    "\n",
    "As the result shows, the error gets larger for a little bit comparing to not using PCA scaling. I think PCA will not improve the performance, because we reduced the dimension so it captured less variation in the data. Since we are not getting the whole data, it is possible that the prediction error get larger."
   ]
  },
  {
   "cell_type": "code",
   "execution_count": null,
   "metadata": {},
   "outputs": [],
   "source": []
  }
 ],
 "metadata": {
  "kernelspec": {
   "display_name": "Python 3 (ipykernel)",
   "language": "python",
   "name": "python3"
  },
  "language_info": {
   "codemirror_mode": {
    "name": "ipython",
    "version": 3
   },
   "file_extension": ".py",
   "mimetype": "text/x-python",
   "name": "python",
   "nbconvert_exporter": "python",
   "pygments_lexer": "ipython3",
   "version": "3.9.7"
  }
 },
 "nbformat": 4,
 "nbformat_minor": 4
}
