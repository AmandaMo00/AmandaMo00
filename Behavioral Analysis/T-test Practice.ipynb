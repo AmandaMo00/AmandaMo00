{
 "cells": [
  {
   "cell_type": "markdown",
   "id": "af550b40-7cd2-412b-b649-bef97b2c4bfb",
   "metadata": {},
   "source": [
    "## A2 and Lego Case"
   ]
  },
  {
   "cell_type": "code",
   "execution_count": 1,
   "id": "86db2af2-3f57-4a7f-8d2d-5e9790f8a370",
   "metadata": {},
   "outputs": [],
   "source": [
    "with open('A2.txt') as f:\n",
    "    lines = f.readlines()"
   ]
  },
  {
   "cell_type": "code",
   "execution_count": 3,
   "id": "5b8de789-9777-41ba-a620-c6f9139dec7f",
   "metadata": {},
   "outputs": [
    {
     "data": {
      "text/plain": [
       "['8 8 8 8 8 8 8 8 6 8 8 8 8 8 8 6 8 6 6 6 6 8 6 8 6 8 6 6 8 8 6 6 6 6 6 8 6 8 6 6 6 6 6 6 6 6 6 6 6 6 6 6 6 6 6 6 6 6 6 6\\n',\n",
       " ' 8 6 6 6 7 7 7 7 7 6 6 6 6 7 6 7 7 7 7 7 7 7 7 7 7 7 7 7 7 7 7 7 7 7 7 7 7 7 7 7 7 7 7 7 7 7 7 7 7 7 7 7 7 7\\n',\n",
       " ' 7 7 7 7 7 7 7 7 7 7 7 7 7 7 7 7 7 7 7 7 8 8 7 7 7 7 7 7 7 7 7 7 7 7 7 7 7 8 6 6 6 7 7 7 7 7 7 7 7 7 7 7 7 7 7 7 7\\n',\n",
       " ' 7 7 7 6 6 6 1 1 1 1 1 1 1 1 1 1 1 2 1 2 2 1 1 1 1 1 2 2 2 2 2 2 2 1 2 2 2 2 2 2 2 2 2 2 2 2 2 2 2 2 2 2 2 2 1 2 2\\n',\n",
       " ' 2 2 2 2 2 2 1 2 1 1 1 1 2 2 3 2 2 2 2 2 1 1 1 1 1 1 2 1 2 1 1 1 1 1 1 1 1 1 1 1 3 1 3 3 3 3 3 3 3 3 3 3 3 3 3 3 3\\n',\n",
       " ' 3 3 3 3 3 3 3 3 3 3 3 3 3 3 3 3 3 3 3 3 3 3 3 3 3 3 3 3 3 3 3 3 3 3 3 3 3 5 3 3 3 3 3 3 3 3 3 3 4\\n']"
      ]
     },
     "execution_count": 3,
     "metadata": {},
     "output_type": "execute_result"
    }
   ],
   "source": [
    "lines"
   ]
  },
  {
   "cell_type": "code",
   "execution_count": 13,
   "id": "ea85a2f9-160c-4b05-aee0-7d7f43852de3",
   "metadata": {},
   "outputs": [],
   "source": [
    "a =[]\n",
    "\n",
    "for line in lines:\n",
    "    for word in line.split():\n",
    "        a.append(word) \n",
    "            "
   ]
  },
  {
   "cell_type": "code",
   "execution_count": 16,
   "id": "0c1b338f-9708-46b7-a99b-b87eea408111",
   "metadata": {},
   "outputs": [
    {
     "data": {
      "text/plain": [
       "334"
      ]
     },
     "execution_count": 16,
     "metadata": {},
     "output_type": "execute_result"
    }
   ],
   "source": [
    "len(a)"
   ]
  },
  {
   "cell_type": "code",
   "execution_count": 36,
   "id": "bad14ba1-e12d-485f-a673-434c77f45616",
   "metadata": {},
   "outputs": [],
   "source": [
    "import xlsxwriter\n",
    "\n",
    "\n",
    "workbook = xlsxwriter.Workbook('TraderJoes1.xlsx')\n",
    "worksheet = workbook.add_worksheet('T1')"
   ]
  },
  {
   "cell_type": "code",
   "execution_count": 39,
   "id": "d6089038-6e0d-439e-9abb-8d146df7f9f2",
   "metadata": {},
   "outputs": [
    {
     "name": "stdout",
     "output_type": "stream",
     "text": [
      "Collecting openpyxl\n",
      "  Downloading openpyxl-3.0.10-py2.py3-none-any.whl (242 kB)\n",
      "\u001b[2K     \u001b[90m━━━━━━━━━━━━━━━━━━━━━━━━━━━━━━━━━━━━━━━\u001b[0m \u001b[32m242.1/242.1 KB\u001b[0m \u001b[31m4.5 MB/s\u001b[0m eta \u001b[36m0:00:00\u001b[0ma \u001b[36m0:00:01\u001b[0m\n",
      "\u001b[?25hCollecting et-xmlfile\n",
      "  Downloading et_xmlfile-1.1.0-py3-none-any.whl (4.7 kB)\n",
      "Installing collected packages: et-xmlfile, openpyxl\n",
      "Successfully installed et-xmlfile-1.1.0 openpyxl-3.0.10\n"
     ]
    }
   ],
   "source": [
    "! pip install openpyxl\n"
   ]
  },
  {
   "cell_type": "code",
   "execution_count": 37,
   "id": "96cd9628-0a1c-4e87-9b0c-27020a240ac0",
   "metadata": {},
   "outputs": [
    {
     "ename": "NameError",
     "evalue": "name 'T1' is not defined",
     "output_type": "error",
     "traceback": [
      "\u001b[0;31m---------------------------------------------------------------------------\u001b[0m",
      "\u001b[0;31mNameError\u001b[0m                                 Traceback (most recent call last)",
      "Input \u001b[0;32mIn [37]\u001b[0m, in \u001b[0;36m<module>\u001b[0;34m\u001b[0m\n\u001b[0;32m----> 1\u001b[0m \u001b[43mT1\u001b[49m\u001b[38;5;241m.\u001b[39mwrite_column(\u001b[38;5;124m'\u001b[39m\u001b[38;5;124mD2\u001b[39m\u001b[38;5;124m'\u001b[39m, a)\n",
      "\u001b[0;31mNameError\u001b[0m: name 'T1' is not defined"
     ]
    }
   ],
   "source": [
    "T1.write_column('D2', a)"
   ]
  },
  {
   "cell_type": "code",
   "execution_count": 42,
   "id": "b20d3608-c107-4abb-afeb-c9a616b8ad58",
   "metadata": {},
   "outputs": [],
   "source": [
    "df = pd.DataFrame(a)"
   ]
  },
  {
   "cell_type": "code",
   "execution_count": 44,
   "id": "fd8807a0-29ff-40f8-8a95-56857f5acd40",
   "metadata": {},
   "outputs": [],
   "source": [
    "df.to_excel('pandas_to_excel.xlsx', sheet_name='new_sheet_name')\n"
   ]
  },
  {
   "cell_type": "code",
   "execution_count": 45,
   "id": "21437055-7625-4757-9db1-84b15f823088",
   "metadata": {},
   "outputs": [],
   "source": [
    "t = pd.read_excel('TraderJoes.xlsx')"
   ]
  },
  {
   "cell_type": "code",
   "execution_count": 47,
   "id": "a8547e70-c722-4933-bc4a-3e4d105a97a7",
   "metadata": {},
   "outputs": [
    {
     "data": {
      "text/plain": [
       "0      8\n",
       "1      8\n",
       "2      8\n",
       "3      8\n",
       "4      8\n",
       "      ..\n",
       "329    3\n",
       "330    3\n",
       "331    3\n",
       "332    3\n",
       "333    4\n",
       "Name: Group, Length: 334, dtype: int64"
      ]
     },
     "execution_count": 47,
     "metadata": {},
     "output_type": "execute_result"
    }
   ],
   "source": [
    "t['Group']"
   ]
  },
  {
   "cell_type": "code",
   "execution_count": 55,
   "id": "064ab941-931f-46b5-89a9-40bb34c02ecb",
   "metadata": {},
   "outputs": [
    {
     "ename": "TypeError",
     "evalue": "'Figure' object is not callable",
     "output_type": "error",
     "traceback": [
      "\u001b[0;31m---------------------------------------------------------------------------\u001b[0m",
      "\u001b[0;31mTypeError\u001b[0m                                 Traceback (most recent call last)",
      "Input \u001b[0;32mIn [55]\u001b[0m, in \u001b[0;36m<module>\u001b[0;34m\u001b[0m\n\u001b[1;32m      1\u001b[0m ax2 \u001b[38;5;241m=\u001b[39m t\u001b[38;5;241m.\u001b[39mplot\u001b[38;5;241m.\u001b[39mscatter(x\u001b[38;5;241m=\u001b[39m \u001b[38;5;124m'\u001b[39m\u001b[38;5;124mLongitude\u001b[39m\u001b[38;5;124m'\u001b[39m,\n\u001b[1;32m      2\u001b[0m                      y\u001b[38;5;241m=\u001b[39m\u001b[38;5;124m'\u001b[39m\u001b[38;5;124mLatitude\u001b[39m\u001b[38;5;124m'\u001b[39m,\n\u001b[1;32m      3\u001b[0m                       c\u001b[38;5;241m=\u001b[39m\u001b[38;5;124m'\u001b[39m\u001b[38;5;124mGroup\u001b[39m\u001b[38;5;124m'\u001b[39m,\n\u001b[1;32m      4\u001b[0m                      colormap\u001b[38;5;241m=\u001b[39m\u001b[38;5;124m'\u001b[39m\u001b[38;5;124mviridis\u001b[39m\u001b[38;5;124m'\u001b[39m)\n\u001b[1;32m      5\u001b[0m \u001b[38;5;28;01mimport\u001b[39;00m \u001b[38;5;21;01mmatplotlib\u001b[39;00m\u001b[38;5;21;01m.\u001b[39;00m\u001b[38;5;21;01mpyplot\u001b[39;00m \u001b[38;5;28;01mas\u001b[39;00m \u001b[38;5;21;01mplt\u001b[39;00m\n\u001b[0;32m----> 6\u001b[0m \u001b[43max2\u001b[49m\u001b[38;5;241;43m.\u001b[39;49m\u001b[43mfigure\u001b[49m\u001b[43m(\u001b[49m\u001b[43mfigsize\u001b[49m\u001b[38;5;241;43m=\u001b[39;49m\u001b[43m(\u001b[49m\u001b[38;5;241;43m10\u001b[39;49m\u001b[43m,\u001b[49m\u001b[38;5;241;43m10\u001b[39;49m\u001b[43m)\u001b[49m\u001b[43m)\u001b[49m\n",
      "\u001b[0;31mTypeError\u001b[0m: 'Figure' object is not callable"
     ]
    },
    {
     "data": {
      "image/png": "[encoded data removed]",
      "text/plain": [
       "<Figure size 432x288 with 2 Axes>"
      ]
     },
     "metadata": {
      "needs_background": "light"
     },
     "output_type": "display_data"
    }
   ],
   "source": [
    "ax2 = t.plot.scatter(x= 'Longitude',\n",
    "                     y='Latitude',\n",
    "                      c='Group',\n",
    "                     colormap='viridis')\n",
    "import matplotlib.pyplot as plt\n",
    "ax2.figure(figsize=(10,10))"
   ]
  },
  {
   "cell_type": "code",
   "execution_count": 58,
   "id": "241b9ba2-ce7e-4941-b084-172edd86a84b",
   "metadata": {},
   "outputs": [
    {
     "ename": "TypeError",
     "evalue": "'Figure' object is not callable",
     "output_type": "error",
     "traceback": [
      "\u001b[0;31m---------------------------------------------------------------------------\u001b[0m",
      "\u001b[0;31mTypeError\u001b[0m                                 Traceback (most recent call last)",
      "Input \u001b[0;32mIn [58]\u001b[0m, in \u001b[0;36m<module>\u001b[0;34m\u001b[0m\n\u001b[1;32m      1\u001b[0m g \u001b[38;5;241m=\u001b[39m plt\u001b[38;5;241m.\u001b[39mscatter(t[\u001b[38;5;124m'\u001b[39m\u001b[38;5;124mLongitude\u001b[39m\u001b[38;5;124m'\u001b[39m], t[\u001b[38;5;124m'\u001b[39m\u001b[38;5;124mLatitude\u001b[39m\u001b[38;5;124m'\u001b[39m], c \u001b[38;5;241m=\u001b[39m t[\u001b[38;5;124m'\u001b[39m\u001b[38;5;124mGroup\u001b[39m\u001b[38;5;124m'\u001b[39m] )\n\u001b[0;32m----> 3\u001b[0m \u001b[43mg\u001b[49m\u001b[38;5;241;43m.\u001b[39;49m\u001b[43mfigure\u001b[49m\u001b[43m(\u001b[49m\u001b[43mfigsize\u001b[49m\u001b[38;5;241;43m=\u001b[39;49m\u001b[43m(\u001b[49m\u001b[38;5;241;43m10\u001b[39;49m\u001b[43m,\u001b[49m\u001b[38;5;241;43m10\u001b[39;49m\u001b[43m)\u001b[49m\u001b[43m)\u001b[49m\n",
      "\u001b[0;31mTypeError\u001b[0m: 'Figure' object is not callable"
     ]
    },
    {
     "data": {
      "image/png": "[encoded data removed]",
      "text/plain": [
       "<Figure size 432x288 with 1 Axes>"
      ]
     },
     "metadata": {
      "needs_background": "light"
     },
     "output_type": "display_data"
    }
   ],
   "source": [
    "g = plt.scatter(t['Longitude'], t['Latitude'], c = t['Group'] )\n",
    "\n"
   ]
  },
  {
   "cell_type": "code",
   "execution_count": 79,
   "id": "a7a13837-afd3-4211-9339-763129e89650",
   "metadata": {},
   "outputs": [],
   "source": [
    "from scipy import stats"
   ]
  },
  {
   "cell_type": "code",
   "execution_count": 60,
   "id": "a6fd5eda-2006-4dc2-8dde-a791da2e19a5",
   "metadata": {},
   "outputs": [],
   "source": [
    "import pandas as pd"
   ]
  },
  {
   "cell_type": "code",
   "execution_count": 62,
   "id": "3da3770f-285d-4f7e-836e-18f6a1f3e1fd",
   "metadata": {},
   "outputs": [],
   "source": [
    "df2=pd.read_excel('LEGO Analytics Case Data.xlsx','Sheet1')"
   ]
  },
  {
   "cell_type": "code",
   "execution_count": 63,
   "id": "65d5e698-a516-4d35-a1e4-ea64bbc931de",
   "metadata": {},
   "outputs": [
    {
     "data": {
      "text/plain": [
       "Set #                  614\n",
       "Name                   614\n",
       "Theme                  614\n",
       "Subtheme               216\n",
       "Release Month (US)     608\n",
       "Piece Count            614\n",
       "# of Minifigures       614\n",
       "Length (in.)           607\n",
       "Width (in.)            607\n",
       "Height (in.)           607\n",
       "Weight (lb.)           607\n",
       "US Retail Price ($)    614\n",
       "Unnamed: 12              0\n",
       "Unnamed: 13              0\n",
       "Unnamed: 14              0\n",
       "Unnamed: 15              0\n",
       "Unnamed: 16              2\n",
       "Unnamed: 17              2\n",
       "Unnamed: 18              2\n",
       "dtype: int64"
      ]
     },
     "execution_count": 63,
     "metadata": {},
     "output_type": "execute_result"
    }
   ],
   "source": [
    "df2.count()"
   ]
  },
  {
   "cell_type": "code",
   "execution_count": 64,
   "id": "b5aa58aa-edd8-4599-a9c4-ba75da1d737b",
   "metadata": {},
   "outputs": [
    {
     "data": {
      "text/html": [
       "<div>\n",
       "<style scoped>\n",
       "    .dataframe tbody tr th:only-of-type {\n",
       "        vertical-align: middle;\n",
       "    }\n",
       "\n",
       "    .dataframe tbody tr th {\n",
       "        vertical-align: top;\n",
       "    }\n",
       "\n",
       "    .dataframe thead th {\n",
       "        text-align: right;\n",
       "    }\n",
       "</style>\n",
       "<table border=\"1\" class=\"dataframe\">\n",
       "  <thead>\n",
       "    <tr style=\"text-align: right;\">\n",
       "      <th></th>\n",
       "      <th>Set #</th>\n",
       "      <th>Name</th>\n",
       "      <th>Theme</th>\n",
       "      <th>Subtheme</th>\n",
       "      <th>Release Month (US)</th>\n",
       "      <th>Piece Count</th>\n",
       "      <th># of Minifigures</th>\n",
       "      <th>Length (in.)</th>\n",
       "      <th>Width (in.)</th>\n",
       "      <th>Height (in.)</th>\n",
       "      <th>Weight (lb.)</th>\n",
       "      <th>US Retail Price ($)</th>\n",
       "      <th>Unnamed: 12</th>\n",
       "      <th>Unnamed: 13</th>\n",
       "      <th>Unnamed: 14</th>\n",
       "      <th>Unnamed: 15</th>\n",
       "      <th>Unnamed: 16</th>\n",
       "      <th>Unnamed: 17</th>\n",
       "      <th>Unnamed: 18</th>\n",
       "    </tr>\n",
       "  </thead>\n",
       "  <tbody>\n",
       "    <tr>\n",
       "      <th>0</th>\n",
       "      <td>10264</td>\n",
       "      <td>Corner Garage</td>\n",
       "      <td>Creator Expert</td>\n",
       "      <td>Modular Buildings</td>\n",
       "      <td>January</td>\n",
       "      <td>2569</td>\n",
       "      <td>6</td>\n",
       "      <td>22.7</td>\n",
       "      <td>18.7</td>\n",
       "      <td>3.4</td>\n",
       "      <td>6.70</td>\n",
       "      <td>199.99</td>\n",
       "      <td>NaN</td>\n",
       "      <td>NaN</td>\n",
       "      <td>NaN</td>\n",
       "      <td>NaN</td>\n",
       "      <td>NaN</td>\n",
       "      <td>NaN</td>\n",
       "      <td>NaN</td>\n",
       "    </tr>\n",
       "    <tr>\n",
       "      <th>1</th>\n",
       "      <td>10265</td>\n",
       "      <td>Ford Mustang</td>\n",
       "      <td>Creator Expert</td>\n",
       "      <td>Vehicles</td>\n",
       "      <td>March</td>\n",
       "      <td>1471</td>\n",
       "      <td>0</td>\n",
       "      <td>18.9</td>\n",
       "      <td>11.1</td>\n",
       "      <td>4.7</td>\n",
       "      <td>4.15</td>\n",
       "      <td>149.99</td>\n",
       "      <td>NaN</td>\n",
       "      <td>NaN</td>\n",
       "      <td>NaN</td>\n",
       "      <td>NaN</td>\n",
       "      <td>NaN</td>\n",
       "      <td>NaN</td>\n",
       "      <td>NaN</td>\n",
       "    </tr>\n",
       "    <tr>\n",
       "      <th>2</th>\n",
       "      <td>10266</td>\n",
       "      <td>NASA Apollo 11 Lunar Lander</td>\n",
       "      <td>Creator Expert</td>\n",
       "      <td>Space</td>\n",
       "      <td>June</td>\n",
       "      <td>1087</td>\n",
       "      <td>2</td>\n",
       "      <td>NaN</td>\n",
       "      <td>NaN</td>\n",
       "      <td>NaN</td>\n",
       "      <td>NaN</td>\n",
       "      <td>99.99</td>\n",
       "      <td>NaN</td>\n",
       "      <td>NaN</td>\n",
       "      <td>NaN</td>\n",
       "      <td>NaN</td>\n",
       "      <td>No minifig</td>\n",
       "      <td>138.0</td>\n",
       "      <td>46.167609</td>\n",
       "    </tr>\n",
       "    <tr>\n",
       "      <th>3</th>\n",
       "      <td>10267</td>\n",
       "      <td>Gingerbread House</td>\n",
       "      <td>Creator Expert</td>\n",
       "      <td>Winter Village</td>\n",
       "      <td>October</td>\n",
       "      <td>1477</td>\n",
       "      <td>2</td>\n",
       "      <td>18.8</td>\n",
       "      <td>10.9</td>\n",
       "      <td>3.5</td>\n",
       "      <td>3.19</td>\n",
       "      <td>99.99</td>\n",
       "      <td>NaN</td>\n",
       "      <td>NaN</td>\n",
       "      <td>NaN</td>\n",
       "      <td>NaN</td>\n",
       "      <td>Have minifig</td>\n",
       "      <td>476.0</td>\n",
       "      <td>49.668571</td>\n",
       "    </tr>\n",
       "    <tr>\n",
       "      <th>4</th>\n",
       "      <td>10269</td>\n",
       "      <td>Harley-Davidson Fat Boy</td>\n",
       "      <td>Creator Expert</td>\n",
       "      <td>Vehicles</td>\n",
       "      <td>August</td>\n",
       "      <td>1023</td>\n",
       "      <td>0</td>\n",
       "      <td>18.9</td>\n",
       "      <td>10.9</td>\n",
       "      <td>3.0</td>\n",
       "      <td>3.00</td>\n",
       "      <td>99.99</td>\n",
       "      <td>NaN</td>\n",
       "      <td>NaN</td>\n",
       "      <td>NaN</td>\n",
       "      <td>NaN</td>\n",
       "      <td>NaN</td>\n",
       "      <td>NaN</td>\n",
       "      <td>NaN</td>\n",
       "    </tr>\n",
       "  </tbody>\n",
       "</table>\n",
       "</div>"
      ],
      "text/plain": [
       "   Set #                         Name           Theme           Subtheme  \\\n",
       "0  10264                Corner Garage  Creator Expert  Modular Buildings   \n",
       "1  10265                 Ford Mustang  Creator Expert           Vehicles   \n",
       "2  10266  NASA Apollo 11 Lunar Lander  Creator Expert              Space   \n",
       "3  10267            Gingerbread House  Creator Expert     Winter Village   \n",
       "4  10269      Harley-Davidson Fat Boy  Creator Expert           Vehicles   \n",
       "\n",
       "  Release Month (US)  Piece Count  # of Minifigures  Length (in.)  \\\n",
       "0            January         2569                 6          22.7   \n",
       "1              March         1471                 0          18.9   \n",
       "2               June         1087                 2           NaN   \n",
       "3            October         1477                 2          18.8   \n",
       "4             August         1023                 0          18.9   \n",
       "\n",
       "   Width (in.)  Height (in.)  Weight (lb.)  US Retail Price ($)  Unnamed: 12  \\\n",
       "0         18.7           3.4          6.70               199.99          NaN   \n",
       "1         11.1           4.7          4.15               149.99          NaN   \n",
       "2          NaN           NaN           NaN                99.99          NaN   \n",
       "3         10.9           3.5          3.19                99.99          NaN   \n",
       "4         10.9           3.0          3.00                99.99          NaN   \n",
       "\n",
       "   Unnamed: 13  Unnamed: 14  Unnamed: 15   Unnamed: 16  Unnamed: 17  \\\n",
       "0          NaN          NaN          NaN           NaN          NaN   \n",
       "1          NaN          NaN          NaN           NaN          NaN   \n",
       "2          NaN          NaN          NaN    No minifig        138.0   \n",
       "3          NaN          NaN          NaN  Have minifig        476.0   \n",
       "4          NaN          NaN          NaN           NaN          NaN   \n",
       "\n",
       "   Unnamed: 18  \n",
       "0          NaN  \n",
       "1          NaN  \n",
       "2    46.167609  \n",
       "3    49.668571  \n",
       "4          NaN  "
      ]
     },
     "execution_count": 64,
     "metadata": {},
     "output_type": "execute_result"
    }
   ],
   "source": [
    "df2.head()"
   ]
  },
  {
   "cell_type": "code",
   "execution_count": null,
   "id": "a10b7351-3570-4405-bbf0-4275c0e54bc1",
   "metadata": {},
   "outputs": [],
   "source": [
    "stats.ttest_rel(df2['Before Neighborhood Watch'],df2['After Neighborhood Watch'])"
   ]
  },
  {
   "cell_type": "code",
   "execution_count": 70,
   "id": "fd0083b8-2350-4e56-a508-d938991ea302",
   "metadata": {},
   "outputs": [
    {
     "data": {
      "text/plain": [
       "False    476\n",
       "True     138\n",
       "Name: # of Minifigures, dtype: int64"
      ]
     },
     "execution_count": 70,
     "metadata": {},
     "output_type": "execute_result"
    }
   ],
   "source": [
    "(df2['# of Minifigures'] == 0).value_counts()"
   ]
  },
  {
   "cell_type": "code",
   "execution_count": null,
   "id": "bd7f2f04-7426-4689-be30-a9df0f27f155",
   "metadata": {},
   "outputs": [],
   "source": [
    "df2['US Retail Price ($)']"
   ]
  },
  {
   "cell_type": "code",
   "execution_count": 71,
   "id": "f56ab443-2ef6-4de6-93c4-737d0e323c63",
   "metadata": {},
   "outputs": [],
   "source": [
    "df2['US Retail Price ($)'](df2['# of Minifigures'] == 0)"
   ]
  },
  {
   "cell_type": "code",
   "execution_count": 73,
   "id": "e8999b11-7b60-4a48-b46a-a5fa54fdebb2",
   "metadata": {},
   "outputs": [],
   "source": [
    "No_Minifig = df2.loc[df2['# of Minifigures'] == 0]\n",
    "Has_Minifig = df2.loc[df2['# of Minifigures'] > 0]"
   ]
  },
  {
   "cell_type": "code",
   "execution_count": 75,
   "id": "1bc09632-cefb-4435-8fe7-9e012b819704",
   "metadata": {},
   "outputs": [
    {
     "name": "stderr",
     "output_type": "stream",
     "text": [
      "/tmp/ipykernel_2774/1828369327.py:1: FutureWarning: Dropping of nuisance columns in DataFrame reductions (with 'numeric_only=None') is deprecated; in a future version this will raise TypeError.  Select only valid columns before calling the reduction.\n",
      "  No_Minifig.var()\n"
     ]
    },
    {
     "data": {
      "text/plain": [
       "Set #                  2.300670e+08\n",
       "Piece Count            5.293135e+05\n",
       "# of Minifigures       0.000000e+00\n",
       "Length (in.)           2.694213e+01\n",
       "Width (in.)            1.393062e+01\n",
       "Height (in.)           1.823869e+00\n",
       "Weight (lb.)           6.119895e+00\n",
       "US Retail Price ($)    4.680551e+03\n",
       "Unnamed: 12                     NaN\n",
       "Unnamed: 13                     NaN\n",
       "Unnamed: 14                     NaN\n",
       "Unnamed: 15                     NaN\n",
       "Unnamed: 16                     NaN\n",
       "Unnamed: 17                     NaN\n",
       "Unnamed: 18                     NaN\n",
       "dtype: float64"
      ]
     },
     "execution_count": 75,
     "metadata": {},
     "output_type": "execute_result"
    }
   ],
   "source": [
    "No_Minifig.var()\n"
   ]
  },
  {
   "cell_type": "code",
   "execution_count": 76,
   "id": "6ca7e9db-320b-40a1-ac4b-75fcf5f1592c",
   "metadata": {},
   "outputs": [
    {
     "name": "stderr",
     "output_type": "stream",
     "text": [
      "/tmp/ipykernel_2774/1351626205.py:1: FutureWarning: Dropping of nuisance columns in DataFrame reductions (with 'numeric_only=None') is deprecated; in a future version this will raise TypeError.  Select only valid columns before calling the reduction.\n",
      "  Has_Minifig.var()\n"
     ]
    },
    {
     "data": {
      "text/plain": [
       "Set #                  4.385805e+08\n",
       "Piece Count            3.747329e+05\n",
       "# of Minifigures       8.119717e+00\n",
       "Length (in.)           2.220879e+01\n",
       "Width (in.)            1.038841e+01\n",
       "Height (in.)           9.607709e-01\n",
       "Weight (lb.)           5.118756e+00\n",
       "US Retail Price ($)    3.531595e+03\n",
       "Unnamed: 12                     NaN\n",
       "Unnamed: 13                     NaN\n",
       "Unnamed: 14                     NaN\n",
       "Unnamed: 15                     NaN\n",
       "Unnamed: 17            5.712200e+04\n",
       "Unnamed: 18            6.128370e+00\n",
       "dtype: float64"
      ]
     },
     "execution_count": 76,
     "metadata": {},
     "output_type": "execute_result"
    }
   ],
   "source": [
    "Has_Minifig.var()"
   ]
  },
  {
   "cell_type": "code",
   "execution_count": 81,
   "id": "8d649793-e01e-4a08-8b11-84b325d5553d",
   "metadata": {},
   "outputs": [
    {
     "data": {
      "text/plain": [
       "LeveneResult(statistic=0.38031252268721244, pvalue=0.5376653613946456)"
      ]
     },
     "execution_count": 81,
     "metadata": {},
     "output_type": "execute_result"
    }
   ],
   "source": [
    "stats.levene(No_Minifig['US Retail Price ($)'],Has_Minifig['US Retail Price ($)'])\n",
    "#Indicates They have same variance"
   ]
  },
  {
   "cell_type": "code",
   "execution_count": 82,
   "id": "4fd79b59-4763-4257-a0be-499d5951f842",
   "metadata": {},
   "outputs": [
    {
     "data": {
      "text/plain": [
       "Ttest_indResult(statistic=-0.5882957311010458, pvalue=0.5565508437696696)"
      ]
     },
     "execution_count": 82,
     "metadata": {},
     "output_type": "execute_result"
    }
   ],
   "source": [
    "stats.ttest_ind(No_Minifig['US Retail Price ($)'],Has_Minifig['US Retail Price ($)'])\n",
    "#We Failed to reject the null hypothesis"
   ]
  },
  {
   "cell_type": "code",
   "execution_count": null,
   "id": "22fe7047-61f7-4c6c-a1c6-d554bd1b75f0",
   "metadata": {},
   "outputs": [],
   "source": []
  }
 ],
 "metadata": {
  "kernelspec": {
   "display_name": "Python 3 (ipykernel)",
   "language": "python",
   "name": "python3"
  },
  "language_info": {
   "codemirror_mode": {
    "name": "ipython",
    "version": 3
   },
   "file_extension": ".py",
   "mimetype": "text/x-python",
   "name": "python",
   "nbconvert_exporter": "python",
   "pygments_lexer": "ipython3",
   "version": "3.9.7"
  }
 },
 "nbformat": 4,
 "nbformat_minor": 5
}
