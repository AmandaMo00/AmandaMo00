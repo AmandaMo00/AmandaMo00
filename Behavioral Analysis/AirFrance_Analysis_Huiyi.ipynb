{
 "cells": [
  {
   "cell_type": "markdown",
   "id": "2f4a8a4f-93a1-45ed-8c8f-8093c34c5530",
   "metadata": {},
   "source": [
    "# Air France Marketing Analysis \n",
    "### -Huiyi Huang"
   ]
  },
  {
   "cell_type": "code",
   "execution_count": 977,
   "id": "a376946a-6234-4d37-b27f-2af01b5b5f53",
   "metadata": {},
   "outputs": [],
   "source": [
    "import pandas as pd\n",
    "import seaborn as sns\n",
    "import numpy as np"
   ]
  },
  {
   "cell_type": "code",
   "execution_count": 978,
   "id": "7343c837-95a0-4aad-8859-742631ebb36e",
   "metadata": {},
   "outputs": [],
   "source": [
    "data = pd.read_excel('Air France Case Spreadsheet Supplement.xls','DoubleClick')"
   ]
  },
  {
   "cell_type": "code",
   "execution_count": 979,
   "id": "b9dd21ae-2547-4907-95c1-673616d9a23a",
   "metadata": {},
   "outputs": [
    {
     "data": {
      "text/html": [
       "<div>\n",
       "<style scoped>\n",
       "    .dataframe tbody tr th:only-of-type {\n",
       "        vertical-align: middle;\n",
       "    }\n",
       "\n",
       "    .dataframe tbody tr th {\n",
       "        vertical-align: top;\n",
       "    }\n",
       "\n",
       "    .dataframe thead th {\n",
       "        text-align: right;\n",
       "    }\n",
       "</style>\n",
       "<table border=\"1\" class=\"dataframe\">\n",
       "  <thead>\n",
       "    <tr style=\"text-align: right;\">\n",
       "      <th></th>\n",
       "      <th>Publisher ID</th>\n",
       "      <th>Publisher Name</th>\n",
       "      <th>Keyword ID</th>\n",
       "      <th>Keyword</th>\n",
       "      <th>Match Type</th>\n",
       "      <th>Campaign</th>\n",
       "      <th>Keyword Group</th>\n",
       "      <th>Category</th>\n",
       "      <th>Bid Strategy</th>\n",
       "      <th>Keyword Type</th>\n",
       "      <th>...</th>\n",
       "      <th>Click Charges</th>\n",
       "      <th>Avg. Cost per Click</th>\n",
       "      <th>Impressions</th>\n",
       "      <th>Engine Click Thru %</th>\n",
       "      <th>Avg. Pos.</th>\n",
       "      <th>Trans. Conv. %</th>\n",
       "      <th>Total Cost/ Trans.</th>\n",
       "      <th>Amount</th>\n",
       "      <th>Total Cost</th>\n",
       "      <th>Total Volume of Bookings</th>\n",
       "    </tr>\n",
       "  </thead>\n",
       "  <tbody>\n",
       "    <tr>\n",
       "      <th>0</th>\n",
       "      <td>K2615</td>\n",
       "      <td>Yahoo - US</td>\n",
       "      <td>43000000039657988</td>\n",
       "      <td>fly to florence</td>\n",
       "      <td>Advanced</td>\n",
       "      <td>Western Europe Destinations</td>\n",
       "      <td>Florence</td>\n",
       "      <td>uncategorized</td>\n",
       "      <td>NaN</td>\n",
       "      <td>Unassigned</td>\n",
       "      <td>...</td>\n",
       "      <td>2.3125</td>\n",
       "      <td>2.312500</td>\n",
       "      <td>11</td>\n",
       "      <td>9.090909</td>\n",
       "      <td>1.272727</td>\n",
       "      <td>900.000000</td>\n",
       "      <td>0.256944</td>\n",
       "      <td>8777.95</td>\n",
       "      <td>2.3125</td>\n",
       "      <td>9</td>\n",
       "    </tr>\n",
       "    <tr>\n",
       "      <th>1</th>\n",
       "      <td>K2615</td>\n",
       "      <td>Yahoo - US</td>\n",
       "      <td>43000000039651113</td>\n",
       "      <td>low international airfare</td>\n",
       "      <td>Advanced</td>\n",
       "      <td>Geo Targeted DC</td>\n",
       "      <td>Low International DC</td>\n",
       "      <td>uncategorized</td>\n",
       "      <td>NaN</td>\n",
       "      <td>Unassigned</td>\n",
       "      <td>...</td>\n",
       "      <td>0.6250</td>\n",
       "      <td>0.625000</td>\n",
       "      <td>6</td>\n",
       "      <td>16.666667</td>\n",
       "      <td>1.000000</td>\n",
       "      <td>100.000000</td>\n",
       "      <td>0.625000</td>\n",
       "      <td>1574.20</td>\n",
       "      <td>0.6250</td>\n",
       "      <td>1</td>\n",
       "    </tr>\n",
       "    <tr>\n",
       "      <th>2</th>\n",
       "      <td>K2003</td>\n",
       "      <td>MSN - Global</td>\n",
       "      <td>43000000019452431</td>\n",
       "      <td>air discount france ticket</td>\n",
       "      <td>Broad</td>\n",
       "      <td>Air France Brand &amp; French Destinations</td>\n",
       "      <td>France</td>\n",
       "      <td>uncategorized</td>\n",
       "      <td>Position 2-5 Bid Strategy</td>\n",
       "      <td>Unassigned</td>\n",
       "      <td>...</td>\n",
       "      <td>0.3875</td>\n",
       "      <td>0.387500</td>\n",
       "      <td>9</td>\n",
       "      <td>11.111111</td>\n",
       "      <td>1.111111</td>\n",
       "      <td>100.000000</td>\n",
       "      <td>0.387500</td>\n",
       "      <td>390.15</td>\n",
       "      <td>0.3875</td>\n",
       "      <td>1</td>\n",
       "    </tr>\n",
       "    <tr>\n",
       "      <th>3</th>\n",
       "      <td>K1175</td>\n",
       "      <td>Google - Global</td>\n",
       "      <td>43000000005663331</td>\n",
       "      <td>[airfrance]</td>\n",
       "      <td>Exact</td>\n",
       "      <td>Air France Global Campaign</td>\n",
       "      <td>Air France</td>\n",
       "      <td>airfrance</td>\n",
       "      <td>Position 1- 3</td>\n",
       "      <td>Unassigned</td>\n",
       "      <td>...</td>\n",
       "      <td>2.3125</td>\n",
       "      <td>0.039195</td>\n",
       "      <td>401</td>\n",
       "      <td>14.713217</td>\n",
       "      <td>2.000000</td>\n",
       "      <td>3.389831</td>\n",
       "      <td>1.156250</td>\n",
       "      <td>1665.15</td>\n",
       "      <td>2.3125</td>\n",
       "      <td>2</td>\n",
       "    </tr>\n",
       "    <tr>\n",
       "      <th>4</th>\n",
       "      <td>K1123</td>\n",
       "      <td>Overture - Global</td>\n",
       "      <td>43000000005421354</td>\n",
       "      <td>air france online booking</td>\n",
       "      <td>Standard</td>\n",
       "      <td>Unassigned</td>\n",
       "      <td>Unassigned</td>\n",
       "      <td>airfrance</td>\n",
       "      <td>Position 1-2 Target</td>\n",
       "      <td>Unassigned</td>\n",
       "      <td>...</td>\n",
       "      <td>2.2000</td>\n",
       "      <td>0.275000</td>\n",
       "      <td>318</td>\n",
       "      <td>2.515723</td>\n",
       "      <td>2.975786</td>\n",
       "      <td>12.500000</td>\n",
       "      <td>2.200000</td>\n",
       "      <td>935.00</td>\n",
       "      <td>2.2000</td>\n",
       "      <td>1</td>\n",
       "    </tr>\n",
       "  </tbody>\n",
       "</table>\n",
       "<p>5 rows × 23 columns</p>\n",
       "</div>"
      ],
      "text/plain": [
       "  Publisher ID     Publisher Name         Keyword ID  \\\n",
       "0        K2615         Yahoo - US  43000000039657988   \n",
       "1        K2615         Yahoo - US  43000000039651113   \n",
       "2        K2003       MSN - Global  43000000019452431   \n",
       "3        K1175    Google - Global  43000000005663331   \n",
       "4        K1123  Overture - Global  43000000005421354   \n",
       "\n",
       "                      Keyword Match Type  \\\n",
       "0             fly to florence   Advanced   \n",
       "1   low international airfare   Advanced   \n",
       "2  air discount france ticket      Broad   \n",
       "3                 [airfrance]      Exact   \n",
       "4   air france online booking   Standard   \n",
       "\n",
       "                                 Campaign         Keyword Group  \\\n",
       "0             Western Europe Destinations              Florence   \n",
       "1                         Geo Targeted DC  Low International DC   \n",
       "2  Air France Brand & French Destinations                France   \n",
       "3              Air France Global Campaign            Air France   \n",
       "4                              Unassigned            Unassigned   \n",
       "\n",
       "        Category               Bid Strategy Keyword Type  ... Click Charges  \\\n",
       "0  uncategorized                        NaN   Unassigned  ...        2.3125   \n",
       "1  uncategorized                        NaN   Unassigned  ...        0.6250   \n",
       "2  uncategorized  Position 2-5 Bid Strategy   Unassigned  ...        0.3875   \n",
       "3      airfrance              Position 1- 3   Unassigned  ...        2.3125   \n",
       "4      airfrance        Position 1-2 Target   Unassigned  ...        2.2000   \n",
       "\n",
       "   Avg. Cost per Click  Impressions  Engine Click Thru %  Avg. Pos.  \\\n",
       "0             2.312500           11             9.090909   1.272727   \n",
       "1             0.625000            6            16.666667   1.000000   \n",
       "2             0.387500            9            11.111111   1.111111   \n",
       "3             0.039195          401            14.713217   2.000000   \n",
       "4             0.275000          318             2.515723   2.975786   \n",
       "\n",
       "   Trans. Conv. %  Total Cost/ Trans.   Amount  Total Cost  \\\n",
       "0      900.000000            0.256944  8777.95      2.3125   \n",
       "1      100.000000            0.625000  1574.20      0.6250   \n",
       "2      100.000000            0.387500   390.15      0.3875   \n",
       "3        3.389831            1.156250  1665.15      2.3125   \n",
       "4       12.500000            2.200000   935.00      2.2000   \n",
       "\n",
       "   Total Volume of Bookings  \n",
       "0                         9  \n",
       "1                         1  \n",
       "2                         1  \n",
       "3                         2  \n",
       "4                         1  \n",
       "\n",
       "[5 rows x 23 columns]"
      ]
     },
     "execution_count": 979,
     "metadata": {},
     "output_type": "execute_result"
    }
   ],
   "source": [
    "data.head()"
   ]
  },
  {
   "cell_type": "code",
   "execution_count": 980,
   "id": "709a596f-3889-431b-a922-0d1808da2751",
   "metadata": {},
   "outputs": [
    {
     "data": {
      "text/html": [
       "<div>\n",
       "<style scoped>\n",
       "    .dataframe tbody tr th:only-of-type {\n",
       "        vertical-align: middle;\n",
       "    }\n",
       "\n",
       "    .dataframe tbody tr th {\n",
       "        vertical-align: top;\n",
       "    }\n",
       "\n",
       "    .dataframe thead th {\n",
       "        text-align: right;\n",
       "    }\n",
       "</style>\n",
       "<table border=\"1\" class=\"dataframe\">\n",
       "  <thead>\n",
       "    <tr style=\"text-align: right;\">\n",
       "      <th></th>\n",
       "      <th>Keyword ID</th>\n",
       "      <th>Search Engine Bid</th>\n",
       "      <th>Clicks</th>\n",
       "      <th>Click Charges</th>\n",
       "      <th>Avg. Cost per Click</th>\n",
       "      <th>Impressions</th>\n",
       "      <th>Engine Click Thru %</th>\n",
       "      <th>Avg. Pos.</th>\n",
       "      <th>Trans. Conv. %</th>\n",
       "      <th>Total Cost/ Trans.</th>\n",
       "      <th>Amount</th>\n",
       "      <th>Total Cost</th>\n",
       "      <th>Total Volume of Bookings</th>\n",
       "    </tr>\n",
       "  </thead>\n",
       "  <tbody>\n",
       "    <tr>\n",
       "      <th>count</th>\n",
       "      <td>4.510000e+03</td>\n",
       "      <td>4510.000000</td>\n",
       "      <td>4510.000000</td>\n",
       "      <td>4510.000000</td>\n",
       "      <td>4510.000000</td>\n",
       "      <td>4.510000e+03</td>\n",
       "      <td>4510.000000</td>\n",
       "      <td>4510.000000</td>\n",
       "      <td>4510.000000</td>\n",
       "      <td>4510.000000</td>\n",
       "      <td>4510.000000</td>\n",
       "      <td>4510.000000</td>\n",
       "      <td>4510.000000</td>\n",
       "    </tr>\n",
       "    <tr>\n",
       "      <th>mean</th>\n",
       "      <td>4.300000e+16</td>\n",
       "      <td>5.434631</td>\n",
       "      <td>113.713747</td>\n",
       "      <td>167.475814</td>\n",
       "      <td>1.890240</td>\n",
       "      <td>9.283520e+03</td>\n",
       "      <td>11.141451</td>\n",
       "      <td>1.929640</td>\n",
       "      <td>0.569255</td>\n",
       "      <td>27.607445</td>\n",
       "      <td>1033.683492</td>\n",
       "      <td>167.475814</td>\n",
       "      <td>0.873392</td>\n",
       "    </tr>\n",
       "    <tr>\n",
       "      <th>std</th>\n",
       "      <td>1.081229e+07</td>\n",
       "      <td>3.302217</td>\n",
       "      <td>1062.712282</td>\n",
       "      <td>1342.375797</td>\n",
       "      <td>1.322375</td>\n",
       "      <td>1.696674e+05</td>\n",
       "      <td>20.234582</td>\n",
       "      <td>1.075528</td>\n",
       "      <td>13.862485</td>\n",
       "      <td>226.310133</td>\n",
       "      <td>14940.371898</td>\n",
       "      <td>1342.375797</td>\n",
       "      <td>12.115789</td>\n",
       "    </tr>\n",
       "    <tr>\n",
       "      <th>min</th>\n",
       "      <td>4.300000e+16</td>\n",
       "      <td>0.000000</td>\n",
       "      <td>0.000000</td>\n",
       "      <td>0.000000</td>\n",
       "      <td>0.000000</td>\n",
       "      <td>0.000000e+00</td>\n",
       "      <td>0.000000</td>\n",
       "      <td>0.000000</td>\n",
       "      <td>0.000000</td>\n",
       "      <td>0.000000</td>\n",
       "      <td>0.000000</td>\n",
       "      <td>0.000000</td>\n",
       "      <td>0.000000</td>\n",
       "    </tr>\n",
       "    <tr>\n",
       "      <th>25%</th>\n",
       "      <td>4.300000e+16</td>\n",
       "      <td>3.384375</td>\n",
       "      <td>1.000000</td>\n",
       "      <td>2.312500</td>\n",
       "      <td>0.825000</td>\n",
       "      <td>2.800000e+01</td>\n",
       "      <td>1.531681</td>\n",
       "      <td>1.142857</td>\n",
       "      <td>0.000000</td>\n",
       "      <td>0.000000</td>\n",
       "      <td>0.000000</td>\n",
       "      <td>2.312500</td>\n",
       "      <td>0.000000</td>\n",
       "    </tr>\n",
       "    <tr>\n",
       "      <th>50%</th>\n",
       "      <td>4.300000e+16</td>\n",
       "      <td>6.250000</td>\n",
       "      <td>4.000000</td>\n",
       "      <td>6.756250</td>\n",
       "      <td>1.650493</td>\n",
       "      <td>1.760000e+02</td>\n",
       "      <td>4.105614</td>\n",
       "      <td>1.593991</td>\n",
       "      <td>0.000000</td>\n",
       "      <td>0.000000</td>\n",
       "      <td>0.000000</td>\n",
       "      <td>6.756250</td>\n",
       "      <td>0.000000</td>\n",
       "    </tr>\n",
       "    <tr>\n",
       "      <th>75%</th>\n",
       "      <td>4.300000e+16</td>\n",
       "      <td>6.250000</td>\n",
       "      <td>19.000000</td>\n",
       "      <td>28.487500</td>\n",
       "      <td>2.662500</td>\n",
       "      <td>8.435000e+02</td>\n",
       "      <td>10.916928</td>\n",
       "      <td>2.308105</td>\n",
       "      <td>0.000000</td>\n",
       "      <td>0.000000</td>\n",
       "      <td>0.000000</td>\n",
       "      <td>28.487500</td>\n",
       "      <td>0.000000</td>\n",
       "    </tr>\n",
       "    <tr>\n",
       "      <th>max</th>\n",
       "      <td>4.300000e+16</td>\n",
       "      <td>27.500000</td>\n",
       "      <td>34012.000000</td>\n",
       "      <td>46188.437315</td>\n",
       "      <td>10.000000</td>\n",
       "      <td>8.342415e+06</td>\n",
       "      <td>200.000000</td>\n",
       "      <td>15.000000</td>\n",
       "      <td>900.000000</td>\n",
       "      <td>9597.174987</td>\n",
       "      <td>567463.400000</td>\n",
       "      <td>46188.437315</td>\n",
       "      <td>439.000000</td>\n",
       "    </tr>\n",
       "  </tbody>\n",
       "</table>\n",
       "</div>"
      ],
      "text/plain": [
       "         Keyword ID  Search Engine Bid        Clicks  Click Charges  \\\n",
       "count  4.510000e+03        4510.000000   4510.000000    4510.000000   \n",
       "mean   4.300000e+16           5.434631    113.713747     167.475814   \n",
       "std    1.081229e+07           3.302217   1062.712282    1342.375797   \n",
       "min    4.300000e+16           0.000000      0.000000       0.000000   \n",
       "25%    4.300000e+16           3.384375      1.000000       2.312500   \n",
       "50%    4.300000e+16           6.250000      4.000000       6.756250   \n",
       "75%    4.300000e+16           6.250000     19.000000      28.487500   \n",
       "max    4.300000e+16          27.500000  34012.000000   46188.437315   \n",
       "\n",
       "       Avg. Cost per Click   Impressions  Engine Click Thru %    Avg. Pos.  \\\n",
       "count          4510.000000  4.510000e+03          4510.000000  4510.000000   \n",
       "mean              1.890240  9.283520e+03            11.141451     1.929640   \n",
       "std               1.322375  1.696674e+05            20.234582     1.075528   \n",
       "min               0.000000  0.000000e+00             0.000000     0.000000   \n",
       "25%               0.825000  2.800000e+01             1.531681     1.142857   \n",
       "50%               1.650493  1.760000e+02             4.105614     1.593991   \n",
       "75%               2.662500  8.435000e+02            10.916928     2.308105   \n",
       "max              10.000000  8.342415e+06           200.000000    15.000000   \n",
       "\n",
       "       Trans. Conv. %  Total Cost/ Trans.         Amount    Total Cost  \\\n",
       "count     4510.000000         4510.000000    4510.000000   4510.000000   \n",
       "mean         0.569255           27.607445    1033.683492    167.475814   \n",
       "std         13.862485          226.310133   14940.371898   1342.375797   \n",
       "min          0.000000            0.000000       0.000000      0.000000   \n",
       "25%          0.000000            0.000000       0.000000      2.312500   \n",
       "50%          0.000000            0.000000       0.000000      6.756250   \n",
       "75%          0.000000            0.000000       0.000000     28.487500   \n",
       "max        900.000000         9597.174987  567463.400000  46188.437315   \n",
       "\n",
       "       Total Volume of Bookings  \n",
       "count               4510.000000  \n",
       "mean                   0.873392  \n",
       "std                   12.115789  \n",
       "min                    0.000000  \n",
       "25%                    0.000000  \n",
       "50%                    0.000000  \n",
       "75%                    0.000000  \n",
       "max                  439.000000  "
      ]
     },
     "execution_count": 980,
     "metadata": {},
     "output_type": "execute_result"
    }
   ],
   "source": [
    "data.describe()"
   ]
  },
  {
   "cell_type": "code",
   "execution_count": 981,
   "id": "41069456-5c83-46d3-88a5-4bfd804d7de4",
   "metadata": {},
   "outputs": [
    {
     "name": "stdout",
     "output_type": "stream",
     "text": [
      "<class 'pandas.core.frame.DataFrame'>\n",
      "RangeIndex: 4510 entries, 0 to 4509\n",
      "Data columns (total 23 columns):\n",
      " #   Column                    Non-Null Count  Dtype  \n",
      "---  ------                    --------------  -----  \n",
      " 0   Publisher ID              4510 non-null   object \n",
      " 1   Publisher Name            4510 non-null   object \n",
      " 2   Keyword ID                4510 non-null   int64  \n",
      " 3   Keyword                   4510 non-null   object \n",
      " 4   Match Type                4462 non-null   object \n",
      " 5   Campaign                  4510 non-null   object \n",
      " 6   Keyword Group             4510 non-null   object \n",
      " 7   Category                  4510 non-null   object \n",
      " 8   Bid Strategy              3286 non-null   object \n",
      " 9   Keyword Type              4510 non-null   object \n",
      " 10  Status                    4510 non-null   object \n",
      " 11  Search Engine Bid         4510 non-null   float64\n",
      " 12  Clicks                    4510 non-null   int64  \n",
      " 13  Click Charges             4510 non-null   float64\n",
      " 14  Avg. Cost per Click       4510 non-null   float64\n",
      " 15  Impressions               4510 non-null   int64  \n",
      " 16  Engine Click Thru %       4510 non-null   float64\n",
      " 17  Avg. Pos.                 4510 non-null   float64\n",
      " 18  Trans. Conv. %            4510 non-null   float64\n",
      " 19  Total Cost/ Trans.        4510 non-null   float64\n",
      " 20  Amount                    4510 non-null   float64\n",
      " 21  Total Cost                4510 non-null   float64\n",
      " 22  Total Volume of Bookings  4510 non-null   int64  \n",
      "dtypes: float64(9), int64(4), object(10)\n",
      "memory usage: 810.5+ KB\n"
     ]
    }
   ],
   "source": [
    "data.info()"
   ]
  },
  {
   "cell_type": "markdown",
   "id": "9a407b2c-f74d-4dd9-83ac-21b0ef268ad7",
   "metadata": {},
   "source": [
    "## 1 a) Net Revenue"
   ]
  },
  {
   "cell_type": "code",
   "execution_count": 982,
   "id": "5a419d2d-5e79-4ef8-bd08-4481d6c163a7",
   "metadata": {
    "tags": []
   },
   "outputs": [],
   "source": [
    "data['Net_Revenue'] = data['Amount'] - data['Total Cost']"
   ]
  },
  {
   "cell_type": "markdown",
   "id": "da9ac7ca-58d6-4796-b299-152d065e8ca4",
   "metadata": {},
   "source": [
    "## 1 b)Return on Ad $ Spent (ROA)"
   ]
  },
  {
   "cell_type": "code",
   "execution_count": 983,
   "id": "4e16b480-145a-4feb-8697-b195cf84f885",
   "metadata": {},
   "outputs": [],
   "source": [
    "data['ROA'] = (data['Net_Revenue']/data['Total Cost'])*100"
   ]
  },
  {
   "cell_type": "code",
   "execution_count": 984,
   "id": "d13ef8ce-eb57-4ae4-beb5-333356461a83",
   "metadata": {},
   "outputs": [
    {
     "data": {
      "text/plain": [
       "0       379487.027027\n",
       "1       251772.000000\n",
       "2       100583.870968\n",
       "3        71906.491546\n",
       "4        42400.000000\n",
       "            ...      \n",
       "4505      -100.000000\n",
       "4506      -100.000000\n",
       "4507      -100.000000\n",
       "4508      -100.000000\n",
       "4509      -100.000000\n",
       "Name: ROA, Length: 4510, dtype: float64"
      ]
     },
     "execution_count": 984,
     "metadata": {},
     "output_type": "execute_result"
    }
   ],
   "source": [
    "data['ROA']"
   ]
  },
  {
   "cell_type": "code",
   "execution_count": 985,
   "id": "0a128aa2-4c69-46c6-9207-c0c01bb5ec58",
   "metadata": {},
   "outputs": [],
   "source": [
    "data.loc[data['Total Cost'] == 0, 'ROA'] = 0"
   ]
  },
  {
   "cell_type": "code",
   "execution_count": 986,
   "id": "9df9c1ed-61ca-4673-afa6-89d760fe1fe5",
   "metadata": {},
   "outputs": [
    {
     "data": {
      "text/plain": [
       "341.4138635681243"
      ]
     },
     "execution_count": 986,
     "metadata": {},
     "output_type": "execute_result"
    }
   ],
   "source": [
    "data['ROA'].mean()"
   ]
  },
  {
   "cell_type": "markdown",
   "id": "6d8363b6-211e-4ce6-ae22-c3914fb13788",
   "metadata": {},
   "source": [
    "## 1 c) Averdescribe Revenue per Booking"
   ]
  },
  {
   "cell_type": "code",
   "execution_count": 987,
   "id": "485786c8-66a5-4800-940e-eca2d78eb4d9",
   "metadata": {},
   "outputs": [],
   "source": [
    "data['Average Revenue per Booking'] = data['Amount'] /data['Total Volume of Bookings']"
   ]
  },
  {
   "cell_type": "code",
   "execution_count": 988,
   "id": "9ec02d51-8324-431c-8576-53ad10a72655",
   "metadata": {},
   "outputs": [],
   "source": [
    "data.loc[data['Total Volume of Bookings'] == 0, 'Average Revenue per Booking'] = 0"
   ]
  },
  {
   "cell_type": "code",
   "execution_count": 989,
   "id": "234e60e0-8c37-4bed-aa2d-90cd7c1c3c2e",
   "metadata": {},
   "outputs": [
    {
     "data": {
      "text/plain": [
       "count    4510.000000\n",
       "mean       83.575942\n",
       "std       344.981225\n",
       "min         0.000000\n",
       "25%         0.000000\n",
       "50%         0.000000\n",
       "75%         0.000000\n",
       "max      5877.750000\n",
       "Name: Average Revenue per Booking, dtype: float64"
      ]
     },
     "execution_count": 989,
     "metadata": {},
     "output_type": "execute_result"
    }
   ],
   "source": [
    "data['Average Revenue per Booking'].describe()"
   ]
  },
  {
   "cell_type": "markdown",
   "id": "50474126-3904-4929-a2fd-add19d719878",
   "metadata": {},
   "source": [
    "## 1 d)Probability of Booking"
   ]
  },
  {
   "cell_type": "code",
   "execution_count": 990,
   "id": "bc94f4f7-584f-41fc-9fb1-5e30a7aecf08",
   "metadata": {},
   "outputs": [],
   "source": [
    "data ['Probability of Booking'] = (data['Engine Click Thru %'] * data['Trans. Conv. %']) / 10000"
   ]
  },
  {
   "cell_type": "code",
   "execution_count": 991,
   "id": "e949bfad-4413-44c6-89bd-c86d1e6bc716",
   "metadata": {},
   "outputs": [
    {
     "data": {
      "text/plain": [
       "0       0.818182\n",
       "1       0.166667\n",
       "2       0.111111\n",
       "3       0.004988\n",
       "4       0.003145\n",
       "          ...   \n",
       "4505    0.000000\n",
       "4506    0.000000\n",
       "4507    0.000000\n",
       "4508    0.000000\n",
       "4509    0.000000\n",
       "Name: Probability of Booking, Length: 4510, dtype: float64"
      ]
     },
     "execution_count": 991,
     "metadata": {},
     "output_type": "execute_result"
    }
   ],
   "source": [
    "data['Probability of Booking']"
   ]
  },
  {
   "cell_type": "code",
   "execution_count": 992,
   "id": "fb0934a0-3498-439e-8646-02859c17770d",
   "metadata": {},
   "outputs": [
    {
     "data": {
      "text/html": [
       "<div>\n",
       "<style scoped>\n",
       "    .dataframe tbody tr th:only-of-type {\n",
       "        vertical-align: middle;\n",
       "    }\n",
       "\n",
       "    .dataframe tbody tr th {\n",
       "        vertical-align: top;\n",
       "    }\n",
       "\n",
       "    .dataframe thead th {\n",
       "        text-align: right;\n",
       "    }\n",
       "</style>\n",
       "<table border=\"1\" class=\"dataframe\">\n",
       "  <thead>\n",
       "    <tr style=\"text-align: right;\">\n",
       "      <th></th>\n",
       "      <th>Engine Click Thru %</th>\n",
       "      <th>Trans. Conv. %</th>\n",
       "      <th>Net_Revenue</th>\n",
       "      <th>Avg. Cost per Click</th>\n",
       "      <th>ROA</th>\n",
       "      <th>Average Revenue per Booking</th>\n",
       "      <th>Probability of Booking</th>\n",
       "    </tr>\n",
       "  </thead>\n",
       "  <tbody>\n",
       "    <tr>\n",
       "      <th>count</th>\n",
       "      <td>4510.000000</td>\n",
       "      <td>4510.000000</td>\n",
       "      <td>4510.000000</td>\n",
       "      <td>4510.000000</td>\n",
       "      <td>4510.000000</td>\n",
       "      <td>4510.000000</td>\n",
       "      <td>4510.000000</td>\n",
       "    </tr>\n",
       "    <tr>\n",
       "      <th>mean</th>\n",
       "      <td>11.141451</td>\n",
       "      <td>0.569255</td>\n",
       "      <td>866.207678</td>\n",
       "      <td>1.890240</td>\n",
       "      <td>341.413864</td>\n",
       "      <td>83.575942</td>\n",
       "      <td>0.000681</td>\n",
       "    </tr>\n",
       "    <tr>\n",
       "      <th>std</th>\n",
       "      <td>20.234582</td>\n",
       "      <td>13.862485</td>\n",
       "      <td>14246.298903</td>\n",
       "      <td>1.322375</td>\n",
       "      <td>7277.915278</td>\n",
       "      <td>344.981225</td>\n",
       "      <td>0.015151</td>\n",
       "    </tr>\n",
       "    <tr>\n",
       "      <th>min</th>\n",
       "      <td>0.000000</td>\n",
       "      <td>0.000000</td>\n",
       "      <td>-8725.924987</td>\n",
       "      <td>0.000000</td>\n",
       "      <td>-100.000000</td>\n",
       "      <td>0.000000</td>\n",
       "      <td>0.000000</td>\n",
       "    </tr>\n",
       "    <tr>\n",
       "      <th>25%</th>\n",
       "      <td>1.531681</td>\n",
       "      <td>0.000000</td>\n",
       "      <td>-18.871875</td>\n",
       "      <td>0.825000</td>\n",
       "      <td>-100.000000</td>\n",
       "      <td>0.000000</td>\n",
       "      <td>0.000000</td>\n",
       "    </tr>\n",
       "    <tr>\n",
       "      <th>50%</th>\n",
       "      <td>4.105614</td>\n",
       "      <td>0.000000</td>\n",
       "      <td>-4.987500</td>\n",
       "      <td>1.650493</td>\n",
       "      <td>-100.000000</td>\n",
       "      <td>0.000000</td>\n",
       "      <td>0.000000</td>\n",
       "    </tr>\n",
       "    <tr>\n",
       "      <th>75%</th>\n",
       "      <td>10.916928</td>\n",
       "      <td>0.000000</td>\n",
       "      <td>-1.600000</td>\n",
       "      <td>2.662500</td>\n",
       "      <td>-100.000000</td>\n",
       "      <td>0.000000</td>\n",
       "      <td>0.000000</td>\n",
       "    </tr>\n",
       "    <tr>\n",
       "      <th>max</th>\n",
       "      <td>200.000000</td>\n",
       "      <td>900.000000</td>\n",
       "      <td>549524.050273</td>\n",
       "      <td>10.000000</td>\n",
       "      <td>379487.027027</td>\n",
       "      <td>5877.750000</td>\n",
       "      <td>0.818182</td>\n",
       "    </tr>\n",
       "  </tbody>\n",
       "</table>\n",
       "</div>"
      ],
      "text/plain": [
       "       Engine Click Thru %  Trans. Conv. %    Net_Revenue  \\\n",
       "count          4510.000000     4510.000000    4510.000000   \n",
       "mean             11.141451        0.569255     866.207678   \n",
       "std              20.234582       13.862485   14246.298903   \n",
       "min               0.000000        0.000000   -8725.924987   \n",
       "25%               1.531681        0.000000     -18.871875   \n",
       "50%               4.105614        0.000000      -4.987500   \n",
       "75%              10.916928        0.000000      -1.600000   \n",
       "max             200.000000      900.000000  549524.050273   \n",
       "\n",
       "       Avg. Cost per Click            ROA  Average Revenue per Booking  \\\n",
       "count          4510.000000    4510.000000                  4510.000000   \n",
       "mean              1.890240     341.413864                    83.575942   \n",
       "std               1.322375    7277.915278                   344.981225   \n",
       "min               0.000000    -100.000000                     0.000000   \n",
       "25%               0.825000    -100.000000                     0.000000   \n",
       "50%               1.650493    -100.000000                     0.000000   \n",
       "75%               2.662500    -100.000000                     0.000000   \n",
       "max              10.000000  379487.027027                  5877.750000   \n",
       "\n",
       "       Probability of Booking  \n",
       "count             4510.000000  \n",
       "mean                 0.000681  \n",
       "std                  0.015151  \n",
       "min                  0.000000  \n",
       "25%                  0.000000  \n",
       "50%                  0.000000  \n",
       "75%                  0.000000  \n",
       "max                  0.818182  "
      ]
     },
     "execution_count": 992,
     "metadata": {},
     "output_type": "execute_result"
    }
   ],
   "source": [
    "data[['Engine Click Thru %', 'Trans. Conv. %','Net_Revenue', 'Avg. Cost per Click', 'ROA','Average Revenue per Booking' ,'Probability of Booking']].describe()"
   ]
  },
  {
   "cell_type": "markdown",
   "id": "0dd56602-1709-4a1b-9cd9-646b33dcf326",
   "metadata": {},
   "source": [
    "## 1 e) Histogram"
   ]
  },
  {
   "cell_type": "code",
   "execution_count": 993,
   "id": "0e3d3e55-f0cd-4a53-a605-5d972a878e09",
   "metadata": {},
   "outputs": [
    {
     "data": {
      "text/plain": [
       "([0, 1, 2, 3, 4, 5, 6],\n",
       " [Text(0, 0, ''),\n",
       "  Text(0, 0, ''),\n",
       "  Text(0, 0, ''),\n",
       "  Text(0, 0, ''),\n",
       "  Text(0, 0, ''),\n",
       "  Text(0, 0, ''),\n",
       "  Text(0, 0, '')])"
      ]
     },
     "execution_count": 993,
     "metadata": {},
     "output_type": "execute_result"
    },
    {
     "data": {
      "image/png": "[encoded data removed]",
      "text/plain": [
       "<Figure size 720x360 with 1 Axes>"
      ]
     },
     "metadata": {},
     "output_type": "display_data"
    }
   ],
   "source": [
    "sns.set(rc = {'figure.figsize':(10,5)})\n",
    "import matplotlib.pyplot as plt\n",
    "plt.hist(data['Publisher Name'],bins = 15,histtype = 'bar')\n",
    "plt.xticks(rotation=90,fontsize='12')\n"
   ]
  },
  {
   "cell_type": "code",
   "execution_count": 994,
   "id": "be5ec480-581a-4474-b566-94efea72e75a",
   "metadata": {},
   "outputs": [
    {
     "data": {
      "text/plain": [
       "paris airline            21\n",
       "paris flight             19\n",
       "international airfare    18\n",
       "france airline           18\n",
       "international flight     18\n",
       "Name: Keyword, dtype: int64"
      ]
     },
     "execution_count": 994,
     "metadata": {},
     "output_type": "execute_result"
    }
   ],
   "source": [
    "data['Keyword'].value_counts()[:5]"
   ]
  },
  {
   "cell_type": "code",
   "execution_count": 995,
   "id": "3ad82074-8ae6-4bef-81a6-2896bd6fa062",
   "metadata": {},
   "outputs": [
    {
     "data": {
      "text/plain": [
       "<AxesSubplot:xlabel='Keyword'>"
      ]
     },
     "execution_count": 995,
     "metadata": {},
     "output_type": "execute_result"
    },
    {
     "data": {
      "image/png": "[encoded data removed]",
      "text/plain": [
       "<Figure size 720x360 with 1 Axes>"
      ]
     },
     "metadata": {},
     "output_type": "display_data"
    }
   ],
   "source": [
    "data.groupby(['Keyword'])['Total Cost'].mean().sort_values(ascending=False)[:5].plot.bar()"
   ]
  },
  {
   "cell_type": "code",
   "execution_count": 996,
   "id": "f4a52ee7-0b16-47f4-81dd-be3c1bb45e29",
   "metadata": {},
   "outputs": [
    {
     "data": {
      "text/plain": [
       "count      4510.000000\n",
       "mean        866.207678\n",
       "std       14246.298903\n",
       "min       -8725.924987\n",
       "25%         -18.871875\n",
       "50%          -4.987500\n",
       "75%          -1.600000\n",
       "max      549524.050273\n",
       "Name: Net_Revenue, dtype: float64"
      ]
     },
     "execution_count": 996,
     "metadata": {},
     "output_type": "execute_result"
    }
   ],
   "source": [
    "#plt.scatter(data['Probability of Booking'],data['Total Cost'])\n",
    "(data['Total Cost']== 0).value_counts()\n",
    "(data['Probability of Booking']== 0).value_counts()\n",
    "(data['Probability of Booking']== 0).value_counts()\n",
    "(data['ROA']== -100).value_counts()\n",
    "data['Net_Revenue'].describe()"
   ]
  },
  {
   "cell_type": "code",
   "execution_count": 997,
   "id": "4382e836-c68c-4e5c-aac0-9146f26c822e",
   "metadata": {},
   "outputs": [
    {
     "name": "stderr",
     "output_type": "stream",
     "text": [
      "/opt/conda/lib/python3.9/site-packages/pandas/core/arraylike.py:397: RuntimeWarning: invalid value encountered in log\n",
      "  result = getattr(ufunc, method)(*inputs, **kwargs)\n",
      "/opt/conda/lib/python3.9/site-packages/pandas/core/arraylike.py:397: RuntimeWarning: divide by zero encountered in log\n",
      "  result = getattr(ufunc, method)(*inputs, **kwargs)\n",
      "/opt/conda/lib/python3.9/site-packages/pandas/core/arraylike.py:397: RuntimeWarning: invalid value encountered in log\n",
      "  result = getattr(ufunc, method)(*inputs, **kwargs)\n"
     ]
    },
    {
     "data": {
      "text/plain": [
       "count    4510.000000\n",
       "mean       -1.318203\n",
       "std         3.044325\n",
       "min        -9.074054\n",
       "25%        -2.937673\n",
       "50%        -1.606935\n",
       "75%        -0.470004\n",
       "max        13.216808\n",
       "Name: net_r_log, dtype: float64"
      ]
     },
     "execution_count": 997,
     "metadata": {},
     "output_type": "execute_result"
    }
   ],
   "source": [
    "data.loc[data['Net_Revenue'] > 0, 'net_r_log'] = np.log(data['Net_Revenue'])\n",
    "data.loc[data['Net_Revenue'] == 0, 'net_r_log'] = np.log(data['Net_Revenue']+1)\n",
    "data.loc[data['Net_Revenue'] < 0, 'net_r_log'] = -1 * (np.log(data['Net_Revenue'].abs()))\n",
    "data['net_r_log' ].describe()"
   ]
  },
  {
   "cell_type": "code",
   "execution_count": 998,
   "id": "318c4eb9-391d-4d7c-9dbe-64e394adc2ed",
   "metadata": {},
   "outputs": [
    {
     "data": {
      "text/plain": [
       "<matplotlib.collections.PathCollection at 0x7f45f6d0a5b0>"
      ]
     },
     "execution_count": 998,
     "metadata": {},
     "output_type": "execute_result"
    },
    {
     "data": {
      "image/png": "[encoded data removed]",
      "text/plain": [
       "<Figure size 720x720 with 1 Axes>"
      ]
     },
     "metadata": {},
     "output_type": "display_data"
    }
   ],
   "source": [
    "plt.figure(figsize=(10,10))\n",
    "plt.scatter(data['Avg. Pos.'],data['net_r_log'])\n"
   ]
  },
  {
   "cell_type": "markdown",
   "id": "06c498ae-ce5c-45da-9727-fb0877996453",
   "metadata": {},
   "source": [
    "## Data Cleaning & more graph"
   ]
  },
  {
   "cell_type": "code",
   "execution_count": 999,
   "id": "db47228c-e346-4437-b944-3c6ceb484542",
   "metadata": {},
   "outputs": [],
   "source": [
    "import seaborn as sns"
   ]
  },
  {
   "cell_type": "code",
   "execution_count": 1000,
   "id": "b4746651-9d0f-4ded-8c15-1899324f282f",
   "metadata": {},
   "outputs": [
    {
     "data": {
      "text/plain": [
       "<AxesSubplot:>"
      ]
     },
     "execution_count": 1000,
     "metadata": {},
     "output_type": "execute_result"
    },
    {
     "data": {
      "image/png": "[encoded data removed]",
      "text/plain": [
       "<Figure size 720x360 with 1 Axes>"
      ]
     },
     "metadata": {},
     "output_type": "display_data"
    }
   ],
   "source": [
    "sns.heatmap(data.isnull(),yticklabels=False,cbar=False,cmap=\"viridis\")"
   ]
  },
  {
   "cell_type": "code",
   "execution_count": 1001,
   "id": "f426aa62-f5dc-4e05-ab3b-7646eb38abe1",
   "metadata": {},
   "outputs": [
    {
     "data": {
      "text/plain": [
       "False    4462\n",
       "True       48\n",
       "Name: Match Type, dtype: int64"
      ]
     },
     "execution_count": 1001,
     "metadata": {},
     "output_type": "execute_result"
    }
   ],
   "source": [
    "data['Match Type'].isnull().value_counts()"
   ]
  },
  {
   "cell_type": "code",
   "execution_count": 1002,
   "id": "186190c5-f414-4caf-92ca-ded92fd14463",
   "metadata": {
    "tags": []
   },
   "outputs": [],
   "source": [
    "d = data.dropna(subset=['Match Type'])"
   ]
  },
  {
   "cell_type": "code",
   "execution_count": 1003,
   "id": "369c4fd0-3640-47d6-9293-cc26c31ea104",
   "metadata": {},
   "outputs": [
    {
     "data": {
      "text/html": [
       "<div>\n",
       "<style scoped>\n",
       "    .dataframe tbody tr th:only-of-type {\n",
       "        vertical-align: middle;\n",
       "    }\n",
       "\n",
       "    .dataframe tbody tr th {\n",
       "        vertical-align: top;\n",
       "    }\n",
       "\n",
       "    .dataframe thead th {\n",
       "        text-align: right;\n",
       "    }\n",
       "</style>\n",
       "<table border=\"1\" class=\"dataframe\">\n",
       "  <thead>\n",
       "    <tr style=\"text-align: right;\">\n",
       "      <th>col_0</th>\n",
       "      <th>count</th>\n",
       "    </tr>\n",
       "    <tr>\n",
       "      <th>Bid Strategy</th>\n",
       "      <th></th>\n",
       "    </tr>\n",
       "  </thead>\n",
       "  <tbody>\n",
       "    <tr>\n",
       "      <th>Pos 3-6</th>\n",
       "      <td>45</td>\n",
       "    </tr>\n",
       "    <tr>\n",
       "      <th>Position 1 -2 Target</th>\n",
       "      <td>11</td>\n",
       "    </tr>\n",
       "    <tr>\n",
       "      <th>Position 1- 3</th>\n",
       "      <td>264</td>\n",
       "    </tr>\n",
       "    <tr>\n",
       "      <th>Position 1-2 Target</th>\n",
       "      <td>274</td>\n",
       "    </tr>\n",
       "    <tr>\n",
       "      <th>Position 1-4 Bid Strategy</th>\n",
       "      <td>111</td>\n",
       "    </tr>\n",
       "    <tr>\n",
       "      <th>Position 2-5 Bid Strategy</th>\n",
       "      <td>333</td>\n",
       "    </tr>\n",
       "    <tr>\n",
       "      <th>Position 5-10 Bid Strategy</th>\n",
       "      <td>2208</td>\n",
       "    </tr>\n",
       "    <tr>\n",
       "      <th>Postiion 1-4 Bid Strategy</th>\n",
       "      <td>40</td>\n",
       "    </tr>\n",
       "  </tbody>\n",
       "</table>\n",
       "</div>"
      ],
      "text/plain": [
       "col_0                       count\n",
       "Bid Strategy                     \n",
       "Pos 3-6                        45\n",
       "Position 1 -2 Target           11\n",
       "Position 1- 3                 264\n",
       "Position 1-2 Target           274\n",
       "Position 1-4 Bid Strategy     111\n",
       "Position 2-5 Bid Strategy     333\n",
       "Position 5-10 Bid Strategy   2208\n",
       "Postiion 1-4 Bid Strategy      40"
      ]
     },
     "execution_count": 1003,
     "metadata": {},
     "output_type": "execute_result"
    }
   ],
   "source": [
    "pd.crosstab(index=d['Bid Strategy'], columns='count') "
   ]
  },
  {
   "cell_type": "code",
   "execution_count": 1004,
   "id": "0fe6884c-42e8-4ea3-8810-c6ebd0665ea5",
   "metadata": {},
   "outputs": [
    {
     "name": "stderr",
     "output_type": "stream",
     "text": [
      "/tmp/ipykernel_4137/2739117756.py:1: SettingWithCopyWarning: \n",
      "A value is trying to be set on a copy of a slice from a DataFrame.\n",
      "Try using .loc[row_indexer,col_indexer] = value instead\n",
      "\n",
      "See the caveats in the documentation: https://pandas.pydata.org/pandas-docs/stable/user_guide/indexing.html#returning-a-view-versus-a-copy\n",
      "  d['Bid Strategy'] = d['Bid Strategy'].fillna('Position 5-10 Bid Strategy')\n"
     ]
    }
   ],
   "source": [
    "d['Bid Strategy'] = d['Bid Strategy'].fillna('Position 5-10 Bid Strategy')\n",
    "#data['Bid Strategy'] = data['Bid Strategy'].fillna('Position 5-10 Bid Strategy')\n",
    "d.loc[d['Bid Strategy'].str.contains('Position 1 -2 Target') == True,'Bid Strategy'] = 'Position 1-2 Target'\n",
    "d.loc[d['Bid Strategy'].str.contains('Postiion 1-4 Bid Strategy') == True,'Bid Strategy'] = 'Position 1-2 Target'\n"
   ]
  },
  {
   "cell_type": "code",
   "execution_count": 1005,
   "id": "67af6c40-92b4-4dbc-b583-ccfe465dc99b",
   "metadata": {},
   "outputs": [
    {
     "data": {
      "text/html": [
       "<div>\n",
       "<style scoped>\n",
       "    .dataframe tbody tr th:only-of-type {\n",
       "        vertical-align: middle;\n",
       "    }\n",
       "\n",
       "    .dataframe tbody tr th {\n",
       "        vertical-align: top;\n",
       "    }\n",
       "\n",
       "    .dataframe thead th {\n",
       "        text-align: right;\n",
       "    }\n",
       "</style>\n",
       "<table border=\"1\" class=\"dataframe\">\n",
       "  <thead>\n",
       "    <tr style=\"text-align: right;\">\n",
       "      <th>col_0</th>\n",
       "      <th>count</th>\n",
       "    </tr>\n",
       "    <tr>\n",
       "      <th>Bid Strategy</th>\n",
       "      <th></th>\n",
       "    </tr>\n",
       "  </thead>\n",
       "  <tbody>\n",
       "    <tr>\n",
       "      <th>Pos 3-6</th>\n",
       "      <td>45</td>\n",
       "    </tr>\n",
       "    <tr>\n",
       "      <th>Position 1- 3</th>\n",
       "      <td>264</td>\n",
       "    </tr>\n",
       "    <tr>\n",
       "      <th>Position 1-2 Target</th>\n",
       "      <td>325</td>\n",
       "    </tr>\n",
       "    <tr>\n",
       "      <th>Position 1-4 Bid Strategy</th>\n",
       "      <td>111</td>\n",
       "    </tr>\n",
       "    <tr>\n",
       "      <th>Position 2-5 Bid Strategy</th>\n",
       "      <td>333</td>\n",
       "    </tr>\n",
       "    <tr>\n",
       "      <th>Position 5-10 Bid Strategy</th>\n",
       "      <td>3384</td>\n",
       "    </tr>\n",
       "  </tbody>\n",
       "</table>\n",
       "</div>"
      ],
      "text/plain": [
       "col_0                       count\n",
       "Bid Strategy                     \n",
       "Pos 3-6                        45\n",
       "Position 1- 3                 264\n",
       "Position 1-2 Target           325\n",
       "Position 1-4 Bid Strategy     111\n",
       "Position 2-5 Bid Strategy     333\n",
       "Position 5-10 Bid Strategy   3384"
      ]
     },
     "execution_count": 1005,
     "metadata": {},
     "output_type": "execute_result"
    }
   ],
   "source": [
    "pd.crosstab(index=d['Bid Strategy'], columns='count')"
   ]
  },
  {
   "cell_type": "code",
   "execution_count": 1006,
   "id": "d8b0a766-09e6-4667-b41f-dc6e0e10f399",
   "metadata": {},
   "outputs": [
    {
     "data": {
      "text/plain": [
       "<AxesSubplot:xlabel='Bid Strategy'>"
      ]
     },
     "execution_count": 1006,
     "metadata": {},
     "output_type": "execute_result"
    },
    {
     "data": {
      "image/png": "[encoded data removed]",
      "text/plain": [
       "<Figure size 720x360 with 1 Axes>"
      ]
     },
     "metadata": {},
     "output_type": "display_data"
    }
   ],
   "source": [
    "pd.crosstab(index=d['Bid Strategy'], columns='count').plot.bar()"
   ]
  },
  {
   "cell_type": "code",
   "execution_count": 1007,
   "id": "d5ceff02-e39e-4a56-a1f0-00bcf703ab19",
   "metadata": {},
   "outputs": [
    {
     "data": {
      "text/plain": [
       "<AxesSubplot:xlabel='Bid Strategy'>"
      ]
     },
     "execution_count": 1007,
     "metadata": {},
     "output_type": "execute_result"
    },
    {
     "data": {
      "image/png": "[encoded data removed]",
      "text/plain": [
       "<Figure size 720x360 with 1 Axes>"
      ]
     },
     "metadata": {},
     "output_type": "display_data"
    }
   ],
   "source": [
    "d.groupby([\"Bid Strategy\"])[\"Total Cost\"].mean().sort_values(ascending=False).plot.bar()\n",
    "#although 5-10 is the most bid companies go for, we can tell that 1-4 strategy cost the most"
   ]
  },
  {
   "cell_type": "code",
   "execution_count": 1008,
   "id": "1fe17b54-efc6-4a84-82e0-1b9025ea6f55",
   "metadata": {},
   "outputs": [
    {
     "data": {
      "text/plain": [
       "Bid Strategy\n",
       "Pos 3-6                       1021.463054\n",
       "Position 1- 3                  222.338257\n",
       "Position 1-2 Target            294.569883\n",
       "Position 1-4 Bid Strategy     1161.138059\n",
       "Position 2-5 Bid Strategy       34.740916\n",
       "Position 5-10 Bid Strategy     122.267187\n",
       "Name: Total Cost, dtype: float64"
      ]
     },
     "execution_count": 1008,
     "metadata": {},
     "output_type": "execute_result"
    }
   ],
   "source": [
    "d.groupby([\"Bid Strategy\"])[\"Total Cost\"].mean()"
   ]
  },
  {
   "cell_type": "code",
   "execution_count": 1009,
   "id": "b6e60abc-3cec-4f40-acdb-577ee357bfd4",
   "metadata": {},
   "outputs": [
    {
     "data": {
      "text/plain": [
       "<AxesSubplot:xlabel='Bid Strategy'>"
      ]
     },
     "execution_count": 1009,
     "metadata": {},
     "output_type": "execute_result"
    },
    {
     "data": {
      "image/png": "[encoded data removed]",
      "text/plain": [
       "<Figure size 720x360 with 1 Axes>"
      ]
     },
     "metadata": {},
     "output_type": "display_data"
    }
   ],
   "source": [
    "d.groupby([\"Bid Strategy\"])[\"Net_Revenue\"].mean().sort_values(ascending=False).plot.bar()\n",
    "#although 5-10 is the most bid companies go for, we can tell that 1-4 strategy cost the most"
   ]
  },
  {
   "cell_type": "code",
   "execution_count": 1010,
   "id": "46970b2f-b20e-4602-84d2-f4c2faccca08",
   "metadata": {},
   "outputs": [
    {
     "data": {
      "text/plain": [
       "Bid Strategy\n",
       "Pos 3-6                         12.118057\n",
       "Position 1- 3                 1541.250758\n",
       "Position 1-2 Target           1863.771040\n",
       "Position 1-4 Bid Strategy     2535.037167\n",
       "Position 2-5 Bid Strategy       29.547673\n",
       "Position 5-10 Bid Strategy     767.825484\n",
       "Name: Net_Revenue, dtype: float64"
      ]
     },
     "execution_count": 1010,
     "metadata": {},
     "output_type": "execute_result"
    }
   ],
   "source": [
    "d.groupby([\"Bid Strategy\"])[\"Net_Revenue\"].mean()"
   ]
  },
  {
   "cell_type": "code",
   "execution_count": 1011,
   "id": "46b1f603-b331-46b2-8fc3-8abbf7b3be7f",
   "metadata": {},
   "outputs": [
    {
     "data": {
      "text/plain": [
       "<AxesSubplot:>"
      ]
     },
     "execution_count": 1011,
     "metadata": {},
     "output_type": "execute_result"
    },
    {
     "data": {
      "image/png": "[encoded data removed]",
      "text/plain": [
       "<Figure size 720x360 with 1 Axes>"
      ]
     },
     "metadata": {},
     "output_type": "display_data"
    }
   ],
   "source": [
    "sns.heatmap(d.isnull(),yticklabels=False,cbar=False,cmap=\"viridis\")"
   ]
  },
  {
   "cell_type": "code",
   "execution_count": 1012,
   "id": "780f7ecc-0c68-4f8a-9d3e-a7523d68ad85",
   "metadata": {},
   "outputs": [
    {
     "data": {
      "text/html": [
       "<div>\n",
       "<style scoped>\n",
       "    .dataframe tbody tr th:only-of-type {\n",
       "        vertical-align: middle;\n",
       "    }\n",
       "\n",
       "    .dataframe tbody tr th {\n",
       "        vertical-align: top;\n",
       "    }\n",
       "\n",
       "    .dataframe thead th {\n",
       "        text-align: right;\n",
       "    }\n",
       "</style>\n",
       "<table border=\"1\" class=\"dataframe\">\n",
       "  <thead>\n",
       "    <tr style=\"text-align: right;\">\n",
       "      <th></th>\n",
       "      <th>Engine Click Thru %</th>\n",
       "      <th>Trans. Conv. %</th>\n",
       "      <th>Net_Revenue</th>\n",
       "      <th>Avg. Cost per Click</th>\n",
       "      <th>ROA</th>\n",
       "      <th>Average Revenue per Booking</th>\n",
       "      <th>Probability of Booking</th>\n",
       "    </tr>\n",
       "  </thead>\n",
       "  <tbody>\n",
       "    <tr>\n",
       "      <th>count</th>\n",
       "      <td>4462.000000</td>\n",
       "      <td>4462.000000</td>\n",
       "      <td>4462.000000</td>\n",
       "      <td>4462.000000</td>\n",
       "      <td>4462.000000</td>\n",
       "      <td>4462.000000</td>\n",
       "      <td>4462.000000</td>\n",
       "    </tr>\n",
       "    <tr>\n",
       "      <th>mean</th>\n",
       "      <td>11.252082</td>\n",
       "      <td>0.574721</td>\n",
       "      <td>874.655096</td>\n",
       "      <td>1.898135</td>\n",
       "      <td>341.457974</td>\n",
       "      <td>83.444990</td>\n",
       "      <td>0.000688</td>\n",
       "    </tr>\n",
       "    <tr>\n",
       "      <th>std</th>\n",
       "      <td>20.314538</td>\n",
       "      <td>13.936726</td>\n",
       "      <td>14322.428463</td>\n",
       "      <td>1.318046</td>\n",
       "      <td>7313.707540</td>\n",
       "      <td>343.673665</td>\n",
       "      <td>0.015232</td>\n",
       "    </tr>\n",
       "    <tr>\n",
       "      <th>min</th>\n",
       "      <td>0.012865</td>\n",
       "      <td>0.000000</td>\n",
       "      <td>-8725.924987</td>\n",
       "      <td>0.039195</td>\n",
       "      <td>-100.000000</td>\n",
       "      <td>0.000000</td>\n",
       "      <td>0.000000</td>\n",
       "    </tr>\n",
       "    <tr>\n",
       "      <th>25%</th>\n",
       "      <td>1.604994</td>\n",
       "      <td>0.000000</td>\n",
       "      <td>-18.959375</td>\n",
       "      <td>0.837500</td>\n",
       "      <td>-100.000000</td>\n",
       "      <td>0.000000</td>\n",
       "      <td>0.000000</td>\n",
       "    </tr>\n",
       "    <tr>\n",
       "      <th>50%</th>\n",
       "      <td>4.166667</td>\n",
       "      <td>0.000000</td>\n",
       "      <td>-5.000000</td>\n",
       "      <td>1.662500</td>\n",
       "      <td>-100.000000</td>\n",
       "      <td>0.000000</td>\n",
       "      <td>0.000000</td>\n",
       "    </tr>\n",
       "    <tr>\n",
       "      <th>75%</th>\n",
       "      <td>11.111111</td>\n",
       "      <td>0.000000</td>\n",
       "      <td>-1.612500</td>\n",
       "      <td>2.662500</td>\n",
       "      <td>-100.000000</td>\n",
       "      <td>0.000000</td>\n",
       "      <td>0.000000</td>\n",
       "    </tr>\n",
       "    <tr>\n",
       "      <th>max</th>\n",
       "      <td>200.000000</td>\n",
       "      <td>900.000000</td>\n",
       "      <td>549524.050273</td>\n",
       "      <td>10.000000</td>\n",
       "      <td>379487.027027</td>\n",
       "      <td>5877.750000</td>\n",
       "      <td>0.818182</td>\n",
       "    </tr>\n",
       "  </tbody>\n",
       "</table>\n",
       "</div>"
      ],
      "text/plain": [
       "       Engine Click Thru %  Trans. Conv. %    Net_Revenue  \\\n",
       "count          4462.000000     4462.000000    4462.000000   \n",
       "mean             11.252082        0.574721     874.655096   \n",
       "std              20.314538       13.936726   14322.428463   \n",
       "min               0.012865        0.000000   -8725.924987   \n",
       "25%               1.604994        0.000000     -18.959375   \n",
       "50%               4.166667        0.000000      -5.000000   \n",
       "75%              11.111111        0.000000      -1.612500   \n",
       "max             200.000000      900.000000  549524.050273   \n",
       "\n",
       "       Avg. Cost per Click            ROA  Average Revenue per Booking  \\\n",
       "count          4462.000000    4462.000000                  4462.000000   \n",
       "mean              1.898135     341.457974                    83.444990   \n",
       "std               1.318046    7313.707540                   343.673665   \n",
       "min               0.039195    -100.000000                     0.000000   \n",
       "25%               0.837500    -100.000000                     0.000000   \n",
       "50%               1.662500    -100.000000                     0.000000   \n",
       "75%               2.662500    -100.000000                     0.000000   \n",
       "max              10.000000  379487.027027                  5877.750000   \n",
       "\n",
       "       Probability of Booking  \n",
       "count             4462.000000  \n",
       "mean                 0.000688  \n",
       "std                  0.015232  \n",
       "min                  0.000000  \n",
       "25%                  0.000000  \n",
       "50%                  0.000000  \n",
       "75%                  0.000000  \n",
       "max                  0.818182  "
      ]
     },
     "execution_count": 1012,
     "metadata": {},
     "output_type": "execute_result"
    }
   ],
   "source": [
    "d[['Engine Click Thru %', 'Trans. Conv. %','Net_Revenue', 'Avg. Cost per Click', 'ROA','Average Revenue per Booking' ,'Probability of Booking']].describe()"
   ]
  },
  {
   "cell_type": "code",
   "execution_count": 1013,
   "id": "e005b154-2e97-4ddf-923d-710854ccddeb",
   "metadata": {},
   "outputs": [
    {
     "data": {
      "text/plain": [
       "Google - US          2030\n",
       "Overture - US         661\n",
       "Yahoo - US            635\n",
       "Overture - Global     553\n",
       "Google - Global       386\n",
       "MSN - Global           99\n",
       "MSN - US               98\n",
       "Name: Publisher Name, dtype: int64"
      ]
     },
     "execution_count": 1013,
     "metadata": {},
     "output_type": "execute_result"
    }
   ],
   "source": [
    "d['Publisher Name'].value_counts()"
   ]
  },
  {
   "cell_type": "code",
   "execution_count": 1014,
   "id": "ace868c5-ef2c-4e11-acb8-4703847ce408",
   "metadata": {},
   "outputs": [
    {
     "name": "stderr",
     "output_type": "stream",
     "text": [
      "/tmp/ipykernel_4137/2547298914.py:1: SettingWithCopyWarning: \n",
      "A value is trying to be set on a copy of a slice from a DataFrame.\n",
      "Try using .loc[row_indexer,col_indexer] = value instead\n",
      "\n",
      "See the caveats in the documentation: https://pandas.pydata.org/pandas-docs/stable/user_guide/indexing.html#returning-a-view-versus-a-copy\n",
      "  d.loc[d['Publisher Name'].str.contains('Google') == True,'Publisher'] = 'Google'\n"
     ]
    }
   ],
   "source": [
    "d.loc[d['Publisher Name'].str.contains('Google') == True,'Publisher'] = 'Google'\n",
    "d.loc[d['Publisher Name'].str.contains('Overture') == True,'Publisher'] = 'Overture'\n",
    "d.loc[d['Publisher Name'].str.contains('MSN') == True,'Publisher'] = 'MSN'\n",
    "d.loc[d['Publisher Name'].str.contains('Yahoo') == True,'Publisher'] = 'Yahoo'"
   ]
  },
  {
   "cell_type": "code",
   "execution_count": 1015,
   "id": "a95b2446-0f37-403a-a7fe-b760e732de8a",
   "metadata": {},
   "outputs": [
    {
     "data": {
      "text/plain": [
       "Google      2416\n",
       "Overture    1214\n",
       "Yahoo        635\n",
       "MSN          197\n",
       "Name: Publisher, dtype: int64"
      ]
     },
     "execution_count": 1015,
     "metadata": {},
     "output_type": "execute_result"
    }
   ],
   "source": [
    "d['Publisher'].value_counts()"
   ]
  },
  {
   "cell_type": "code",
   "execution_count": 1016,
   "id": "30617eab-1244-4152-856c-40702776c392",
   "metadata": {},
   "outputs": [
    {
     "data": {
      "text/plain": [
       "[(-10.0, 40.0)]"
      ]
     },
     "execution_count": 1016,
     "metadata": {},
     "output_type": "execute_result"
    },
    {
     "data": {
      "image/png": "[encoded data removed]",
      "text/plain": [
       "<Figure size 720x360 with 1 Axes>"
      ]
     },
     "metadata": {},
     "output_type": "display_data"
    }
   ],
   "source": [
    "g = sns.boxplot(data=d, x='Engine Click Thru %', y='Publisher')\n",
    "g.set(xlim=(-10, 40))"
   ]
  },
  {
   "cell_type": "markdown",
   "id": "1f310f5d-324e-4519-bd7c-a61439675d7e",
   "metadata": {},
   "source": [
    "## First Attemp of Regression"
   ]
  },
  {
   "cell_type": "code",
   "execution_count": 1017,
   "id": "4f1102b0-4e87-4c33-b35e-3e1f070bf60a",
   "metadata": {},
   "outputs": [
    {
     "data": {
      "text/plain": [
       "Index(['Publisher ID', 'Publisher Name', 'Keyword ID', 'Keyword', 'Match Type',\n",
       "       'Campaign', 'Keyword Group', 'Category', 'Bid Strategy', 'Keyword Type',\n",
       "       'Status', 'Search Engine Bid', 'Clicks', 'Click Charges',\n",
       "       'Avg. Cost per Click', 'Impressions', 'Engine Click Thru %',\n",
       "       'Avg. Pos.', 'Trans. Conv. %', 'Total Cost/ Trans.', 'Amount',\n",
       "       'Total Cost', 'Total Volume of Bookings', 'Net_Revenue', 'ROA',\n",
       "       'Average Revenue per Booking', 'Probability of Booking', 'net_r_log',\n",
       "       'Publisher'],\n",
       "      dtype='object')"
      ]
     },
     "execution_count": 1017,
     "metadata": {},
     "output_type": "execute_result"
    }
   ],
   "source": [
    "d.columns"
   ]
  },
  {
   "cell_type": "code",
   "execution_count": 1018,
   "id": "bd3d5282-900c-488b-86d8-c5ea73e9e8ee",
   "metadata": {},
   "outputs": [
    {
     "data": {
      "text/plain": [
       "0        2.312500\n",
       "1        0.625000\n",
       "2        0.387500\n",
       "3        2.312500\n",
       "4        2.200000\n",
       "          ...    \n",
       "4505     3.350000\n",
       "4506     3.625000\n",
       "4507     4.900000\n",
       "4508    34.925000\n",
       "4509    55.799999\n",
       "Name: Total Cost, Length: 4462, dtype: float64"
      ]
     },
     "execution_count": 1018,
     "metadata": {},
     "output_type": "execute_result"
    }
   ],
   "source": [
    "d['Total Cost']"
   ]
  },
  {
   "cell_type": "code",
   "execution_count": 1019,
   "id": "a02306a7-2d7a-4235-9db6-bd2277231419",
   "metadata": {},
   "outputs": [],
   "source": [
    "#Click charge is the same as total coast, so we drop it here.\n",
    "\n",
    "df = d[['Total Cost','Search Engine Bid','Clicks','Impressions','Engine Click Thru %','Avg. Pos.','Total Volume of Bookings','Trans. Conv. %','net_r_log','ROA','Probability of Booking']]"
   ]
  },
  {
   "cell_type": "code",
   "execution_count": 1020,
   "id": "6740800c-5a9d-4e3a-af8f-88ec5ce0ce11",
   "metadata": {},
   "outputs": [],
   "source": [
    "y = df ['Total Cost']\n",
    "X = df.drop(columns = ['Total Cost'], axis = 1)"
   ]
  },
  {
   "cell_type": "code",
   "execution_count": 1021,
   "id": "83602a7f-6653-4564-b2dd-c1c05e026741",
   "metadata": {
    "tags": []
   },
   "outputs": [
    {
     "data": {
      "text/plain": [
       "Total Cost                  1.000000\n",
       "Search Engine Bid           0.114226\n",
       "Clicks                      0.868332\n",
       "Impressions                 0.431402\n",
       "Engine Click Thru %        -0.027974\n",
       "Avg. Pos.                  -0.017615\n",
       "Total Volume of Bookings    0.539544\n",
       "Trans. Conv. %             -0.000446\n",
       "net_r_log                   0.166320\n",
       "ROA                         0.003012\n",
       "Probability of Booking     -0.000824\n",
       "Name: Total Cost, dtype: float64"
      ]
     },
     "execution_count": 1021,
     "metadata": {},
     "output_type": "execute_result"
    }
   ],
   "source": [
    "df.corr(method='pearson')['Total Cost']"
   ]
  },
  {
   "cell_type": "code",
   "execution_count": 1022,
   "id": "f6b0e1fa-a2d7-4fa7-a71c-394675f5a162",
   "metadata": {
    "tags": []
   },
   "outputs": [
    {
     "data": {
      "text/plain": [
       "<AxesSubplot:>"
      ]
     },
     "execution_count": 1022,
     "metadata": {},
     "output_type": "execute_result"
    },
    {
     "data": {
      "image/png": "[encoded data removed]",
      "text/plain": [
       "<Figure size 432x216 with 2 Axes>"
      ]
     },
     "metadata": {},
     "output_type": "display_data"
    }
   ],
   "source": [
    "sns.set(rc = {'figure.figsize':(6,3)})\n",
    "sns.heatmap(df.corr('pearson'))\n"
   ]
  },
  {
   "cell_type": "code",
   "execution_count": 1023,
   "id": "1e3eac41-3523-4366-ad9c-1b7ba27d49db",
   "metadata": {},
   "outputs": [],
   "source": [
    "from scipy import stats\n",
    "import pandas as pd\n",
    "import numpy as np\n",
    "import seaborn as sns\n",
    "import matplotlib.pyplot as plt\n",
    "%matplotlib inline\n",
    "import statsmodels.api as sm"
   ]
  },
  {
   "cell_type": "code",
   "execution_count": 1024,
   "id": "0ecda4b7-51b1-4e9d-9807-24e5f73384b9",
   "metadata": {},
   "outputs": [
    {
     "name": "stdout",
     "output_type": "stream",
     "text": [
      "                            OLS Regression Results                            \n",
      "==============================================================================\n",
      "Dep. Variable:             Total Cost   R-squared:                       0.860\n",
      "Model:                            OLS   Adj. R-squared:                  0.860\n",
      "Method:                 Least Squares   F-statistic:                     2736.\n",
      "Date:                Tue, 03 May 2022   Prob (F-statistic):               0.00\n",
      "Time:                        00:09:35   Log-Likelihood:                -34103.\n",
      "No. Observations:                4462   AIC:                         6.823e+04\n",
      "Df Residuals:                    4451   BIC:                         6.830e+04\n",
      "Df Model:                          10                                         \n",
      "Covariance Type:            nonrobust                                         \n",
      "============================================================================================\n",
      "                               coef    std err          t      P>|t|      [0.025      0.975]\n",
      "--------------------------------------------------------------------------------------------\n",
      "const                       -4.5735     23.704     -0.193      0.847     -51.046      41.899\n",
      "Search Engine Bid           10.6267      2.422      4.388      0.000       5.879      15.375\n",
      "Clicks                       1.7874      0.015    115.362      0.000       1.757       1.818\n",
      "Impressions                 -0.0006   5.47e-05    -11.377      0.000      -0.001      -0.001\n",
      "Engine Click Thru %         -0.6365      0.386     -1.649      0.099      -1.393       0.120\n",
      "Avg. Pos.                   -4.1060      7.504     -0.547      0.584     -18.817      10.605\n",
      "Total Volume of Bookings   -69.7899      1.265    -55.178      0.000     -72.270     -67.310\n",
      "Trans. Conv. %               1.4208      1.470      0.967      0.334      -1.460       4.302\n",
      "net_r_log                    5.0580      2.669      1.895      0.058      -0.175      10.291\n",
      "ROA                         -0.0013      0.002     -0.653      0.514      -0.005       0.003\n",
      "Probability of Booking    -154.4278   1090.090     -0.142      0.887   -2291.545    1982.690\n",
      "==============================================================================\n",
      "Omnibus:                     6356.021   Durbin-Watson:                   1.834\n",
      "Prob(Omnibus):                  0.000   Jarque-Bera (JB):         27095675.450\n",
      "Skew:                           7.345   Prob(JB):                         0.00\n",
      "Kurtosis:                     384.478   Cond. No.                     2.46e+07\n",
      "==============================================================================\n",
      "\n",
      "Notes:\n",
      "[1] Standard Errors assume that the covariance matrix of the errors is correctly specified.\n",
      "[2] The condition number is large, 2.46e+07. This might indicate that there are\n",
      "strong multicollinearity or other numerical problems.\n"
     ]
    }
   ],
   "source": [
    "indepvars=sm.add_constant(X)\n",
    "regmod=sm.OLS(df['Total Cost'],indepvars)\n",
    "regfit=regmod.fit()\n",
    "print(regfit.summary())"
   ]
  },
  {
   "cell_type": "code",
   "execution_count": 1025,
   "id": "42bf80c2-e096-40b0-b7b5-6a6d108e8a89",
   "metadata": {},
   "outputs": [],
   "source": [
    "from statsmodels.stats.outliers_influence import variance_inflation_factor"
   ]
  },
  {
   "cell_type": "code",
   "execution_count": 1026,
   "id": "72579fe9-fb7d-4cca-b074-cd30595d5c27",
   "metadata": {},
   "outputs": [
    {
     "data": {
      "text/html": [
       "<div>\n",
       "<style scoped>\n",
       "    .dataframe tbody tr th:only-of-type {\n",
       "        vertical-align: middle;\n",
       "    }\n",
       "\n",
       "    .dataframe tbody tr th {\n",
       "        vertical-align: top;\n",
       "    }\n",
       "\n",
       "    .dataframe thead th {\n",
       "        text-align: right;\n",
       "    }\n",
       "</style>\n",
       "<table border=\"1\" class=\"dataframe\">\n",
       "  <thead>\n",
       "    <tr style=\"text-align: right;\">\n",
       "      <th></th>\n",
       "      <th>VIF</th>\n",
       "      <th>Variables</th>\n",
       "    </tr>\n",
       "  </thead>\n",
       "  <tbody>\n",
       "    <tr>\n",
       "      <th>0</th>\n",
       "      <td>2.290594</td>\n",
       "      <td>Search Engine Bid</td>\n",
       "    </tr>\n",
       "    <tr>\n",
       "      <th>1</th>\n",
       "      <td>4.840991</td>\n",
       "      <td>Clicks</td>\n",
       "    </tr>\n",
       "    <tr>\n",
       "      <th>2</th>\n",
       "      <td>1.524109</td>\n",
       "      <td>Impressions</td>\n",
       "    </tr>\n",
       "    <tr>\n",
       "      <th>3</th>\n",
       "      <td>1.316666</td>\n",
       "      <td>Engine Click Thru %</td>\n",
       "    </tr>\n",
       "    <tr>\n",
       "      <th>4</th>\n",
       "      <td>1.903328</td>\n",
       "      <td>Avg. Pos.</td>\n",
       "    </tr>\n",
       "    <tr>\n",
       "      <th>5</th>\n",
       "      <td>4.167606</td>\n",
       "      <td>Total Volume of Bookings</td>\n",
       "    </tr>\n",
       "    <tr>\n",
       "      <th>6</th>\n",
       "      <td>7.334740</td>\n",
       "      <td>Trans. Conv. %</td>\n",
       "    </tr>\n",
       "    <tr>\n",
       "      <th>7</th>\n",
       "      <td>1.364471</td>\n",
       "      <td>net_r_log</td>\n",
       "    </tr>\n",
       "    <tr>\n",
       "      <th>8</th>\n",
       "      <td>3.862271</td>\n",
       "      <td>ROA</td>\n",
       "    </tr>\n",
       "    <tr>\n",
       "      <th>9</th>\n",
       "      <td>4.825426</td>\n",
       "      <td>Probability of Booking</td>\n",
       "    </tr>\n",
       "  </tbody>\n",
       "</table>\n",
       "</div>"
      ],
      "text/plain": [
       "        VIF                 Variables\n",
       "0  2.290594         Search Engine Bid\n",
       "1  4.840991                    Clicks\n",
       "2  1.524109               Impressions\n",
       "3  1.316666       Engine Click Thru %\n",
       "4  1.903328                 Avg. Pos.\n",
       "5  4.167606  Total Volume of Bookings\n",
       "6  7.334740            Trans. Conv. %\n",
       "7  1.364471                 net_r_log\n",
       "8  3.862271                       ROA\n",
       "9  4.825426    Probability of Booking"
      ]
     },
     "execution_count": 1026,
     "metadata": {},
     "output_type": "execute_result"
    }
   ],
   "source": [
    "vif=pd.DataFrame()\n",
    "\n",
    "vif['VIF']=[variance_inflation_factor(X.values,i) for i in range(X.shape[1])] #for each index in the dataframe (each IV), calculate VIF\n",
    "vif['Variables']=X.columns #create the corresponding variable column\n",
    "vif"
   ]
  },
  {
   "cell_type": "code",
   "execution_count": 1027,
   "id": "d7725252-893c-4f27-9906-650a25a9bffa",
   "metadata": {},
   "outputs": [
    {
     "data": {
      "text/html": [
       "<div>\n",
       "<style scoped>\n",
       "    .dataframe tbody tr th:only-of-type {\n",
       "        vertical-align: middle;\n",
       "    }\n",
       "\n",
       "    .dataframe tbody tr th {\n",
       "        vertical-align: top;\n",
       "    }\n",
       "\n",
       "    .dataframe thead th {\n",
       "        text-align: right;\n",
       "    }\n",
       "</style>\n",
       "<table border=\"1\" class=\"dataframe\">\n",
       "  <thead>\n",
       "    <tr style=\"text-align: right;\">\n",
       "      <th></th>\n",
       "      <th>Search Engine Bid</th>\n",
       "      <th>Clicks</th>\n",
       "      <th>Impressions</th>\n",
       "      <th>Engine Click Thru %</th>\n",
       "      <th>Avg. Pos.</th>\n",
       "      <th>Total Volume of Bookings</th>\n",
       "      <th>Trans. Conv. %</th>\n",
       "      <th>net_r_log</th>\n",
       "      <th>ROA</th>\n",
       "      <th>Probability of Booking</th>\n",
       "    </tr>\n",
       "  </thead>\n",
       "  <tbody>\n",
       "    <tr>\n",
       "      <th>count</th>\n",
       "      <td>4462.000000</td>\n",
       "      <td>4462.000000</td>\n",
       "      <td>4.462000e+03</td>\n",
       "      <td>4462.000000</td>\n",
       "      <td>4462.000000</td>\n",
       "      <td>4462.000000</td>\n",
       "      <td>4462.000000</td>\n",
       "      <td>4462.000000</td>\n",
       "      <td>4462.000000</td>\n",
       "      <td>4462.000000</td>\n",
       "    </tr>\n",
       "    <tr>\n",
       "      <th>mean</th>\n",
       "      <td>5.412413</td>\n",
       "      <td>114.670103</td>\n",
       "      <td>9.215138e+03</td>\n",
       "      <td>11.252082</td>\n",
       "      <td>1.920077</td>\n",
       "      <td>0.882116</td>\n",
       "      <td>0.574721</td>\n",
       "      <td>-1.323581</td>\n",
       "      <td>341.457974</td>\n",
       "      <td>0.000688</td>\n",
       "    </tr>\n",
       "    <tr>\n",
       "      <th>std</th>\n",
       "      <td>3.312941</td>\n",
       "      <td>1068.353818</td>\n",
       "      <td>1.705351e+05</td>\n",
       "      <td>20.314538</td>\n",
       "      <td>1.070476</td>\n",
       "      <td>12.180478</td>\n",
       "      <td>13.936726</td>\n",
       "      <td>3.047833</td>\n",
       "      <td>7313.707540</td>\n",
       "      <td>0.015232</td>\n",
       "    </tr>\n",
       "    <tr>\n",
       "      <th>min</th>\n",
       "      <td>0.000000</td>\n",
       "      <td>1.000000</td>\n",
       "      <td>1.000000e+00</td>\n",
       "      <td>0.012865</td>\n",
       "      <td>0.000000</td>\n",
       "      <td>0.000000</td>\n",
       "      <td>0.000000</td>\n",
       "      <td>-9.074054</td>\n",
       "      <td>-100.000000</td>\n",
       "      <td>0.000000</td>\n",
       "    </tr>\n",
       "    <tr>\n",
       "      <th>25%</th>\n",
       "      <td>2.790625</td>\n",
       "      <td>1.000000</td>\n",
       "      <td>2.700000e+01</td>\n",
       "      <td>1.604994</td>\n",
       "      <td>1.141986</td>\n",
       "      <td>0.000000</td>\n",
       "      <td>0.000000</td>\n",
       "      <td>-2.942298</td>\n",
       "      <td>-100.000000</td>\n",
       "      <td>0.000000</td>\n",
       "    </tr>\n",
       "    <tr>\n",
       "      <th>50%</th>\n",
       "      <td>6.250000</td>\n",
       "      <td>4.000000</td>\n",
       "      <td>1.720000e+02</td>\n",
       "      <td>4.166667</td>\n",
       "      <td>1.584076</td>\n",
       "      <td>0.000000</td>\n",
       "      <td>0.000000</td>\n",
       "      <td>-1.609438</td>\n",
       "      <td>-100.000000</td>\n",
       "      <td>0.000000</td>\n",
       "    </tr>\n",
       "    <tr>\n",
       "      <th>75%</th>\n",
       "      <td>6.250000</td>\n",
       "      <td>19.000000</td>\n",
       "      <td>8.317500e+02</td>\n",
       "      <td>11.111111</td>\n",
       "      <td>2.285497</td>\n",
       "      <td>0.000000</td>\n",
       "      <td>0.000000</td>\n",
       "      <td>-0.477786</td>\n",
       "      <td>-100.000000</td>\n",
       "      <td>0.000000</td>\n",
       "    </tr>\n",
       "    <tr>\n",
       "      <th>max</th>\n",
       "      <td>27.500000</td>\n",
       "      <td>34012.000000</td>\n",
       "      <td>8.342415e+06</td>\n",
       "      <td>200.000000</td>\n",
       "      <td>15.000000</td>\n",
       "      <td>439.000000</td>\n",
       "      <td>900.000000</td>\n",
       "      <td>13.216808</td>\n",
       "      <td>379487.027027</td>\n",
       "      <td>0.818182</td>\n",
       "    </tr>\n",
       "  </tbody>\n",
       "</table>\n",
       "</div>"
      ],
      "text/plain": [
       "       Search Engine Bid        Clicks   Impressions  Engine Click Thru %  \\\n",
       "count        4462.000000   4462.000000  4.462000e+03          4462.000000   \n",
       "mean            5.412413    114.670103  9.215138e+03            11.252082   \n",
       "std             3.312941   1068.353818  1.705351e+05            20.314538   \n",
       "min             0.000000      1.000000  1.000000e+00             0.012865   \n",
       "25%             2.790625      1.000000  2.700000e+01             1.604994   \n",
       "50%             6.250000      4.000000  1.720000e+02             4.166667   \n",
       "75%             6.250000     19.000000  8.317500e+02            11.111111   \n",
       "max            27.500000  34012.000000  8.342415e+06           200.000000   \n",
       "\n",
       "         Avg. Pos.  Total Volume of Bookings  Trans. Conv. %    net_r_log  \\\n",
       "count  4462.000000               4462.000000     4462.000000  4462.000000   \n",
       "mean      1.920077                  0.882116        0.574721    -1.323581   \n",
       "std       1.070476                 12.180478       13.936726     3.047833   \n",
       "min       0.000000                  0.000000        0.000000    -9.074054   \n",
       "25%       1.141986                  0.000000        0.000000    -2.942298   \n",
       "50%       1.584076                  0.000000        0.000000    -1.609438   \n",
       "75%       2.285497                  0.000000        0.000000    -0.477786   \n",
       "max      15.000000                439.000000      900.000000    13.216808   \n",
       "\n",
       "                 ROA  Probability of Booking  \n",
       "count    4462.000000             4462.000000  \n",
       "mean      341.457974                0.000688  \n",
       "std      7313.707540                0.015232  \n",
       "min      -100.000000                0.000000  \n",
       "25%      -100.000000                0.000000  \n",
       "50%      -100.000000                0.000000  \n",
       "75%      -100.000000                0.000000  \n",
       "max    379487.027027                0.818182  "
      ]
     },
     "execution_count": 1027,
     "metadata": {},
     "output_type": "execute_result"
    }
   ],
   "source": [
    "X.describe()"
   ]
  },
  {
   "cell_type": "markdown",
   "id": "c9bb9455-22a0-4f26-8ff3-9fbf4e104175",
   "metadata": {},
   "source": [
    "## Second attempt of Regression"
   ]
  },
  {
   "cell_type": "code",
   "execution_count": 1028,
   "id": "951325e2-fd99-438d-a82e-92e1d5a30243",
   "metadata": {},
   "outputs": [],
   "source": [
    "second = df.drop(columns = ['Trans. Conv. %','Engine Click Thru %','ROA', 'Probability of Booking','net_r_log'], axis = 1)\n",
    "\n",
    "t_X = second.drop(columns = ['Total Cost'], axis = 1)"
   ]
  },
  {
   "cell_type": "code",
   "execution_count": 1029,
   "id": "7c645a90-e754-4b79-b14a-f03f3cd05e1c",
   "metadata": {},
   "outputs": [
    {
     "data": {
      "text/plain": [
       "Total Cost                  1.000000\n",
       "Search Engine Bid           0.114226\n",
       "Clicks                      0.868332\n",
       "Impressions                 0.431402\n",
       "Avg. Pos.                  -0.017615\n",
       "Total Volume of Bookings    0.539544\n",
       "Name: Total Cost, dtype: float64"
      ]
     },
     "execution_count": 1029,
     "metadata": {},
     "output_type": "execute_result"
    }
   ],
   "source": [
    "second.corr(method='pearson')['Total Cost']"
   ]
  },
  {
   "cell_type": "code",
   "execution_count": 1030,
   "id": "5028d8a3-78d7-4723-910c-21bf91d5f0de",
   "metadata": {
    "tags": []
   },
   "outputs": [
    {
     "data": {
      "text/plain": [
       "<AxesSubplot:>"
      ]
     },
     "execution_count": 1030,
     "metadata": {},
     "output_type": "execute_result"
    },
    {
     "data": {
      "image/png": "[encoded data removed]",
      "text/plain": [
       "<Figure size 720x432 with 2 Axes>"
      ]
     },
     "metadata": {},
     "output_type": "display_data"
    }
   ],
   "source": [
    "sns.set(rc = {'figure.figsize':(10,6)})\n",
    "sns.heatmap(second.corr('pearson'))"
   ]
  },
  {
   "cell_type": "code",
   "execution_count": 1031,
   "id": "bb448388-ec2e-406b-a718-9c6544da7da5",
   "metadata": {},
   "outputs": [
    {
     "name": "stdout",
     "output_type": "stream",
     "text": [
      "                            OLS Regression Results                            \n",
      "==============================================================================\n",
      "Dep. Variable:             Total Cost   R-squared:                       0.860\n",
      "Model:                            OLS   Adj. R-squared:                  0.860\n",
      "Method:                 Least Squares   F-statistic:                     5466.\n",
      "Date:                Tue, 03 May 2022   Prob (F-statistic):               0.00\n",
      "Time:                        00:09:36   Log-Likelihood:                -34107.\n",
      "No. Observations:                4462   AIC:                         6.823e+04\n",
      "Df Residuals:                    4456   BIC:                         6.826e+04\n",
      "Df Model:                           5                                         \n",
      "Covariance Type:            nonrobust                                         \n",
      "============================================================================================\n",
      "                               coef    std err          t      P>|t|      [0.025      0.975]\n",
      "--------------------------------------------------------------------------------------------\n",
      "const                      -16.5302     22.892     -0.722      0.470     -61.410      28.350\n",
      "Search Engine Bid            9.7738      2.395      4.082      0.000       5.079      14.468\n",
      "Clicks                       1.7877      0.015    115.461      0.000       1.757       1.818\n",
      "Impressions                 -0.0006   5.47e-05    -11.302      0.000      -0.001      -0.001\n",
      "Avg. Pos.                   -2.7566      7.360     -0.375      0.708     -17.186      11.673\n",
      "Total Volume of Bookings   -69.4427      1.249    -55.587      0.000     -71.892     -66.994\n",
      "==============================================================================\n",
      "Omnibus:                     6353.252   Durbin-Watson:                   1.832\n",
      "Prob(Omnibus):                  0.000   Jarque-Bera (JB):         27283150.883\n",
      "Skew:                           7.336   Prob(JB):                         0.00\n",
      "Kurtosis:                     385.798   Cond. No.                     5.34e+05\n",
      "==============================================================================\n",
      "\n",
      "Notes:\n",
      "[1] Standard Errors assume that the covariance matrix of the errors is correctly specified.\n",
      "[2] The condition number is large, 5.34e+05. This might indicate that there are\n",
      "strong multicollinearity or other numerical problems.\n"
     ]
    }
   ],
   "source": [
    "indepvars=sm.add_constant(t_X)\n",
    "regmod=sm.OLS(second['Total Cost'],indepvars)\n",
    "regfit=regmod.fit()\n",
    "print(regfit.summary())"
   ]
  },
  {
   "cell_type": "code",
   "execution_count": 1032,
   "id": "18f87f02-5c12-4e24-89ca-9694fe1b3bc5",
   "metadata": {},
   "outputs": [
    {
     "data": {
      "text/html": [
       "<div>\n",
       "<style scoped>\n",
       "    .dataframe tbody tr th:only-of-type {\n",
       "        vertical-align: middle;\n",
       "    }\n",
       "\n",
       "    .dataframe tbody tr th {\n",
       "        vertical-align: top;\n",
       "    }\n",
       "\n",
       "    .dataframe thead th {\n",
       "        text-align: right;\n",
       "    }\n",
       "</style>\n",
       "<table border=\"1\" class=\"dataframe\">\n",
       "  <thead>\n",
       "    <tr style=\"text-align: right;\">\n",
       "      <th></th>\n",
       "      <th>VIF</th>\n",
       "      <th>Variables</th>\n",
       "    </tr>\n",
       "  </thead>\n",
       "  <tbody>\n",
       "    <tr>\n",
       "      <th>0</th>\n",
       "      <td>1.867716</td>\n",
       "      <td>Search Engine Bid</td>\n",
       "    </tr>\n",
       "    <tr>\n",
       "      <th>1</th>\n",
       "      <td>4.829989</td>\n",
       "      <td>Clicks</td>\n",
       "    </tr>\n",
       "    <tr>\n",
       "      <th>2</th>\n",
       "      <td>1.522667</td>\n",
       "      <td>Impressions</td>\n",
       "    </tr>\n",
       "    <tr>\n",
       "      <th>3</th>\n",
       "      <td>1.840402</td>\n",
       "      <td>Avg. Pos.</td>\n",
       "    </tr>\n",
       "    <tr>\n",
       "      <th>4</th>\n",
       "      <td>4.062779</td>\n",
       "      <td>Total Volume of Bookings</td>\n",
       "    </tr>\n",
       "  </tbody>\n",
       "</table>\n",
       "</div>"
      ],
      "text/plain": [
       "        VIF                 Variables\n",
       "0  1.867716         Search Engine Bid\n",
       "1  4.829989                    Clicks\n",
       "2  1.522667               Impressions\n",
       "3  1.840402                 Avg. Pos.\n",
       "4  4.062779  Total Volume of Bookings"
      ]
     },
     "execution_count": 1032,
     "metadata": {},
     "output_type": "execute_result"
    }
   ],
   "source": [
    "vif=pd.DataFrame()\n",
    "\n",
    "vif['VIF']=[variance_inflation_factor(t_X.values,i) for i in range(t_X.shape[1])] #for each index in the dataframe (each IV), calculate VIF\n",
    "vif['Variables']=t_X.columns #create the corresponding variable column\n",
    "vif"
   ]
  },
  {
   "cell_type": "markdown",
   "id": "fc391707-8cbf-4d0d-807e-a8b8fd395595",
   "metadata": {
    "tags": []
   },
   "source": [
    "# BONUS QUESTIONS 1"
   ]
  },
  {
   "cell_type": "code",
   "execution_count": 1033,
   "id": "016cc2dd-ade6-431c-9724-0a87f37c47bd",
   "metadata": {},
   "outputs": [
    {
     "data": {
      "text/html": [
       "<div>\n",
       "<style scoped>\n",
       "    .dataframe tbody tr th:only-of-type {\n",
       "        vertical-align: middle;\n",
       "    }\n",
       "\n",
       "    .dataframe tbody tr th {\n",
       "        vertical-align: top;\n",
       "    }\n",
       "\n",
       "    .dataframe thead th {\n",
       "        text-align: right;\n",
       "    }\n",
       "</style>\n",
       "<table border=\"1\" class=\"dataframe\">\n",
       "  <thead>\n",
       "    <tr style=\"text-align: right;\">\n",
       "      <th></th>\n",
       "      <th>Keyword ID</th>\n",
       "      <th>Search Engine Bid</th>\n",
       "      <th>Clicks</th>\n",
       "      <th>Click Charges</th>\n",
       "      <th>Avg. Cost per Click</th>\n",
       "      <th>Impressions</th>\n",
       "      <th>Engine Click Thru %</th>\n",
       "      <th>Avg. Pos.</th>\n",
       "      <th>Trans. Conv. %</th>\n",
       "      <th>Total Cost/ Trans.</th>\n",
       "      <th>Amount</th>\n",
       "      <th>Total Cost</th>\n",
       "      <th>Total Volume of Bookings</th>\n",
       "      <th>Net_Revenue</th>\n",
       "      <th>ROA</th>\n",
       "      <th>Average Revenue per Booking</th>\n",
       "      <th>Probability of Booking</th>\n",
       "      <th>net_r_log</th>\n",
       "    </tr>\n",
       "  </thead>\n",
       "  <tbody>\n",
       "    <tr>\n",
       "      <th>count</th>\n",
       "      <td>4.510000e+03</td>\n",
       "      <td>4510.000000</td>\n",
       "      <td>4510.000000</td>\n",
       "      <td>4510.000000</td>\n",
       "      <td>4510.000000</td>\n",
       "      <td>4.510000e+03</td>\n",
       "      <td>4510.000000</td>\n",
       "      <td>4510.000000</td>\n",
       "      <td>4510.000000</td>\n",
       "      <td>4510.000000</td>\n",
       "      <td>4510.000000</td>\n",
       "      <td>4510.000000</td>\n",
       "      <td>4510.000000</td>\n",
       "      <td>4510.000000</td>\n",
       "      <td>4510.000000</td>\n",
       "      <td>4510.000000</td>\n",
       "      <td>4510.000000</td>\n",
       "      <td>4510.000000</td>\n",
       "    </tr>\n",
       "    <tr>\n",
       "      <th>mean</th>\n",
       "      <td>4.300000e+16</td>\n",
       "      <td>5.434631</td>\n",
       "      <td>113.713747</td>\n",
       "      <td>167.475814</td>\n",
       "      <td>1.890240</td>\n",
       "      <td>9.283520e+03</td>\n",
       "      <td>11.141451</td>\n",
       "      <td>1.929640</td>\n",
       "      <td>0.569255</td>\n",
       "      <td>27.607445</td>\n",
       "      <td>1033.683492</td>\n",
       "      <td>167.475814</td>\n",
       "      <td>0.873392</td>\n",
       "      <td>866.207678</td>\n",
       "      <td>341.413864</td>\n",
       "      <td>83.575942</td>\n",
       "      <td>0.000681</td>\n",
       "      <td>-1.318203</td>\n",
       "    </tr>\n",
       "    <tr>\n",
       "      <th>std</th>\n",
       "      <td>1.081229e+07</td>\n",
       "      <td>3.302217</td>\n",
       "      <td>1062.712282</td>\n",
       "      <td>1342.375797</td>\n",
       "      <td>1.322375</td>\n",
       "      <td>1.696674e+05</td>\n",
       "      <td>20.234582</td>\n",
       "      <td>1.075528</td>\n",
       "      <td>13.862485</td>\n",
       "      <td>226.310133</td>\n",
       "      <td>14940.371898</td>\n",
       "      <td>1342.375797</td>\n",
       "      <td>12.115789</td>\n",
       "      <td>14246.298903</td>\n",
       "      <td>7277.915278</td>\n",
       "      <td>344.981225</td>\n",
       "      <td>0.015151</td>\n",
       "      <td>3.044325</td>\n",
       "    </tr>\n",
       "    <tr>\n",
       "      <th>min</th>\n",
       "      <td>4.300000e+16</td>\n",
       "      <td>0.000000</td>\n",
       "      <td>0.000000</td>\n",
       "      <td>0.000000</td>\n",
       "      <td>0.000000</td>\n",
       "      <td>0.000000e+00</td>\n",
       "      <td>0.000000</td>\n",
       "      <td>0.000000</td>\n",
       "      <td>0.000000</td>\n",
       "      <td>0.000000</td>\n",
       "      <td>0.000000</td>\n",
       "      <td>0.000000</td>\n",
       "      <td>0.000000</td>\n",
       "      <td>-8725.924987</td>\n",
       "      <td>-100.000000</td>\n",
       "      <td>0.000000</td>\n",
       "      <td>0.000000</td>\n",
       "      <td>-9.074054</td>\n",
       "    </tr>\n",
       "    <tr>\n",
       "      <th>25%</th>\n",
       "      <td>4.300000e+16</td>\n",
       "      <td>3.384375</td>\n",
       "      <td>1.000000</td>\n",
       "      <td>2.312500</td>\n",
       "      <td>0.825000</td>\n",
       "      <td>2.800000e+01</td>\n",
       "      <td>1.531681</td>\n",
       "      <td>1.142857</td>\n",
       "      <td>0.000000</td>\n",
       "      <td>0.000000</td>\n",
       "      <td>0.000000</td>\n",
       "      <td>2.312500</td>\n",
       "      <td>0.000000</td>\n",
       "      <td>-18.871875</td>\n",
       "      <td>-100.000000</td>\n",
       "      <td>0.000000</td>\n",
       "      <td>0.000000</td>\n",
       "      <td>-2.937673</td>\n",
       "    </tr>\n",
       "    <tr>\n",
       "      <th>50%</th>\n",
       "      <td>4.300000e+16</td>\n",
       "      <td>6.250000</td>\n",
       "      <td>4.000000</td>\n",
       "      <td>6.756250</td>\n",
       "      <td>1.650493</td>\n",
       "      <td>1.760000e+02</td>\n",
       "      <td>4.105614</td>\n",
       "      <td>1.593991</td>\n",
       "      <td>0.000000</td>\n",
       "      <td>0.000000</td>\n",
       "      <td>0.000000</td>\n",
       "      <td>6.756250</td>\n",
       "      <td>0.000000</td>\n",
       "      <td>-4.987500</td>\n",
       "      <td>-100.000000</td>\n",
       "      <td>0.000000</td>\n",
       "      <td>0.000000</td>\n",
       "      <td>-1.606935</td>\n",
       "    </tr>\n",
       "    <tr>\n",
       "      <th>75%</th>\n",
       "      <td>4.300000e+16</td>\n",
       "      <td>6.250000</td>\n",
       "      <td>19.000000</td>\n",
       "      <td>28.487500</td>\n",
       "      <td>2.662500</td>\n",
       "      <td>8.435000e+02</td>\n",
       "      <td>10.916928</td>\n",
       "      <td>2.308105</td>\n",
       "      <td>0.000000</td>\n",
       "      <td>0.000000</td>\n",
       "      <td>0.000000</td>\n",
       "      <td>28.487500</td>\n",
       "      <td>0.000000</td>\n",
       "      <td>-1.600000</td>\n",
       "      <td>-100.000000</td>\n",
       "      <td>0.000000</td>\n",
       "      <td>0.000000</td>\n",
       "      <td>-0.470004</td>\n",
       "    </tr>\n",
       "    <tr>\n",
       "      <th>max</th>\n",
       "      <td>4.300000e+16</td>\n",
       "      <td>27.500000</td>\n",
       "      <td>34012.000000</td>\n",
       "      <td>46188.437315</td>\n",
       "      <td>10.000000</td>\n",
       "      <td>8.342415e+06</td>\n",
       "      <td>200.000000</td>\n",
       "      <td>15.000000</td>\n",
       "      <td>900.000000</td>\n",
       "      <td>9597.174987</td>\n",
       "      <td>567463.400000</td>\n",
       "      <td>46188.437315</td>\n",
       "      <td>439.000000</td>\n",
       "      <td>549524.050273</td>\n",
       "      <td>379487.027027</td>\n",
       "      <td>5877.750000</td>\n",
       "      <td>0.818182</td>\n",
       "      <td>13.216808</td>\n",
       "    </tr>\n",
       "  </tbody>\n",
       "</table>\n",
       "</div>"
      ],
      "text/plain": [
       "         Keyword ID  Search Engine Bid        Clicks  Click Charges  \\\n",
       "count  4.510000e+03        4510.000000   4510.000000    4510.000000   \n",
       "mean   4.300000e+16           5.434631    113.713747     167.475814   \n",
       "std    1.081229e+07           3.302217   1062.712282    1342.375797   \n",
       "min    4.300000e+16           0.000000      0.000000       0.000000   \n",
       "25%    4.300000e+16           3.384375      1.000000       2.312500   \n",
       "50%    4.300000e+16           6.250000      4.000000       6.756250   \n",
       "75%    4.300000e+16           6.250000     19.000000      28.487500   \n",
       "max    4.300000e+16          27.500000  34012.000000   46188.437315   \n",
       "\n",
       "       Avg. Cost per Click   Impressions  Engine Click Thru %    Avg. Pos.  \\\n",
       "count          4510.000000  4.510000e+03          4510.000000  4510.000000   \n",
       "mean              1.890240  9.283520e+03            11.141451     1.929640   \n",
       "std               1.322375  1.696674e+05            20.234582     1.075528   \n",
       "min               0.000000  0.000000e+00             0.000000     0.000000   \n",
       "25%               0.825000  2.800000e+01             1.531681     1.142857   \n",
       "50%               1.650493  1.760000e+02             4.105614     1.593991   \n",
       "75%               2.662500  8.435000e+02            10.916928     2.308105   \n",
       "max              10.000000  8.342415e+06           200.000000    15.000000   \n",
       "\n",
       "       Trans. Conv. %  Total Cost/ Trans.         Amount    Total Cost  \\\n",
       "count     4510.000000         4510.000000    4510.000000   4510.000000   \n",
       "mean         0.569255           27.607445    1033.683492    167.475814   \n",
       "std         13.862485          226.310133   14940.371898   1342.375797   \n",
       "min          0.000000            0.000000       0.000000      0.000000   \n",
       "25%          0.000000            0.000000       0.000000      2.312500   \n",
       "50%          0.000000            0.000000       0.000000      6.756250   \n",
       "75%          0.000000            0.000000       0.000000     28.487500   \n",
       "max        900.000000         9597.174987  567463.400000  46188.437315   \n",
       "\n",
       "       Total Volume of Bookings    Net_Revenue            ROA  \\\n",
       "count               4510.000000    4510.000000    4510.000000   \n",
       "mean                   0.873392     866.207678     341.413864   \n",
       "std                   12.115789   14246.298903    7277.915278   \n",
       "min                    0.000000   -8725.924987    -100.000000   \n",
       "25%                    0.000000     -18.871875    -100.000000   \n",
       "50%                    0.000000      -4.987500    -100.000000   \n",
       "75%                    0.000000      -1.600000    -100.000000   \n",
       "max                  439.000000  549524.050273  379487.027027   \n",
       "\n",
       "       Average Revenue per Booking  Probability of Booking    net_r_log  \n",
       "count                  4510.000000             4510.000000  4510.000000  \n",
       "mean                     83.575942                0.000681    -1.318203  \n",
       "std                     344.981225                0.015151     3.044325  \n",
       "min                       0.000000                0.000000    -9.074054  \n",
       "25%                       0.000000                0.000000    -2.937673  \n",
       "50%                       0.000000                0.000000    -1.606935  \n",
       "75%                       0.000000                0.000000    -0.470004  \n",
       "max                    5877.750000                0.818182    13.216808  "
      ]
     },
     "execution_count": 1033,
     "metadata": {},
     "output_type": "execute_result"
    }
   ],
   "source": [
    "data.describe()"
   ]
  },
  {
   "cell_type": "code",
   "execution_count": 1034,
   "id": "5836de20-7c8b-4a61-bf49-1c8041b13cab",
   "metadata": {},
   "outputs": [
    {
     "data": {
      "text/html": [
       "<div>\n",
       "<style scoped>\n",
       "    .dataframe tbody tr th:only-of-type {\n",
       "        vertical-align: middle;\n",
       "    }\n",
       "\n",
       "    .dataframe tbody tr th {\n",
       "        vertical-align: top;\n",
       "    }\n",
       "\n",
       "    .dataframe thead th {\n",
       "        text-align: right;\n",
       "    }\n",
       "</style>\n",
       "<table border=\"1\" class=\"dataframe\">\n",
       "  <thead>\n",
       "    <tr style=\"text-align: right;\">\n",
       "      <th></th>\n",
       "      <th>Amount</th>\n",
       "      <th>Click Charges</th>\n",
       "      <th>Clicks</th>\n",
       "      <th>Impressions</th>\n",
       "      <th>Net_Revenue</th>\n",
       "      <th>Total Cost</th>\n",
       "      <th>Total Volume of Bookings</th>\n",
       "    </tr>\n",
       "    <tr>\n",
       "      <th>Publisher Name</th>\n",
       "      <th></th>\n",
       "      <th></th>\n",
       "      <th></th>\n",
       "      <th></th>\n",
       "      <th></th>\n",
       "      <th></th>\n",
       "      <th></th>\n",
       "    </tr>\n",
       "  </thead>\n",
       "  <tbody>\n",
       "    <tr>\n",
       "      <th>Google - Global</th>\n",
       "      <td>929550.0</td>\n",
       "      <td>120947.0</td>\n",
       "      <td>72895</td>\n",
       "      <td>1808326</td>\n",
       "      <td>808603.0</td>\n",
       "      <td>120947.0</td>\n",
       "      <td>797</td>\n",
       "    </tr>\n",
       "    <tr>\n",
       "      <th>Google - US</th>\n",
       "      <td>1745482.0</td>\n",
       "      <td>353641.0</td>\n",
       "      <td>192109</td>\n",
       "      <td>3855689</td>\n",
       "      <td>1391841.0</td>\n",
       "      <td>353641.0</td>\n",
       "      <td>1550</td>\n",
       "    </tr>\n",
       "    <tr>\n",
       "      <th>MSN - Global</th>\n",
       "      <td>145524.0</td>\n",
       "      <td>12160.0</td>\n",
       "      <td>11217</td>\n",
       "      <td>139979</td>\n",
       "      <td>133364.0</td>\n",
       "      <td>12160.0</td>\n",
       "      <td>129</td>\n",
       "    </tr>\n",
       "    <tr>\n",
       "      <th>MSN - US</th>\n",
       "      <td>181550.0</td>\n",
       "      <td>16098.0</td>\n",
       "      <td>10808</td>\n",
       "      <td>170120</td>\n",
       "      <td>165451.0</td>\n",
       "      <td>16098.0</td>\n",
       "      <td>140</td>\n",
       "    </tr>\n",
       "    <tr>\n",
       "      <th>Overture - Global</th>\n",
       "      <td>430085.0</td>\n",
       "      <td>64296.0</td>\n",
       "      <td>60899</td>\n",
       "      <td>17898727</td>\n",
       "      <td>365789.0</td>\n",
       "      <td>64296.0</td>\n",
       "      <td>372</td>\n",
       "    </tr>\n",
       "    <tr>\n",
       "      <th>Overture - US</th>\n",
       "      <td>347433.0</td>\n",
       "      <td>141976.0</td>\n",
       "      <td>119323</td>\n",
       "      <td>17062488</td>\n",
       "      <td>205457.0</td>\n",
       "      <td>141976.0</td>\n",
       "      <td>289</td>\n",
       "    </tr>\n",
       "    <tr>\n",
       "      <th>Yahoo - US</th>\n",
       "      <td>882289.0</td>\n",
       "      <td>46198.0</td>\n",
       "      <td>45598</td>\n",
       "      <td>933345</td>\n",
       "      <td>836091.0</td>\n",
       "      <td>46198.0</td>\n",
       "      <td>662</td>\n",
       "    </tr>\n",
       "  </tbody>\n",
       "</table>\n",
       "</div>"
      ],
      "text/plain": [
       "                      Amount  Click Charges  Clicks  Impressions  Net_Revenue  \\\n",
       "Publisher Name                                                                  \n",
       "Google - Global     929550.0       120947.0   72895      1808326     808603.0   \n",
       "Google - US        1745482.0       353641.0  192109      3855689    1391841.0   \n",
       "MSN - Global        145524.0        12160.0   11217       139979     133364.0   \n",
       "MSN - US            181550.0        16098.0   10808       170120     165451.0   \n",
       "Overture - Global   430085.0        64296.0   60899     17898727     365789.0   \n",
       "Overture - US       347433.0       141976.0  119323     17062488     205457.0   \n",
       "Yahoo - US          882289.0        46198.0   45598       933345     836091.0   \n",
       "\n",
       "                   Total Cost  Total Volume of Bookings  \n",
       "Publisher Name                                           \n",
       "Google - Global      120947.0                       797  \n",
       "Google - US          353641.0                      1550  \n",
       "MSN - Global          12160.0                       129  \n",
       "MSN - US              16098.0                       140  \n",
       "Overture - Global     64296.0                       372  \n",
       "Overture - US        141976.0                       289  \n",
       "Yahoo - US            46198.0                       662  "
      ]
     },
     "execution_count": 1034,
     "metadata": {},
     "output_type": "execute_result"
    }
   ],
   "source": [
    "c = pd.pivot_table(data,index=[\"Publisher Name\"],\n",
    "               values=['Net_Revenue','Total Volume of Bookings','Click Charges', 'Clicks','Amount', 'Total Cost','Impressions'],aggfunc=np.sum).round()\n",
    "c"
   ]
  },
  {
   "cell_type": "code",
   "execution_count": 1046,
   "id": "a993cc49-f673-41bf-bd26-ca6485ad4225",
   "metadata": {
    "tags": []
   },
   "outputs": [
    {
     "data": {
      "text/html": [
       "<div>\n",
       "<style scoped>\n",
       "    .dataframe tbody tr th:only-of-type {\n",
       "        vertical-align: middle;\n",
       "    }\n",
       "\n",
       "    .dataframe tbody tr th {\n",
       "        vertical-align: top;\n",
       "    }\n",
       "\n",
       "    .dataframe thead th {\n",
       "        text-align: right;\n",
       "    }\n",
       "</style>\n",
       "<table border=\"1\" class=\"dataframe\">\n",
       "  <thead>\n",
       "    <tr style=\"text-align: right;\">\n",
       "      <th></th>\n",
       "      <th>Amount</th>\n",
       "      <th>Click Charges</th>\n",
       "      <th>Clicks</th>\n",
       "      <th>Impressions</th>\n",
       "      <th>Net_Revenue</th>\n",
       "      <th>Total Cost</th>\n",
       "      <th>Total Volume of Bookings</th>\n",
       "      <th>Average Cost Per Click</th>\n",
       "      <th>Average Revenue Per Booking</th>\n",
       "      <th>ROA</th>\n",
       "      <th>Probability of Booking</th>\n",
       "      <th>Cost/Booking</th>\n",
       "    </tr>\n",
       "    <tr>\n",
       "      <th>Publisher Name</th>\n",
       "      <th></th>\n",
       "      <th></th>\n",
       "      <th></th>\n",
       "      <th></th>\n",
       "      <th></th>\n",
       "      <th></th>\n",
       "      <th></th>\n",
       "      <th></th>\n",
       "      <th></th>\n",
       "      <th></th>\n",
       "      <th></th>\n",
       "      <th></th>\n",
       "    </tr>\n",
       "  </thead>\n",
       "  <tbody>\n",
       "    <tr>\n",
       "      <th>Google - Global</th>\n",
       "      <td>929550.0</td>\n",
       "      <td>120947.0</td>\n",
       "      <td>72895</td>\n",
       "      <td>1808326</td>\n",
       "      <td>808603.0</td>\n",
       "      <td>120947.0</td>\n",
       "      <td>797</td>\n",
       "      <td>1.659195</td>\n",
       "      <td>1166.311167</td>\n",
       "      <td>668.559782</td>\n",
       "      <td>0.044074</td>\n",
       "      <td>151.752823</td>\n",
       "    </tr>\n",
       "    <tr>\n",
       "      <th>Google - US</th>\n",
       "      <td>1745482.0</td>\n",
       "      <td>353641.0</td>\n",
       "      <td>192109</td>\n",
       "      <td>3855689</td>\n",
       "      <td>1391841.0</td>\n",
       "      <td>353641.0</td>\n",
       "      <td>1550</td>\n",
       "      <td>1.840835</td>\n",
       "      <td>1126.117419</td>\n",
       "      <td>393.574557</td>\n",
       "      <td>0.040200</td>\n",
       "      <td>228.155484</td>\n",
       "    </tr>\n",
       "    <tr>\n",
       "      <th>MSN - Global</th>\n",
       "      <td>145524.0</td>\n",
       "      <td>12160.0</td>\n",
       "      <td>11217</td>\n",
       "      <td>139979</td>\n",
       "      <td>133364.0</td>\n",
       "      <td>12160.0</td>\n",
       "      <td>129</td>\n",
       "      <td>1.084069</td>\n",
       "      <td>1128.093023</td>\n",
       "      <td>1096.743421</td>\n",
       "      <td>0.092157</td>\n",
       "      <td>94.263566</td>\n",
       "    </tr>\n",
       "    <tr>\n",
       "      <th>MSN - US</th>\n",
       "      <td>181550.0</td>\n",
       "      <td>16098.0</td>\n",
       "      <td>10808</td>\n",
       "      <td>170120</td>\n",
       "      <td>165451.0</td>\n",
       "      <td>16098.0</td>\n",
       "      <td>140</td>\n",
       "      <td>1.489452</td>\n",
       "      <td>1296.785714</td>\n",
       "      <td>1027.773636</td>\n",
       "      <td>0.082295</td>\n",
       "      <td>114.985714</td>\n",
       "    </tr>\n",
       "    <tr>\n",
       "      <th>Overture - Global</th>\n",
       "      <td>430085.0</td>\n",
       "      <td>64296.0</td>\n",
       "      <td>60899</td>\n",
       "      <td>17898727</td>\n",
       "      <td>365789.0</td>\n",
       "      <td>64296.0</td>\n",
       "      <td>372</td>\n",
       "      <td>1.055781</td>\n",
       "      <td>1156.142473</td>\n",
       "      <td>568.914085</td>\n",
       "      <td>0.002078</td>\n",
       "      <td>172.838710</td>\n",
       "    </tr>\n",
       "    <tr>\n",
       "      <th>Overture - US</th>\n",
       "      <td>347433.0</td>\n",
       "      <td>141976.0</td>\n",
       "      <td>119323</td>\n",
       "      <td>17062488</td>\n",
       "      <td>205457.0</td>\n",
       "      <td>141976.0</td>\n",
       "      <td>289</td>\n",
       "      <td>1.189846</td>\n",
       "      <td>1202.190311</td>\n",
       "      <td>144.712487</td>\n",
       "      <td>0.001694</td>\n",
       "      <td>491.266436</td>\n",
       "    </tr>\n",
       "    <tr>\n",
       "      <th>Yahoo - US</th>\n",
       "      <td>882289.0</td>\n",
       "      <td>46198.0</td>\n",
       "      <td>45598</td>\n",
       "      <td>933345</td>\n",
       "      <td>836091.0</td>\n",
       "      <td>46198.0</td>\n",
       "      <td>662</td>\n",
       "      <td>1.013158</td>\n",
       "      <td>1332.762840</td>\n",
       "      <td>1809.799126</td>\n",
       "      <td>0.070928</td>\n",
       "      <td>69.785498</td>\n",
       "    </tr>\n",
       "  </tbody>\n",
       "</table>\n",
       "</div>"
      ],
      "text/plain": [
       "                      Amount  Click Charges  Clicks  Impressions  Net_Revenue  \\\n",
       "Publisher Name                                                                  \n",
       "Google - Global     929550.0       120947.0   72895      1808326     808603.0   \n",
       "Google - US        1745482.0       353641.0  192109      3855689    1391841.0   \n",
       "MSN - Global        145524.0        12160.0   11217       139979     133364.0   \n",
       "MSN - US            181550.0        16098.0   10808       170120     165451.0   \n",
       "Overture - Global   430085.0        64296.0   60899     17898727     365789.0   \n",
       "Overture - US       347433.0       141976.0  119323     17062488     205457.0   \n",
       "Yahoo - US          882289.0        46198.0   45598       933345     836091.0   \n",
       "\n",
       "                   Total Cost  Total Volume of Bookings  \\\n",
       "Publisher Name                                            \n",
       "Google - Global      120947.0                       797   \n",
       "Google - US          353641.0                      1550   \n",
       "MSN - Global          12160.0                       129   \n",
       "MSN - US              16098.0                       140   \n",
       "Overture - Global     64296.0                       372   \n",
       "Overture - US        141976.0                       289   \n",
       "Yahoo - US            46198.0                       662   \n",
       "\n",
       "                   Average Cost Per Click  Average Revenue Per Booking  \\\n",
       "Publisher Name                                                           \n",
       "Google - Global                  1.659195                  1166.311167   \n",
       "Google - US                      1.840835                  1126.117419   \n",
       "MSN - Global                     1.084069                  1128.093023   \n",
       "MSN - US                         1.489452                  1296.785714   \n",
       "Overture - Global                1.055781                  1156.142473   \n",
       "Overture - US                    1.189846                  1202.190311   \n",
       "Yahoo - US                       1.013158                  1332.762840   \n",
       "\n",
       "                           ROA  Probability of Booking  Cost/Booking  \n",
       "Publisher Name                                                        \n",
       "Google - Global     668.559782                0.044074    151.752823  \n",
       "Google - US         393.574557                0.040200    228.155484  \n",
       "MSN - Global       1096.743421                0.092157     94.263566  \n",
       "MSN - US           1027.773636                0.082295    114.985714  \n",
       "Overture - Global   568.914085                0.002078    172.838710  \n",
       "Overture - US       144.712487                0.001694    491.266436  \n",
       "Yahoo - US         1809.799126                0.070928     69.785498  "
      ]
     },
     "execution_count": 1046,
     "metadata": {},
     "output_type": "execute_result"
    }
   ],
   "source": [
    "c['Average Cost Per Click'] = c['Click Charges']/c['Clicks']\n",
    "c['Average Revenue Per Booking'] = c['Amount']/c['Total Volume of Bookings']\n",
    "c['ROA'] = c['Net_Revenue']/c['Total Cost'] * 100\n",
    "\n",
    "c"
   ]
  },
  {
   "cell_type": "code",
   "execution_count": 1047,
   "id": "6b9ab1ca-0890-4edb-884a-06d94044fbee",
   "metadata": {
    "tags": []
   },
   "outputs": [],
   "source": [
    "c ['Probability of Booking'] = c['Total Volume of Bookings'] / c['Impressions']*100\n",
    "c['Cost/Booking'] = c['Total Cost'] / c['Total Volume of Bookings']\n"
   ]
  },
  {
   "cell_type": "code",
   "execution_count": 1049,
   "id": "1fbb17f5-86ba-4b87-b868-16cd79ac508c",
   "metadata": {},
   "outputs": [
    {
     "data": {
      "text/html": [
       "<div>\n",
       "<style scoped>\n",
       "    .dataframe tbody tr th:only-of-type {\n",
       "        vertical-align: middle;\n",
       "    }\n",
       "\n",
       "    .dataframe tbody tr th {\n",
       "        vertical-align: top;\n",
       "    }\n",
       "\n",
       "    .dataframe thead th {\n",
       "        text-align: right;\n",
       "    }\n",
       "</style>\n",
       "<table border=\"1\" class=\"dataframe\">\n",
       "  <thead>\n",
       "    <tr style=\"text-align: right;\">\n",
       "      <th></th>\n",
       "      <th>Net_Revenue</th>\n",
       "      <th>Average Cost Per Click</th>\n",
       "      <th>Total Volume of Bookings</th>\n",
       "      <th>Average Revenue Per Booking</th>\n",
       "      <th>ROA</th>\n",
       "      <th>Probability of Booking</th>\n",
       "      <th>Click Charges</th>\n",
       "      <th>Cost/Booking</th>\n",
       "    </tr>\n",
       "    <tr>\n",
       "      <th>Publisher Name</th>\n",
       "      <th></th>\n",
       "      <th></th>\n",
       "      <th></th>\n",
       "      <th></th>\n",
       "      <th></th>\n",
       "      <th></th>\n",
       "      <th></th>\n",
       "      <th></th>\n",
       "    </tr>\n",
       "  </thead>\n",
       "  <tbody>\n",
       "    <tr>\n",
       "      <th>Google - Global</th>\n",
       "      <td>808603.0</td>\n",
       "      <td>1.659195</td>\n",
       "      <td>797</td>\n",
       "      <td>1166.311167</td>\n",
       "      <td>668.559782</td>\n",
       "      <td>0.044074</td>\n",
       "      <td>120947.0</td>\n",
       "      <td>151.752823</td>\n",
       "    </tr>\n",
       "    <tr>\n",
       "      <th>Google - US</th>\n",
       "      <td>1391841.0</td>\n",
       "      <td>1.840835</td>\n",
       "      <td>1550</td>\n",
       "      <td>1126.117419</td>\n",
       "      <td>393.574557</td>\n",
       "      <td>0.040200</td>\n",
       "      <td>353641.0</td>\n",
       "      <td>228.155484</td>\n",
       "    </tr>\n",
       "    <tr>\n",
       "      <th>MSN - Global</th>\n",
       "      <td>133364.0</td>\n",
       "      <td>1.084069</td>\n",
       "      <td>129</td>\n",
       "      <td>1128.093023</td>\n",
       "      <td>1096.743421</td>\n",
       "      <td>0.092157</td>\n",
       "      <td>12160.0</td>\n",
       "      <td>94.263566</td>\n",
       "    </tr>\n",
       "    <tr>\n",
       "      <th>MSN - US</th>\n",
       "      <td>165451.0</td>\n",
       "      <td>1.489452</td>\n",
       "      <td>140</td>\n",
       "      <td>1296.785714</td>\n",
       "      <td>1027.773636</td>\n",
       "      <td>0.082295</td>\n",
       "      <td>16098.0</td>\n",
       "      <td>114.985714</td>\n",
       "    </tr>\n",
       "    <tr>\n",
       "      <th>Overture - Global</th>\n",
       "      <td>365789.0</td>\n",
       "      <td>1.055781</td>\n",
       "      <td>372</td>\n",
       "      <td>1156.142473</td>\n",
       "      <td>568.914085</td>\n",
       "      <td>0.002078</td>\n",
       "      <td>64296.0</td>\n",
       "      <td>172.838710</td>\n",
       "    </tr>\n",
       "    <tr>\n",
       "      <th>Overture - US</th>\n",
       "      <td>205457.0</td>\n",
       "      <td>1.189846</td>\n",
       "      <td>289</td>\n",
       "      <td>1202.190311</td>\n",
       "      <td>144.712487</td>\n",
       "      <td>0.001694</td>\n",
       "      <td>141976.0</td>\n",
       "      <td>491.266436</td>\n",
       "    </tr>\n",
       "    <tr>\n",
       "      <th>Yahoo - US</th>\n",
       "      <td>836091.0</td>\n",
       "      <td>1.013158</td>\n",
       "      <td>662</td>\n",
       "      <td>1332.762840</td>\n",
       "      <td>1809.799126</td>\n",
       "      <td>0.070928</td>\n",
       "      <td>46198.0</td>\n",
       "      <td>69.785498</td>\n",
       "    </tr>\n",
       "  </tbody>\n",
       "</table>\n",
       "</div>"
      ],
      "text/plain": [
       "                   Net_Revenue  Average Cost Per Click  \\\n",
       "Publisher Name                                           \n",
       "Google - Global       808603.0                1.659195   \n",
       "Google - US          1391841.0                1.840835   \n",
       "MSN - Global          133364.0                1.084069   \n",
       "MSN - US              165451.0                1.489452   \n",
       "Overture - Global     365789.0                1.055781   \n",
       "Overture - US         205457.0                1.189846   \n",
       "Yahoo - US            836091.0                1.013158   \n",
       "\n",
       "                   Total Volume of Bookings  Average Revenue Per Booking  \\\n",
       "Publisher Name                                                             \n",
       "Google - Global                         797                  1166.311167   \n",
       "Google - US                            1550                  1126.117419   \n",
       "MSN - Global                            129                  1128.093023   \n",
       "MSN - US                                140                  1296.785714   \n",
       "Overture - Global                       372                  1156.142473   \n",
       "Overture - US                           289                  1202.190311   \n",
       "Yahoo - US                              662                  1332.762840   \n",
       "\n",
       "                           ROA  Probability of Booking  Click Charges  \\\n",
       "Publisher Name                                                          \n",
       "Google - Global     668.559782                0.044074       120947.0   \n",
       "Google - US         393.574557                0.040200       353641.0   \n",
       "MSN - Global       1096.743421                0.092157        12160.0   \n",
       "MSN - US           1027.773636                0.082295        16098.0   \n",
       "Overture - Global   568.914085                0.002078        64296.0   \n",
       "Overture - US       144.712487                0.001694       141976.0   \n",
       "Yahoo - US         1809.799126                0.070928        46198.0   \n",
       "\n",
       "                   Cost/Booking  \n",
       "Publisher Name                   \n",
       "Google - Global      151.752823  \n",
       "Google - US          228.155484  \n",
       "MSN - Global          94.263566  \n",
       "MSN - US             114.985714  \n",
       "Overture - Global    172.838710  \n",
       "Overture - US        491.266436  \n",
       "Yahoo - US            69.785498  "
      ]
     },
     "execution_count": 1049,
     "metadata": {},
     "output_type": "execute_result"
    }
   ],
   "source": [
    "a = c.drop(['Amount', 'Clicks'],axis=1)\n",
    "\n",
    "column_order = ['Net_Revenue', 'Average Cost Per Click', 'Total Volume of Bookings', 'Average Revenue Per Booking', 'ROA','Probability of Booking','Click Charges','Cost/Booking']\n",
    "\n",
    "table3 = a.reindex(column_order, axis=1)\n",
    "table3"
   ]
  },
  {
   "cell_type": "markdown",
   "id": "44172e99-2812-4f13-8bbc-439d84fb1bc8",
   "metadata": {},
   "source": [
    "# BONUS QUESTIONS 2"
   ]
  },
  {
   "cell_type": "code",
   "execution_count": 1050,
   "id": "4480a73c-03a6-446c-b030-972310fd35d5",
   "metadata": {},
   "outputs": [],
   "source": [
    "kayak = pd.read_excel('Air France Case Spreadsheet Supplement.xls','Kayak',header=7)"
   ]
  },
  {
   "cell_type": "code",
   "execution_count": 1051,
   "id": "665404bb-2c05-48f3-9f89-379958bde3b4",
   "metadata": {},
   "outputs": [
    {
     "data": {
      "text/html": [
       "<div>\n",
       "<style scoped>\n",
       "    .dataframe tbody tr th:only-of-type {\n",
       "        vertical-align: middle;\n",
       "    }\n",
       "\n",
       "    .dataframe tbody tr th {\n",
       "        vertical-align: top;\n",
       "    }\n",
       "\n",
       "    .dataframe thead th {\n",
       "        text-align: right;\n",
       "    }\n",
       "</style>\n",
       "<table border=\"1\" class=\"dataframe\">\n",
       "  <thead>\n",
       "    <tr style=\"text-align: right;\">\n",
       "      <th></th>\n",
       "      <th>Unnamed: 0</th>\n",
       "      <th>Search Engine</th>\n",
       "      <th>Clicks</th>\n",
       "      <th>Media Cost</th>\n",
       "      <th>Total Bookings</th>\n",
       "      <th>Avg Ticket</th>\n",
       "      <th>Total Revenue</th>\n",
       "      <th>Net Revenue</th>\n",
       "    </tr>\n",
       "  </thead>\n",
       "  <tbody>\n",
       "    <tr>\n",
       "      <th>0</th>\n",
       "      <td>NaN</td>\n",
       "      <td>Kayak</td>\n",
       "      <td>2839.0</td>\n",
       "      <td>3567.1335</td>\n",
       "      <td>208.0</td>\n",
       "      <td>1123.528846</td>\n",
       "      <td>233694.0</td>\n",
       "      <td>230126.8665</td>\n",
       "    </tr>\n",
       "    <tr>\n",
       "      <th>1</th>\n",
       "      <td>NaN</td>\n",
       "      <td>NaN</td>\n",
       "      <td>NaN</td>\n",
       "      <td>NaN</td>\n",
       "      <td>NaN</td>\n",
       "      <td>NaN</td>\n",
       "      <td>NaN</td>\n",
       "      <td>NaN</td>\n",
       "    </tr>\n",
       "    <tr>\n",
       "      <th>2</th>\n",
       "      <td>NaN</td>\n",
       "      <td>Time Period is One Week (6/04/07 - 6/10/07)</td>\n",
       "      <td>NaN</td>\n",
       "      <td>NaN</td>\n",
       "      <td>NaN</td>\n",
       "      <td>NaN</td>\n",
       "      <td>NaN</td>\n",
       "      <td>NaN</td>\n",
       "    </tr>\n",
       "  </tbody>\n",
       "</table>\n",
       "</div>"
      ],
      "text/plain": [
       "   Unnamed: 0                                Search Engine  Clicks  \\\n",
       "0         NaN                                        Kayak  2839.0   \n",
       "1         NaN                                          NaN     NaN   \n",
       "2         NaN  Time Period is One Week (6/04/07 - 6/10/07)     NaN   \n",
       "\n",
       "   Media Cost  Total Bookings   Avg Ticket  Total Revenue  Net Revenue  \n",
       "0   3567.1335           208.0  1123.528846       233694.0  230126.8665  \n",
       "1         NaN             NaN          NaN            NaN          NaN  \n",
       "2         NaN             NaN          NaN            NaN          NaN  "
      ]
     },
     "execution_count": 1051,
     "metadata": {},
     "output_type": "execute_result"
    }
   ],
   "source": [
    "kayak"
   ]
  },
  {
   "cell_type": "code",
   "execution_count": 1052,
   "id": "1a3024f1-d4af-4377-8ead-6924b5896a63",
   "metadata": {},
   "outputs": [
    {
     "data": {
      "text/html": [
       "<div>\n",
       "<style scoped>\n",
       "    .dataframe tbody tr th:only-of-type {\n",
       "        vertical-align: middle;\n",
       "    }\n",
       "\n",
       "    .dataframe tbody tr th {\n",
       "        vertical-align: top;\n",
       "    }\n",
       "\n",
       "    .dataframe thead th {\n",
       "        text-align: right;\n",
       "    }\n",
       "</style>\n",
       "<table border=\"1\" class=\"dataframe\">\n",
       "  <thead>\n",
       "    <tr style=\"text-align: right;\">\n",
       "      <th></th>\n",
       "      <th>Unnamed: 0</th>\n",
       "      <th>Search Engine</th>\n",
       "      <th>Clicks</th>\n",
       "      <th>Media Cost</th>\n",
       "      <th>Total Bookings</th>\n",
       "      <th>Avg Ticket</th>\n",
       "      <th>Total Revenue</th>\n",
       "      <th>Net Revenue</th>\n",
       "    </tr>\n",
       "  </thead>\n",
       "  <tbody>\n",
       "    <tr>\n",
       "      <th>0</th>\n",
       "      <td>NaN</td>\n",
       "      <td>Kayak</td>\n",
       "      <td>2839.0</td>\n",
       "      <td>3567.1335</td>\n",
       "      <td>208.0</td>\n",
       "      <td>1123.528846</td>\n",
       "      <td>233694.0</td>\n",
       "      <td>230126.8665</td>\n",
       "    </tr>\n",
       "  </tbody>\n",
       "</table>\n",
       "</div>"
      ],
      "text/plain": [
       "   Unnamed: 0 Search Engine  Clicks  Media Cost  Total Bookings   Avg Ticket  \\\n",
       "0         NaN         Kayak  2839.0   3567.1335           208.0  1123.528846   \n",
       "\n",
       "   Total Revenue  Net Revenue  \n",
       "0       233694.0  230126.8665  "
      ]
     },
     "execution_count": 1052,
     "metadata": {},
     "output_type": "execute_result"
    }
   ],
   "source": [
    "k = kayak[:1]\n",
    "k"
   ]
  },
  {
   "cell_type": "markdown",
   "id": "da3fb1fc-49e3-43bd-ab56-7a866e28caf7",
   "metadata": {},
   "source": [
    "## a. Kayak Trans. Conv. Rate"
   ]
  },
  {
   "cell_type": "code",
   "execution_count": 1053,
   "id": "0a68a938-506e-4d4a-8a3c-ebb327a6d73b",
   "metadata": {},
   "outputs": [
    {
     "name": "stderr",
     "output_type": "stream",
     "text": [
      "/tmp/ipykernel_4137/2706774679.py:1: SettingWithCopyWarning: \n",
      "A value is trying to be set on a copy of a slice from a DataFrame.\n",
      "Try using .loc[row_indexer,col_indexer] = value instead\n",
      "\n",
      "See the caveats in the documentation: https://pandas.pydata.org/pandas-docs/stable/user_guide/indexing.html#returning-a-view-versus-a-copy\n",
      "  k['% TCR'] = k['Total Bookings']/k['Clicks']*100\n"
     ]
    },
    {
     "data": {
      "text/html": [
       "<div>\n",
       "<style scoped>\n",
       "    .dataframe tbody tr th:only-of-type {\n",
       "        vertical-align: middle;\n",
       "    }\n",
       "\n",
       "    .dataframe tbody tr th {\n",
       "        vertical-align: top;\n",
       "    }\n",
       "\n",
       "    .dataframe thead th {\n",
       "        text-align: right;\n",
       "    }\n",
       "</style>\n",
       "<table border=\"1\" class=\"dataframe\">\n",
       "  <thead>\n",
       "    <tr style=\"text-align: right;\">\n",
       "      <th></th>\n",
       "      <th>Unnamed: 0</th>\n",
       "      <th>Search Engine</th>\n",
       "      <th>Clicks</th>\n",
       "      <th>Media Cost</th>\n",
       "      <th>Total Bookings</th>\n",
       "      <th>Avg Ticket</th>\n",
       "      <th>Total Revenue</th>\n",
       "      <th>Net Revenue</th>\n",
       "      <th>% TCR</th>\n",
       "    </tr>\n",
       "  </thead>\n",
       "  <tbody>\n",
       "    <tr>\n",
       "      <th>0</th>\n",
       "      <td>NaN</td>\n",
       "      <td>Kayak</td>\n",
       "      <td>2839.0</td>\n",
       "      <td>3567.1335</td>\n",
       "      <td>208.0</td>\n",
       "      <td>1123.528846</td>\n",
       "      <td>233694.0</td>\n",
       "      <td>230126.8665</td>\n",
       "      <td>7.326523</td>\n",
       "    </tr>\n",
       "  </tbody>\n",
       "</table>\n",
       "</div>"
      ],
      "text/plain": [
       "   Unnamed: 0 Search Engine  Clicks  Media Cost  Total Bookings   Avg Ticket  \\\n",
       "0         NaN         Kayak  2839.0   3567.1335           208.0  1123.528846   \n",
       "\n",
       "   Total Revenue  Net Revenue     % TCR  \n",
       "0       233694.0  230126.8665  7.326523  "
      ]
     },
     "execution_count": 1053,
     "metadata": {},
     "output_type": "execute_result"
    }
   ],
   "source": [
    "k['% TCR'] = k['Total Bookings']/k['Clicks']*100\n",
    "k"
   ]
  },
  {
   "cell_type": "markdown",
   "id": "d3367389-c327-4105-8fd4-eccfabd74748",
   "metadata": {},
   "source": [
    "## b. Average Publisher TCR "
   ]
  },
  {
   "cell_type": "code",
   "execution_count": 1054,
   "id": "4a2fad18-a1ee-4fa3-b090-a8ebdbd30893",
   "metadata": {},
   "outputs": [
    {
     "data": {
      "text/plain": [
       "0.7680623341373386"
      ]
     },
     "execution_count": 1054,
     "metadata": {},
     "output_type": "execute_result"
    }
   ],
   "source": [
    "\n",
    "Avg_P_TCR = sum(data['Total Volume of Bookings'])/sum(data['Clicks'])\n",
    "Avg_P_TCR*100"
   ]
  },
  {
   "cell_type": "code",
   "execution_count": 1055,
   "id": "98341f1d-8596-4aa1-a8ef-79bdadf1f361",
   "metadata": {},
   "outputs": [
    {
     "data": {
      "text/html": [
       "<div>\n",
       "<style scoped>\n",
       "    .dataframe tbody tr th:only-of-type {\n",
       "        vertical-align: middle;\n",
       "    }\n",
       "\n",
       "    .dataframe tbody tr th {\n",
       "        vertical-align: top;\n",
       "    }\n",
       "\n",
       "    .dataframe thead th {\n",
       "        text-align: right;\n",
       "    }\n",
       "</style>\n",
       "<table border=\"1\" class=\"dataframe\">\n",
       "  <thead>\n",
       "    <tr style=\"text-align: right;\">\n",
       "      <th></th>\n",
       "      <th>Keyword ID</th>\n",
       "      <th>Search Engine Bid</th>\n",
       "      <th>Clicks</th>\n",
       "      <th>Click Charges</th>\n",
       "      <th>Avg. Cost per Click</th>\n",
       "      <th>Impressions</th>\n",
       "      <th>Engine Click Thru %</th>\n",
       "      <th>Avg. Pos.</th>\n",
       "      <th>Trans. Conv. %</th>\n",
       "      <th>Total Cost/ Trans.</th>\n",
       "      <th>Amount</th>\n",
       "      <th>Total Cost</th>\n",
       "      <th>Total Volume of Bookings</th>\n",
       "      <th>Net_Revenue</th>\n",
       "      <th>ROA</th>\n",
       "      <th>Average Revenue per Booking</th>\n",
       "      <th>Probability of Booking</th>\n",
       "      <th>net_r_log</th>\n",
       "    </tr>\n",
       "  </thead>\n",
       "  <tbody>\n",
       "    <tr>\n",
       "      <th>count</th>\n",
       "      <td>4.510000e+03</td>\n",
       "      <td>4510.000000</td>\n",
       "      <td>4510.000000</td>\n",
       "      <td>4510.000000</td>\n",
       "      <td>4510.000000</td>\n",
       "      <td>4.510000e+03</td>\n",
       "      <td>4510.000000</td>\n",
       "      <td>4510.000000</td>\n",
       "      <td>4510.000000</td>\n",
       "      <td>4510.000000</td>\n",
       "      <td>4510.000000</td>\n",
       "      <td>4510.000000</td>\n",
       "      <td>4510.000000</td>\n",
       "      <td>4510.000000</td>\n",
       "      <td>4510.000000</td>\n",
       "      <td>4510.000000</td>\n",
       "      <td>4510.000000</td>\n",
       "      <td>4510.000000</td>\n",
       "    </tr>\n",
       "    <tr>\n",
       "      <th>mean</th>\n",
       "      <td>4.300000e+16</td>\n",
       "      <td>5.434631</td>\n",
       "      <td>113.713747</td>\n",
       "      <td>167.475814</td>\n",
       "      <td>1.890240</td>\n",
       "      <td>9.283520e+03</td>\n",
       "      <td>11.141451</td>\n",
       "      <td>1.929640</td>\n",
       "      <td>0.569255</td>\n",
       "      <td>27.607445</td>\n",
       "      <td>1033.683492</td>\n",
       "      <td>167.475814</td>\n",
       "      <td>0.873392</td>\n",
       "      <td>866.207678</td>\n",
       "      <td>341.413864</td>\n",
       "      <td>83.575942</td>\n",
       "      <td>0.000681</td>\n",
       "      <td>-1.318203</td>\n",
       "    </tr>\n",
       "    <tr>\n",
       "      <th>std</th>\n",
       "      <td>1.081229e+07</td>\n",
       "      <td>3.302217</td>\n",
       "      <td>1062.712282</td>\n",
       "      <td>1342.375797</td>\n",
       "      <td>1.322375</td>\n",
       "      <td>1.696674e+05</td>\n",
       "      <td>20.234582</td>\n",
       "      <td>1.075528</td>\n",
       "      <td>13.862485</td>\n",
       "      <td>226.310133</td>\n",
       "      <td>14940.371898</td>\n",
       "      <td>1342.375797</td>\n",
       "      <td>12.115789</td>\n",
       "      <td>14246.298903</td>\n",
       "      <td>7277.915278</td>\n",
       "      <td>344.981225</td>\n",
       "      <td>0.015151</td>\n",
       "      <td>3.044325</td>\n",
       "    </tr>\n",
       "    <tr>\n",
       "      <th>min</th>\n",
       "      <td>4.300000e+16</td>\n",
       "      <td>0.000000</td>\n",
       "      <td>0.000000</td>\n",
       "      <td>0.000000</td>\n",
       "      <td>0.000000</td>\n",
       "      <td>0.000000e+00</td>\n",
       "      <td>0.000000</td>\n",
       "      <td>0.000000</td>\n",
       "      <td>0.000000</td>\n",
       "      <td>0.000000</td>\n",
       "      <td>0.000000</td>\n",
       "      <td>0.000000</td>\n",
       "      <td>0.000000</td>\n",
       "      <td>-8725.924987</td>\n",
       "      <td>-100.000000</td>\n",
       "      <td>0.000000</td>\n",
       "      <td>0.000000</td>\n",
       "      <td>-9.074054</td>\n",
       "    </tr>\n",
       "    <tr>\n",
       "      <th>25%</th>\n",
       "      <td>4.300000e+16</td>\n",
       "      <td>3.384375</td>\n",
       "      <td>1.000000</td>\n",
       "      <td>2.312500</td>\n",
       "      <td>0.825000</td>\n",
       "      <td>2.800000e+01</td>\n",
       "      <td>1.531681</td>\n",
       "      <td>1.142857</td>\n",
       "      <td>0.000000</td>\n",
       "      <td>0.000000</td>\n",
       "      <td>0.000000</td>\n",
       "      <td>2.312500</td>\n",
       "      <td>0.000000</td>\n",
       "      <td>-18.871875</td>\n",
       "      <td>-100.000000</td>\n",
       "      <td>0.000000</td>\n",
       "      <td>0.000000</td>\n",
       "      <td>-2.937673</td>\n",
       "    </tr>\n",
       "    <tr>\n",
       "      <th>50%</th>\n",
       "      <td>4.300000e+16</td>\n",
       "      <td>6.250000</td>\n",
       "      <td>4.000000</td>\n",
       "      <td>6.756250</td>\n",
       "      <td>1.650493</td>\n",
       "      <td>1.760000e+02</td>\n",
       "      <td>4.105614</td>\n",
       "      <td>1.593991</td>\n",
       "      <td>0.000000</td>\n",
       "      <td>0.000000</td>\n",
       "      <td>0.000000</td>\n",
       "      <td>6.756250</td>\n",
       "      <td>0.000000</td>\n",
       "      <td>-4.987500</td>\n",
       "      <td>-100.000000</td>\n",
       "      <td>0.000000</td>\n",
       "      <td>0.000000</td>\n",
       "      <td>-1.606935</td>\n",
       "    </tr>\n",
       "    <tr>\n",
       "      <th>75%</th>\n",
       "      <td>4.300000e+16</td>\n",
       "      <td>6.250000</td>\n",
       "      <td>19.000000</td>\n",
       "      <td>28.487500</td>\n",
       "      <td>2.662500</td>\n",
       "      <td>8.435000e+02</td>\n",
       "      <td>10.916928</td>\n",
       "      <td>2.308105</td>\n",
       "      <td>0.000000</td>\n",
       "      <td>0.000000</td>\n",
       "      <td>0.000000</td>\n",
       "      <td>28.487500</td>\n",
       "      <td>0.000000</td>\n",
       "      <td>-1.600000</td>\n",
       "      <td>-100.000000</td>\n",
       "      <td>0.000000</td>\n",
       "      <td>0.000000</td>\n",
       "      <td>-0.470004</td>\n",
       "    </tr>\n",
       "    <tr>\n",
       "      <th>max</th>\n",
       "      <td>4.300000e+16</td>\n",
       "      <td>27.500000</td>\n",
       "      <td>34012.000000</td>\n",
       "      <td>46188.437315</td>\n",
       "      <td>10.000000</td>\n",
       "      <td>8.342415e+06</td>\n",
       "      <td>200.000000</td>\n",
       "      <td>15.000000</td>\n",
       "      <td>900.000000</td>\n",
       "      <td>9597.174987</td>\n",
       "      <td>567463.400000</td>\n",
       "      <td>46188.437315</td>\n",
       "      <td>439.000000</td>\n",
       "      <td>549524.050273</td>\n",
       "      <td>379487.027027</td>\n",
       "      <td>5877.750000</td>\n",
       "      <td>0.818182</td>\n",
       "      <td>13.216808</td>\n",
       "    </tr>\n",
       "  </tbody>\n",
       "</table>\n",
       "</div>"
      ],
      "text/plain": [
       "         Keyword ID  Search Engine Bid        Clicks  Click Charges  \\\n",
       "count  4.510000e+03        4510.000000   4510.000000    4510.000000   \n",
       "mean   4.300000e+16           5.434631    113.713747     167.475814   \n",
       "std    1.081229e+07           3.302217   1062.712282    1342.375797   \n",
       "min    4.300000e+16           0.000000      0.000000       0.000000   \n",
       "25%    4.300000e+16           3.384375      1.000000       2.312500   \n",
       "50%    4.300000e+16           6.250000      4.000000       6.756250   \n",
       "75%    4.300000e+16           6.250000     19.000000      28.487500   \n",
       "max    4.300000e+16          27.500000  34012.000000   46188.437315   \n",
       "\n",
       "       Avg. Cost per Click   Impressions  Engine Click Thru %    Avg. Pos.  \\\n",
       "count          4510.000000  4.510000e+03          4510.000000  4510.000000   \n",
       "mean              1.890240  9.283520e+03            11.141451     1.929640   \n",
       "std               1.322375  1.696674e+05            20.234582     1.075528   \n",
       "min               0.000000  0.000000e+00             0.000000     0.000000   \n",
       "25%               0.825000  2.800000e+01             1.531681     1.142857   \n",
       "50%               1.650493  1.760000e+02             4.105614     1.593991   \n",
       "75%               2.662500  8.435000e+02            10.916928     2.308105   \n",
       "max              10.000000  8.342415e+06           200.000000    15.000000   \n",
       "\n",
       "       Trans. Conv. %  Total Cost/ Trans.         Amount    Total Cost  \\\n",
       "count     4510.000000         4510.000000    4510.000000   4510.000000   \n",
       "mean         0.569255           27.607445    1033.683492    167.475814   \n",
       "std         13.862485          226.310133   14940.371898   1342.375797   \n",
       "min          0.000000            0.000000       0.000000      0.000000   \n",
       "25%          0.000000            0.000000       0.000000      2.312500   \n",
       "50%          0.000000            0.000000       0.000000      6.756250   \n",
       "75%          0.000000            0.000000       0.000000     28.487500   \n",
       "max        900.000000         9597.174987  567463.400000  46188.437315   \n",
       "\n",
       "       Total Volume of Bookings    Net_Revenue            ROA  \\\n",
       "count               4510.000000    4510.000000    4510.000000   \n",
       "mean                   0.873392     866.207678     341.413864   \n",
       "std                   12.115789   14246.298903    7277.915278   \n",
       "min                    0.000000   -8725.924987    -100.000000   \n",
       "25%                    0.000000     -18.871875    -100.000000   \n",
       "50%                    0.000000      -4.987500    -100.000000   \n",
       "75%                    0.000000      -1.600000    -100.000000   \n",
       "max                  439.000000  549524.050273  379487.027027   \n",
       "\n",
       "       Average Revenue per Booking  Probability of Booking    net_r_log  \n",
       "count                  4510.000000             4510.000000  4510.000000  \n",
       "mean                     83.575942                0.000681    -1.318203  \n",
       "std                     344.981225                0.015151     3.044325  \n",
       "min                       0.000000                0.000000    -9.074054  \n",
       "25%                       0.000000                0.000000    -2.937673  \n",
       "50%                       0.000000                0.000000    -1.606935  \n",
       "75%                       0.000000                0.000000    -0.470004  \n",
       "max                    5877.750000                0.818182    13.216808  "
      ]
     },
     "execution_count": 1055,
     "metadata": {},
     "output_type": "execute_result"
    }
   ],
   "source": [
    "data.describe()"
   ]
  },
  {
   "cell_type": "markdown",
   "id": "24bb4679-100d-4d82-be16-8b2b8957da56",
   "metadata": {},
   "source": [
    "## c. Kayak CPC "
   ]
  },
  {
   "cell_type": "code",
   "execution_count": 1057,
   "id": "a68e2eef-0544-4e7d-bbcf-d2e906f9c170",
   "metadata": {},
   "outputs": [
    {
     "name": "stderr",
     "output_type": "stream",
     "text": [
      "/tmp/ipykernel_4137/1650120203.py:1: SettingWithCopyWarning: \n",
      "A value is trying to be set on a copy of a slice from a DataFrame.\n",
      "Try using .loc[row_indexer,col_indexer] = value instead\n",
      "\n",
      "See the caveats in the documentation: https://pandas.pydata.org/pandas-docs/stable/user_guide/indexing.html#returning-a-view-versus-a-copy\n",
      "  k['CPC'] = k['Media Cost']/k['Clicks']\n"
     ]
    },
    {
     "data": {
      "text/html": [
       "<div>\n",
       "<style scoped>\n",
       "    .dataframe tbody tr th:only-of-type {\n",
       "        vertical-align: middle;\n",
       "    }\n",
       "\n",
       "    .dataframe tbody tr th {\n",
       "        vertical-align: top;\n",
       "    }\n",
       "\n",
       "    .dataframe thead th {\n",
       "        text-align: right;\n",
       "    }\n",
       "</style>\n",
       "<table border=\"1\" class=\"dataframe\">\n",
       "  <thead>\n",
       "    <tr style=\"text-align: right;\">\n",
       "      <th></th>\n",
       "      <th>Search Engine</th>\n",
       "      <th>Clicks</th>\n",
       "      <th>Media Cost</th>\n",
       "      <th>Total Bookings</th>\n",
       "      <th>Avg Ticket</th>\n",
       "      <th>Total Revenue</th>\n",
       "      <th>Net Revenue</th>\n",
       "      <th>% TCR</th>\n",
       "      <th>CPC</th>\n",
       "    </tr>\n",
       "  </thead>\n",
       "  <tbody>\n",
       "    <tr>\n",
       "      <th>0</th>\n",
       "      <td>Kayak</td>\n",
       "      <td>2839.0</td>\n",
       "      <td>3567.1335</td>\n",
       "      <td>208.0</td>\n",
       "      <td>1123.528846</td>\n",
       "      <td>233694.0</td>\n",
       "      <td>230126.8665</td>\n",
       "      <td>7.326523</td>\n",
       "      <td>1.256475</td>\n",
       "    </tr>\n",
       "  </tbody>\n",
       "</table>\n",
       "</div>"
      ],
      "text/plain": [
       "  Search Engine  Clicks  Media Cost  Total Bookings   Avg Ticket  \\\n",
       "0         Kayak  2839.0   3567.1335           208.0  1123.528846   \n",
       "\n",
       "   Total Revenue  Net Revenue     % TCR       CPC  \n",
       "0       233694.0  230126.8665  7.326523  1.256475  "
      ]
     },
     "execution_count": 1057,
     "metadata": {},
     "output_type": "execute_result"
    }
   ],
   "source": [
    "k['CPC'] = k['Media Cost']/k['Clicks']\n",
    "k = k.drop(['Unnamed: 0'],axis = 1)\n",
    "k"
   ]
  },
  {
   "cell_type": "markdown",
   "id": "0b08b87e-fb27-4de0-bc95-9f36252bf9f2",
   "metadata": {},
   "source": [
    "## d. Average Publisher CPC"
   ]
  },
  {
   "cell_type": "code",
   "execution_count": 1058,
   "id": "81f1c4e7-4a31-4229-a908-d4b150c3e2ba",
   "metadata": {},
   "outputs": [
    {
     "data": {
      "text/plain": [
       "1.4727842346497937"
      ]
     },
     "execution_count": 1058,
     "metadata": {},
     "output_type": "execute_result"
    }
   ],
   "source": [
    "Avg_CPC = sum(data['Total Cost'])/sum(data['Clicks'])\n",
    "Avg_CPC"
   ]
  },
  {
   "cell_type": "code",
   "execution_count": null,
   "id": "2686dacc-f3e2-499f-8446-fdef1f2ea524",
   "metadata": {},
   "outputs": [],
   "source": []
  }
 ],
 "metadata": {
  "kernelspec": {
   "display_name": "Python 3 (ipykernel)",
   "language": "python",
   "name": "python3"
  },
  "language_info": {
   "codemirror_mode": {
    "name": "ipython",
    "version": 3
   },
   "file_extension": ".py",
   "mimetype": "text/x-python",
   "name": "python",
   "nbconvert_exporter": "python",
   "pygments_lexer": "ipython3",
   "version": "3.9.7"
  }
 },
 "nbformat": 4,
 "nbformat_minor": 5
}
