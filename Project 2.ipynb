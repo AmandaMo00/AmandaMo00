{
 "cells": [
  {
   "cell_type": "code",
   "execution_count": 179,
   "metadata": {},
   "outputs": [],
   "source": [
    "# ID Unique transaction ID\n",
    "# DOMAIN_ID Unique ID for the web domain\n",
    "# MACHINE_ID Unique ID for the computer (household) on which the transaction was made\n",
    "# SITE_SESSION_ID Unique ID for the session in which the transaction was made\n",
    "# TRANS_FREQ Total number of transactions for the household during 2011.\n",
    "# DOMAIN_NAME The website (domain) name where the transaction was made\n",
    "# DIRECTP_D A dummy variable indicating whether the transaction is incurred directly from a hotel website (1) or other third_party travel website (0).\n",
    "# PROD_NAME The product (e.g., hotel or packages) purchased by the household\n",
    "# PROD_QTY The number of products purchased in this transaction\n",
    "# PROD_TOTPRICE Total price paid for this transaction\n",
    "# REF_DOMAIN_NAME The referring website (domain) name through which the final purchase website was reached\n",
    "# DURATION Total time spent at a site (mins)\n",
    "# PAGES_VIEWED Total pages viewed at a site\n",
    "# HOUSEHOLD_SIZE Total number of people in the household\n",
    "# CHILDREN_D A dummy variable indicating whether the household has any children (1) or not (0).\n",
    "# CONNECTIONSPEED_D A dummy variable indicating whether the household has high speed internet connection (1) or not (0)"
   ]
  },
  {
   "cell_type": "code",
   "execution_count": 180,
   "metadata": {},
   "outputs": [],
   "source": [
    "import pandas as pd\n",
    "import numpy as np\n",
    "import seaborn as sns\n",
    "%matplotlib inline"
   ]
  },
  {
   "cell_type": "code",
   "execution_count": 181,
   "metadata": {},
   "outputs": [],
   "source": [
    "hotel = pd.read_excel('HotelClickStream-1.xls')"
   ]
  },
  {
   "cell_type": "code",
   "execution_count": 182,
   "metadata": {},
   "outputs": [
    {
     "data": {
      "text/html": [
       "<div>\n",
       "<style scoped>\n",
       "    .dataframe tbody tr th:only-of-type {\n",
       "        vertical-align: middle;\n",
       "    }\n",
       "\n",
       "    .dataframe tbody tr th {\n",
       "        vertical-align: top;\n",
       "    }\n",
       "\n",
       "    .dataframe thead th {\n",
       "        text-align: right;\n",
       "    }\n",
       "</style>\n",
       "<table border=\"1\" class=\"dataframe\">\n",
       "  <thead>\n",
       "    <tr style=\"text-align: right;\">\n",
       "      <th></th>\n",
       "      <th>ID</th>\n",
       "      <th>DOMAIN_ID</th>\n",
       "      <th>MACHINE_ID</th>\n",
       "      <th>SITE_SESSION_ID</th>\n",
       "      <th>TRANS_FREQ</th>\n",
       "      <th>DOMAIN_NAME</th>\n",
       "      <th>DIRECTP_D</th>\n",
       "      <th>PROD_NAME</th>\n",
       "      <th>PROD_QTY</th>\n",
       "      <th>PROD_TOTPRICE</th>\n",
       "      <th>REF_DOMAIN_NAME</th>\n",
       "      <th>DURATION</th>\n",
       "      <th>PAGES_VIEWED</th>\n",
       "      <th>HOUSEHOLD_SIZE</th>\n",
       "      <th>CHILDREN_D</th>\n",
       "      <th>CONNECTIONSPEED_D</th>\n",
       "    </tr>\n",
       "  </thead>\n",
       "  <tbody>\n",
       "    <tr>\n",
       "      <th>0</th>\n",
       "      <td>1525</td>\n",
       "      <td>13877604970862366012</td>\n",
       "      <td>85643811</td>\n",
       "      <td>4447900536932</td>\n",
       "      <td>1</td>\n",
       "      <td>ichotelsgroup.com</td>\n",
       "      <td>1</td>\n",
       "      <td>FT. LAUDERDALE AIRPORT/CRUISE - CROWNE PLAZA H...</td>\n",
       "      <td>32</td>\n",
       "      <td>2847.039993</td>\n",
       "      <td>NaN</td>\n",
       "      <td>23.328125</td>\n",
       "      <td>13</td>\n",
       "      <td>6</td>\n",
       "      <td>1</td>\n",
       "      <td>1</td>\n",
       "    </tr>\n",
       "    <tr>\n",
       "      <th>1</th>\n",
       "      <td>402</td>\n",
       "      <td>7101213156062330967</td>\n",
       "      <td>76460408</td>\n",
       "      <td>71774258860245</td>\n",
       "      <td>1</td>\n",
       "      <td>orbitz.com</td>\n",
       "      <td>0</td>\n",
       "      <td>WALT DISNEY WORLD MAGIC YOUR WAY TICKETS! N/A</td>\n",
       "      <td>1</td>\n",
       "      <td>2406.939995</td>\n",
       "      <td>yahoo.com</td>\n",
       "      <td>47.109375</td>\n",
       "      <td>17</td>\n",
       "      <td>2</td>\n",
       "      <td>1</td>\n",
       "      <td>1</td>\n",
       "    </tr>\n",
       "    <tr>\n",
       "      <th>2</th>\n",
       "      <td>233</td>\n",
       "      <td>7772350535129410931</td>\n",
       "      <td>74286590</td>\n",
       "      <td>3825866182640</td>\n",
       "      <td>1</td>\n",
       "      <td>hyatt.com</td>\n",
       "      <td>1</td>\n",
       "      <td>HYATT REGENCY MAUI RESORT  SPA FRI 11 MAR 2011...</td>\n",
       "      <td>5</td>\n",
       "      <td>2168.000000</td>\n",
       "      <td>google.com</td>\n",
       "      <td>20.058594</td>\n",
       "      <td>19</td>\n",
       "      <td>1</td>\n",
       "      <td>0</td>\n",
       "      <td>1</td>\n",
       "    </tr>\n",
       "  </tbody>\n",
       "</table>\n",
       "</div>"
      ],
      "text/plain": [
       "     ID             DOMAIN_ID  MACHINE_ID  SITE_SESSION_ID  TRANS_FREQ  \\\n",
       "0  1525  13877604970862366012    85643811    4447900536932           1   \n",
       "1   402   7101213156062330967    76460408   71774258860245           1   \n",
       "2   233   7772350535129410931    74286590    3825866182640           1   \n",
       "\n",
       "         DOMAIN_NAME  DIRECTP_D  \\\n",
       "0  ichotelsgroup.com          1   \n",
       "1         orbitz.com          0   \n",
       "2          hyatt.com          1   \n",
       "\n",
       "                                           PROD_NAME  PROD_QTY  PROD_TOTPRICE  \\\n",
       "0  FT. LAUDERDALE AIRPORT/CRUISE - CROWNE PLAZA H...        32    2847.039993   \n",
       "1      WALT DISNEY WORLD MAGIC YOUR WAY TICKETS! N/A         1    2406.939995   \n",
       "2  HYATT REGENCY MAUI RESORT  SPA FRI 11 MAR 2011...         5    2168.000000   \n",
       "\n",
       "  REF_DOMAIN_NAME   DURATION  PAGES_VIEWED  HOUSEHOLD_SIZE  CHILDREN_D  \\\n",
       "0             NaN  23.328125            13               6           1   \n",
       "1       yahoo.com  47.109375            17               2           1   \n",
       "2      google.com  20.058594            19               1           0   \n",
       "\n",
       "   CONNECTIONSPEED_D  \n",
       "0                  1  \n",
       "1                  1  \n",
       "2                  1  "
      ]
     },
     "execution_count": 182,
     "metadata": {},
     "output_type": "execute_result"
    }
   ],
   "source": [
    "hotel.head(3)"
   ]
  },
  {
   "cell_type": "code",
   "execution_count": 183,
   "metadata": {},
   "outputs": [
    {
     "name": "stdout",
     "output_type": "stream",
     "text": [
      "<class 'pandas.core.frame.DataFrame'>\n",
      "RangeIndex: 3749 entries, 0 to 3748\n",
      "Data columns (total 16 columns):\n",
      " #   Column             Non-Null Count  Dtype  \n",
      "---  ------             --------------  -----  \n",
      " 0   ID                 3749 non-null   int64  \n",
      " 1   DOMAIN_ID          3749 non-null   uint64 \n",
      " 2   MACHINE_ID         3749 non-null   int64  \n",
      " 3   SITE_SESSION_ID    3749 non-null   int64  \n",
      " 4   TRANS_FREQ         3749 non-null   int64  \n",
      " 5   DOMAIN_NAME        3749 non-null   object \n",
      " 6   DIRECTP_D          3749 non-null   int64  \n",
      " 7   PROD_NAME          3749 non-null   object \n",
      " 8   PROD_QTY           3749 non-null   int64  \n",
      " 9   PROD_TOTPRICE      3749 non-null   float64\n",
      " 10  REF_DOMAIN_NAME    1687 non-null   object \n",
      " 11  DURATION           3749 non-null   float64\n",
      " 12  PAGES_VIEWED       3749 non-null   int64  \n",
      " 13  HOUSEHOLD_SIZE     3749 non-null   int64  \n",
      " 14  CHILDREN_D         3749 non-null   int64  \n",
      " 15  CONNECTIONSPEED_D  3749 non-null   int64  \n",
      "dtypes: float64(2), int64(10), object(3), uint64(1)\n",
      "memory usage: 468.8+ KB\n"
     ]
    }
   ],
   "source": [
    "hotel.info()"
   ]
  },
  {
   "cell_type": "code",
   "execution_count": 184,
   "metadata": {},
   "outputs": [
    {
     "name": "stdout",
     "output_type": "stream",
     "text": [
      "DOMAIN_NAME\n",
      "marriott.com        524\n",
      "hilton.com          438\n",
      "hotels.com          400\n",
      "expedia.com         380\n",
      "priceline.com       309\n",
      "choicehotels.com    297\n",
      "jetblue.com         229\n",
      "hotwire.com         217\n",
      "bestwestern.com     120\n",
      "orbitz.com          109\n",
      "Name: ID, dtype: int64\n"
     ]
    }
   ],
   "source": [
    "#top 10 domain names that generated the most volume of transactions\n",
    "p1 = hotel.groupby('DOMAIN_NAME')[\"ID\"].count().nlargest(10)\n",
    "# p1 = pd.pivot_table( hotel, \n",
    "#                   index=[\"DOMAIN_NAME\"], \n",
    "#                   values = 'ID',\n",
    "#                     aggfunc=['count'] )\n",
    "print(p1)"
   ]
  },
  {
   "cell_type": "code",
   "execution_count": 185,
   "metadata": {},
   "outputs": [
    {
     "data": {
      "text/plain": [
       "REF_DOMAIN_NAME\n",
       "google.com           620\n",
       "yahoo.com            222\n",
       "bing.com             129\n",
       "aol.com               53\n",
       "comfortinn.com        48\n",
       "jetblue.com           43\n",
       "qualityinn.com        29\n",
       "comfortsuites.com     22\n",
       "kayak.com             20\n",
       "mywebsearch.com       17\n",
       "Name: ID, dtype: int64"
      ]
     },
     "execution_count": 185,
     "metadata": {},
     "output_type": "execute_result"
    }
   ],
   "source": [
    "#the top 10 reference domain names that generated the most volume of transactions\n",
    "hotel.groupby('REF_DOMAIN_NAME')[\"ID\"].count().nlargest(10)"
   ]
  },
  {
   "cell_type": "code",
   "execution_count": 186,
   "metadata": {},
   "outputs": [],
   "source": [
    "hotel.loc[hotel.REF_DOMAIN_NAME.isnull() == True,'Ref_D'] = 0\n",
    "hotel.loc[hotel.REF_DOMAIN_NAME.isnull() == False,'Ref_D'] = 1"
   ]
  },
  {
   "cell_type": "code",
   "execution_count": 187,
   "metadata": {},
   "outputs": [
    {
     "data": {
      "text/plain": [
       "0    0.0\n",
       "1    1.0\n",
       "2    1.0\n",
       "3    0.0\n",
       "4    1.0\n",
       "5    1.0\n",
       "6    0.0\n",
       "7    0.0\n",
       "8    0.0\n",
       "9    0.0\n",
       "Name: Ref_D, dtype: float64"
      ]
     },
     "execution_count": 187,
     "metadata": {},
     "output_type": "execute_result"
    }
   ],
   "source": [
    "hotel['Ref_D'].head(10)"
   ]
  },
  {
   "cell_type": "code",
   "execution_count": 188,
   "metadata": {},
   "outputs": [
    {
     "data": {
      "text/html": [
       "<div>\n",
       "<style scoped>\n",
       "    .dataframe tbody tr th:only-of-type {\n",
       "        vertical-align: middle;\n",
       "    }\n",
       "\n",
       "    .dataframe tbody tr th {\n",
       "        vertical-align: top;\n",
       "    }\n",
       "\n",
       "    .dataframe thead th {\n",
       "        text-align: right;\n",
       "    }\n",
       "</style>\n",
       "<table border=\"1\" class=\"dataframe\">\n",
       "  <thead>\n",
       "    <tr style=\"text-align: right;\">\n",
       "      <th></th>\n",
       "      <th>ID</th>\n",
       "      <th>DOMAIN_ID</th>\n",
       "      <th>MACHINE_ID</th>\n",
       "      <th>SITE_SESSION_ID</th>\n",
       "      <th>TRANS_FREQ</th>\n",
       "      <th>DOMAIN_NAME</th>\n",
       "      <th>DIRECTP_D</th>\n",
       "      <th>PROD_NAME</th>\n",
       "      <th>PROD_QTY</th>\n",
       "      <th>PROD_TOTPRICE</th>\n",
       "      <th>REF_DOMAIN_NAME</th>\n",
       "      <th>DURATION</th>\n",
       "      <th>PAGES_VIEWED</th>\n",
       "      <th>HOUSEHOLD_SIZE</th>\n",
       "      <th>CHILDREN_D</th>\n",
       "      <th>CONNECTIONSPEED_D</th>\n",
       "      <th>Ref_D</th>\n",
       "    </tr>\n",
       "  </thead>\n",
       "  <tbody>\n",
       "    <tr>\n",
       "      <th>0</th>\n",
       "      <td>1525</td>\n",
       "      <td>13877604970862366012</td>\n",
       "      <td>85643811</td>\n",
       "      <td>4447900536932</td>\n",
       "      <td>1</td>\n",
       "      <td>ichotelsgroup.com</td>\n",
       "      <td>1</td>\n",
       "      <td>FT. LAUDERDALE AIRPORT/CRUISE - CROWNE PLAZA H...</td>\n",
       "      <td>32</td>\n",
       "      <td>2847.039993</td>\n",
       "      <td>NaN</td>\n",
       "      <td>23.328125</td>\n",
       "      <td>13</td>\n",
       "      <td>6</td>\n",
       "      <td>1</td>\n",
       "      <td>1</td>\n",
       "      <td>0.0</td>\n",
       "    </tr>\n",
       "    <tr>\n",
       "      <th>1</th>\n",
       "      <td>402</td>\n",
       "      <td>7101213156062330967</td>\n",
       "      <td>76460408</td>\n",
       "      <td>71774258860245</td>\n",
       "      <td>1</td>\n",
       "      <td>orbitz.com</td>\n",
       "      <td>0</td>\n",
       "      <td>WALT DISNEY WORLD MAGIC YOUR WAY TICKETS! N/A</td>\n",
       "      <td>1</td>\n",
       "      <td>2406.939995</td>\n",
       "      <td>yahoo.com</td>\n",
       "      <td>47.109375</td>\n",
       "      <td>17</td>\n",
       "      <td>2</td>\n",
       "      <td>1</td>\n",
       "      <td>1</td>\n",
       "      <td>1.0</td>\n",
       "    </tr>\n",
       "    <tr>\n",
       "      <th>2</th>\n",
       "      <td>233</td>\n",
       "      <td>7772350535129410931</td>\n",
       "      <td>74286590</td>\n",
       "      <td>3825866182640</td>\n",
       "      <td>1</td>\n",
       "      <td>hyatt.com</td>\n",
       "      <td>1</td>\n",
       "      <td>HYATT REGENCY MAUI RESORT  SPA FRI 11 MAR 2011...</td>\n",
       "      <td>5</td>\n",
       "      <td>2168.000000</td>\n",
       "      <td>google.com</td>\n",
       "      <td>20.058594</td>\n",
       "      <td>19</td>\n",
       "      <td>1</td>\n",
       "      <td>0</td>\n",
       "      <td>1</td>\n",
       "      <td>1.0</td>\n",
       "    </tr>\n",
       "  </tbody>\n",
       "</table>\n",
       "</div>"
      ],
      "text/plain": [
       "     ID             DOMAIN_ID  MACHINE_ID  SITE_SESSION_ID  TRANS_FREQ  \\\n",
       "0  1525  13877604970862366012    85643811    4447900536932           1   \n",
       "1   402   7101213156062330967    76460408   71774258860245           1   \n",
       "2   233   7772350535129410931    74286590    3825866182640           1   \n",
       "\n",
       "         DOMAIN_NAME  DIRECTP_D  \\\n",
       "0  ichotelsgroup.com          1   \n",
       "1         orbitz.com          0   \n",
       "2          hyatt.com          1   \n",
       "\n",
       "                                           PROD_NAME  PROD_QTY  PROD_TOTPRICE  \\\n",
       "0  FT. LAUDERDALE AIRPORT/CRUISE - CROWNE PLAZA H...        32    2847.039993   \n",
       "1      WALT DISNEY WORLD MAGIC YOUR WAY TICKETS! N/A         1    2406.939995   \n",
       "2  HYATT REGENCY MAUI RESORT  SPA FRI 11 MAR 2011...         5    2168.000000   \n",
       "\n",
       "  REF_DOMAIN_NAME   DURATION  PAGES_VIEWED  HOUSEHOLD_SIZE  CHILDREN_D  \\\n",
       "0             NaN  23.328125            13               6           1   \n",
       "1       yahoo.com  47.109375            17               2           1   \n",
       "2      google.com  20.058594            19               1           0   \n",
       "\n",
       "   CONNECTIONSPEED_D  Ref_D  \n",
       "0                  1    0.0  \n",
       "1                  1    1.0  \n",
       "2                  1    1.0  "
      ]
     },
     "execution_count": 188,
     "metadata": {},
     "output_type": "execute_result"
    }
   ],
   "source": [
    "hotel.columns\n",
    "hotel.head(3)"
   ]
  },
  {
   "cell_type": "code",
   "execution_count": 189,
   "metadata": {},
   "outputs": [],
   "source": [
    "#np.log(hotel['PROD_TOTPRICE'])\n",
    "hotel[\"PROD_TOTPRICE\"] = hotel[\"PROD_TOTPRICE\"] + 1\n",
    "hotel.loc[hotel.PROD_TOTPRICE > 0,'LOG_PRICE'] = np.log(hotel['PROD_TOTPRICE'])\n",
    "#hotel.loc[hotel.PROD_TOTPRICE <= 0,'LOG_PRICE'] = 'NaN'\n"
   ]
  },
  {
   "cell_type": "code",
   "execution_count": 190,
   "metadata": {
    "tags": []
   },
   "outputs": [
    {
     "data": {
      "text/html": [
       "<div>\n",
       "<style scoped>\n",
       "    .dataframe tbody tr th:only-of-type {\n",
       "        vertical-align: middle;\n",
       "    }\n",
       "\n",
       "    .dataframe tbody tr th {\n",
       "        vertical-align: top;\n",
       "    }\n",
       "\n",
       "    .dataframe thead th {\n",
       "        text-align: right;\n",
       "    }\n",
       "</style>\n",
       "<table border=\"1\" class=\"dataframe\">\n",
       "  <thead>\n",
       "    <tr style=\"text-align: right;\">\n",
       "      <th></th>\n",
       "      <th>ID</th>\n",
       "      <th>DOMAIN_ID</th>\n",
       "      <th>MACHINE_ID</th>\n",
       "      <th>SITE_SESSION_ID</th>\n",
       "      <th>TRANS_FREQ</th>\n",
       "      <th>DOMAIN_NAME</th>\n",
       "      <th>DIRECTP_D</th>\n",
       "      <th>PROD_NAME</th>\n",
       "      <th>PROD_QTY</th>\n",
       "      <th>PROD_TOTPRICE</th>\n",
       "      <th>REF_DOMAIN_NAME</th>\n",
       "      <th>DURATION</th>\n",
       "      <th>PAGES_VIEWED</th>\n",
       "      <th>HOUSEHOLD_SIZE</th>\n",
       "      <th>CHILDREN_D</th>\n",
       "      <th>CONNECTIONSPEED_D</th>\n",
       "      <th>Ref_D</th>\n",
       "      <th>LOG_PRICE</th>\n",
       "    </tr>\n",
       "  </thead>\n",
       "  <tbody>\n",
       "    <tr>\n",
       "      <th>0</th>\n",
       "      <td>1525</td>\n",
       "      <td>13877604970862366012</td>\n",
       "      <td>85643811</td>\n",
       "      <td>4447900536932</td>\n",
       "      <td>1</td>\n",
       "      <td>ichotelsgroup.com</td>\n",
       "      <td>1</td>\n",
       "      <td>FT. LAUDERDALE AIRPORT/CRUISE - CROWNE PLAZA H...</td>\n",
       "      <td>32</td>\n",
       "      <td>2848.039993</td>\n",
       "      <td>NaN</td>\n",
       "      <td>23.328125</td>\n",
       "      <td>13</td>\n",
       "      <td>6</td>\n",
       "      <td>1</td>\n",
       "      <td>1</td>\n",
       "      <td>0.0</td>\n",
       "      <td>7.954386</td>\n",
       "    </tr>\n",
       "    <tr>\n",
       "      <th>1</th>\n",
       "      <td>402</td>\n",
       "      <td>7101213156062330967</td>\n",
       "      <td>76460408</td>\n",
       "      <td>71774258860245</td>\n",
       "      <td>1</td>\n",
       "      <td>orbitz.com</td>\n",
       "      <td>0</td>\n",
       "      <td>WALT DISNEY WORLD MAGIC YOUR WAY TICKETS! N/A</td>\n",
       "      <td>1</td>\n",
       "      <td>2407.939995</td>\n",
       "      <td>yahoo.com</td>\n",
       "      <td>47.109375</td>\n",
       "      <td>17</td>\n",
       "      <td>2</td>\n",
       "      <td>1</td>\n",
       "      <td>1</td>\n",
       "      <td>1.0</td>\n",
       "      <td>7.786527</td>\n",
       "    </tr>\n",
       "    <tr>\n",
       "      <th>2</th>\n",
       "      <td>233</td>\n",
       "      <td>7772350535129410931</td>\n",
       "      <td>74286590</td>\n",
       "      <td>3825866182640</td>\n",
       "      <td>1</td>\n",
       "      <td>hyatt.com</td>\n",
       "      <td>1</td>\n",
       "      <td>HYATT REGENCY MAUI RESORT  SPA FRI 11 MAR 2011...</td>\n",
       "      <td>5</td>\n",
       "      <td>2169.000000</td>\n",
       "      <td>google.com</td>\n",
       "      <td>20.058594</td>\n",
       "      <td>19</td>\n",
       "      <td>1</td>\n",
       "      <td>0</td>\n",
       "      <td>1</td>\n",
       "      <td>1.0</td>\n",
       "      <td>7.682022</td>\n",
       "    </tr>\n",
       "    <tr>\n",
       "      <th>3</th>\n",
       "      <td>2362</td>\n",
       "      <td>9530952911301729568</td>\n",
       "      <td>90015830</td>\n",
       "      <td>70000481538306</td>\n",
       "      <td>1</td>\n",
       "      <td>expedia.com</td>\n",
       "      <td>0</td>\n",
       "      <td>HOTEL - THE ADDRESS DUBAI MARINA ~SAT DEC/10/2...</td>\n",
       "      <td>5</td>\n",
       "      <td>1959.699997</td>\n",
       "      <td>NaN</td>\n",
       "      <td>47.546875</td>\n",
       "      <td>39</td>\n",
       "      <td>1</td>\n",
       "      <td>0</td>\n",
       "      <td>1</td>\n",
       "      <td>0.0</td>\n",
       "      <td>7.580547</td>\n",
       "    </tr>\n",
       "    <tr>\n",
       "      <th>4</th>\n",
       "      <td>2738</td>\n",
       "      <td>4024709573451844450</td>\n",
       "      <td>91435029</td>\n",
       "      <td>5158448795791</td>\n",
       "      <td>2</td>\n",
       "      <td>starwoodhotels.com</td>\n",
       "      <td>1</td>\n",
       "      <td>HOTEL-W NEW YORK - TIMES SQUARE 08/18~08/21</td>\n",
       "      <td>3</td>\n",
       "      <td>1798.000000</td>\n",
       "      <td>whotels.com</td>\n",
       "      <td>14.599609</td>\n",
       "      <td>19</td>\n",
       "      <td>1</td>\n",
       "      <td>0</td>\n",
       "      <td>1</td>\n",
       "      <td>1.0</td>\n",
       "      <td>7.494430</td>\n",
       "    </tr>\n",
       "  </tbody>\n",
       "</table>\n",
       "</div>"
      ],
      "text/plain": [
       "     ID             DOMAIN_ID  MACHINE_ID  SITE_SESSION_ID  TRANS_FREQ  \\\n",
       "0  1525  13877604970862366012    85643811    4447900536932           1   \n",
       "1   402   7101213156062330967    76460408   71774258860245           1   \n",
       "2   233   7772350535129410931    74286590    3825866182640           1   \n",
       "3  2362   9530952911301729568    90015830   70000481538306           1   \n",
       "4  2738   4024709573451844450    91435029    5158448795791           2   \n",
       "\n",
       "          DOMAIN_NAME  DIRECTP_D  \\\n",
       "0   ichotelsgroup.com          1   \n",
       "1          orbitz.com          0   \n",
       "2           hyatt.com          1   \n",
       "3         expedia.com          0   \n",
       "4  starwoodhotels.com          1   \n",
       "\n",
       "                                           PROD_NAME  PROD_QTY  PROD_TOTPRICE  \\\n",
       "0  FT. LAUDERDALE AIRPORT/CRUISE - CROWNE PLAZA H...        32    2848.039993   \n",
       "1      WALT DISNEY WORLD MAGIC YOUR WAY TICKETS! N/A         1    2407.939995   \n",
       "2  HYATT REGENCY MAUI RESORT  SPA FRI 11 MAR 2011...         5    2169.000000   \n",
       "3  HOTEL - THE ADDRESS DUBAI MARINA ~SAT DEC/10/2...         5    1959.699997   \n",
       "4        HOTEL-W NEW YORK - TIMES SQUARE 08/18~08/21         3    1798.000000   \n",
       "\n",
       "  REF_DOMAIN_NAME   DURATION  PAGES_VIEWED  HOUSEHOLD_SIZE  CHILDREN_D  \\\n",
       "0             NaN  23.328125            13               6           1   \n",
       "1       yahoo.com  47.109375            17               2           1   \n",
       "2      google.com  20.058594            19               1           0   \n",
       "3             NaN  47.546875            39               1           0   \n",
       "4     whotels.com  14.599609            19               1           0   \n",
       "\n",
       "   CONNECTIONSPEED_D  Ref_D  LOG_PRICE  \n",
       "0                  1    0.0   7.954386  \n",
       "1                  1    1.0   7.786527  \n",
       "2                  1    1.0   7.682022  \n",
       "3                  1    0.0   7.580547  \n",
       "4                  1    1.0   7.494430  "
      ]
     },
     "execution_count": 190,
     "metadata": {},
     "output_type": "execute_result"
    }
   ],
   "source": [
    "hotel.head(5)"
   ]
  },
  {
   "cell_type": "code",
   "execution_count": 191,
   "metadata": {
    "tags": []
   },
   "outputs": [
    {
     "data": {
      "text/html": [
       "<div>\n",
       "<style scoped>\n",
       "    .dataframe tbody tr th:only-of-type {\n",
       "        vertical-align: middle;\n",
       "    }\n",
       "\n",
       "    .dataframe tbody tr th {\n",
       "        vertical-align: top;\n",
       "    }\n",
       "\n",
       "    .dataframe thead th {\n",
       "        text-align: right;\n",
       "    }\n",
       "</style>\n",
       "<table border=\"1\" class=\"dataframe\">\n",
       "  <thead>\n",
       "    <tr style=\"text-align: right;\">\n",
       "      <th></th>\n",
       "      <th>ID</th>\n",
       "      <th>DOMAIN_ID</th>\n",
       "      <th>MACHINE_ID</th>\n",
       "      <th>SITE_SESSION_ID</th>\n",
       "      <th>TRANS_FREQ</th>\n",
       "      <th>DIRECTP_D</th>\n",
       "      <th>PROD_QTY</th>\n",
       "      <th>PROD_TOTPRICE</th>\n",
       "      <th>DURATION</th>\n",
       "      <th>PAGES_VIEWED</th>\n",
       "      <th>HOUSEHOLD_SIZE</th>\n",
       "      <th>CHILDREN_D</th>\n",
       "      <th>CONNECTIONSPEED_D</th>\n",
       "      <th>Ref_D</th>\n",
       "      <th>LOG_PRICE</th>\n",
       "    </tr>\n",
       "  </thead>\n",
       "  <tbody>\n",
       "    <tr>\n",
       "      <th>count</th>\n",
       "      <td>3749.000000</td>\n",
       "      <td>3.749000e+03</td>\n",
       "      <td>3.749000e+03</td>\n",
       "      <td>3.749000e+03</td>\n",
       "      <td>3749.000000</td>\n",
       "      <td>3749.000000</td>\n",
       "      <td>3749.000000</td>\n",
       "      <td>3749.000000</td>\n",
       "      <td>3749.000000</td>\n",
       "      <td>3749.000000</td>\n",
       "      <td>3749.000000</td>\n",
       "      <td>3749.000000</td>\n",
       "      <td>3749.000000</td>\n",
       "      <td>3749.000000</td>\n",
       "      <td>3749.000000</td>\n",
       "    </tr>\n",
       "    <tr>\n",
       "      <th>mean</th>\n",
       "      <td>1877.293678</td>\n",
       "      <td>8.436032e+18</td>\n",
       "      <td>8.615370e+07</td>\n",
       "      <td>1.976820e+13</td>\n",
       "      <td>2.981328</td>\n",
       "      <td>0.481462</td>\n",
       "      <td>1.717258</td>\n",
       "      <td>164.859624</td>\n",
       "      <td>25.317508</td>\n",
       "      <td>18.331288</td>\n",
       "      <td>3.273940</td>\n",
       "      <td>0.603894</td>\n",
       "      <td>0.992265</td>\n",
       "      <td>0.449987</td>\n",
       "      <td>4.439926</td>\n",
       "    </tr>\n",
       "    <tr>\n",
       "      <th>std</th>\n",
       "      <td>1083.651205</td>\n",
       "      <td>4.548078e+18</td>\n",
       "      <td>6.798597e+06</td>\n",
       "      <td>2.750259e+13</td>\n",
       "      <td>4.120927</td>\n",
       "      <td>0.499723</td>\n",
       "      <td>1.387385</td>\n",
       "      <td>184.484515</td>\n",
       "      <td>22.806497</td>\n",
       "      <td>16.636523</td>\n",
       "      <td>4.388536</td>\n",
       "      <td>0.489152</td>\n",
       "      <td>0.087622</td>\n",
       "      <td>0.497559</td>\n",
       "      <td>1.615478</td>\n",
       "    </tr>\n",
       "    <tr>\n",
       "      <th>min</th>\n",
       "      <td>1.000000</td>\n",
       "      <td>8.614049e+17</td>\n",
       "      <td>1.764018e+07</td>\n",
       "      <td>3.170357e+12</td>\n",
       "      <td>1.000000</td>\n",
       "      <td>0.000000</td>\n",
       "      <td>0.000000</td>\n",
       "      <td>1.000000</td>\n",
       "      <td>0.029999</td>\n",
       "      <td>1.000000</td>\n",
       "      <td>1.000000</td>\n",
       "      <td>0.000000</td>\n",
       "      <td>0.000000</td>\n",
       "      <td>0.000000</td>\n",
       "      <td>0.000000</td>\n",
       "    </tr>\n",
       "    <tr>\n",
       "      <th>25%</th>\n",
       "      <td>939.000000</td>\n",
       "      <td>5.078454e+18</td>\n",
       "      <td>8.197324e+07</td>\n",
       "      <td>4.404378e+12</td>\n",
       "      <td>1.000000</td>\n",
       "      <td>0.000000</td>\n",
       "      <td>1.000000</td>\n",
       "      <td>72.950000</td>\n",
       "      <td>9.449219</td>\n",
       "      <td>8.000000</td>\n",
       "      <td>2.000000</td>\n",
       "      <td>0.000000</td>\n",
       "      <td>1.000000</td>\n",
       "      <td>0.000000</td>\n",
       "      <td>4.289774</td>\n",
       "    </tr>\n",
       "    <tr>\n",
       "      <th>50%</th>\n",
       "      <td>1878.000000</td>\n",
       "      <td>7.317461e+18</td>\n",
       "      <td>8.698025e+07</td>\n",
       "      <td>5.037588e+12</td>\n",
       "      <td>2.000000</td>\n",
       "      <td>0.000000</td>\n",
       "      <td>1.000000</td>\n",
       "      <td>116.990000</td>\n",
       "      <td>17.777344</td>\n",
       "      <td>13.000000</td>\n",
       "      <td>3.000000</td>\n",
       "      <td>1.000000</td>\n",
       "      <td>1.000000</td>\n",
       "      <td>0.000000</td>\n",
       "      <td>4.762088</td>\n",
       "    </tr>\n",
       "    <tr>\n",
       "      <th>75%</th>\n",
       "      <td>2815.000000</td>\n",
       "      <td>9.530953e+18</td>\n",
       "      <td>9.165384e+07</td>\n",
       "      <td>6.535772e+12</td>\n",
       "      <td>3.000000</td>\n",
       "      <td>1.000000</td>\n",
       "      <td>2.000000</td>\n",
       "      <td>200.980000</td>\n",
       "      <td>33.656250</td>\n",
       "      <td>23.000000</td>\n",
       "      <td>4.000000</td>\n",
       "      <td>1.000000</td>\n",
       "      <td>1.000000</td>\n",
       "      <td>1.000000</td>\n",
       "      <td>5.303205</td>\n",
       "    </tr>\n",
       "    <tr>\n",
       "      <th>max</th>\n",
       "      <td>3753.000000</td>\n",
       "      <td>1.747520e+19</td>\n",
       "      <td>9.532007e+07</td>\n",
       "      <td>7.441268e+13</td>\n",
       "      <td>30.000000</td>\n",
       "      <td>1.000000</td>\n",
       "      <td>32.000000</td>\n",
       "      <td>2848.039993</td>\n",
       "      <td>227.343750</td>\n",
       "      <td>141.000000</td>\n",
       "      <td>99.000000</td>\n",
       "      <td>1.000000</td>\n",
       "      <td>1.000000</td>\n",
       "      <td>1.000000</td>\n",
       "      <td>7.954386</td>\n",
       "    </tr>\n",
       "  </tbody>\n",
       "</table>\n",
       "</div>"
      ],
      "text/plain": [
       "                ID     DOMAIN_ID    MACHINE_ID  SITE_SESSION_ID   TRANS_FREQ  \\\n",
       "count  3749.000000  3.749000e+03  3.749000e+03     3.749000e+03  3749.000000   \n",
       "mean   1877.293678  8.436032e+18  8.615370e+07     1.976820e+13     2.981328   \n",
       "std    1083.651205  4.548078e+18  6.798597e+06     2.750259e+13     4.120927   \n",
       "min       1.000000  8.614049e+17  1.764018e+07     3.170357e+12     1.000000   \n",
       "25%     939.000000  5.078454e+18  8.197324e+07     4.404378e+12     1.000000   \n",
       "50%    1878.000000  7.317461e+18  8.698025e+07     5.037588e+12     2.000000   \n",
       "75%    2815.000000  9.530953e+18  9.165384e+07     6.535772e+12     3.000000   \n",
       "max    3753.000000  1.747520e+19  9.532007e+07     7.441268e+13    30.000000   \n",
       "\n",
       "         DIRECTP_D     PROD_QTY  PROD_TOTPRICE     DURATION  PAGES_VIEWED  \\\n",
       "count  3749.000000  3749.000000    3749.000000  3749.000000   3749.000000   \n",
       "mean      0.481462     1.717258     164.859624    25.317508     18.331288   \n",
       "std       0.499723     1.387385     184.484515    22.806497     16.636523   \n",
       "min       0.000000     0.000000       1.000000     0.029999      1.000000   \n",
       "25%       0.000000     1.000000      72.950000     9.449219      8.000000   \n",
       "50%       0.000000     1.000000     116.990000    17.777344     13.000000   \n",
       "75%       1.000000     2.000000     200.980000    33.656250     23.000000   \n",
       "max       1.000000    32.000000    2848.039993   227.343750    141.000000   \n",
       "\n",
       "       HOUSEHOLD_SIZE   CHILDREN_D  CONNECTIONSPEED_D        Ref_D  \\\n",
       "count     3749.000000  3749.000000        3749.000000  3749.000000   \n",
       "mean         3.273940     0.603894           0.992265     0.449987   \n",
       "std          4.388536     0.489152           0.087622     0.497559   \n",
       "min          1.000000     0.000000           0.000000     0.000000   \n",
       "25%          2.000000     0.000000           1.000000     0.000000   \n",
       "50%          3.000000     1.000000           1.000000     0.000000   \n",
       "75%          4.000000     1.000000           1.000000     1.000000   \n",
       "max         99.000000     1.000000           1.000000     1.000000   \n",
       "\n",
       "         LOG_PRICE  \n",
       "count  3749.000000  \n",
       "mean      4.439926  \n",
       "std       1.615478  \n",
       "min       0.000000  \n",
       "25%       4.289774  \n",
       "50%       4.762088  \n",
       "75%       5.303205  \n",
       "max       7.954386  "
      ]
     },
     "execution_count": 191,
     "metadata": {},
     "output_type": "execute_result"
    }
   ],
   "source": [
    "hotel.describe()"
   ]
  },
  {
   "cell_type": "code",
   "execution_count": 192,
   "metadata": {
    "tags": []
   },
   "outputs": [
    {
     "data": {
      "text/plain": [
       "count    3749.000000\n",
       "mean        4.439926\n",
       "std         1.615478\n",
       "min         0.000000\n",
       "25%         4.289774\n",
       "50%         4.762088\n",
       "75%         5.303205\n",
       "max         7.954386\n",
       "Name: LOG_PRICE, dtype: float64"
      ]
     },
     "execution_count": 192,
     "metadata": {},
     "output_type": "execute_result"
    }
   ],
   "source": [
    "hotel.LOG_PRICE.describe()"
   ]
  },
  {
   "cell_type": "code",
   "execution_count": 193,
   "metadata": {
    "tags": []
   },
   "outputs": [
    {
     "data": {
      "text/plain": [
       "<AxesSubplot:>"
      ]
     },
     "execution_count": 193,
     "metadata": {},
     "output_type": "execute_result"
    },
    {
     "data": {
      "image/png": "[encoded data removed]",
      "text/plain": [
       "<Figure size 432x288 with 1 Axes>"
      ]
     },
     "metadata": {
      "needs_background": "light"
     },
     "output_type": "display_data"
    }
   ],
   "source": [
    "sns.heatmap(hotel.isna(),yticklabels=False,cbar=False,cmap=\"Blues_r\")\n",
    "#plt.savefig('na.png')"
   ]
  },
  {
   "cell_type": "code",
   "execution_count": 194,
   "metadata": {
    "jupyter": {
     "source_hidden": true
    },
    "tags": []
   },
   "outputs": [
    {
     "data": {
      "image/png": "[encoded data removed]",
      "text/plain": [
       "<Figure size 432x288 with 1 Axes>"
      ]
     },
     "metadata": {
      "needs_background": "light"
     },
     "output_type": "display_data"
    }
   ],
   "source": [
    "boxplot_ad = hotel.boxplot(column=['HOUSEHOLD_SIZE'])  \n",
    "#outliers?\n",
    "#plt.savefig('box1.png')"
   ]
  },
  {
   "cell_type": "code",
   "execution_count": 195,
   "metadata": {
    "jupyter": {
     "source_hidden": true
    },
    "tags": []
   },
   "outputs": [
    {
     "data": {
      "image/png": "[encoded data removed]",
      "text/plain": [
       "<Figure size 432x288 with 1 Axes>"
      ]
     },
     "metadata": {
      "needs_background": "light"
     },
     "output_type": "display_data"
    }
   ],
   "source": [
    "upper_limit = hotel['HOUSEHOLD_SIZE'].quantile(0.99)\n",
    "lower_limit = hotel['HOUSEHOLD_SIZE'].quantile(0.01)\n",
    "\n",
    "new_hotel = hotel[(hotel['HOUSEHOLD_SIZE'] <= upper_limit) & (hotel['HOUSEHOLD_SIZE'] >= lower_limit)]\n",
    "\n",
    "\n",
    "boxplot_ad = new_hotel.boxplot(column=['HOUSEHOLD_SIZE'])  \n",
    "#plt.savefig('box2.png')"
   ]
  },
  {
   "cell_type": "code",
   "execution_count": 196,
   "metadata": {
    "jupyter": {
     "source_hidden": true
    },
    "tags": []
   },
   "outputs": [],
   "source": [
    "#(hotel['PROD_TOTPRICE'] == 0).sum()"
   ]
  },
  {
   "cell_type": "code",
   "execution_count": 197,
   "metadata": {
    "jupyter": {
     "source_hidden": true
    },
    "tags": []
   },
   "outputs": [
    {
     "data": {
      "text/plain": [
       "3742"
      ]
     },
     "execution_count": 197,
     "metadata": {},
     "output_type": "execute_result"
    }
   ],
   "source": [
    "(new_hotel['PROD_TOTPRICE']).count()"
   ]
  },
  {
   "cell_type": "code",
   "execution_count": 198,
   "metadata": {
    "jupyter": {
     "source_hidden": true
    },
    "tags": []
   },
   "outputs": [
    {
     "data": {
      "text/plain": [
       "ID                   3742\n",
       "DOMAIN_ID            3742\n",
       "MACHINE_ID           3742\n",
       "SITE_SESSION_ID      3742\n",
       "TRANS_FREQ           3742\n",
       "DOMAIN_NAME          3742\n",
       "DIRECTP_D            3742\n",
       "PROD_NAME            3742\n",
       "PROD_QTY             3742\n",
       "PROD_TOTPRICE        3742\n",
       "REF_DOMAIN_NAME      1684\n",
       "DURATION             3742\n",
       "PAGES_VIEWED         3742\n",
       "HOUSEHOLD_SIZE       3742\n",
       "CHILDREN_D           3742\n",
       "CONNECTIONSPEED_D    3742\n",
       "Ref_D                3742\n",
       "LOG_PRICE            3742\n",
       "dtype: int64"
      ]
     },
     "execution_count": 198,
     "metadata": {},
     "output_type": "execute_result"
    }
   ],
   "source": [
    "(new_hotel).count()"
   ]
  },
  {
   "cell_type": "code",
   "execution_count": 199,
   "metadata": {},
   "outputs": [
    {
     "data": {
      "text/html": [
       "<div>\n",
       "<style scoped>\n",
       "    .dataframe tbody tr th:only-of-type {\n",
       "        vertical-align: middle;\n",
       "    }\n",
       "\n",
       "    .dataframe tbody tr th {\n",
       "        vertical-align: top;\n",
       "    }\n",
       "\n",
       "    .dataframe thead th {\n",
       "        text-align: right;\n",
       "    }\n",
       "</style>\n",
       "<table border=\"1\" class=\"dataframe\">\n",
       "  <thead>\n",
       "    <tr style=\"text-align: right;\">\n",
       "      <th></th>\n",
       "      <th>ID</th>\n",
       "      <th>DOMAIN_ID</th>\n",
       "      <th>MACHINE_ID</th>\n",
       "      <th>SITE_SESSION_ID</th>\n",
       "      <th>TRANS_FREQ</th>\n",
       "      <th>DIRECTP_D</th>\n",
       "      <th>PROD_QTY</th>\n",
       "      <th>PROD_TOTPRICE</th>\n",
       "      <th>DURATION</th>\n",
       "      <th>PAGES_VIEWED</th>\n",
       "      <th>HOUSEHOLD_SIZE</th>\n",
       "      <th>CHILDREN_D</th>\n",
       "      <th>CONNECTIONSPEED_D</th>\n",
       "      <th>Ref_D</th>\n",
       "      <th>LOG_PRICE</th>\n",
       "    </tr>\n",
       "  </thead>\n",
       "  <tbody>\n",
       "    <tr>\n",
       "      <th>count</th>\n",
       "      <td>3742.000000</td>\n",
       "      <td>3.742000e+03</td>\n",
       "      <td>3.742000e+03</td>\n",
       "      <td>3.742000e+03</td>\n",
       "      <td>3742.000000</td>\n",
       "      <td>3742.000000</td>\n",
       "      <td>3742.000000</td>\n",
       "      <td>3742.000000</td>\n",
       "      <td>3742.000000</td>\n",
       "      <td>3742.000000</td>\n",
       "      <td>3742.000000</td>\n",
       "      <td>3742.000000</td>\n",
       "      <td>3742.000000</td>\n",
       "      <td>3742.000000</td>\n",
       "      <td>3742.000000</td>\n",
       "    </tr>\n",
       "    <tr>\n",
       "      <th>mean</th>\n",
       "      <td>1875.715927</td>\n",
       "      <td>8.435314e+18</td>\n",
       "      <td>8.614598e+07</td>\n",
       "      <td>1.974250e+13</td>\n",
       "      <td>2.982897</td>\n",
       "      <td>0.481828</td>\n",
       "      <td>1.716996</td>\n",
       "      <td>164.805377</td>\n",
       "      <td>25.337767</td>\n",
       "      <td>18.341261</td>\n",
       "      <td>3.094869</td>\n",
       "      <td>0.603153</td>\n",
       "      <td>0.992250</td>\n",
       "      <td>0.450027</td>\n",
       "      <td>4.438632</td>\n",
       "    </tr>\n",
       "    <tr>\n",
       "      <th>std</th>\n",
       "      <td>1083.064908</td>\n",
       "      <td>4.548712e+18</td>\n",
       "      <td>6.797291e+06</td>\n",
       "      <td>2.748601e+13</td>\n",
       "      <td>4.124464</td>\n",
       "      <td>0.499736</td>\n",
       "      <td>1.387432</td>\n",
       "      <td>184.604758</td>\n",
       "      <td>22.819644</td>\n",
       "      <td>16.649645</td>\n",
       "      <td>1.454957</td>\n",
       "      <td>0.489309</td>\n",
       "      <td>0.087703</td>\n",
       "      <td>0.497563</td>\n",
       "      <td>1.616545</td>\n",
       "    </tr>\n",
       "    <tr>\n",
       "      <th>min</th>\n",
       "      <td>1.000000</td>\n",
       "      <td>8.614049e+17</td>\n",
       "      <td>1.764018e+07</td>\n",
       "      <td>3.170357e+12</td>\n",
       "      <td>1.000000</td>\n",
       "      <td>0.000000</td>\n",
       "      <td>0.000000</td>\n",
       "      <td>1.000000</td>\n",
       "      <td>0.029999</td>\n",
       "      <td>1.000000</td>\n",
       "      <td>1.000000</td>\n",
       "      <td>0.000000</td>\n",
       "      <td>0.000000</td>\n",
       "      <td>0.000000</td>\n",
       "      <td>0.000000</td>\n",
       "    </tr>\n",
       "    <tr>\n",
       "      <th>25%</th>\n",
       "      <td>938.250000</td>\n",
       "      <td>5.078454e+18</td>\n",
       "      <td>8.197324e+07</td>\n",
       "      <td>4.403941e+12</td>\n",
       "      <td>1.000000</td>\n",
       "      <td>0.000000</td>\n",
       "      <td>1.000000</td>\n",
       "      <td>72.792500</td>\n",
       "      <td>9.449219</td>\n",
       "      <td>8.000000</td>\n",
       "      <td>2.000000</td>\n",
       "      <td>0.000000</td>\n",
       "      <td>1.000000</td>\n",
       "      <td>0.000000</td>\n",
       "      <td>4.287612</td>\n",
       "    </tr>\n",
       "    <tr>\n",
       "      <th>50%</th>\n",
       "      <td>1875.500000</td>\n",
       "      <td>7.317461e+18</td>\n",
       "      <td>8.698025e+07</td>\n",
       "      <td>5.036265e+12</td>\n",
       "      <td>2.000000</td>\n",
       "      <td>0.000000</td>\n",
       "      <td>1.000000</td>\n",
       "      <td>116.970000</td>\n",
       "      <td>17.802734</td>\n",
       "      <td>13.000000</td>\n",
       "      <td>3.000000</td>\n",
       "      <td>1.000000</td>\n",
       "      <td>1.000000</td>\n",
       "      <td>0.000000</td>\n",
       "      <td>4.761917</td>\n",
       "    </tr>\n",
       "    <tr>\n",
       "      <th>75%</th>\n",
       "      <td>2811.750000</td>\n",
       "      <td>9.530953e+18</td>\n",
       "      <td>9.165186e+07</td>\n",
       "      <td>6.516099e+12</td>\n",
       "      <td>3.000000</td>\n",
       "      <td>1.000000</td>\n",
       "      <td>2.000000</td>\n",
       "      <td>200.980000</td>\n",
       "      <td>33.701172</td>\n",
       "      <td>24.000000</td>\n",
       "      <td>4.000000</td>\n",
       "      <td>1.000000</td>\n",
       "      <td>1.000000</td>\n",
       "      <td>1.000000</td>\n",
       "      <td>5.303205</td>\n",
       "    </tr>\n",
       "    <tr>\n",
       "      <th>max</th>\n",
       "      <td>3753.000000</td>\n",
       "      <td>1.747520e+19</td>\n",
       "      <td>9.532007e+07</td>\n",
       "      <td>7.441268e+13</td>\n",
       "      <td>30.000000</td>\n",
       "      <td>1.000000</td>\n",
       "      <td>32.000000</td>\n",
       "      <td>2848.039993</td>\n",
       "      <td>227.343750</td>\n",
       "      <td>141.000000</td>\n",
       "      <td>6.000000</td>\n",
       "      <td>1.000000</td>\n",
       "      <td>1.000000</td>\n",
       "      <td>1.000000</td>\n",
       "      <td>7.954386</td>\n",
       "    </tr>\n",
       "  </tbody>\n",
       "</table>\n",
       "</div>"
      ],
      "text/plain": [
       "                ID     DOMAIN_ID    MACHINE_ID  SITE_SESSION_ID   TRANS_FREQ  \\\n",
       "count  3742.000000  3.742000e+03  3.742000e+03     3.742000e+03  3742.000000   \n",
       "mean   1875.715927  8.435314e+18  8.614598e+07     1.974250e+13     2.982897   \n",
       "std    1083.064908  4.548712e+18  6.797291e+06     2.748601e+13     4.124464   \n",
       "min       1.000000  8.614049e+17  1.764018e+07     3.170357e+12     1.000000   \n",
       "25%     938.250000  5.078454e+18  8.197324e+07     4.403941e+12     1.000000   \n",
       "50%    1875.500000  7.317461e+18  8.698025e+07     5.036265e+12     2.000000   \n",
       "75%    2811.750000  9.530953e+18  9.165186e+07     6.516099e+12     3.000000   \n",
       "max    3753.000000  1.747520e+19  9.532007e+07     7.441268e+13    30.000000   \n",
       "\n",
       "         DIRECTP_D     PROD_QTY  PROD_TOTPRICE     DURATION  PAGES_VIEWED  \\\n",
       "count  3742.000000  3742.000000    3742.000000  3742.000000   3742.000000   \n",
       "mean      0.481828     1.716996     164.805377    25.337767     18.341261   \n",
       "std       0.499736     1.387432     184.604758    22.819644     16.649645   \n",
       "min       0.000000     0.000000       1.000000     0.029999      1.000000   \n",
       "25%       0.000000     1.000000      72.792500     9.449219      8.000000   \n",
       "50%       0.000000     1.000000     116.970000    17.802734     13.000000   \n",
       "75%       1.000000     2.000000     200.980000    33.701172     24.000000   \n",
       "max       1.000000    32.000000    2848.039993   227.343750    141.000000   \n",
       "\n",
       "       HOUSEHOLD_SIZE   CHILDREN_D  CONNECTIONSPEED_D        Ref_D  \\\n",
       "count     3742.000000  3742.000000        3742.000000  3742.000000   \n",
       "mean         3.094869     0.603153           0.992250     0.450027   \n",
       "std          1.454957     0.489309           0.087703     0.497563   \n",
       "min          1.000000     0.000000           0.000000     0.000000   \n",
       "25%          2.000000     0.000000           1.000000     0.000000   \n",
       "50%          3.000000     1.000000           1.000000     0.000000   \n",
       "75%          4.000000     1.000000           1.000000     1.000000   \n",
       "max          6.000000     1.000000           1.000000     1.000000   \n",
       "\n",
       "         LOG_PRICE  \n",
       "count  3742.000000  \n",
       "mean      4.438632  \n",
       "std       1.616545  \n",
       "min       0.000000  \n",
       "25%       4.287612  \n",
       "50%       4.761917  \n",
       "75%       5.303205  \n",
       "max       7.954386  "
      ]
     },
     "execution_count": 199,
     "metadata": {},
     "output_type": "execute_result"
    }
   ],
   "source": [
    "new_hotel.describe()"
   ]
  },
  {
   "cell_type": "markdown",
   "metadata": {},
   "source": [
    "<b>section B</b>"
   ]
  },
  {
   "cell_type": "code",
   "execution_count": 200,
   "metadata": {},
   "outputs": [],
   "source": [
    "#pairwise correlations tests"
   ]
  },
  {
   "cell_type": "code",
   "execution_count": 201,
   "metadata": {},
   "outputs": [
    {
     "data": {
      "text/html": [
       "<div>\n",
       "<style scoped>\n",
       "    .dataframe tbody tr th:only-of-type {\n",
       "        vertical-align: middle;\n",
       "    }\n",
       "\n",
       "    .dataframe tbody tr th {\n",
       "        vertical-align: top;\n",
       "    }\n",
       "\n",
       "    .dataframe thead th {\n",
       "        text-align: right;\n",
       "    }\n",
       "</style>\n",
       "<table border=\"1\" class=\"dataframe\">\n",
       "  <thead>\n",
       "    <tr style=\"text-align: right;\">\n",
       "      <th></th>\n",
       "      <th>TRANS_FREQ</th>\n",
       "      <th>DIRECTP_D</th>\n",
       "      <th>PROD_QTY</th>\n",
       "      <th>PROD_TOTPRICE</th>\n",
       "      <th>DURATION</th>\n",
       "      <th>PAGES_VIEWED</th>\n",
       "      <th>HOUSEHOLD_SIZE</th>\n",
       "      <th>CHILDREN_D</th>\n",
       "      <th>CONNECTIONSPEED_D</th>\n",
       "      <th>Ref_D</th>\n",
       "      <th>LOG_PRICE</th>\n",
       "    </tr>\n",
       "  </thead>\n",
       "  <tbody>\n",
       "    <tr>\n",
       "      <th>0</th>\n",
       "      <td>1</td>\n",
       "      <td>1</td>\n",
       "      <td>32</td>\n",
       "      <td>2848.039993</td>\n",
       "      <td>23.328125</td>\n",
       "      <td>13</td>\n",
       "      <td>6</td>\n",
       "      <td>1</td>\n",
       "      <td>1</td>\n",
       "      <td>0.0</td>\n",
       "      <td>7.954386</td>\n",
       "    </tr>\n",
       "    <tr>\n",
       "      <th>1</th>\n",
       "      <td>1</td>\n",
       "      <td>0</td>\n",
       "      <td>1</td>\n",
       "      <td>2407.939995</td>\n",
       "      <td>47.109375</td>\n",
       "      <td>17</td>\n",
       "      <td>2</td>\n",
       "      <td>1</td>\n",
       "      <td>1</td>\n",
       "      <td>1.0</td>\n",
       "      <td>7.786527</td>\n",
       "    </tr>\n",
       "    <tr>\n",
       "      <th>2</th>\n",
       "      <td>1</td>\n",
       "      <td>1</td>\n",
       "      <td>5</td>\n",
       "      <td>2169.000000</td>\n",
       "      <td>20.058594</td>\n",
       "      <td>19</td>\n",
       "      <td>1</td>\n",
       "      <td>0</td>\n",
       "      <td>1</td>\n",
       "      <td>1.0</td>\n",
       "      <td>7.682022</td>\n",
       "    </tr>\n",
       "    <tr>\n",
       "      <th>3</th>\n",
       "      <td>1</td>\n",
       "      <td>0</td>\n",
       "      <td>5</td>\n",
       "      <td>1959.699997</td>\n",
       "      <td>47.546875</td>\n",
       "      <td>39</td>\n",
       "      <td>1</td>\n",
       "      <td>0</td>\n",
       "      <td>1</td>\n",
       "      <td>0.0</td>\n",
       "      <td>7.580547</td>\n",
       "    </tr>\n",
       "    <tr>\n",
       "      <th>4</th>\n",
       "      <td>2</td>\n",
       "      <td>1</td>\n",
       "      <td>3</td>\n",
       "      <td>1798.000000</td>\n",
       "      <td>14.599609</td>\n",
       "      <td>19</td>\n",
       "      <td>1</td>\n",
       "      <td>0</td>\n",
       "      <td>1</td>\n",
       "      <td>1.0</td>\n",
       "      <td>7.494430</td>\n",
       "    </tr>\n",
       "  </tbody>\n",
       "</table>\n",
       "</div>"
      ],
      "text/plain": [
       "   TRANS_FREQ  DIRECTP_D  PROD_QTY  PROD_TOTPRICE   DURATION  PAGES_VIEWED  \\\n",
       "0           1          1        32    2848.039993  23.328125            13   \n",
       "1           1          0         1    2407.939995  47.109375            17   \n",
       "2           1          1         5    2169.000000  20.058594            19   \n",
       "3           1          0         5    1959.699997  47.546875            39   \n",
       "4           2          1         3    1798.000000  14.599609            19   \n",
       "\n",
       "   HOUSEHOLD_SIZE  CHILDREN_D  CONNECTIONSPEED_D  Ref_D  LOG_PRICE  \n",
       "0               6           1                  1    0.0   7.954386  \n",
       "1               2           1                  1    1.0   7.786527  \n",
       "2               1           0                  1    1.0   7.682022  \n",
       "3               1           0                  1    0.0   7.580547  \n",
       "4               1           0                  1    1.0   7.494430  "
      ]
     },
     "execution_count": 201,
     "metadata": {},
     "output_type": "execute_result"
    }
   ],
   "source": [
    "new_h = new_hotel.drop(['ID','DOMAIN_ID','MACHINE_ID','SITE_SESSION_ID','DOMAIN_NAME','PROD_NAME','REF_DOMAIN_NAME'],axis=1)\n",
    "\n",
    "new_h.head()"
   ]
  },
  {
   "cell_type": "code",
   "execution_count": 202,
   "metadata": {},
   "outputs": [
    {
     "data": {
      "text/plain": [
       "TRANS_FREQ           0.163387\n",
       "DIRECTP_D            1.000000\n",
       "PROD_QTY            -0.123657\n",
       "PROD_TOTPRICE       -0.072592\n",
       "DURATION            -0.182338\n",
       "PAGES_VIEWED        -0.065709\n",
       "HOUSEHOLD_SIZE      -0.002959\n",
       "CHILDREN_D           0.023519\n",
       "CONNECTIONSPEED_D    0.012033\n",
       "Ref_D                0.150077\n",
       "LOG_PRICE            0.017053\n",
       "Name: DIRECTP_D, dtype: float64"
      ]
     },
     "execution_count": 202,
     "metadata": {},
     "output_type": "execute_result"
    }
   ],
   "source": [
    "new_h.corr(method='pearson')['DIRECTP_D']"
   ]
  },
  {
   "cell_type": "code",
   "execution_count": 203,
   "metadata": {},
   "outputs": [],
   "source": [
    "#new_h.describe().to_csv(\"my_description.csv\")"
   ]
  },
  {
   "cell_type": "code",
   "execution_count": 159,
   "metadata": {},
   "outputs": [],
   "source": [
    "import statsmodels.api as sm"
   ]
  },
  {
   "cell_type": "code",
   "execution_count": 204,
   "metadata": {},
   "outputs": [
    {
     "data": {
      "text/html": [
       "<div>\n",
       "<style scoped>\n",
       "    .dataframe tbody tr th:only-of-type {\n",
       "        vertical-align: middle;\n",
       "    }\n",
       "\n",
       "    .dataframe tbody tr th {\n",
       "        vertical-align: top;\n",
       "    }\n",
       "\n",
       "    .dataframe thead th {\n",
       "        text-align: right;\n",
       "    }\n",
       "</style>\n",
       "<table border=\"1\" class=\"dataframe\">\n",
       "  <thead>\n",
       "    <tr style=\"text-align: right;\">\n",
       "      <th></th>\n",
       "      <th>TRANS_FREQ</th>\n",
       "      <th>DIRECTP_D</th>\n",
       "      <th>PROD_QTY</th>\n",
       "      <th>PROD_TOTPRICE</th>\n",
       "      <th>DURATION</th>\n",
       "      <th>PAGES_VIEWED</th>\n",
       "      <th>HOUSEHOLD_SIZE</th>\n",
       "      <th>CHILDREN_D</th>\n",
       "      <th>CONNECTIONSPEED_D</th>\n",
       "      <th>Ref_D</th>\n",
       "      <th>LOG_PRICE</th>\n",
       "    </tr>\n",
       "  </thead>\n",
       "  <tbody>\n",
       "    <tr>\n",
       "      <th>TRANS_FREQ</th>\n",
       "      <td>1.000000</td>\n",
       "      <td>0.163387</td>\n",
       "      <td>-0.065683</td>\n",
       "      <td>-0.052986</td>\n",
       "      <td>-0.011166</td>\n",
       "      <td>0.024873</td>\n",
       "      <td>-0.087571</td>\n",
       "      <td>-0.085750</td>\n",
       "      <td>0.036582</td>\n",
       "      <td>-0.079482</td>\n",
       "      <td>-0.000533</td>\n",
       "    </tr>\n",
       "    <tr>\n",
       "      <th>DIRECTP_D</th>\n",
       "      <td>0.163387</td>\n",
       "      <td>1.000000</td>\n",
       "      <td>-0.123657</td>\n",
       "      <td>-0.072592</td>\n",
       "      <td>-0.182338</td>\n",
       "      <td>-0.065709</td>\n",
       "      <td>-0.002959</td>\n",
       "      <td>0.023519</td>\n",
       "      <td>0.012033</td>\n",
       "      <td>0.150077</td>\n",
       "      <td>0.017053</td>\n",
       "    </tr>\n",
       "    <tr>\n",
       "      <th>PROD_QTY</th>\n",
       "      <td>-0.065683</td>\n",
       "      <td>-0.123657</td>\n",
       "      <td>1.000000</td>\n",
       "      <td>0.489113</td>\n",
       "      <td>0.127707</td>\n",
       "      <td>0.126656</td>\n",
       "      <td>-0.008413</td>\n",
       "      <td>-0.002465</td>\n",
       "      <td>0.003939</td>\n",
       "      <td>-0.049727</td>\n",
       "      <td>0.116776</td>\n",
       "    </tr>\n",
       "    <tr>\n",
       "      <th>PROD_TOTPRICE</th>\n",
       "      <td>-0.052986</td>\n",
       "      <td>-0.072592</td>\n",
       "      <td>0.489113</td>\n",
       "      <td>1.000000</td>\n",
       "      <td>0.032444</td>\n",
       "      <td>-0.024643</td>\n",
       "      <td>-0.014548</td>\n",
       "      <td>-0.016445</td>\n",
       "      <td>-0.003951</td>\n",
       "      <td>-0.005085</td>\n",
       "      <td>0.599806</td>\n",
       "    </tr>\n",
       "    <tr>\n",
       "      <th>DURATION</th>\n",
       "      <td>-0.011166</td>\n",
       "      <td>-0.182338</td>\n",
       "      <td>0.127707</td>\n",
       "      <td>0.032444</td>\n",
       "      <td>1.000000</td>\n",
       "      <td>0.685065</td>\n",
       "      <td>0.015729</td>\n",
       "      <td>0.045334</td>\n",
       "      <td>-0.021462</td>\n",
       "      <td>0.003776</td>\n",
       "      <td>-0.072548</td>\n",
       "    </tr>\n",
       "    <tr>\n",
       "      <th>PAGES_VIEWED</th>\n",
       "      <td>0.024873</td>\n",
       "      <td>-0.065709</td>\n",
       "      <td>0.126656</td>\n",
       "      <td>-0.024643</td>\n",
       "      <td>0.685065</td>\n",
       "      <td>1.000000</td>\n",
       "      <td>0.013505</td>\n",
       "      <td>0.034379</td>\n",
       "      <td>-0.007341</td>\n",
       "      <td>-0.007153</td>\n",
       "      <td>-0.128231</td>\n",
       "    </tr>\n",
       "    <tr>\n",
       "      <th>HOUSEHOLD_SIZE</th>\n",
       "      <td>-0.087571</td>\n",
       "      <td>-0.002959</td>\n",
       "      <td>-0.008413</td>\n",
       "      <td>-0.014548</td>\n",
       "      <td>0.015729</td>\n",
       "      <td>0.013505</td>\n",
       "      <td>1.000000</td>\n",
       "      <td>0.494078</td>\n",
       "      <td>0.039280</td>\n",
       "      <td>-0.032405</td>\n",
       "      <td>-0.019545</td>\n",
       "    </tr>\n",
       "    <tr>\n",
       "      <th>CHILDREN_D</th>\n",
       "      <td>-0.085750</td>\n",
       "      <td>0.023519</td>\n",
       "      <td>-0.002465</td>\n",
       "      <td>-0.016445</td>\n",
       "      <td>0.045334</td>\n",
       "      <td>0.034379</td>\n",
       "      <td>0.494078</td>\n",
       "      <td>1.000000</td>\n",
       "      <td>0.059122</td>\n",
       "      <td>-0.022739</td>\n",
       "      <td>-0.007849</td>\n",
       "    </tr>\n",
       "    <tr>\n",
       "      <th>CONNECTIONSPEED_D</th>\n",
       "      <td>0.036582</td>\n",
       "      <td>0.012033</td>\n",
       "      <td>0.003939</td>\n",
       "      <td>-0.003951</td>\n",
       "      <td>-0.021462</td>\n",
       "      <td>-0.007341</td>\n",
       "      <td>0.039280</td>\n",
       "      <td>0.059122</td>\n",
       "      <td>1.000000</td>\n",
       "      <td>-0.030317</td>\n",
       "      <td>-0.003487</td>\n",
       "    </tr>\n",
       "    <tr>\n",
       "      <th>Ref_D</th>\n",
       "      <td>-0.079482</td>\n",
       "      <td>0.150077</td>\n",
       "      <td>-0.049727</td>\n",
       "      <td>-0.005085</td>\n",
       "      <td>0.003776</td>\n",
       "      <td>-0.007153</td>\n",
       "      <td>-0.032405</td>\n",
       "      <td>-0.022739</td>\n",
       "      <td>-0.030317</td>\n",
       "      <td>1.000000</td>\n",
       "      <td>0.016239</td>\n",
       "    </tr>\n",
       "    <tr>\n",
       "      <th>LOG_PRICE</th>\n",
       "      <td>-0.000533</td>\n",
       "      <td>0.017053</td>\n",
       "      <td>0.116776</td>\n",
       "      <td>0.599806</td>\n",
       "      <td>-0.072548</td>\n",
       "      <td>-0.128231</td>\n",
       "      <td>-0.019545</td>\n",
       "      <td>-0.007849</td>\n",
       "      <td>-0.003487</td>\n",
       "      <td>0.016239</td>\n",
       "      <td>1.000000</td>\n",
       "    </tr>\n",
       "  </tbody>\n",
       "</table>\n",
       "</div>"
      ],
      "text/plain": [
       "                   TRANS_FREQ  DIRECTP_D  PROD_QTY  PROD_TOTPRICE  DURATION  \\\n",
       "TRANS_FREQ           1.000000   0.163387 -0.065683      -0.052986 -0.011166   \n",
       "DIRECTP_D            0.163387   1.000000 -0.123657      -0.072592 -0.182338   \n",
       "PROD_QTY            -0.065683  -0.123657  1.000000       0.489113  0.127707   \n",
       "PROD_TOTPRICE       -0.052986  -0.072592  0.489113       1.000000  0.032444   \n",
       "DURATION            -0.011166  -0.182338  0.127707       0.032444  1.000000   \n",
       "PAGES_VIEWED         0.024873  -0.065709  0.126656      -0.024643  0.685065   \n",
       "HOUSEHOLD_SIZE      -0.087571  -0.002959 -0.008413      -0.014548  0.015729   \n",
       "CHILDREN_D          -0.085750   0.023519 -0.002465      -0.016445  0.045334   \n",
       "CONNECTIONSPEED_D    0.036582   0.012033  0.003939      -0.003951 -0.021462   \n",
       "Ref_D               -0.079482   0.150077 -0.049727      -0.005085  0.003776   \n",
       "LOG_PRICE           -0.000533   0.017053  0.116776       0.599806 -0.072548   \n",
       "\n",
       "                   PAGES_VIEWED  HOUSEHOLD_SIZE  CHILDREN_D  \\\n",
       "TRANS_FREQ             0.024873       -0.087571   -0.085750   \n",
       "DIRECTP_D             -0.065709       -0.002959    0.023519   \n",
       "PROD_QTY               0.126656       -0.008413   -0.002465   \n",
       "PROD_TOTPRICE         -0.024643       -0.014548   -0.016445   \n",
       "DURATION               0.685065        0.015729    0.045334   \n",
       "PAGES_VIEWED           1.000000        0.013505    0.034379   \n",
       "HOUSEHOLD_SIZE         0.013505        1.000000    0.494078   \n",
       "CHILDREN_D             0.034379        0.494078    1.000000   \n",
       "CONNECTIONSPEED_D     -0.007341        0.039280    0.059122   \n",
       "Ref_D                 -0.007153       -0.032405   -0.022739   \n",
       "LOG_PRICE             -0.128231       -0.019545   -0.007849   \n",
       "\n",
       "                   CONNECTIONSPEED_D     Ref_D  LOG_PRICE  \n",
       "TRANS_FREQ                  0.036582 -0.079482  -0.000533  \n",
       "DIRECTP_D                   0.012033  0.150077   0.017053  \n",
       "PROD_QTY                    0.003939 -0.049727   0.116776  \n",
       "PROD_TOTPRICE              -0.003951 -0.005085   0.599806  \n",
       "DURATION                   -0.021462  0.003776  -0.072548  \n",
       "PAGES_VIEWED               -0.007341 -0.007153  -0.128231  \n",
       "HOUSEHOLD_SIZE              0.039280 -0.032405  -0.019545  \n",
       "CHILDREN_D                  0.059122 -0.022739  -0.007849  \n",
       "CONNECTIONSPEED_D           1.000000 -0.030317  -0.003487  \n",
       "Ref_D                      -0.030317  1.000000   0.016239  \n",
       "LOG_PRICE                  -0.003487  0.016239   1.000000  "
      ]
     },
     "execution_count": 204,
     "metadata": {},
     "output_type": "execute_result"
    }
   ],
   "source": [
    "new_h.corr()"
   ]
  },
  {
   "cell_type": "code",
   "execution_count": 207,
   "metadata": {},
   "outputs": [],
   "source": [
    "# from statsmodels.stats.outliers_influence import variance_inflation_factor\n",
    "# vif=pd.DataFrame() #create an empty dataframe called vif\n",
    "\n",
    "# vif['VIF']=[variance_inflation_factor(new_h.values,i) for i in range(new_h.shape[1])] #for each index in the dataframe (each IV), calculate VIF\n",
    "# vif['Variables']=new_h.columns #create the corresponding variable column"
   ]
  },
  {
   "cell_type": "code",
   "execution_count": 208,
   "metadata": {},
   "outputs": [
    {
     "data": {
      "text/html": [
       "<div>\n",
       "<style scoped>\n",
       "    .dataframe tbody tr th:only-of-type {\n",
       "        vertical-align: middle;\n",
       "    }\n",
       "\n",
       "    .dataframe tbody tr th {\n",
       "        vertical-align: top;\n",
       "    }\n",
       "\n",
       "    .dataframe thead th {\n",
       "        text-align: right;\n",
       "    }\n",
       "</style>\n",
       "<table border=\"1\" class=\"dataframe\">\n",
       "  <thead>\n",
       "    <tr style=\"text-align: right;\">\n",
       "      <th></th>\n",
       "      <th>VIF</th>\n",
       "      <th>Variables</th>\n",
       "    </tr>\n",
       "  </thead>\n",
       "  <tbody>\n",
       "    <tr>\n",
       "      <th>0</th>\n",
       "      <td>1.611609</td>\n",
       "      <td>TRANS_FREQ</td>\n",
       "    </tr>\n",
       "    <tr>\n",
       "      <th>1</th>\n",
       "      <td>2.142730</td>\n",
       "      <td>DIRECTP_D</td>\n",
       "    </tr>\n",
       "    <tr>\n",
       "      <th>2</th>\n",
       "      <td>3.590938</td>\n",
       "      <td>PROD_QTY</td>\n",
       "    </tr>\n",
       "    <tr>\n",
       "      <th>3</th>\n",
       "      <td>3.840262</td>\n",
       "      <td>PROD_TOTPRICE</td>\n",
       "    </tr>\n",
       "    <tr>\n",
       "      <th>4</th>\n",
       "      <td>4.372759</td>\n",
       "      <td>DURATION</td>\n",
       "    </tr>\n",
       "    <tr>\n",
       "      <th>5</th>\n",
       "      <td>4.283287</td>\n",
       "      <td>PAGES_VIEWED</td>\n",
       "    </tr>\n",
       "    <tr>\n",
       "      <th>6</th>\n",
       "      <td>7.188780</td>\n",
       "      <td>HOUSEHOLD_SIZE</td>\n",
       "    </tr>\n",
       "    <tr>\n",
       "      <th>7</th>\n",
       "      <td>3.361760</td>\n",
       "      <td>CHILDREN_D</td>\n",
       "    </tr>\n",
       "    <tr>\n",
       "      <th>8</th>\n",
       "      <td>18.878384</td>\n",
       "      <td>CONNECTIONSPEED_D</td>\n",
       "    </tr>\n",
       "    <tr>\n",
       "      <th>9</th>\n",
       "      <td>1.875932</td>\n",
       "      <td>Ref_D</td>\n",
       "    </tr>\n",
       "    <tr>\n",
       "      <th>10</th>\n",
       "      <td>13.466614</td>\n",
       "      <td>LOG_PRICE</td>\n",
       "    </tr>\n",
       "  </tbody>\n",
       "</table>\n",
       "</div>"
      ],
      "text/plain": [
       "          VIF          Variables\n",
       "0    1.611609         TRANS_FREQ\n",
       "1    2.142730          DIRECTP_D\n",
       "2    3.590938           PROD_QTY\n",
       "3    3.840262      PROD_TOTPRICE\n",
       "4    4.372759           DURATION\n",
       "5    4.283287       PAGES_VIEWED\n",
       "6    7.188780     HOUSEHOLD_SIZE\n",
       "7    3.361760         CHILDREN_D\n",
       "8   18.878384  CONNECTIONSPEED_D\n",
       "9    1.875932              Ref_D\n",
       "10  13.466614          LOG_PRICE"
      ]
     },
     "execution_count": 208,
     "metadata": {},
     "output_type": "execute_result"
    }
   ],
   "source": [
    "vif"
   ]
  },
  {
   "cell_type": "code",
   "execution_count": null,
   "metadata": {},
   "outputs": [],
   "source": [
    "#All=sm.add_constant(new_h[['DIRECTP_D','TRANS_FREQ','PROD_QTY','PROD_TOTPRICE','PAGES_VIEWED','HOUSEHOLD_SIZE','CHILDREN_D','CONNECTIONSPEED_D','Ref_D','LOG_PRICE', 'DURATION']])"
   ]
  },
  {
   "cell_type": "markdown",
   "metadata": {},
   "source": [
    "<mark>Q2</mark>"
   ]
  },
  {
   "cell_type": "code",
   "execution_count": 225,
   "metadata": {},
   "outputs": [],
   "source": [
    "indepvar=sm.add_constant(new_h[['TRANS_FREQ','PAGES_VIEWED','HOUSEHOLD_SIZE','CHILDREN_D','CONNECTIONSPEED_D','Ref_D','LOG_PRICE', 'DURATION']])"
   ]
  },
  {
   "cell_type": "code",
   "execution_count": 226,
   "metadata": {},
   "outputs": [
    {
     "name": "stdout",
     "output_type": "stream",
     "text": [
      "Optimization terminated successfully.\n",
      "         Current function value: 0.640350\n",
      "         Iterations 6\n",
      "                           Logit Regression Results                           \n",
      "==============================================================================\n",
      "Dep. Variable:              DIRECTP_D   No. Observations:                 3742\n",
      "Model:                          Logit   Df Residuals:                     3733\n",
      "Method:                           MLE   Df Model:                            8\n",
      "Date:                Wed, 06 Apr 2022   Pseudo R-squ.:                 0.07529\n",
      "Time:                        03:29:17   Log-Likelihood:                -2396.2\n",
      "converged:                       True   LL-Null:                       -2591.3\n",
      "Covariance Type:            nonrobust   LLR p-value:                 2.344e-79\n",
      "=====================================================================================\n",
      "                        coef    std err          z      P>|z|      [0.025      0.975]\n",
      "-------------------------------------------------------------------------------------\n",
      "const                -0.5576      0.417     -1.336      0.181      -1.376       0.260\n",
      "TRANS_FREQ            0.1135      0.012      9.785      0.000       0.091       0.136\n",
      "PAGES_VIEWED          0.0155      0.003      5.108      0.000       0.010       0.021\n",
      "HOUSEHOLD_SIZE       -0.0101      0.027     -0.369      0.712      -0.064       0.044\n",
      "CHILDREN_D            0.2531      0.082      3.090      0.002       0.093       0.414\n",
      "CONNECTIONSPEED_D     0.0342      0.397      0.086      0.931      -0.745       0.813\n",
      "Ref_D                 0.7400      0.070     10.572      0.000       0.603       0.877\n",
      "LOG_PRICE             0.0130      0.022      0.601      0.548      -0.029       0.055\n",
      "DURATION             -0.0271      0.002    -11.175      0.000      -0.032      -0.022\n",
      "=====================================================================================\n"
     ]
    }
   ],
   "source": [
    "mod=sm.Logit(new_h.DIRECTP_D,indepvar)\n",
    "res=mod.fit()\n",
    "print(res.summary())"
   ]
  },
  {
   "cell_type": "code",
   "execution_count": 265,
   "metadata": {},
   "outputs": [
    {
     "data": {
      "text/plain": [
       "TRANS_FREQ           1.120165\n",
       "PAGES_VIEWED         1.015578\n",
       "HOUSEHOLD_SIZE       0.989959\n",
       "CHILDREN_D           1.288058\n",
       "CONNECTIONSPEED_D    1.034747\n",
       "Ref_D                2.096027\n",
       "LOG_PRICE            1.013092\n",
       "DURATION             0.973245\n",
       "dtype: float64"
      ]
     },
     "execution_count": 265,
     "metadata": {},
     "output_type": "execute_result"
    }
   ],
   "source": [
    "\n",
    "df = res.params\n",
    "np.exp(df[1:])"
   ]
  },
  {
   "cell_type": "code",
   "execution_count": 245,
   "metadata": {},
   "outputs": [
    {
     "data": {
      "text/plain": [
       "const        -0.557612\n",
       "TRANS_FREQ    0.113476\n",
       "dtype: object"
      ]
     },
     "execution_count": 245,
     "metadata": {},
     "output_type": "execute_result"
    }
   ],
   "source": [
    "import numpy as np\n",
    "df.head(2)"
   ]
  },
  {
   "cell_type": "code",
   "execution_count": 270,
   "metadata": {},
   "outputs": [],
   "source": [
    "from statsmodels.stats.outliers_influence import variance_inflation_factor\n",
    "sec_data=new_h[['TRANS_FREQ','PAGES_VIEWED','CHILDREN_D','Ref_D', 'DURATION','PROD_QTY']]\n",
    "vif=pd.DataFrame() #create an empty dataframe called vif\n",
    "\n",
    "vif['VIF']=[variance_inflation_factor(sec_data.values,i) for i in range(sec_data.shape[1])] #for each index in the dataframe (each IV), calculate VIF\n",
    "vif['Variables']=sec_data.columns #create the corresponding variable column"
   ]
  },
  {
   "cell_type": "code",
   "execution_count": 272,
   "metadata": {},
   "outputs": [
    {
     "data": {
      "text/html": [
       "<div>\n",
       "<style scoped>\n",
       "    .dataframe tbody tr th:only-of-type {\n",
       "        vertical-align: middle;\n",
       "    }\n",
       "\n",
       "    .dataframe tbody tr th {\n",
       "        vertical-align: top;\n",
       "    }\n",
       "\n",
       "    .dataframe thead th {\n",
       "        text-align: right;\n",
       "    }\n",
       "</style>\n",
       "<table border=\"1\" class=\"dataframe\">\n",
       "  <thead>\n",
       "    <tr style=\"text-align: right;\">\n",
       "      <th></th>\n",
       "      <th>VIF</th>\n",
       "      <th>Variables</th>\n",
       "    </tr>\n",
       "  </thead>\n",
       "  <tbody>\n",
       "    <tr>\n",
       "      <th>0</th>\n",
       "      <td>1.340472</td>\n",
       "      <td>TRANS_FREQ</td>\n",
       "    </tr>\n",
       "    <tr>\n",
       "      <th>1</th>\n",
       "      <td>4.114221</td>\n",
       "      <td>PAGES_VIEWED</td>\n",
       "    </tr>\n",
       "    <tr>\n",
       "      <th>2</th>\n",
       "      <td>1.934431</td>\n",
       "      <td>CHILDREN_D</td>\n",
       "    </tr>\n",
       "    <tr>\n",
       "      <th>3</th>\n",
       "      <td>1.536363</td>\n",
       "      <td>Ref_D</td>\n",
       "    </tr>\n",
       "    <tr>\n",
       "      <th>4</th>\n",
       "      <td>4.131357</td>\n",
       "      <td>DURATION</td>\n",
       "    </tr>\n",
       "    <tr>\n",
       "      <th>5</th>\n",
       "      <td>2.058393</td>\n",
       "      <td>PROD_QTY</td>\n",
       "    </tr>\n",
       "  </tbody>\n",
       "</table>\n",
       "</div>"
      ],
      "text/plain": [
       "        VIF     Variables\n",
       "0  1.340472    TRANS_FREQ\n",
       "1  4.114221  PAGES_VIEWED\n",
       "2  1.934431    CHILDREN_D\n",
       "3  1.536363         Ref_D\n",
       "4  4.131357      DURATION\n",
       "5  2.058393      PROD_QTY"
      ]
     },
     "execution_count": 272,
     "metadata": {},
     "output_type": "execute_result"
    }
   ],
   "source": [
    "vif"
   ]
  },
  {
   "cell_type": "code",
   "execution_count": 273,
   "metadata": {},
   "outputs": [
    {
     "name": "stdout",
     "output_type": "stream",
     "text": [
      "Optimization terminated successfully.\n",
      "         Current function value: 0.636085\n",
      "         Iterations 6\n",
      "                           Logit Regression Results                           \n",
      "==============================================================================\n",
      "Dep. Variable:              DIRECTP_D   No. Observations:                 3742\n",
      "Model:                          Logit   Df Residuals:                     3735\n",
      "Method:                           MLE   Df Model:                            6\n",
      "Date:                Wed, 06 Apr 2022   Pseudo R-squ.:                 0.08145\n",
      "Time:                        05:26:35   Log-Likelihood:                -2380.2\n",
      "converged:                       True   LL-Null:                       -2591.3\n",
      "Covariance Type:            nonrobust   LLR p-value:                 4.912e-88\n",
      "================================================================================\n",
      "                   coef    std err          z      P>|z|      [0.025      0.975]\n",
      "--------------------------------------------------------------------------------\n",
      "const           -0.2248      0.097     -2.322      0.020      -0.415      -0.035\n",
      "TRANS_FREQ       0.1095      0.012      9.488      0.000       0.087       0.132\n",
      "PAGES_VIEWED     0.0164      0.003      5.399      0.000       0.010       0.022\n",
      "CHILDREN_D       0.2306      0.071      3.231      0.001       0.091       0.370\n",
      "Ref_D            0.7232      0.070     10.290      0.000       0.585       0.861\n",
      "DURATION        -0.0266      0.002    -10.924      0.000      -0.031      -0.022\n",
      "PROD_QTY        -0.1603      0.030     -5.414      0.000      -0.218      -0.102\n",
      "================================================================================\n"
     ]
    }
   ],
   "source": [
    "second=sm.add_constant(new_h[['TRANS_FREQ','PAGES_VIEWED','CHILDREN_D','Ref_D', 'DURATION','PROD_QTY']])\n",
    "mod=sm.Logit(new_h.DIRECTP_D,second)\n",
    "res=mod.fit()\n",
    "print(res.summary())\n"
   ]
  },
  {
   "cell_type": "code",
   "execution_count": 275,
   "metadata": {},
   "outputs": [
    {
     "data": {
      "text/plain": [
       "count    3742.000000\n",
       "mean        1.716996\n",
       "std         1.387432\n",
       "min         0.000000\n",
       "25%         1.000000\n",
       "50%         1.000000\n",
       "75%         2.000000\n",
       "max        32.000000\n",
       "Name: PROD_QTY, dtype: float64"
      ]
     },
     "execution_count": 275,
     "metadata": {},
     "output_type": "execute_result"
    }
   ],
   "source": [
    "new_h['PROD_QTY'].describe()"
   ]
  },
  {
   "cell_type": "markdown",
   "metadata": {},
   "source": [
    "<mark>Q3</mark>"
   ]
  },
  {
   "cell_type": "code",
   "execution_count": 276,
   "metadata": {},
   "outputs": [],
   "source": [
    "indepvar=sm.add_constant(new_h[['Ref_D','LOG_PRICE','PAGES_VIEWED','HOUSEHOLD_SIZE','CHILDREN_D','CONNECTIONSPEED_D']])\n",
    "\n",
    "Poisson_mod=sm.Poisson(new_h.TRANS_FREQ,indepvar)"
   ]
  },
  {
   "cell_type": "code",
   "execution_count": 277,
   "metadata": {},
   "outputs": [
    {
     "name": "stdout",
     "output_type": "stream",
     "text": [
      "Optimization terminated successfully.\n",
      "         Current function value: 2.804244\n",
      "         Iterations 6\n"
     ]
    }
   ],
   "source": [
    "Poisson_res=Poisson_mod.fit()"
   ]
  },
  {
   "cell_type": "code",
   "execution_count": 278,
   "metadata": {},
   "outputs": [
    {
     "name": "stdout",
     "output_type": "stream",
     "text": [
      "                          Poisson Regression Results                          \n",
      "==============================================================================\n",
      "Dep. Variable:             TRANS_FREQ   No. Observations:                 3742\n",
      "Model:                        Poisson   Df Residuals:                     3735\n",
      "Method:                           MLE   Df Model:                            6\n",
      "Date:                Wed, 06 Apr 2022   Pseudo R-squ.:                 0.01955\n",
      "Time:                        05:45:42   Log-Likelihood:                -10493.\n",
      "converged:                       True   LL-Null:                       -10703.\n",
      "Covariance Type:            nonrobust   LLR p-value:                 2.914e-87\n",
      "=====================================================================================\n",
      "                        coef    std err          z      P>|z|      [0.025      0.975]\n",
      "-------------------------------------------------------------------------------------\n",
      "const                 0.5108      0.168      3.035      0.002       0.181       0.841\n",
      "Ref_D                -0.2292      0.019    -11.831      0.000      -0.267      -0.191\n",
      "LOG_PRICE             0.0024      0.006      0.414      0.679      -0.009       0.014\n",
      "PAGES_VIEWED          0.0022      0.001      4.076      0.000       0.001       0.003\n",
      "HOUSEHOLD_SIZE       -0.0610      0.008     -7.943      0.000      -0.076      -0.046\n",
      "CHILDREN_D           -0.1630      0.022     -7.400      0.000      -0.206      -0.120\n",
      "CONNECTIONSPEED_D     0.9081      0.165      5.509      0.000       0.585       1.231\n",
      "=====================================================================================\n"
     ]
    }
   ],
   "source": [
    "print(Poisson_res.summary())"
   ]
  },
  {
   "cell_type": "code",
   "execution_count": 285,
   "metadata": {},
   "outputs": [
    {
     "data": {
      "text/plain": [
       "Ref_D                0.795154\n",
       "LOG_PRICE            1.002438\n",
       "PAGES_VIEWED         1.002251\n",
       "HOUSEHOLD_SIZE       0.940796\n",
       "CHILDREN_D           0.849624\n",
       "CONNECTIONSPEED_D    2.479719\n",
       "dtype: float64"
      ]
     },
     "execution_count": 285,
     "metadata": {},
     "output_type": "execute_result"
    }
   ],
   "source": [
    "df = Poisson_res.params\n",
    "np.exp(df[1:])\n"
   ]
  },
  {
   "cell_type": "code",
   "execution_count": 294,
   "metadata": {},
   "outputs": [
    {
     "data": {
      "text/html": [
       "<div>\n",
       "<style scoped>\n",
       "    .dataframe tbody tr th:only-of-type {\n",
       "        vertical-align: middle;\n",
       "    }\n",
       "\n",
       "    .dataframe tbody tr th {\n",
       "        vertical-align: top;\n",
       "    }\n",
       "\n",
       "    .dataframe thead th {\n",
       "        text-align: right;\n",
       "    }\n",
       "</style>\n",
       "<table border=\"1\" class=\"dataframe\">\n",
       "  <thead>\n",
       "    <tr style=\"text-align: right;\">\n",
       "      <th></th>\n",
       "      <th>VIF</th>\n",
       "      <th>Variables</th>\n",
       "    </tr>\n",
       "  </thead>\n",
       "  <tbody>\n",
       "    <tr>\n",
       "      <th>0</th>\n",
       "      <td>1.802072</td>\n",
       "      <td>Ref_D</td>\n",
       "    </tr>\n",
       "    <tr>\n",
       "      <th>1</th>\n",
       "      <td>8.154580</td>\n",
       "      <td>LOG_PRICE</td>\n",
       "    </tr>\n",
       "    <tr>\n",
       "      <th>2</th>\n",
       "      <td>2.216030</td>\n",
       "      <td>PAGES_VIEWED</td>\n",
       "    </tr>\n",
       "    <tr>\n",
       "      <th>3</th>\n",
       "      <td>7.170281</td>\n",
       "      <td>HOUSEHOLD_SIZE</td>\n",
       "    </tr>\n",
       "    <tr>\n",
       "      <th>4</th>\n",
       "      <td>3.341473</td>\n",
       "      <td>CHILDREN_D</td>\n",
       "    </tr>\n",
       "    <tr>\n",
       "      <th>5</th>\n",
       "      <td>14.669265</td>\n",
       "      <td>CONNECTIONSPEED_D</td>\n",
       "    </tr>\n",
       "  </tbody>\n",
       "</table>\n",
       "</div>"
      ],
      "text/plain": [
       "         VIF          Variables\n",
       "0   1.802072              Ref_D\n",
       "1   8.154580          LOG_PRICE\n",
       "2   2.216030       PAGES_VIEWED\n",
       "3   7.170281     HOUSEHOLD_SIZE\n",
       "4   3.341473         CHILDREN_D\n",
       "5  14.669265  CONNECTIONSPEED_D"
      ]
     },
     "execution_count": 294,
     "metadata": {},
     "output_type": "execute_result"
    }
   ],
   "source": [
    "from statsmodels.stats.outliers_influence import variance_inflation_factor\n",
    "sec_data=new_h[['Ref_D','LOG_PRICE','PAGES_VIEWED','HOUSEHOLD_SIZE','CHILDREN_D','CONNECTIONSPEED_D']]\n",
    "vif=pd.DataFrame() #create an empty dataframe called vif\n",
    "\n",
    "vif['VIF']=[variance_inflation_factor(sec_data.values,i) for i in range(sec_data.shape[1])] #for each index in the dataframe (each IV), calculate VIF\n",
    "vif['Variables']=sec_data.columns #create the corresponding variable column\n",
    "vif"
   ]
  },
  {
   "cell_type": "code",
   "execution_count": 295,
   "metadata": {},
   "outputs": [
    {
     "data": {
      "text/plain": [
       "count    3742.000000\n",
       "mean        2.982897\n",
       "std         4.124464\n",
       "min         1.000000\n",
       "25%         1.000000\n",
       "50%         2.000000\n",
       "75%         3.000000\n",
       "max        30.000000\n",
       "Name: TRANS_FREQ, dtype: float64"
      ]
     },
     "execution_count": 295,
     "metadata": {},
     "output_type": "execute_result"
    }
   ],
   "source": [
    "new_h['TRANS_FREQ'].describe()"
   ]
  },
  {
   "cell_type": "code",
   "execution_count": 292,
   "metadata": {},
   "outputs": [
    {
     "data": {
      "text/plain": [
       "17.011201656825413"
      ]
     },
     "execution_count": 292,
     "metadata": {},
     "output_type": "execute_result"
    }
   ],
   "source": [
    "new_h['TRANS_FREQ'].var()"
   ]
  },
  {
   "cell_type": "markdown",
   "metadata": {},
   "source": [
    "<mark>Q4</mark>"
   ]
  },
  {
   "cell_type": "code",
   "execution_count": 286,
   "metadata": {},
   "outputs": [
    {
     "name": "stdout",
     "output_type": "stream",
     "text": [
      "<class 'pandas.core.frame.DataFrame'>\n",
      "Int64Index: 3742 entries, 0 to 3748\n",
      "Data columns (total 7 columns):\n",
      " #   Column             Non-Null Count  Dtype  \n",
      "---  ------             --------------  -----  \n",
      " 0   const              3742 non-null   float64\n",
      " 1   Ref_D              3742 non-null   float64\n",
      " 2   LOG_PRICE          3742 non-null   float64\n",
      " 3   PAGES_VIEWED       3742 non-null   int64  \n",
      " 4   HOUSEHOLD_SIZE     3742 non-null   int64  \n",
      " 5   CHILDREN_D         3742 non-null   int64  \n",
      " 6   CONNECTIONSPEED_D  3742 non-null   int64  \n",
      "dtypes: float64(3), int64(4)\n",
      "memory usage: 233.9 KB\n"
     ]
    }
   ],
   "source": [
    "NBvar=sm.add_constant(new_h[['Ref_D','LOG_PRICE','PAGES_VIEWED','HOUSEHOLD_SIZE','CHILDREN_D','CONNECTIONSPEED_D']])\n",
    "\n",
    "NBvar.info()"
   ]
  },
  {
   "cell_type": "code",
   "execution_count": 287,
   "metadata": {},
   "outputs": [],
   "source": [
    "NB_mod= sm.GLM(new_h.TRANS_FREQ,NBvar, family=sm.families.NegativeBinomial())"
   ]
  },
  {
   "cell_type": "code",
   "execution_count": 288,
   "metadata": {},
   "outputs": [],
   "source": [
    "NB_res=NB_mod.fit()"
   ]
  },
  {
   "cell_type": "code",
   "execution_count": 289,
   "metadata": {},
   "outputs": [
    {
     "name": "stdout",
     "output_type": "stream",
     "text": [
      "                 Generalized Linear Model Regression Results                  \n",
      "==============================================================================\n",
      "Dep. Variable:             TRANS_FREQ   No. Observations:                 3742\n",
      "Model:                            GLM   Df Residuals:                     3735\n",
      "Model Family:        NegativeBinomial   Df Model:                            6\n",
      "Link Function:                    Log   Scale:                          1.0000\n",
      "Method:                          IRLS   Log-Likelihood:                -8341.7\n",
      "Date:                Wed, 06 Apr 2022   Deviance:                       2260.4\n",
      "Time:                        08:02:38   Pearson chi2:                 5.10e+03\n",
      "No. Iterations:                     7   Pseudo R-squ. (CS):            0.02995\n",
      "Covariance Type:            nonrobust                                         \n",
      "=====================================================================================\n",
      "                        coef    std err          z      P>|z|      [0.025      0.975]\n",
      "-------------------------------------------------------------------------------------\n",
      "const                 0.5421      0.259      2.092      0.036       0.034       1.050\n",
      "Ref_D                -0.2295      0.038     -5.995      0.000      -0.305      -0.154\n",
      "LOG_PRICE            -0.0007      0.012     -0.055      0.956      -0.024       0.022\n",
      "PAGES_VIEWED          0.0029      0.001      2.596      0.009       0.001       0.005\n",
      "HOUSEHOLD_SIZE       -0.0730      0.015     -4.827      0.000      -0.103      -0.043\n",
      "CHILDREN_D           -0.1623      0.044     -3.652      0.000      -0.249      -0.075\n",
      "CONNECTIONSPEED_D     0.9131      0.250      3.653      0.000       0.423       1.403\n",
      "=====================================================================================\n"
     ]
    }
   ],
   "source": [
    "print(NB_res.summary())"
   ]
  },
  {
   "cell_type": "code",
   "execution_count": 293,
   "metadata": {},
   "outputs": [
    {
     "data": {
      "text/plain": [
       "Ref_D                0.794912\n",
       "LOG_PRICE            0.999348\n",
       "PAGES_VIEWED         1.002954\n",
       "HOUSEHOLD_SIZE       0.929632\n",
       "CHILDREN_D           0.850228\n",
       "CONNECTIONSPEED_D    2.491997\n",
       "dtype: float64"
      ]
     },
     "execution_count": 293,
     "metadata": {},
     "output_type": "execute_result"
    }
   ],
   "source": [
    "df = NB_res.params\n",
    "np.exp(df[1:])\n"
   ]
  },
  {
   "cell_type": "code",
   "execution_count": null,
   "metadata": {},
   "outputs": [],
   "source": []
  }
 ],
 "metadata": {
  "kernelspec": {
   "display_name": "Python 3 (ipykernel)",
   "language": "python",
   "name": "python3"
  },
  "language_info": {
   "codemirror_mode": {
    "name": "ipython",
    "version": 3
   },
   "file_extension": ".py",
   "mimetype": "text/x-python",
   "name": "python",
   "nbconvert_exporter": "python",
   "pygments_lexer": "ipython3",
   "version": "3.9.7"
  }
 },
 "nbformat": 4,
 "nbformat_minor": 4
}
